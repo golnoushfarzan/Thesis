{
 "cells": [
  {
   "cell_type": "markdown",
   "metadata": {
    "colab_type": "text",
    "id": "view-in-github"
   },
   "source": [
    "<a href=\"https://colab.research.google.com/github/golnoushfarzan/Thesis/blob/main/Thesis.ipynb\" target=\"_parent\"><img src=\"https://colab.research.google.com/assets/colab-badge.svg\" alt=\"Open In Colab\"/></a>"
   ]
  },
  {
   "cell_type": "code",
   "execution_count": 2,
   "metadata": {
    "id": "OtL2Mv_O9iq6"
   },
   "outputs": [],
   "source": [
    "import numpy as np\n",
    "#this one is used to compute binomial coefficients (for C_3)\n",
    "from scipy.special import comb\n",
    "#This one is used for numerical integration of a given function over a specified interval (for I term)\n",
    "from scipy.integrate import quad\n",
    "import mpmath\n",
    "from scipy.optimize import minimize_scalar"
   ]
  },
  {
   "cell_type": "code",
   "execution_count": 3,
   "metadata": {
    "id": "oSHL_lohAFz7"
   },
   "outputs": [],
   "source": [
    " #Define C1 as in equation 4.18\n",
    "def C1(sigma, T2, alpha, beta):\n",
    "      C1_value = np.exp(alpha * (sigma / T2)**beta)\n",
    "      return C1_value"
   ]
  },
  {
   "cell_type": "code",
   "execution_count": 4,
   "metadata": {
    "id": "21qHkrZCAFwg"
   },
   "outputs": [],
   "source": [
    "# Define C2 as in equation 4.18\n",
    "def C2(sigma, T1, T2, alpha):\n",
    "    return (1 - 1 / T1) * np.exp(alpha * (sigma / T2)**2 - alpha)"
   ]
  },
  {
   "cell_type": "code",
   "execution_count": 5,
   "metadata": {
    "id": "E4FYlKetAFt5"
   },
   "outputs": [],
   "source": [
    "# Define C4 as in equation 4.84\n",
    "def C4(T0, sigma, sigma_1_prime, sigma_2_prime, sigma_1, sigma_2, T2, T1, alpha, beta):\n",
    "        # this is for computing the numerator\n",
    "        C1_sigma1 = C1(sigma_1, T2, alpha, beta)\n",
    "        C1_sigma2 = C1(sigma_2, T2, alpha, beta)\n",
    "        weight1 = 2 * (sigma_2 - sigma) / (sigma_2 - sigma_1)\n",
    "        weight2 = 2 * (sigma - sigma_1) / (sigma_2 - sigma_1)\n",
    "        numerator = 4 * alpha * beta * (C1_sigma1**weight1) * (C1_sigma2**weight2)\n",
    "\n",
    "        # this is for computing the denominator\n",
    "        denominator = C2(sigma, T1, T2, alpha)\n",
    "\n",
    "        return numerator / denominator"
   ]
  },
  {
   "cell_type": "code",
   "execution_count": 8,
   "metadata": {
    "id": "UEyA4f_9DYBt"
   },
   "outputs": [
    {
     "data": {
      "text/plain": [
       "6.808528792291104"
      ]
     },
     "execution_count": 8,
     "metadata": {},
     "output_type": "execute_result"
    }
   ],
   "source": [
    "# Define the integral I_alpha_beta as in equation \\eqref{eq:2.23} (2.25)\n",
    "def I_alpha_beta(A, n, alpha, beta):\n",
    "    def integrand(x):\n",
    "        return x**A * np.exp(-alpha * x**beta) * (np.log(x)**n)\n",
    "\n",
    "    result, _ = quad(integrand, 0, np.inf)\n",
    "    return result\n",
    "\n",
    "I_alpha_beta(2-2/3,0,0.1,2)"
   ]
  },
  {
   "cell_type": "code",
   "execution_count": 8,
   "metadata": {
    "id": "jKxZS0SaKx3P"
   },
   "outputs": [],
   "source": [
    "# Define m_0 based on the provided formula in equation 2.82\n",
    "def m0():\n",
    "    return np.sqrt(1 + (2 / 3) * np.sqrt(6 / 5))"
   ]
  },
  {
   "cell_type": "code",
   "execution_count": 9,
   "metadata": {
    "id": "N81ksG5AKyCZ"
   },
   "outputs": [],
   "source": [
    "# Define b1(X_0) based on the provided formula in equation 3.11\n",
    "def b1(X_0):\n",
    "    return (6 / np.pi**2) + (0.1333 / np.sqrt(X_0))"
   ]
  },
  {
   "cell_type": "code",
   "execution_count": 10,
   "metadata": {
    "id": "9gFwJDCDLkEc"
   },
   "outputs": [],
   "source": [
    "# Define b2(X_0) as a constant value in eq 3.15\n",
    "def b2(X_0):\n",
    "    return 1.048  # Given value for b2(X_0) for X_0 \\geq 1000"
   ]
  },
  {
   "cell_type": "code",
   "execution_count": 11,
   "metadata": {
    "id": "fliOFlhfhk5s"
   },
   "outputs": [],
   "source": [
    "# Define b3(X_0) as a constant value in eq 3.21\n",
    "def b_3(X_0):\n",
    "    return 0.605  # Given value for b2(X_0) for X_0 \\geq 1000"
   ]
  },
  {
   "cell_type": "code",
   "execution_count": 12,
   "metadata": {
    "id": "jPf8T66ihdwW"
   },
   "outputs": [],
   "source": [
    "# Define b_4 function based on the given equation 3.40\n",
    "def b_4(X_0):\n",
    "    return 0.428 + 0.895 / np.log(X_0)"
   ]
  },
  {
   "cell_type": "code",
   "execution_count": 13,
   "metadata": {
    "id": "UDsL54J9Kvd3"
   },
   "outputs": [],
   "source": [
    "# Define D1 and D2 as given in equation 4.25\n",
    "def D1(X):\n",
    "    return 6 / np.pi**2 + b2(X) / np.log(X)\n",
    "\n",
    "def D2(X):\n",
    "    return (np.pi * m0 * b1(X) / np.log(X)) + (6 * m0 / (np.pi * X)) + (np.pi * m0 * b2(X) / (X * np.log(X)))\n"
   ]
  },
  {
   "cell_type": "markdown",
   "metadata": {
    "id": "AiLDdtahu5dU"
   },
   "source": [
    "#This is the computation for C3 on the half line:\n",
    "\n"
   ]
  },
  {
   "cell_type": "code",
   "execution_count": 48,
   "metadata": {
    "colab": {
     "base_uri": "https://localhost:8080/"
    },
    "id": "4CwQU-2IBPrz",
    "outputId": "6b225e00-a08b-46fa-e156-25fa71ba8bb4"
   },
   "outputs": [
    {
     "name": "stdout",
     "output_type": "stream",
     "text": [
      "The value of C_3 on the half line is: 7.328676672266382\n"
     ]
    }
   ],
   "source": [
    "# Define C3 function as in equation 2.25. This one is for \\sigma_1\n",
    "\n",
    "# Define b1(X_0) based on the provided formula in equation 3.11\n",
    "def b1(X_0):\n",
    "    return (6 / np.pi**2) + (0.1333 / np.sqrt(X_0))\n",
    "\n",
    "# Define m_0 based on the provided formula in equation 2.82\n",
    "def m0():\n",
    "    return np.sqrt(1 + (2 / 3) * np.sqrt(6 / 5))\n",
    "\n",
    "# Define b2(X_0) as a constant value in eq 3.15\n",
    "def b2(X_0):\n",
    "    return 1.048  # Given value for b2(X_0) for X_0 \\geq 1000\n",
    "\n",
    "# Define D1 and D2 as given in equation 4.25\n",
    "def D1(X):\n",
    "    return 6 / np.pi**2 + b2(X) / np.log(X)\n",
    "\n",
    "def D2(X):\n",
    "    return (np.pi * m0() * b1(X) / np.log(X)) + (6 * m0() / (np.pi * X)) + (np.pi * m0() * b2(X) / (X * np.log(X)))\n",
    "\n",
    "# Define the integral I_alpha_beta as in equation \\eqref{eq:2.23} (2.25)\n",
    "def I_alpha_beta(A, n, alpha, beta):\n",
    "    def integrand(x):\n",
    "        return x**A * np.exp(-alpha * x**beta) * (np.log(x)**n)\n",
    "\n",
    "    result, _ = quad(integrand, 0, np.inf)\n",
    "    return result\n",
    "\n",
    "# Define constants(Example value)\n",
    "X = 1e12\n",
    "T2 = 1e12\n",
    "alpha = 0.203\n",
    "beta = 2\n",
    "\n",
    "j_1 = 0.618\n",
    "j_3 = float(mpmath.zeta(1/2)**2)\n",
    "\n",
    "a = 4/3\n",
    "b = 2\n",
    "# List of values for a_i, b_i, and d_i based on the table of 4.1 (for sigma_1)\n",
    "a_i_values = [0, -1/6, -1/3, -1/3, -1/2, -2/3, -1, -7/6, -4/3, -4/3, -3/2, -5/3]\n",
    "b_i_values = [0, 0, 0, -2, -2, -2, 0, 0, 0, -2, -2, -2]\n",
    "\n",
    "def compute_d_i(X, D1, D2):\n",
    "    \"\"\"\n",
    "    Calculate the d_i values based on the provided formula.\n",
    "    \"\"\"\n",
    "    D1_value = D1(X)\n",
    "    D2_value = D2(X)\n",
    "\n",
    "    d_i_values = [1,\n",
    "                  2 / np.sqrt(D1(X) * np.log(X)),\n",
    "                  1 / (D1(X) * np.log(X)),\n",
    "                  j_3 / j_1**2,\n",
    "                  j_3 / (j_1**2 * np.sqrt(D1(X) * np.log(X))),\n",
    "                  j_3 / (2 * j_1**2 * D1(X) * np.log(X)),\n",
    "                  (X * D2(X)) / D1(X),\n",
    "                  2 * X * D2(X) / (D1(X) * np.sqrt(D1(X) * np.log(X))),\n",
    "                  (X * D2(X)) / (D1(X)**2 * np.log(X)),\n",
    "                  j_3 * D2(X) * X / (2 * j_1**2 * D1(X)),\n",
    "                  j_3 * D2(X) * X / (j_1**2 * D1(X) * np.sqrt(D1(X) * np.log(X))),\n",
    "                  j_3 * D2(X) * X / (j_1**2 * D1(X)**2 * np.log(X))]\n",
    "    return d_i_values\n",
    "\n",
    "\n",
    "# Define the d_i values based on the formula\n",
    "#def compute_d_i(i, X, D1, D2, j_1, j_3):\n",
    "    \"\"\"\n",
    "    Calculate the d_i values based on the provided formula.\n",
    "    \"\"\"\n",
    "\"\"\"\n",
    "    D1_value = D1(X)\n",
    "    D2_value = D2(X)\n",
    "\n",
    "    if i == 0:\n",
    "        return 1\n",
    "    elif i == 1:\n",
    "        return 2 / np.sqrt(D1(X) * np.log(X))\n",
    "    elif i == 2:\n",
    "        return 1 / (D1(X) * np.log(X))\n",
    "    elif i == 3:\n",
    "        return j_3 / j_1**2\n",
    "    elif i == 4:\n",
    "        return j_3 / (j_1**2 * np.sqrt(D1(X) * np.log(X)))\n",
    "    elif i == 5:\n",
    "        return j_3 / (2 * j_1**2 * D1(X) * np.log(X))\n",
    "    elif i == 6:\n",
    "        return (X * D2(X)) / D1(X)\n",
    "    elif i == 7:\n",
    "        return 2 * X * D2(X) / (D1(X) * np.sqrt(D1(X) * np.log(X)))\n",
    "    elif i == 8:\n",
    "        return (X * D2(X)) / (D1(X)**2 * np.log(X))\n",
    "    elif i == 9:\n",
    "        return j_3 * D2(X) * X / (2 * j_1**2 * D1(X))\n",
    "    elif i == 10:\n",
    "        return j_3 * D2(X) * X / (j_1**2 * D1(X) * np.sqrt(D1(X) * np.log(X)))\n",
    "    elif i == 11:\n",
    "        return j_3 * D2(X) * X / (j_1**2 * D1(X)**2 * np.log(X))\n",
    "\"\"\"\n",
    "\n",
    "\n",
    "\n",
    "# Define C3 function as equation 2.25. This one is for \\sigma_1\n",
    "def C3(T2, alpha, beta, a, a_i_values, b, b_i_values,  d_i_values, printing=0):\n",
    "    log_T = np.log(T2)\n",
    "\n",
    "    C3_value = 0\n",
    "\n",
    "    for i in range(len(a_i_values)):\n",
    "        a_i = a_i_values[i]\n",
    "        b_i = b_i_values[i]\n",
    "        d_i = d_i_values[i]\n",
    "        # Calculate d_i using the function for d_i\n",
    "\n",
    "        inner_sum = 0\n",
    "        # Summation over k\n",
    "        for k in range(b + b_i + 1):\n",
    "            binomial_coeff = comb(b + b_i, k)\n",
    "            integral_value = I_alpha_beta(beta + a + a_i - 1, b + b_i - k, alpha, beta)\n",
    "            inner_sum += binomial_coeff * integral_value / (log_T**(b + b_i - k))\n",
    "\n",
    "        # definition of C3\n",
    "        C3_value += d_i * T2**a_i * (log_T**b_i) * inner_sum\n",
    "\n",
    "    if printing > 0:\n",
    "        print(f\"C3_value is {C3_value}\")\n",
    "    return C3_value\n",
    "\n",
    "C31_value = C3(T2, alpha, beta, a, a_i_values, b, b_i_values, compute_d_i(X, D1, D2))\n",
    "\n",
    "print(f\"The value of C_3 on the half line is: {C31_value}\")"
   ]
  },
  {
   "cell_type": "code",
   "execution_count": 15,
   "metadata": {
    "colab": {
     "base_uri": "https://localhost:8080/"
    },
    "id": "IF0HjpVotjzC",
    "outputId": "d83da2fa-6edb-4d02-ac5b-d7b9bf6e4b46"
   },
   "outputs": [
    {
     "data": {
      "text/plain": [
       "mpf('-1.4603545088095868')"
      ]
     },
     "execution_count": 15,
     "metadata": {},
     "output_type": "execute_result"
    }
   ],
   "source": [
    "mpmath.zeta(1/2)"
   ]
  },
  {
   "cell_type": "code",
   "execution_count": 16,
   "metadata": {
    "colab": {
     "base_uri": "https://localhost:8080/"
    },
    "id": "tTRAhNy8k--v",
    "outputId": "fadb39d2-9796-4f04-cd90-eb23ccc3fbf5"
   },
   "outputs": [
    {
     "name": "stdout",
     "output_type": "stream",
     "text": [
      "The second version of C_3 at sigma_1 is: 6.84205505281338\n",
      "The value of D_4' is: 2873.3400158106188\n"
     ]
    }
   ],
   "source": [
    "a = 109/82\n",
    "b = 0\n",
    "# List of values for a_i, b_i, and d_i based on the table of 4.1 (for sigma_1)\n",
    "a_i_values = [0, -27/164, -27/82, -27/82, -81/164, -109/164, -1, -191/164, -109/82, -109/82, -164/81, -136/82]\n",
    "b_i_values = [0, 0, 0, 0, 0, 0, 0, 0, 0, 0, 0, 0]\n",
    "omega_5 = 66.7\n",
    "omega_7 = mpmath.zeta(1/2) ** 2\n",
    "\n",
    "def compute_d_i(X, D1, D2):\n",
    "    \"\"\"\n",
    "    Calculate the d_i values based on the provided formula.\n",
    "    \"\"\"\n",
    "    D1_value = D1(X)\n",
    "    D2_value = D2(X)\n",
    "\n",
    "    d_i_values = [1,\n",
    "                  2 /omega_5 * np.sqrt(D1(X) * np.log(X)),\n",
    "                  omega_7 / (omega_5**2),\n",
    "                  1 / (D1(X) * (omega_5**2) * np.log(X)),\n",
    "                  2 * omega_7 / ((omega_5**3)) * np.sqrt(D1(X) * np.log(X)),\n",
    "                  omega_7 / (omega_5**4 * D1(X) * np.log(X)),\n",
    "                  (X * D2(X)) / D1(X),\n",
    "                  2 * X * D2(X) / (D1(X) * np.sqrt(D1(X) * np.log(X))),\n",
    "                  (X * D2(X) * omega_7) / (D1(X) * omega_5**2),\n",
    "                  D2(X) * X / (2 * D1(X)**2 * omega_5**2 * np.log(X) ),\n",
    "                  2 * omega_7 * D2(X) * X / (omega_5**3 * D1(X) * np.sqrt(D1(X) * np.log(X))),\n",
    "                  omega_7 * D2(X) * X / (2 * omega_5**4 * D1(X)**2 * np.log(X))]\n",
    "    return d_i_values\n",
    "\n",
    "\n",
    "C31_valuesecond = C3(T2, alpha, beta, a, a_i_values, b, b_i_values, compute_d_i(X, D1, D2))\n",
    "\n",
    "print(f\"The second version of C_3 at sigma_1 is: {C31_valuesecond}\")\n",
    "# Define D4' as equation 4.54\n",
    "\n",
    "def D4prime(X):\n",
    "    return D1(X) * (omega_5 ** 2)\n",
    "\n",
    "    X = 1e12\n",
    "D4prime_value = D4prime(X)\n",
    "print(f\"The value of D_4' is: {D4prime_value}\")"
   ]
  },
  {
   "cell_type": "code",
   "execution_count": 17,
   "metadata": {
    "colab": {
     "base_uri": "https://localhost:8080/"
    },
    "id": "R1pmiYPz6liJ",
    "outputId": "8348e1a6-0730-4d9f-b84d-4987c9ebb9a3"
   },
   "outputs": [
    {
     "name": "stdout",
     "output_type": "stream",
     "text": [
      "The value of D_4 is: 0.2466677108668577\n"
     ]
    }
   ],
   "source": [
    "# Define D4 as equation 4.54\n",
    "j_1 = 0.618\n",
    "def D4(X):\n",
    "    return D1(X) * (j_1 ** 2)\n",
    "\n",
    "    X = 1e12\n",
    "D4_value = D4(X)\n",
    "print(f\"The value of D_4 is: {D4_value}\")"
   ]
  },
  {
   "cell_type": "code",
   "execution_count": 18,
   "metadata": {
    "colab": {
     "base_uri": "https://localhost:8080/"
    },
    "id": "InOLmmQL7Jrm",
    "outputId": "3c817ca0-5a5e-4cd4-cf41-87af90efaa49"
   },
   "outputs": [
    {
     "name": "stdout",
     "output_type": "stream",
     "text": [
      "The value of D_4 is: 0.2466677108668577\n"
     ]
    }
   ],
   "source": [
    "D4_value = D4(X)\n",
    "print(f\"The value of D_4 is: {D4_value}\")"
   ]
  },
  {
   "cell_type": "code",
   "execution_count": 19,
   "metadata": {
    "colab": {
     "base_uri": "https://localhost:8080/"
    },
    "id": "XylU0L0_Mp-K",
    "outputId": "87f6dead-5fa9-4edf-a4e9-286d94bce12b"
   },
   "outputs": [
    {
     "name": "stdout",
     "output_type": "stream",
     "text": [
      "The value of log_X is: 27.631021115928547\n"
     ]
    }
   ],
   "source": [
    "log_X = np.log(X)\n",
    "X = 1e12\n",
    "print(f\"The value of log_X is: {log_X}\")"
   ]
  },
  {
   "cell_type": "code",
   "execution_count": 20,
   "metadata": {
    "id": "AiSm9cpZ7xVf"
   },
   "outputs": [],
   "source": [
    "C31_times_D4 = C31_value * D4_value"
   ]
  },
  {
   "cell_type": "code",
   "execution_count": 21,
   "metadata": {
    "colab": {
     "base_uri": "https://localhost:8080/"
    },
    "id": "Np5TroVza575",
    "outputId": "ab632e23-4aec-44f9-e2df-15a7a51d3265"
   },
   "outputs": [
    {
     "name": "stdout",
     "output_type": "stream",
     "text": [
      "The value of exponent is: 0.2481739570954682\n"
     ]
    }
   ],
   "source": [
    "delta = 0.3\n",
    "sigma_2 = 1 + delta / log_X\n",
    "sigma = 0.9\n",
    "sigma_1 = 0.5\n",
    "delta_2 = 0.44\n",
    "sigma_prime = sigma - (delta_2 / np.log(T2))\n",
    "exponent = (sigma_2 - sigma_prime) / (sigma_2 - sigma_1)\n",
    "print(f\"The value of exponent is: {exponent}\")"
   ]
  },
  {
   "cell_type": "code",
   "execution_count": 22,
   "metadata": {
    "colab": {
     "base_uri": "https://localhost:8080/"
    },
    "id": "RLdqWkBSaYaj",
    "outputId": "2743dc5b-2350-4803-e3f4-cf609a52f3cc"
   },
   "outputs": [
    {
     "name": "stdout",
     "output_type": "stream",
     "text": [
      "The value of second version of C3 . D4' on the half line is: 19659.5505736279\n",
      "The result for the half line: 11.6292885569181\n"
     ]
    }
   ],
   "source": [
    "x = C31_valuesecond * D4prime_value\n",
    "print(f\"The value of second version of C3 . D4' on the half line is: {x}\")\n",
    "result1prime = (x) ** exponent\n",
    "print(f\"The result for the half line: {result1prime}\")"
   ]
  },
  {
   "cell_type": "markdown",
   "metadata": {
    "id": "TNKrZekp9oLB"
   },
   "source": [
    "#This value is for C3. D4 (which we need it for the half line):"
   ]
  },
  {
   "cell_type": "code",
   "execution_count": 23,
   "metadata": {
    "colab": {
     "base_uri": "https://localhost:8080/"
    },
    "id": "3UuvLQlJ7-_x",
    "outputId": "d46b221d-0169-4640-9c80-9e6feb592555"
   },
   "outputs": [
    {
     "name": "stdout",
     "output_type": "stream",
     "text": [
      "The value of C3 . D4 on the half line is: 1.8077478984312887\n"
     ]
    }
   ],
   "source": [
    "print(f\"The value of C3 . D4 on the half line is: {C31_times_D4}\")"
   ]
  },
  {
   "cell_type": "code",
   "execution_count": 24,
   "metadata": {
    "colab": {
     "base_uri": "https://localhost:8080/"
    },
    "id": "BzmIwTEuTD1p",
    "outputId": "4ab4eb61-b5ab-4acb-8514-556adb0817e4"
   },
   "outputs": [
    {
     "name": "stdout",
     "output_type": "stream",
     "text": [
      "The value of exponent is: 0.2453401949133819\n"
     ]
    }
   ],
   "source": [
    "delta = 0.3\n",
    "sigma_2 = 1 + delta / log_X\n",
    "sigma = 0.9\n",
    "sigma_1 = 0.5\n",
    "delta_2 = 0.4\n",
    "sigma_prime = sigma - (delta_2 / np.log(T2))\n",
    "exponent = (sigma_2 - sigma_prime) / (sigma_2 - sigma_1)\n",
    "print(f\"The value of exponent is: {exponent}\")"
   ]
  },
  {
   "cell_type": "markdown",
   "metadata": {
    "id": "5Z-x7Wf8UbbY"
   },
   "source": [
    "#This is the final result on the half line (The first part of the \\tilde{C5}):"
   ]
  },
  {
   "cell_type": "code",
   "execution_count": 25,
   "metadata": {
    "colab": {
     "base_uri": "https://localhost:8080/"
    },
    "id": "FIaXp_RpT55J",
    "outputId": "edc8732f-d75c-4b38-db8f-0a8442287038"
   },
   "outputs": [
    {
     "name": "stdout",
     "output_type": "stream",
     "text": [
      "The result for the half line: 1.156341877176108\n"
     ]
    }
   ],
   "source": [
    "result1 = (C31_times_D4) ** exponent\n",
    "print(f\"The result for the half line: {result1}\")"
   ]
  },
  {
   "cell_type": "markdown",
   "metadata": {
    "id": "dNffa4iRhO7F"
   },
   "source": [
    "#This is the computation for C3 on the sigme2:\n",
    "\n"
   ]
  },
  {
   "cell_type": "code",
   "execution_count": 37,
   "metadata": {
    "colab": {
     "base_uri": "https://localhost:8080/"
    },
    "id": "ZrXJSWjKCb42",
    "outputId": "adbb147d-ec01-4b37-ff06-62ba3afe8cc7"
   },
   "outputs": [
    {
     "name": "stdout",
     "output_type": "stream",
     "text": [
      "The value of C_3 at sigma_2 is: 50.62250818025071\n"
     ]
    }
   ],
   "source": [
    "# Define C3 function as in equation 2.25. This one is for \\sigma_2\n",
    "gamma = mpmath.euler\n",
    "# Define b_4 function based on the given equation 3.40\n",
    "def b_4(X_0):\n",
    "    return 0.428 + 0.895 / np.log(X_0)\n",
    "\n",
    "# Define b3(X_0) as a constant value in eq 3.21\n",
    "def b_3(X_0):\n",
    "    return 0.605  # Given value for b2(X_0) for X_0 \\geq 1000\n",
    "\n",
    "# Define m_0 based on the provided formula in equation 2.82\n",
    "def m0():\n",
    "    return np.sqrt(1 + (2 / 3) * np.sqrt(6 / 5))\n",
    "\n",
    "# Define D_5 and D_6 based on the given equations\n",
    "def D5(delta, X):\n",
    "    \"\"\"\n",
    "    Calculate D_5 for given delta and X, using m0 and gamma.\n",
    "    \"\"\"\n",
    "    b4_X = b_4(X)\n",
    "    return (np.pi * m0() * b4_X) / (2 * delta) * np.exp((2 * delta * float(gamma) / np.log(X)))\n",
    "\n",
    "def D6(delta, X):\n",
    "    \"\"\"\n",
    "    Calculate D_6 for given delta and X, using gamma.\n",
    "    \"\"\"\n",
    "    b3_X = b_3(X)\n",
    "    b4_X = b_4(X)\n",
    "    return (b4_X / (5 * delta * np.exp(float(gamma)))) + (b3_X * np.exp(-2 * delta)) / (np.log(X)**2)\n",
    "\n",
    "\n",
    "# Define constants(Example value)\n",
    "X = 1e12\n",
    "T2 = 1e12\n",
    "alpha = 0.203\n",
    "beta = 2\n",
    "a_prime = 1\n",
    "b_prime = 0\n",
    "delta = 0.3\n",
    "\n",
    "# List of values for a_i', b_i', and d_i' based on the table of 4.3 (for sigma_2)\n",
    "a_i_prime_values = [0, -1, -1]\n",
    "b_i_prime_values = [0, 0, 0]\n",
    "\n",
    "# Define the d_i values based on your formula\n",
    "def compute_d_i_one(X, D5, D6, delta):\n",
    "    \"\"\"\n",
    "    Calculate the d_i values based on the provided formula.\n",
    "    \"\"\"\n",
    "    D5_value = D5(delta, X)\n",
    "    D6_value = D6(delta, X)\n",
    "\n",
    "    d_i_values = [1, (D5(delta, X) * X ) / D6(delta, X), np.pi * m0()]\n",
    "    return d_i_values\n",
    "\n",
    "\n",
    "C32_value = C3(T2, alpha, beta, a_prime, a_i_prime_values, b_prime, b_i_prime_values, compute_d_i_one(X, D5, D6, delta))\n",
    "\n",
    "print(f\"The value of C_3 at sigma_2 is: {C32_value}\")"
   ]
  },
  {
   "cell_type": "code",
   "execution_count": 38,
   "metadata": {
    "colab": {
     "base_uri": "https://localhost:8080/"
    },
    "id": "4bpTSckCCtiU",
    "outputId": "6572c0c3-4e41-4e41-a2eb-9d13b93c75eb"
   },
   "outputs": [
    {
     "name": "stdout",
     "output_type": "stream",
     "text": [
      "The value of D_6 is: 0.17276220616834606\n"
     ]
    }
   ],
   "source": [
    "# Define D6\n",
    "X = 1e12\n",
    "delta = 0.3\n",
    "def D6(delta, X):\n",
    "    \"\"\"\n",
    "    Calculate D_6 for given delta and X, using gamma.\n",
    "    \"\"\"\n",
    "    b3_X = b_3(X)\n",
    "    b4_X = b_4(X)\n",
    "    return (b4_X / (5 * delta * np.exp(float(gamma)))) + (b3_X * np.exp(-2 * delta)) / (np.log(X)**2)\n",
    "D6_value = D6(delta, X)\n",
    "print(f\"The value of D_6 is: {D6_value}\")"
   ]
  },
  {
   "cell_type": "code",
   "execution_count": 39,
   "metadata": {
    "id": "rkJ2WoVzeLIK"
   },
   "outputs": [],
   "source": [
    "C32_times_D6 = C32_value * D6_value"
   ]
  },
  {
   "cell_type": "markdown",
   "metadata": {
    "id": "KIoTWbZB9u3W"
   },
   "source": [
    "#This value is for C3. D6 (which we need it for the sigma2):"
   ]
  },
  {
   "cell_type": "code",
   "execution_count": 40,
   "metadata": {
    "colab": {
     "base_uri": "https://localhost:8080/"
    },
    "id": "u9v6N2lD5fLs",
    "outputId": "5bcf68da-7101-4701-f088-2e3b02fd2b1c"
   },
   "outputs": [
    {
     "name": "stdout",
     "output_type": "stream",
     "text": [
      "The value of C3 . D6 at sigma_2 is: 8.745656194995258\n"
     ]
    }
   ],
   "source": [
    "print(f\"The value of C3 . D6 at sigma_2 is: {C32_times_D6}\")"
   ]
  },
  {
   "cell_type": "code",
   "execution_count": 41,
   "metadata": {
    "colab": {
     "base_uri": "https://localhost:8080/"
    },
    "id": "D4F63Rxr59Nf",
    "outputId": "31925058-8aa5-4c10-e9f2-e895404f690f"
   },
   "outputs": [
    {
     "name": "stdout",
     "output_type": "stream",
     "text": [
      "The value of exponent2 is: 0.7546598050866181\n"
     ]
    }
   ],
   "source": [
    "delta = 0.3\n",
    "sigma_2 = 1 + delta / np.log(X)\n",
    "sigma = 0.9\n",
    "sigma_1 = 0.5\n",
    "delta_2 = 0.4\n",
    "sigma_prime = sigma - (delta_2 / np.log(T2))\n",
    "exponent2 = (sigma_prime - sigma_1) / (sigma_2 - sigma_1)\n",
    "print(f\"The value of exponent2 is: {exponent2}\")"
   ]
  },
  {
   "cell_type": "markdown",
   "metadata": {
    "id": "3SYa6Dl1VU1Q"
   },
   "source": [
    "#This is the final result on the sigma2 (The second part of the \\tilde{C5})"
   ]
  },
  {
   "cell_type": "code",
   "execution_count": 42,
   "metadata": {
    "colab": {
     "base_uri": "https://localhost:8080/"
    },
    "id": "SiqUcTVPU_3Q",
    "outputId": "157d88dc-8946-4881-e961-4a7789e4646b"
   },
   "outputs": [
    {
     "name": "stdout",
     "output_type": "stream",
     "text": [
      "The result for sigma2: 5.137275652663345\n"
     ]
    }
   ],
   "source": [
    "result2 = (C32_times_D6) ** exponent2\n",
    "print(f\"The result for sigma2: {result2}\")"
   ]
  },
  {
   "cell_type": "markdown",
   "metadata": {
    "id": "5TUdSCBtgu-b"
   },
   "source": [
    "#This is the upper bound for the second exponent and then the second part of \\hat{C5}."
   ]
  },
  {
   "cell_type": "code",
   "execution_count": 43,
   "metadata": {
    "id": "I5ZdYdmKgb-l"
   },
   "outputs": [],
   "source": [
    "exponent2upper = 2 * (sigma - sigma_1)"
   ]
  },
  {
   "cell_type": "code",
   "execution_count": 44,
   "metadata": {
    "colab": {
     "base_uri": "https://localhost:8080/"
    },
    "id": "1EpcyMNdfOd9",
    "outputId": "348c439b-bedd-45e0-f319-ce96350b9929"
   },
   "outputs": [
    {
     "name": "stdout",
     "output_type": "stream",
     "text": [
      "The result for sigma2: 5.668053233932386\n"
     ]
    }
   ],
   "source": [
    "result2breve = (C32_times_D6) ** exponent2upper\n",
    "print(f\"The result for sigma2: {result2breve}\")"
   ]
  },
  {
   "cell_type": "markdown",
   "metadata": {
    "id": "wFhw6SyPW69t"
   },
   "source": [
    "#This is the final value for \\tilde{C_5} as equation 4.85 for the first version:"
   ]
  },
  {
   "cell_type": "code",
   "execution_count": 52,
   "metadata": {
    "id": "Zf7f6cUGa0qP"
   },
   "outputs": [
    {
     "name": "stdout",
     "output_type": "stream",
     "text": [
      "C3_value is 50.62250818025071\n",
      "D6_value is: 0.17276220616834606\n"
     ]
    },
    {
     "data": {
      "text/plain": [
       "5.940446971771848"
      ]
     },
     "execution_count": 52,
     "metadata": {},
     "output_type": "execute_result"
    }
   ],
   "source": [
    "def tilde_C5(sigma_prime, alpha, beta, a, a_i, b, b_i, d_i,\n",
    "              a_prime, a_i_prime, b_prime, b_i_prime, d_i_prime, X, printing=0):\n",
    "    # Compute logarithmic terms\n",
    "    log_X = np.log(X)\n",
    "\n",
    "    D6_value = D6(delta, X)\n",
    "    C32_value = C3(T2, alpha, beta, a_prime, a_i_prime, b_prime, b_i_prime, d_i_prime, printing-1)\n",
    "    C32_times_D6 = C32_value * D6_value\n",
    "    tilde_C5_value = result1 * (C32_times_D6) ** exponent2\n",
    "    if printing>0:\n",
    "        print(f\"D6_value is: {D6_value}\")\n",
    "    return tilde_C5_value\n",
    "\n",
    "tilde_C5(sigma_prime, alpha, beta, a, a_i_values, b, b_i_values, compute_d_i,\n",
    "              a_prime, a_i_prime_values, b_prime, b_i_prime_values, compute_d_i_one(X, D5, D6, delta), X,2)\n"
   ]
  },
  {
   "cell_type": "code",
   "execution_count": 561,
   "metadata": {
    "colab": {
     "base_uri": "https://localhost:8080/"
    },
    "id": "6xGcxmYpcXTd",
    "outputId": "ae452b1f-e15d-4ade-8a6a-36da04f0877b"
   },
   "outputs": [
    {
     "name": "stdout",
     "output_type": "stream",
     "text": [
      "The value of tilde{C_5} is: 5.913968068771004\n"
     ]
    }
   ],
   "source": [
    "a = 4/3\n",
    "a_prime = 1\n",
    "a_i = [0, -1/6, -1/3, -1/3, -1/2, -2/3, -1, -7/6, -4/3, -4/3, -3/2, -5/3]\n",
    "a_i_prime = [0, -1, -1]\n",
    "b = 2\n",
    "b_prime = 0\n",
    "b_i = [0, 0, 0, -2, -2, -2, 0, 0, 0, -2, -2, -2]\n",
    "b_i_prime = [0, 0, 0]\n",
    "d_i = [1, 2 / np.sqrt(D1(X) * np.log(X)),\n",
    "                  1 / (D1(X) * np.log(X)),\n",
    "                  j_3 / j_1**2,\n",
    "                  j_3 / (j_1**2 * np.sqrt(D1(X) * np.log(X))),\n",
    "                  j_3 / (2 * j_1**2 * D1(X) * np.log(X)),\n",
    "                  (X * D2(X)) / D1(X),\n",
    "                  2 * X * D2(X) / (D1(X) * np.sqrt(D1(X) * np.log(X))),\n",
    "                  (X * D2(X)) / (D1(X)**2 * np.log(X)),\n",
    "                  j_3 * D2(X) * X / (2 * j_1**2 * D1(X)),\n",
    "                  j_3 * D2(X) * X / (j_1**2 * D1(X) * np.sqrt(D1(X) * np.log(X))),\n",
    "                  j_3 * D2(X) * X / (j_1**2 * D1(X)**2 * np.log(X))]\n",
    "d_i_prime = [1, (D5(delta, X) * X ) / D6(delta, X), np.pi * m0()]\n",
    "X = 1e12\n",
    "tilde_C5_value = tilde_C5(sigma_prime, a, a_i, b, b_i, d_i,\n",
    "              a_prime, a_i_prime, b_prime, b_i_prime, d_i_prime, X)\n",
    "print(f\"The value of tilde{{C_5}} is: {tilde_C5_value}\")\n"
   ]
  },
  {
   "cell_type": "code",
   "execution_count": 422,
   "metadata": {
    "colab": {
     "base_uri": "https://localhost:8080/"
    },
    "id": "kbC8_WDEVMMc",
    "outputId": "ebb085cf-00e8-408a-c40f-acb1c3fa1e70"
   },
   "outputs": [
    {
     "name": "stdout",
     "output_type": "stream",
     "text": [
      "The result for tilde_C5 is: 14.053855316679108\n"
     ]
    }
   ],
   "source": [
    "tilde_c5 = result1 * result2\n",
    "print(f\"The result for tilde_C5 is: {tilde_c5}\")\n"
   ]
  },
  {
   "cell_type": "markdown",
   "metadata": {
    "id": "JSaOYAy5hG1G"
   },
   "source": [
    "#This is the final value for \\breve{C_5} as equation 4.94 as we use it for first version:"
   ]
  },
  {
   "cell_type": "code",
   "execution_count": 378,
   "metadata": {
    "id": "zp9fe7xQhcLL"
   },
   "outputs": [],
   "source": [
    "def breve_C5(sigma_prime, a, a_i, b, b_i, d_i,\n",
    "              a_prime, a_i_prime, b_prime, b_i_prime, d_i_prime, X):\n",
    "    # Compute logarithmic terms\n",
    "    log_X = np.log(X)\n",
    "\n",
    "    breve_C5_value = result1 * result2breve\n",
    "    return breve_C5_value"
   ]
  },
  {
   "cell_type": "code",
   "execution_count": 379,
   "metadata": {
    "colab": {
     "base_uri": "https://localhost:8080/"
    },
    "id": "ULDc4j0Fh9Ea",
    "outputId": "6cc9c80b-e623-4a28-87cc-c45aa5ec53ae"
   },
   "outputs": [
    {
     "name": "stdout",
     "output_type": "stream",
     "text": [
      "The value of breve{C_5} is: 1.8750132704399058\n"
     ]
    }
   ],
   "source": [
    "a = 4/3\n",
    "a_prime = 1\n",
    "a_i = [0, -1/6, -1/3, -1/3, -1/2, -2/3, -1, -7/6, -4/3, -4/3, -3/2, -5/3]\n",
    "a_i_prime = [0, -1, -1]\n",
    "b = 2\n",
    "b_prime = 0\n",
    "b_i = [0, 0, 0, -2, -2, -2, 0, 0, 0, -2, -2, -2]\n",
    "b_i_prime = [0, 0, 0]\n",
    "d_i = [1, 2 / np.sqrt(D1(X) * np.log(X)),\n",
    "                  1 / (D1(X) * np.log(X)),\n",
    "                  j_3 / j_1**2,\n",
    "                  j_3 / (j_1**2 * np.sqrt(D1(X) * np.log(X))),\n",
    "                  j_3 / (2 * j_1**2 * D1(X) * np.log(X)),\n",
    "                  (X * D2(X)) / D1(X),\n",
    "                  2 * X * D2(X) / (D1(X) * np.sqrt(D1(X) * np.log(X))),\n",
    "                  (X * D2(X)) / (D1(X)**2 * np.log(X)),\n",
    "                  j_3 * D2(X) * X / (2 * j_1**2 * D1(X)),\n",
    "                  j_3 * D2(X) * X / (j_1**2 * D1(X) * np.sqrt(D1(X) * np.log(X))),\n",
    "                  j_3 * D2(X) * X / (j_1**2 * D1(X)**2 * np.log(X))]\n",
    "d_i_prime = [1, (D5(delta, X) * X ) / D6(delta, X), np.pi * m0()]\n",
    "X = 1e12\n",
    "breve_C5_value = breve_C5(sigma_prime, a, a_i, b, b_i, d_i,\n",
    "              a_prime, a_i_prime, b_prime, b_i_prime, d_i_prime, X)\n",
    "print(f\"The value of breve{{C_5}} is: {breve_C5_value}\")"
   ]
  },
  {
   "cell_type": "markdown",
   "metadata": {
    "id": "pJ_n1x7viLjB"
   },
   "source": [
    "#This is the final value for \\tilde{C_5} as equation 4.85 for the second version:"
   ]
  },
  {
   "cell_type": "code",
   "execution_count": null,
   "metadata": {
    "id": "1FQ7PChGiKTB"
   },
   "outputs": [],
   "source": [
    "def tilde_C5(sigma_prime, a, a_i, b, b_i, d_i,\n",
    "              a_prime, a_i_prime, b_prime, b_i_prime, d_i_prime, X):\n",
    "    # Compute logarithmic terms\n",
    "    log_X = np.log(X)\n",
    "\n",
    "    tilde_C5_value = result1prime * result2\n",
    "    return tilde_C5_value"
   ]
  },
  {
   "cell_type": "code",
   "execution_count": null,
   "metadata": {
    "colab": {
     "base_uri": "https://localhost:8080/"
    },
    "id": "RsX5oM5KiRux",
    "outputId": "7103685c-4acf-470a-efb3-49b010f85875"
   },
   "outputs": [
    {
     "name": "stdout",
     "output_type": "stream",
     "text": [
      "The value of tilde{C_5} is: 138.929459684424\n"
     ]
    }
   ],
   "source": [
    "omega_5 = 66.7\n",
    "omega_7 = mpmath.zeta(1/2) ** 2\n",
    "a = 109/82\n",
    "a_prime = 1\n",
    "a_i = [0, -27/164, -27/82, -27/82, -81/164, -109/164, -1, -191/164, -109/82, -109/82, -164/81, -136/82]\n",
    "a_i_prime = [0, -1, -1]\n",
    "b = 0\n",
    "b_prime = 0\n",
    "b_i = [0, 0, 0, 0, 0, 0, 0, 0, 0, 0, 0, 0]\n",
    "b_i_prime = [0, 0, 0]\n",
    "d_i = [1,\n",
    "                  2 /omega_5 * np.sqrt(D1(X) * np.log(X)),\n",
    "                  omega_7 / (omega_5**2),\n",
    "                  1 / D1(X) * (omega_5**2) * np.log(X),\n",
    "                  2 * omega_7 / ((omega_5**3)) * np.sqrt(D1(X) * np.log(X)),\n",
    "                  omega_7 / (omega_5**4 * D1(X) * np.log(X)),\n",
    "                  (X * D2(X)) / D1(X),\n",
    "                  2 * X * D2(X) / (D1(X) * np.sqrt(D1(X) * np.log(X))),\n",
    "                  (X * D2(X) * omega_7) / (D1(X) * omega_5**2),\n",
    "                  D2(X) * X / (2 * D1(X)**2 * omega_5**2 * np.log(X) ),\n",
    "                  2 * omega_7 * D2(X) * X / (omega_5**3 * D1(X) * np.sqrt(D1(X) * np.log(X))),\n",
    "                  omega_7 * D2(X) * X / (2 * omega_5**4 * D1(X)**2 * np.log(X))]\n",
    "d_i_prime = [1, (D5(delta, X) * X ) / D6(delta, X), np.pi * m0()]\n",
    "X = 1e12\n",
    "tilde_C5_value = tilde_C5(sigma_prime, a, a_i, b, b_i, d_i,\n",
    "              a_prime, a_i_prime, b_prime, b_i_prime, d_i_prime, X)\n",
    "print(f\"The value of tilde{{C_5}} is: {tilde_C5_value}\")"
   ]
  },
  {
   "cell_type": "code",
   "execution_count": null,
   "metadata": {
    "colab": {
     "base_uri": "https://localhost:8080/"
    },
    "id": "P6NQ4Ps6RNfI",
    "outputId": "cc2acdaa-5174-4356-b8be-cbef59a33b17"
   },
   "outputs": [
    {
     "name": "stdout",
     "output_type": "stream",
     "text": [
      "The second version for tilde_C52 is: 234.908193389705\n"
     ]
    }
   ],
   "source": [
    "#SECOND VERSION\n",
    "tilde_C52 = result1prime * result2\n",
    "print(f\"The second version for tilde_C52 is: {tilde_C52}\")"
   ]
  },
  {
   "cell_type": "markdown",
   "metadata": {
    "id": "l83uUGAgXKz-"
   },
   "source": [
    "# Define C1 as in equation 4.18"
   ]
  },
  {
   "cell_type": "code",
   "execution_count": 562,
   "metadata": {
    "colab": {
     "base_uri": "https://localhost:8080/"
    },
    "id": "njimh5KbV8X4",
    "outputId": "8b459c23-8713-424c-c0a9-f0ab8be29a55"
   },
   "outputs": [
    {
     "name": "stdout",
     "output_type": "stream",
     "text": [
      "The result for C1 on half line is: 1.0\n"
     ]
    },
    {
     "data": {
      "text/plain": [
       "1.0"
      ]
     },
     "execution_count": 562,
     "metadata": {},
     "output_type": "execute_result"
    }
   ],
   "source": [
    "def C1(sigma, T2, alpha, beta):\n",
    "      C1_value = np.exp(alpha * (sigma / T2)**beta)\n",
    "      return C1_value\n",
    "C1_value = C1(sigma_1, T2, alpha, beta)\n",
    "print(f\"The result for C1 on half line is: {C1_value}\")\n",
    "C1_value ** exponent"
   ]
  },
  {
   "cell_type": "code",
   "execution_count": 563,
   "metadata": {
    "colab": {
     "base_uri": "https://localhost:8080/"
    },
    "id": "7BY9yreMQ7xi",
    "outputId": "151a4280-0b9e-45c3-c7ba-0985c77a7169"
   },
   "outputs": [
    {
     "name": "stdout",
     "output_type": "stream",
     "text": [
      "The result for C1 at sigma2: 1.0\n"
     ]
    }
   ],
   "source": [
    "C1_value = C1(sigma_2, T2, alpha, beta)\n",
    "print(f\"The result for C1 at sigma2: {C1_value}\")"
   ]
  },
  {
   "cell_type": "markdown",
   "metadata": {
    "id": "2kwk-j1aasAt"
   },
   "source": [
    "# Define C2 as in equation 4.18"
   ]
  },
  {
   "cell_type": "code",
   "execution_count": 564,
   "metadata": {
    "colab": {
     "base_uri": "https://localhost:8080/"
    },
    "id": "g0tGJsDxX9WU",
    "outputId": "70827cc0-ee76-43b7-ac9b-a0fee79459d8"
   },
   "outputs": [
    {
     "name": "stdout",
     "output_type": "stream",
     "text": [
      "The result for C2 is: 0.8162782414247937\n"
     ]
    }
   ],
   "source": [
    "T1 = 1e12\n",
    "T2 = 1e12\n",
    "delta_2 = 0.44\n",
    "sigma_prime = sigma - (delta_2 / np.log(T2))\n",
    "def C2(sigma, T1, T2, alpha):\n",
    "      C2_value = (1 - 1 / T1) * np.exp(alpha * (sigma / T2)**2 - alpha)\n",
    "      return C2_value\n",
    "C2_value = C2(sigma_prime, T1, T2, alpha)\n",
    "print(f\"The result for C2 is: {C2_value}\")"
   ]
  },
  {
   "cell_type": "markdown",
   "metadata": {
    "id": "wtX2s6r1n8m5"
   },
   "source": [
    "#DEFINITION OF C4"
   ]
  },
  {
   "cell_type": "code",
   "execution_count": 565,
   "metadata": {
    "id": "utjZkSXckm5J"
   },
   "outputs": [],
   "source": [
    "# Define C4 as in equation 4.84\n",
    "def C4(sigma_prime, T2, T1, alpha, beta):\n",
    "\n",
    "    C4_value =  (2 * alpha * beta) * (C1_value ** exponent * C1_value ** exponent2) / C2_value\n",
    "    return C4_value"
   ]
  },
  {
   "cell_type": "code",
   "execution_count": 566,
   "metadata": {
    "colab": {
     "base_uri": "https://localhost:8080/"
    },
    "id": "px7V4rv8lshY",
    "outputId": "b43e8179-9370-4044-b537-f5c277f9eb59"
   },
   "outputs": [
    {
     "name": "stdout",
     "output_type": "stream",
     "text": [
      "The value of C4 is: 0.9947588442179641\n"
     ]
    }
   ],
   "source": [
    "C4_value = C4(sigma_prime, T2, T1, alpha, beta)\n",
    "print(f\"The value of C4 is: {C4_value}\")"
   ]
  },
  {
   "cell_type": "code",
   "execution_count": 430,
   "metadata": {
    "colab": {
     "base_uri": "https://localhost:8080/"
    },
    "id": "GNnm_WSmaEp1",
    "outputId": "c25a687c-6bca-4608-b0d0-e38abe55ea6f"
   },
   "outputs": [
    {
     "name": "stdout",
     "output_type": "stream",
     "text": [
      "The result for C4: 22.103418361535056\n"
     ]
    }
   ],
   "source": [
    "C4 = (2 * 5 * beta) / C2_value\n",
    "print(f\"The result for C4: {C4}\")"
   ]
  },
  {
   "cell_type": "code",
   "execution_count": null,
   "metadata": {
    "colab": {
     "base_uri": "https://localhost:8080/"
    },
    "id": "tJJ9moWCoKoY",
    "outputId": "1b15af31-aacf-48ac-c32a-332ca094c49b"
   },
   "outputs": [
    {
     "data": {
      "text/plain": [
       "6.179499366232277"
      ]
     },
     "execution_count": 21,
     "metadata": {},
     "output_type": "execute_result"
    }
   ],
   "source": [
    "tilde_c5 * C4"
   ]
  },
  {
   "cell_type": "code",
   "execution_count": 576,
   "metadata": {
    "id": "OgQDbZ0opyGG"
   },
   "outputs": [],
   "source": [
    "# Define C6 as in equation 4.84\n",
    "def C6(sigma_prime, T2, a, a_prime, b, b_prime):\n",
    "\n",
    "    numerator = (\n",
    "        T2 ** ((a * exponent) + ((a_prime - 1) * exponent2)) *\n",
    "        (np.log(T2) ** (((b + 1) * exponent) + ((b_prime + 2) * exponent2)))\n",
    "    )\n",
    "\n",
    "    # Denominator\n",
    "    denominator = (\n",
    "        T2 ** ((2 * a * (1 - sigma)) + ((a_prime - 1) * (2 * sigma - 1))) *\n",
    "        (np.log(T2) ** ((2 * (b + 1) * (1 - sigma)) + ((b_prime + 2) * (2 * sigma - 1))))\n",
    "    )\n",
    "    C6_value =  numerator / denominator\n",
    "    return C6_value"
   ]
  },
  {
   "cell_type": "code",
   "execution_count": 577,
   "metadata": {
    "colab": {
     "base_uri": "https://localhost:8080/"
    },
    "id": "uWIRhON4sGU7",
    "outputId": "3fb771b8-7417-4d3f-beb8-d0112194b2a6"
   },
   "outputs": [
    {
     "name": "stdout",
     "output_type": "stream",
     "text": [
      "The value of C6 is: 6.17726647841941\n"
     ]
    }
   ],
   "source": [
    "a = 4/3\n",
    "a_prime = 1\n",
    "b = 2\n",
    "b_prime = 0\n",
    "C6_value = C6(sigma_prime, T2, a, a_prime, b, b_prime)\n",
    "print(f\"The value of C6 is: {C6_value}\")"
   ]
  },
  {
   "cell_type": "code",
   "execution_count": null,
   "metadata": {
    "colab": {
     "base_uri": "https://localhost:8080/"
    },
    "id": "e0vDyMs1qJqO",
    "outputId": "85043b48-3269-4257-da0d-eb73a72c376a"
   },
   "outputs": [
    {
     "name": "stdout",
     "output_type": "stream",
     "text": [
      "The value of C6 is: 3.8540980354146113\n"
     ]
    }
   ],
   "source": [
    "a = 109/82\n",
    "a_prime = 1\n",
    "b = 0\n",
    "b_prime = 0\n",
    "C6_value = C6(sigma_prime, T2, a, a_prime, b, b_prime)\n",
    "print(f\"The value of C6 is: {C6_value}\")"
   ]
  },
  {
   "cell_type": "code",
   "execution_count": null,
   "metadata": {
    "id": "3TGGGvk9kvzc"
   },
   "outputs": [],
   "source": [
    "# Define hatC6 as in equation 4.108\n",
    "import math\n",
    "def hatC6(sigma_prime, a, a_prime, delta, delta_2):\n",
    "\n",
    "    hatC6_value =  math.exp(((1+a-a_prime)) * ((2 * delta *(2 * sigma_prime - 1)) + 2 * delta_2))\n",
    "    return hatC6_value"
   ]
  },
  {
   "cell_type": "code",
   "execution_count": null,
   "metadata": {
    "colab": {
     "base_uri": "https://localhost:8080/"
    },
    "id": "3HjUOx7elwLp",
    "outputId": "22e60c2d-357c-4f73-b707-b693d3a3d11f"
   },
   "outputs": [
    {
     "name": "stdout",
     "output_type": "stream",
     "text": [
      "The value of C6 is: 4.465205131911867\n"
     ]
    }
   ],
   "source": [
    "a = 109/82\n",
    "a_prime = 1\n",
    "hatC6_value = hatC6(sigma_prime, a, a_prime, delta, delta_2)\n",
    "print(f\"The value of C6 is: {hatC6_value}\")"
   ]
  },
  {
   "cell_type": "code",
   "execution_count": 58,
   "metadata": {
    "id": "KsZVEk7xptD3"
   },
   "outputs": [],
   "source": [
    "def MathcalU(sigma_1_prime,sigma_2_prime,alpha,beta,delta,delta_2,X_0,printing=0):\n",
    "    C4_val=1\n",
    "    C5_val=2\n",
    "    C6_val=3\n",
    "    U_value=4\n",
    "    return U_value\n",
    "\n",
    "def OptimizeU_on_alpha(sigma_1_prime,sigma_2_prime,beta,delta,delta_2,X_0,printing=0):\n",
    "   alpha_guess = 0.15\n",
    "   \n",
    "   U_val_opt = MathcalU(sigma_1_prime,sigma_2_prime,alpha_guess,beta,delta,delta_2,X_0,printing)\n",
    "   return [U_val_opt,alpha_guess]\n",
    "\n",
    "\n",
    "def OptimizeU(sigma_1_prime,sigma_2_prime,beta,X_0,printing=0):\n",
    "   alpha_guess = 0.15\n",
    "   delta_guess = 0.33\n",
    "   delta_2_guess = 0.33\n",
    "\n",
    "   U_val_opt = OptimizeU_on_alpha(sigma_1_prime,sigma_2_prime,beta,delta_guess,delta_2_guess,X_0,printing=0)\n",
    "   alpha_guess = U_val_opt[1]\n",
    "  \n",
    "   U_val_opt = MathcalU(sigma_1_prime,sigma_2_prime,alpha_guess,beta,delta,delta_2,X_0,printing)\n",
    "   return [U_val_opt,alpha_guess,delta_guess,delta_2_guess]\n",
    "\n",
    "lambdatoopt = lambda alpha,delta,delta_2: MathcalU(sigma_1_prime,sigma_2_prime,alpha,beta,delta,delta_2,X_0,printing=0)\n",
    "\n",
    "lambdaoptX = lambda ADD: lambdaopt(ADD[0],ADD[1],ADD[2])\n",
    "\n",
    "import scipy.optimize as optimize\n",
    "\n",
    "optimize.minimize(lambdaoptX,initialguess=[0.])"
   ]
  },
  {
   "cell_type": "code",
   "execution_count": 59,
   "metadata": {
    "id": "_y8NmGS2ptAZ"
   },
   "outputs": [
    {
     "data": {
      "text/plain": [
       "9"
      ]
     },
     "execution_count": 59,
     "metadata": {},
     "output_type": "execute_result"
    }
   ],
   "source": [
    "def f(w,x,y):\n",
    "    return w+x+y\n",
    "\n",
    "def g(w,h):\n",
    "    return lambda x,y: h(w,x,y)\n",
    "\n",
    "g(2,f)(3,4)"
   ]
  },
  {
   "cell_type": "code",
   "execution_count": 9,
   "metadata": {
    "id": "ul_nm7EVBV5U"
   },
   "outputs": [],
   "source": [
    "gamma = mpmath.euler"
   ]
  },
  {
   "cell_type": "code",
   "execution_count": 10,
   "metadata": {},
   "outputs": [
    {
     "data": {
      "text/plain": [
       "<Euler's constant: 0.577216~>"
      ]
     },
     "execution_count": 10,
     "metadata": {},
     "output_type": "execute_result"
    }
   ],
   "source": [
    "gamma"
   ]
  },
  {
   "cell_type": "code",
   "execution_count": null,
   "metadata": {},
   "outputs": [],
   "source": []
  }
 ],
 "metadata": {
  "colab": {
   "authorship_tag": "ABX9TyP7/f8QbIQFJ9TiQ8quGhlj",
   "include_colab_link": true,
   "provenance": []
  },
  "kernelspec": {
   "display_name": "Python 3 (ipykernel)",
   "language": "python",
   "name": "python3"
  },
  "language_info": {
   "codemirror_mode": {
    "name": "ipython",
    "version": 3
   },
   "file_extension": ".py",
   "mimetype": "text/x-python",
   "name": "python",
   "nbconvert_exporter": "python",
   "pygments_lexer": "ipython3",
   "version": "3.10.6"
  }
 },
 "nbformat": 4,
 "nbformat_minor": 1
}
