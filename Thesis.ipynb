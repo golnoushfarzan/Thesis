{
  "nbformat": 4,
  "nbformat_minor": 0,
  "metadata": {
    "colab": {
      "provenance": [],
      "authorship_tag": "ABX9TyO5xH1fhavFVHojHCCwJnQ5",
      "include_colab_link": true
    },
    "kernelspec": {
      "name": "python3",
      "display_name": "Python 3"
    },
    "language_info": {
      "name": "python"
    }
  },
  "cells": [
    {
      "cell_type": "markdown",
      "metadata": {
        "id": "view-in-github",
        "colab_type": "text"
      },
      "source": [
        "<a href=\"https://colab.research.google.com/github/golnoushfarzan/Thesis/blob/main/Thesis.ipynb\" target=\"_parent\"><img src=\"https://colab.research.google.com/assets/colab-badge.svg\" alt=\"Open In Colab\"/></a>"
      ]
    },
    {
      "cell_type": "code",
      "source": [
        "import numpy as np\n",
        "#this one is used to compute binomial coefficients (for C_3)\n",
        "from scipy.special import comb\n",
        "#This one is used for numerical integration of a given function over a specified interval (for I term)\n",
        "from scipy.integrate import quad\n",
        "import mpmath\n",
        "from functools import partial # This one is used to create a version of a function with some arguments fixed(for optimization)\n",
        "from scipy.optimize import minimize\n",
        "import pandas as pd\n",
        "from scipy.special import gamma #For optimization of error term\n",
        "import matplotlib.pyplot as plt"
      ],
      "metadata": {
        "id": "cSERG_96o_P4"
      },
      "execution_count": 1,
      "outputs": []
    },
    {
      "cell_type": "markdown",
      "source": [
        "#This is the computation for C3 on the half line:"
      ],
      "metadata": {
        "id": "vSck010kpfI0"
      }
    },
    {
      "cell_type": "code",
      "source": [
        "# Define C3 function as in equation 2.25. This one is for \\sigma_1\n",
        "\n",
        "# Define b1(X_0) based on the provided formula in equation 3.11\n",
        "def b1(X_0):\n",
        "    return (6 / np.pi**2) + (0.1333 / np.sqrt(X_0))\n",
        "\n",
        "# Define m_0 based on the provided formula in equation 2.82\n",
        "def m0():\n",
        "    return np.sqrt(1 + (2 / 3) * np.sqrt(6 / 5))\n",
        "\n",
        "# Define b2(X_0) as a constant value in eq 3.15\n",
        "def b2(X_0):\n",
        "    return 1.048  # Given value for b2(X_0) for X_0 \\geq 1000\n",
        "\n",
        "# Define D1 and D2 as given in equation 4.25\n",
        "def D1(X):\n",
        "    return 6 / np.pi**2 + b2(X) / np.log(X)\n",
        "\n",
        "def D2(X):\n",
        "    return (np.pi * m0() * b1(X) / np.log(X)) + (6 * m0() / (np.pi * X)) + (np.pi * m0() * b2(X) / (X * np.log(X)))\n",
        "\n",
        "# Define the integral I_alpha_beta as in equation \\eqref{eq:2.23} (2.25)\n",
        "def I_alpha_beta(A, n, alpha, beta):\n",
        "    def integrand(x):\n",
        "        return x**A * np.exp(-alpha * x**beta) * (np.log(x)**n)\n",
        "\n",
        "    result, _ = quad(integrand, 0, np.inf)\n",
        "    return result\n",
        "\n",
        "# Define constants(Example value)\n",
        "X = 3e12\n",
        "T2 =  3e12\n",
        "alpha = 0.241\n",
        "beta = 2\n",
        "\n",
        "j_1 = 0.618\n",
        "j_3 = float(mpmath.zeta(1/2)**2)\n",
        "\n",
        "a = 4/3\n",
        "b = 2\n",
        "# List of values for a_i, b_i, and d_i based on the table of 4.1 (for sigma_1)\n",
        "a_i_values = [0, -1/6, -1/3, -1/3, -1/2, -2/3, -1, -7/6, -4/3, -4/3, -3/2, -5/3]\n",
        "b_i_values = [0, 0, 0, -2, -2, -2, 0, 0, 0, -2, -2, -2]\n",
        "\n",
        "def compute_d_i(X, D1, D2):\n",
        "    \"\"\"\n",
        "    Calculate the d_i values based on the provided formula.\n",
        "    \"\"\"\n",
        "\n",
        "    d_i_values = [1,\n",
        "                  2 / np.sqrt(D1(X) * np.log(X)),\n",
        "                  1 / (D1(X) * np.log(X)),\n",
        "                  j_3 / j_1**2,\n",
        "                  j_3 / (j_1**2 * np.sqrt(D1(X) * np.log(X))),\n",
        "                  j_3 / (2 * j_1**2 * D1(X) * np.log(X)),\n",
        "                  (X * D2(X)) / D1(X),\n",
        "                  2 * X * D2(X) / (D1(X) * np.sqrt(D1(X) * np.log(X))),\n",
        "                  (X * D2(X)) / (D1(X)**2 * np.log(X)),\n",
        "                  j_3 * D2(X) * X / (2 * j_1**2 * D1(X)),\n",
        "                  j_3 * D2(X) * X / (j_1**2 * D1(X) * np.sqrt(D1(X) * np.log(X))),\n",
        "                  j_3 * D2(X) * X / (j_1**2 * D1(X)**2 * np.log(X))]\n",
        "    return d_i_values\n",
        "\n",
        "\n",
        "# Define the d_i values based on the formula\n",
        "#def compute_d_i(i, X, D1, D2, j_1, j_3):\n",
        "    \"\"\"\n",
        "    Calculate the d_i values based on the provided formula.\n",
        "    \"\"\"\n",
        "\"\"\"\n",
        "    D1_value = D1(X)\n",
        "    D2_value = D2(X)\n",
        "\n",
        "    if i == 0:\n",
        "        return 1\n",
        "    elif i == 1:\n",
        "        return 2 / np.sqrt(D1(X) * np.log(X))\n",
        "    elif i == 2:\n",
        "        return 1 / (D1(X) * np.log(X))\n",
        "    elif i == 3:\n",
        "        return j_3 / j_1**2\n",
        "    elif i == 4:\n",
        "        return j_3 / (j_1**2 * np.sqrt(D1(X) * np.log(X)))\n",
        "    elif i == 5:\n",
        "        return j_3 / (2 * j_1**2 * D1(X) * np.log(X))\n",
        "    elif i == 6:\n",
        "        return (X * D2(X)) / D1(X)\n",
        "    elif i == 7:\n",
        "        return 2 * X * D2(X) / (D1(X) * np.sqrt(D1(X) * np.log(X)))\n",
        "    elif i == 8:\n",
        "        return (X * D2(X)) / (D1(X)**2 * np.log(X))\n",
        "    elif i == 9:\n",
        "        return j_3 * D2(X) * X / (2 * j_1**2 * D1(X))\n",
        "    elif i == 10:\n",
        "        return j_3 * D2(X) * X / (j_1**2 * D1(X) * np.sqrt(D1(X) * np.log(X)))\n",
        "    elif i == 11:\n",
        "        return j_3 * D2(X) * X / (j_1**2 * D1(X)**2 * np.log(X))\n",
        "\"\"\"\n",
        "\n",
        "\n",
        "\n",
        "# Define C3 function as equation 2.25. This one is for \\sigma_1\n",
        "def C3(T2, alpha, beta, a, a_i_values, b, b_i_values,  d_i_values, printing=0):\n",
        "    log_T = np.log(T2)\n",
        "\n",
        "    C31_value = 0\n",
        "\n",
        "    for i in range(len(a_i_values)):\n",
        "        a_i = a_i_values[i]\n",
        "        b_i = b_i_values[i]\n",
        "        d_i = d_i_values[i]\n",
        "        # Calculate d_i using the function for d_i\n",
        "\n",
        "        inner_sum = 0\n",
        "        # Summation over k\n",
        "        for k in range(b + b_i + 1):\n",
        "            binomial_coeff = comb(b + b_i, k)\n",
        "            integral_value = I_alpha_beta(beta + a + a_i - 1, b + b_i - k, alpha, beta)\n",
        "            inner_sum += binomial_coeff * integral_value / (log_T**(b + b_i - k))\n",
        "\n",
        "        # definition of C3\n",
        "        C31_value += d_i * T2**a_i * (log_T**b_i) * inner_sum\n",
        "\n",
        "    if printing > 0:\n",
        "        print(f\"C3_value is {C31_value}\")\n",
        "    return C31_value\n",
        "\n",
        "C31_value = C3(T2, alpha, beta, a, a_i_values, b, b_i_values, compute_d_i(X, D1, D2))\n",
        "print(f\"The value of C_3 on the half line is: {C31_value}\")"
      ],
      "metadata": {
        "colab": {
          "base_uri": "https://localhost:8080/"
        },
        "id": "4CwQU-2IBPrz",
        "outputId": "48bf2403-ffb5-4b64-8f29-3ee4cd2ea1b3"
      },
      "execution_count": 20,
      "outputs": [
        {
          "output_type": "stream",
          "name": "stdout",
          "text": [
            "The value of C_3 on the half line is: 5.473783347188228\n"
          ]
        }
      ]
    },
    {
      "cell_type": "code",
      "source": [
        "a_second = 109/82\n",
        "b_second = 0\n",
        "# List of values for a_i, b_i, and d_i based on the table of 4.1 (for sigma_1)\n",
        "a_i_values_second = [0, -27/164, -27/82, -27/82, -81/164, -109/164, -1, -191/164, -109/82, -109/82, -164/81, -136/82]\n",
        "b_i_values_second = [0, 0, 0, 0, 0, 0, 0, 0, 0, 0, 0, 0]\n",
        "omega_5 = 66.7\n",
        "omega_7 = mpmath.zeta(1/2) ** 2\n",
        "\n",
        "def compute_second_d_i(X, D1, D2):\n",
        "    \"\"\"\n",
        "    Calculate the d_i values based on the provided formula.\n",
        "    \"\"\"\n",
        "    D1_value = D1(X)\n",
        "    D2_value = D2(X)\n",
        "\n",
        "    d_i_values_second = [1,\n",
        "                  2 /(omega_5 * (np.sqrt(D1(X) * np.log(X)))),\n",
        "                  omega_7 / (omega_5**2),\n",
        "                  1 / (D1(X) * (omega_5**2) * np.log(X)),\n",
        "                  (2 * omega_7) / (((omega_5**3)) * np.sqrt(D1(X) * np.log(X))),\n",
        "                  omega_7 / (omega_5**4 * D1(X) * np.log(X)),\n",
        "                  (X * D2(X)) / D1(X),\n",
        "                  (2 * X * D2(X)) / (D1(X) * np.sqrt(D1(X) * np.log(X))),\n",
        "                  (X * D2(X) * omega_7) / (D1(X) * omega_5**2),\n",
        "                  (D2(X) * X) / (2 * D1(X)**2 * omega_5**2 * np.log(X) ),\n",
        "                  (2 * omega_7 * D2(X) * X) / (omega_5**3 * D1(X) * np.sqrt(D1(X) * np.log(X))),\n",
        "                  (omega_7 * D2(X) * X) / (2 * omega_5**4 * D1(X)**2 * np.log(X))]\n",
        "    return d_i_values_second\n",
        "\n",
        "\n",
        "C31_value_s = C3(T2, alpha, beta, a_second, a_i_values_second, b_second, b_i_values_second, compute_second_d_i(X, D1, D2))\n",
        "\n",
        "print(f\"The second version of C_3 at sigma_1 is: {C31_value_s}\")\n",
        "# Define D4' as equation 4.54\n",
        "\n",
        "def D4prime(X):\n",
        "    return D1(X) * (omega_5 ** 2)\n",
        "\n",
        "D4prime_value = D4prime(X)\n",
        "print(f\"The value of D_4' is: {D4prime_value}\")"
      ],
      "metadata": {
        "colab": {
          "base_uri": "https://localhost:8080/"
        },
        "id": "tTRAhNy8k--v",
        "outputId": "13513a6d-2e82-4e65-81f0-c51caf88da18"
      },
      "execution_count": null,
      "outputs": [
        {
          "output_type": "stream",
          "name": "stdout",
          "text": [
            "The second version of C_3 at sigma_1 is: 5.15234699639508\n",
            "The value of D_4' is: 2866.8874805874652\n"
          ]
        }
      ]
    },
    {
      "cell_type": "code",
      "source": [
        "# Define D4 as equation 4.54\n",
        "j_1 = 0.618\n",
        "def D4(X):\n",
        "    return D1(X) * (j_1 ** 2)\n",
        "\n",
        "D4_value = D4(X)\n",
        "print(f\"The value of D_4 is: {D4_value}\")"
      ],
      "metadata": {
        "colab": {
          "base_uri": "https://localhost:8080/"
        },
        "id": "R1pmiYPz6liJ",
        "outputId": "2311bc4a-a3d0-4adf-b8aa-dbadb2f279f8"
      },
      "execution_count": null,
      "outputs": [
        {
          "output_type": "stream",
          "name": "stdout",
          "text": [
            "The value of D_4 is: 0.24611377987225733\n"
          ]
        }
      ]
    },
    {
      "cell_type": "code",
      "source": [
        "log_X = np.log(X)\n",
        "print(f\"The value of log_X is: {log_X}\")"
      ],
      "metadata": {
        "colab": {
          "base_uri": "https://localhost:8080/"
        },
        "id": "XylU0L0_Mp-K",
        "outputId": "cca9b344-b5c5-4ce5-8891-0fa64e375797"
      },
      "execution_count": null,
      "outputs": [
        {
          "output_type": "stream",
          "name": "stdout",
          "text": [
            "The value of log_X is: 28.729633404596658\n"
          ]
        }
      ]
    },
    {
      "cell_type": "code",
      "source": [
        "C31_times_D4 = C31_value * D4_value\n",
        "print(f\"The value of C3 . D4 on the half line is: {C31_times_D4}\")\n",
        "C31_times_D4_prime = C31_value_s * D4prime_value\n",
        "print(f\"The value of C3 . D4' on the half line is: {C31_times_D4_prime}\")"
      ],
      "metadata": {
        "id": "AiSm9cpZ7xVf",
        "colab": {
          "base_uri": "https://localhost:8080/"
        },
        "outputId": "994619c6-91fb-4a86-c451-15de2011b90f"
      },
      "execution_count": null,
      "outputs": [
        {
          "output_type": "stream",
          "name": "stdout",
          "text": [
            "The value of C3 . D4 on the half line is: 1.3471735097783113\n",
            "The value of C3 . D4' on the half line is: 14771.1990996075\n"
          ]
        }
      ]
    },
    {
      "cell_type": "markdown",
      "source": [
        "#FIRST EXPONENT"
      ],
      "metadata": {
        "id": "v7CNAi1Ep9tE"
      }
    },
    {
      "cell_type": "code",
      "source": [
        "delta = 0.36\n",
        "sigma_2 = 1 + (delta / log_X)\n",
        "sigma_1 = 0.5\n",
        "delta_2 = 0.35\n",
        "sigma = 0.9\n",
        "sigma_prime = sigma - (delta_2 / np.log(T2))\n",
        "exponent = (sigma_2 - sigma_prime) / (sigma_2 - sigma_1)\n",
        "print(f\"The value of exponent is: {exponent}\")"
      ],
      "metadata": {
        "colab": {
          "base_uri": "https://localhost:8080/"
        },
        "id": "Np5TroVza575",
        "outputId": "6819c554-faf5-4944-d3fa-f1729d36baac"
      },
      "execution_count": null,
      "outputs": [
        {
          "output_type": "stream",
          "name": "stdout",
          "text": [
            "The value of exponent is: 0.24332821337602245\n"
          ]
        }
      ]
    },
    {
      "cell_type": "markdown",
      "source": [
        "#This is the final result on the half line (A1^exponent):"
      ],
      "metadata": {
        "id": "KwukOpqxqVa1"
      }
    },
    {
      "cell_type": "code",
      "source": [
        "result1 = (C31_times_D4) ** exponent\n",
        "print(f\"The result for the half line: {result1}\")\n",
        "result1_s= (C31_times_D4_prime) ** exponent\n",
        "print(f\"The result for the half line: {result1_s}\")"
      ],
      "metadata": {
        "colab": {
          "base_uri": "https://localhost:8080/"
        },
        "id": "Ig344afOo_Ex",
        "outputId": "da9f2525-91ae-44d9-c128-168f052812d6"
      },
      "execution_count": null,
      "outputs": [
        {
          "output_type": "stream",
          "name": "stdout",
          "text": [
            "The result for the half line: 1.0752077780603713\n",
            "The result for the half line: 10.3403796847098\n"
          ]
        }
      ]
    },
    {
      "cell_type": "markdown",
      "source": [
        "#This is the computation for C3 on the sigme2:"
      ],
      "metadata": {
        "id": "WcV2YZr6qiJ-"
      }
    },
    {
      "cell_type": "code",
      "source": [
        "# Define C3 function as in equation 2.25. This one is for \\sigma_2\n",
        "gamma = mpmath.euler\n",
        "# Define b_4 function based on the given equation 3.40\n",
        "def b_4(X_0):\n",
        "    return 0.428 + 0.895 / np.log(X_0)\n",
        "\n",
        "# Define b3(X_0) as a constant value in eq 3.21\n",
        "def b_3(X_0):\n",
        "    return 0.605  # Given value for b2(X_0) for X_0 \\geq 1000\n",
        "\n",
        "# Define m_0 based on the provided formula in equation 2.82\n",
        "def m0():\n",
        "    return np.sqrt(1 + (2 / 3) * np.sqrt(6 / 5))\n",
        "\n",
        "# Define D_5 and D_6 based on the given equations\n",
        "def D5(delta, X):\n",
        "    \"\"\"\n",
        "    Calculate D_5 for given delta and X, using m0 and gamma.\n",
        "    \"\"\"\n",
        "    b4_X = b_4(X)\n",
        "    return (np.pi * m0() * b4_X) / (2 * delta) * np.exp((2 * delta * float(gamma) / np.log(X)))\n",
        "\n",
        "def D6(delta, X):\n",
        "    \"\"\"\n",
        "    Calculate D_6 for given delta and X, using gamma.\n",
        "    \"\"\"\n",
        "    b3_X = b_3(X)\n",
        "    b4_X = b_4(X)\n",
        "    return (b4_X / (5 * delta * np.exp(float(gamma)))) + (b3_X * np.exp(-2 * delta)) / (np.log(X)**2)\n",
        "\n",
        "\n",
        "# Define constants(Example value)\n",
        "X = 3e12\n",
        "T2 = 3e12\n",
        "alpha = 0.241\n",
        "beta = 2\n",
        "a_prime = 1\n",
        "b_prime = 0\n",
        "\n",
        "# List of values for a_i', b_i', and d_i' based on the table of 4.3 (for sigma_2)\n",
        "a_i_prime_values = [0, -1, -1]\n",
        "b_i_prime_values = [0, 0, 0]\n",
        "\n",
        "# Define the d_i values based on your formula\n",
        "def compute_d_i_second(X, D5, D6, delta):\n",
        "    \"\"\"\n",
        "    Calculate the d_i values based on the provided formula.\n",
        "    \"\"\"\n",
        "    D5_value = D5(delta, X)\n",
        "    D6_value = D6(delta, X)\n",
        "\n",
        "    d_i_values = [1, (D5(delta, X) * X ) / D6(delta, X), np.pi * m0()]\n",
        "    return d_i_values\n",
        "\n",
        "\n",
        "C32_value = C3(T2, alpha, beta, a_prime, a_i_prime_values, b_prime, b_i_prime_values, compute_d_i_second(X, D5, D6, delta))\n",
        "\n",
        "print(f\"The value of C_3 at sigma_2 is: {C32_value}\")"
      ],
      "metadata": {
        "colab": {
          "base_uri": "https://localhost:8080/"
        },
        "id": "ZrXJSWjKCb42",
        "outputId": "3537ac08-3693-4c23-de6c-21ae9e5fc296"
      },
      "execution_count": null,
      "outputs": [
        {
          "output_type": "stream",
          "name": "stdout",
          "text": [
            "The value of C_3 at sigma_2 is: 42.38082568387099\n"
          ]
        }
      ]
    },
    {
      "cell_type": "code",
      "source": [
        "# Define D6\n",
        "def D6(delta, X):\n",
        "    \"\"\"\n",
        "    Calculate D_6 for given delta and X, using gamma.\n",
        "    \"\"\"\n",
        "    b3_X = b_3(X)\n",
        "    b4_X = b_4(X)\n",
        "    return (b4_X / (5 * delta * np.exp(float(gamma)))) + (b3_X * np.exp(-2 * delta)) / (np.log(X)**2)\n",
        "D6_value = D6(delta, X)\n",
        "print(f\"The value of D_6 is: {D6_value}\")"
      ],
      "metadata": {
        "colab": {
          "base_uri": "https://localhost:8080/"
        },
        "id": "Euq1y0owo-_0",
        "outputId": "264aad07-c78a-4598-8425-3cca64332200"
      },
      "execution_count": null,
      "outputs": [
        {
          "output_type": "stream",
          "name": "stdout",
          "text": [
            "The value of D_6 is: 0.14357651963994592\n"
          ]
        }
      ]
    },
    {
      "cell_type": "code",
      "source": [
        "C32_times_D6 = C32_value * D6_value\n",
        "print(f\"The value of C3 . D6 at sigma_2 is: {C32_times_D6}\")"
      ],
      "metadata": {
        "colab": {
          "base_uri": "https://localhost:8080/"
        },
        "id": "qcR69T5Uo-9N",
        "outputId": "fc84e927-c1ee-4dcd-cc94-074dbcf273c5"
      },
      "execution_count": null,
      "outputs": [
        {
          "output_type": "stream",
          "name": "stdout",
          "text": [
            "The value of C3 . D6 at sigma_2 is: 6.084891451157427\n"
          ]
        }
      ]
    },
    {
      "cell_type": "markdown",
      "source": [
        "#SECOND EXPONENT"
      ],
      "metadata": {
        "id": "f28j4pS0q7xY"
      }
    },
    {
      "cell_type": "code",
      "source": [
        "delta = 0.36\n",
        "sigma_2 = 1 + (delta / np.log(X))\n",
        "sigma_1 = 0.5\n",
        "delta_2 = 0.35\n",
        "sigma = 0.9\n",
        "sigma_prime = sigma - (delta_2 / np.log(T2))\n",
        "exponent2 = (sigma_prime - sigma_1) / (sigma_2 - sigma_1)\n",
        "print(f\"The value of exponent2 is: {exponent2}\")"
      ],
      "metadata": {
        "colab": {
          "base_uri": "https://localhost:8080/"
        },
        "id": "4IOjEEdGo-6n",
        "outputId": "ba564599-842e-467e-a274-55073f658745"
      },
      "execution_count": null,
      "outputs": [
        {
          "output_type": "stream",
          "name": "stdout",
          "text": [
            "The value of exponent2 is: 0.7566717866239775\n"
          ]
        }
      ]
    },
    {
      "cell_type": "markdown",
      "source": [
        "#This is the final result on sigma2 (A2^exponent2):"
      ],
      "metadata": {
        "id": "hqjsCOZZrCnW"
      }
    },
    {
      "cell_type": "code",
      "source": [
        "result2 = (C32_times_D6) ** exponent2\n",
        "print(f\"The result for sigma2: {result2}\")"
      ],
      "metadata": {
        "colab": {
          "base_uri": "https://localhost:8080/"
        },
        "id": "8Mx8GeVCo-4H",
        "outputId": "fa559947-4572-43e1-dc8c-84aa943aedfe"
      },
      "execution_count": null,
      "outputs": [
        {
          "output_type": "stream",
          "name": "stdout",
          "text": [
            "The result for sigma2: 3.9212270870277846\n"
          ]
        }
      ]
    },
    {
      "cell_type": "markdown",
      "source": [
        "#This is the definition for \\tilde{C_5} as equation 4.85."
      ],
      "metadata": {
        "id": "4CaloQG-rV-5"
      }
    },
    {
      "cell_type": "code",
      "source": [
        "def tilde_C5(sigma, alpha, beta, delta, delta_2, a, a_i, b, b_i, d_i,\n",
        "              a_prime, a_i_prime, b_prime, b_i_prime, d_i_prime, T2, printing=0):\n",
        "    X = T2\n",
        "\n",
        "    sigma_2 = 1 + (delta / np.log(X))\n",
        "    sigma_1 = 0.5\n",
        "    sigma_prime = sigma - (delta_2 / np.log(T2))\n",
        "    exponent = (sigma_2 - sigma_prime) / (sigma_2 - sigma_1)\n",
        "    exponent2 = (sigma_prime - sigma_1) / (sigma_2 - sigma_1)\n",
        "    D4_value = D4(X)\n",
        "    C31_value = C3(T2, alpha, beta, a, a_i_values, b, b_i_values, compute_d_i(X, D1, D2), printing-1)\n",
        "    C31_times_D4 = C31_value * D4_value\n",
        "    D6_value = D6(delta, X)\n",
        "    D_5_value = D5(delta, X)\n",
        "    C32_value = C3(T2, alpha, beta, a_prime, a_i_prime_values, b_prime, b_i_prime_values, compute_d_i_second(X, D5, D6, delta), printing-1)\n",
        "    C32_times_D6 = C32_value * D6_value\n",
        "    tilde_C5_value = ((C31_times_D4) ** exponent) * ((C32_times_D6) ** exponent2)\n",
        "    return tilde_C5_value\n",
        "\n",
        "tilde_C5(sigma, alpha, beta, delta, delta_2, a, a_i_values, b, b_i_values, compute_d_i(X, D1, D2),\n",
        "              a_prime, a_i_prime_values, b_prime, b_i_prime_values, compute_d_i_second(X, D5, D6, delta), T2,2)\n"
      ],
      "metadata": {
        "colab": {
          "base_uri": "https://localhost:8080/"
        },
        "id": "hrl7peZ7FoZJ",
        "outputId": "fbb4b27a-f37c-4465-a443-46f320508da9"
      },
      "execution_count": null,
      "outputs": [
        {
          "output_type": "stream",
          "name": "stdout",
          "text": [
            "C3_value is 5.473783347188228\n",
            "C3_value is 42.38082568387099\n"
          ]
        },
        {
          "output_type": "execute_result",
          "data": {
            "text/plain": [
              "4.216133863513286"
            ]
          },
          "metadata": {},
          "execution_count": 274
        }
      ]
    },
    {
      "cell_type": "code",
      "source": [
        "def tilde_C5_second(sigma, alpha, beta, delta, delta_2, a, a_i, b, b_i, d_i,\n",
        "              a_prime, a_i_prime, b_prime, b_i_prime, d_i_prime, T2, printing=0):\n",
        "    X = T2\n",
        "\n",
        "    sigma_2 = 1 + (delta / np.log(X))\n",
        "    sigma_1 = 0.5\n",
        "    sigma_prime = sigma - (delta_2 / np.log(T2))\n",
        "    exponent = (sigma_2 - sigma_prime) / (sigma_2 - sigma_1)\n",
        "    exponent2 = (sigma_prime - sigma_1) / (sigma_2 - sigma_1)\n",
        "    D4prime_value = D4prime(X)\n",
        "    C31_value_s = C3(T2, alpha, beta, a_second, a_i_values_second, b_second, b_i_values_second, compute_second_d_i(X, D1, D2), printing-1)\n",
        "    C31_times_D4_prime = C31_value_s * D4prime_value\n",
        "    result1_s= (C31_times_D4_prime) ** exponent\n",
        "    D6_value = D6(delta, X)\n",
        "    D_5_value = D5(delta, X)\n",
        "    C32_value = C3(T2, alpha, beta, a_prime, a_i_prime_values, b_prime, b_i_prime_values, compute_d_i_second(X, D5, D6, delta), printing-1)\n",
        "    C32_times_D6 = C32_value * D6_value\n",
        "    result2 = (C32_times_D6) ** exponent2\n",
        "    tilde_C5_value_second = result1_s * result2\n",
        "    return tilde_C5_value_second\n",
        "\n",
        "tilde_C5_second(sigma, alpha, beta, delta, delta_2, a_second, a_i_values_second, b_second, b_i_values_second, compute_second_d_i(X, D1, D2),\n",
        "              a_prime, a_i_prime_values, b_prime, b_i_prime_values, compute_d_i_second(X, D5, D6, delta), T2,2)\n"
      ],
      "metadata": {
        "colab": {
          "base_uri": "https://localhost:8080/"
        },
        "outputId": "d8b59926-3c41-49ea-908a-32f62a6636e2",
        "id": "1w_zAp1PCeTB"
      },
      "execution_count": null,
      "outputs": [
        {
          "output_type": "stream",
          "name": "stdout",
          "text": [
            "C3_value is 5.15234699639508\n",
            "C3_value is 42.38082568387099\n"
          ]
        },
        {
          "output_type": "execute_result",
          "data": {
            "text/plain": [
              "mpf('40.546976909836019')"
            ]
          },
          "metadata": {},
          "execution_count": 275
        }
      ]
    },
    {
      "cell_type": "markdown",
      "source": [
        "#DEFINITION OF \\breve{C_5}"
      ],
      "metadata": {
        "id": "4Lbe8rnSdAJm"
      }
    },
    {
      "cell_type": "code",
      "source": [
        "exponent2upper = 2 * (sigma - sigma_1)\n",
        "result2breve = (C32_times_D6) ** exponent2upper\n",
        "print(f\"The result for sigma2: {result2breve}\")"
      ],
      "metadata": {
        "colab": {
          "base_uri": "https://localhost:8080/"
        },
        "id": "8P7APxxl4DP7",
        "outputId": "e19df37d-618b-4679-bcd6-c78d696869ee"
      },
      "execution_count": null,
      "outputs": [
        {
          "output_type": "stream",
          "name": "stdout",
          "text": [
            "The result for sigma2: 4.240355499784314\n"
          ]
        }
      ]
    },
    {
      "cell_type": "code",
      "source": [
        "def breve_C5(sigma,alpha, beta, delta_2, a, a_i, b, b_i, d_i,\n",
        "              a_prime, a_i_prime, b_prime, b_i_prime, d_i_prime, T2, printing=0):\n",
        "    X = T2\n",
        "    sigma_2 = 1 + (delta / np.log(X))\n",
        "    sigma_1 = 0.5\n",
        "    sigma_prime = sigma - (delta_2 / np.log(T2))\n",
        "    exponent = (sigma_2 - sigma_prime) / (sigma_2 - sigma_1)\n",
        "    exponent2upper = 2 * (sigma - sigma_1)\n",
        "\n",
        "    D4_value = D4(X)\n",
        "    C31_value = C3(T2, alpha, beta, a, a_i_values, b, b_i_values, compute_d_i(X, D1, D2),printing-1)\n",
        "    C31_times_D4 = C31_value * D4_value\n",
        "    D6_value = D6(delta, X)\n",
        "    D_5_value = D5(delta, X)\n",
        "    C32_value = C3(T2, alpha, beta, a_prime, a_i_prime_values, b_prime, b_i_prime_values, compute_d_i_second(X, D5, D6, delta),printing-1)\n",
        "    C32_times_D6 = C32_value * D6_value\n",
        "    breve_C5_value = ((C31_times_D4) ** exponent) * ((C32_times_D6) ** exponent2upper)\n",
        "    return breve_C5_value\n",
        "\n",
        "breve_C5(sigma, alpha, beta, delta_2, a, a_i_values, b, b_i_values, compute_d_i,\n",
        "              a_prime, a_i_prime_values, b_prime, b_i_prime_values, compute_d_i_second(X, D5, D6, delta), T2,2)"
      ],
      "metadata": {
        "colab": {
          "base_uri": "https://localhost:8080/"
        },
        "id": "jsytcGFa4abB",
        "outputId": "3f585aa6-4c13-4aa5-af57-c66ac09a37b9"
      },
      "execution_count": null,
      "outputs": [
        {
          "output_type": "stream",
          "name": "stdout",
          "text": [
            "C3_value is 5.473783347188228\n",
            "C3_value is 42.38082568387099\n"
          ]
        },
        {
          "output_type": "execute_result",
          "data": {
            "text/plain": [
              "4.5592632151091665"
            ]
          },
          "metadata": {},
          "execution_count": 277
        }
      ]
    },
    {
      "cell_type": "code",
      "source": [
        "def breve_C5_second(sigma,alpha, beta, delta_2, a, a_i, b, b_i, d_i,\n",
        "              a_prime, a_i_prime, b_prime, b_i_prime, d_i_prime, T2, printing=0):\n",
        "    X = T2\n",
        "    sigma_2 = 1 + (delta / np.log(X))\n",
        "    sigma_1 = 0.5\n",
        "    sigma_prime = sigma - (delta_2 / np.log(T2))\n",
        "    exponent = (sigma_2 - sigma_prime) / (sigma_2 - sigma_1)\n",
        "    exponent2upper = 2 * (sigma - sigma_1)\n",
        "\n",
        "    D4prime_value = D4prime(X)\n",
        "    C31_value_s = C3(T2, alpha, beta, a_second, a_i_values_second, b_second, b_i_values_second, compute_second_d_i(X, D1, D2), printing-1)\n",
        "    C31_times_D4_prime = C31_value_s * D4prime_value\n",
        "    result1_s= (C31_times_D4_prime) ** exponent\n",
        "    D6_value = D6(delta, X)\n",
        "    D_5_value = D5(delta, X)\n",
        "    C32_value = C3(T2, alpha, beta, a_prime, a_i_prime_values, b_prime, b_i_prime_values, compute_d_i_second(X, D5, D6, delta),printing-1)\n",
        "    C32_times_D6 = C32_value * D6_value\n",
        "    result2breve = (C32_times_D6) ** exponent2upper\n",
        "    breve_C5_value_second = result1_s * result2breve\n",
        "    return breve_C5_value_second\n",
        "\n",
        "breve_C5_second(sigma, alpha, beta, delta_2, a_second, a_i_values_second, b_second, b_i_values_second, compute_second_d_i(X, D1, D2),\n",
        "              a_prime, a_i_prime_values, b_prime, b_i_prime_values, compute_d_i_second(X, D5, D6, delta), T2,2)"
      ],
      "metadata": {
        "colab": {
          "base_uri": "https://localhost:8080/"
        },
        "outputId": "bc699198-c444-4925-e8af-c8dc5f783c3d",
        "id": "wqAtWgT9DeOj"
      },
      "execution_count": null,
      "outputs": [
        {
          "output_type": "stream",
          "name": "stdout",
          "text": [
            "C3_value is 5.15234699639508\n",
            "C3_value is 42.38082568387099\n"
          ]
        },
        {
          "output_type": "execute_result",
          "data": {
            "text/plain": [
              "mpf('43.846885865917322')"
            ]
          },
          "metadata": {},
          "execution_count": 278
        }
      ]
    },
    {
      "cell_type": "markdown",
      "source": [
        "#DEFINITION OF \\hat{C5}:"
      ],
      "metadata": {
        "id": "DaOFDT4idKXv"
      }
    },
    {
      "cell_type": "code",
      "source": [
        "sigma_1_prime = 0.9\n",
        "sigma_2_prime = 0.9"
      ],
      "metadata": {
        "id": "9JSZiQCRVZ7d"
      },
      "execution_count": null,
      "outputs": []
    },
    {
      "cell_type": "code",
      "source": [
        "def hatC5(sigma_1_prime, sigma_2_prime, alpha, beta, delta, delta_2, a, a_i, b, b_i, d_i,\n",
        "              a_prime, a_i_prime, b_prime, b_i_prime, d_i_prime, T2,printing=0):\n",
        "    \"\"\"\n",
        "    Function to compute hat_C5 based on the conditional logic provided:\n",
        "    If A2 >= A1, it computes bre_C5(sigma_prime_2, T0, delta1, delta2).\n",
        "    Otherwise, it computes tilde_C5(sigma_prime_1, T0, delta1, delta2).\n",
        "    \"\"\"\n",
        "    X=T2\n",
        "    sigma_2 = 1 + (delta / np.log(X))\n",
        "    sigma_1 = 0.5\n",
        "\n",
        "    D4_value = D4(X)\n",
        "    C31_value = C3(T2, alpha, beta, a, a_i_values, b, b_i_values, compute_d_i(X, D1, D2), printing-1)\n",
        "    C31_times_D4 = C31_value * D4_value\n",
        "    D6_value = D6(delta, X)\n",
        "    D_5_value = D5(delta, X)\n",
        "    C32_value = C3(T2, alpha, beta, a_prime, a_i_prime_values, b_prime, b_i_prime_values, compute_d_i_second(X, D5, D6, delta), printing-1)\n",
        "    C32_times_D6 = C32_value * D6_value\n",
        "\n",
        "    if C32_times_D6 >= C31_times_D4:\n",
        "        sigma_prime = sigma_2_prime - (delta_2 / np.log(T2))\n",
        "        exponent = (sigma_2 - sigma_prime) / (sigma_2 - sigma_1)\n",
        "        exponent2upper = 2 * (sigma_2_prime - sigma_1)\n",
        "        breve_C5_value = ((C31_times_D4) ** exponent) * ((C32_times_D6) ** exponent2upper)\n",
        "        return breve_C5_value\n",
        "    else:\n",
        "        sigma_prime = sigma_1_prime - (delta_2 / np.log(T2))\n",
        "        exponent = (sigma_2 - sigma_prime) / (sigma_2 - sigma_1)\n",
        "        exponent2 = (sigma_prime - sigma_1) / (sigma_2 - sigma_1)\n",
        "        tilde_C5_value = ((C31_times_D4) ** exponent) * ((C32_times_D6) ** exponent2)\n",
        "        return tilde_C5_value\n",
        "\n",
        "\n",
        "\n",
        "hatC5_value = hatC5(sigma_1_prime, sigma_2_prime, alpha, beta, delta, delta_2, a, a_i_values, b, b_i_values, compute_d_i(X, D1, D2),\n",
        "              a_prime, a_i_prime_values, b_prime, b_i_prime_values, compute_d_i_second(X, D5, D6, delta), T2,2)\n",
        "\n",
        "print(f\"The result for hatC5 is: {hatC5_value}\")"
      ],
      "metadata": {
        "colab": {
          "base_uri": "https://localhost:8080/"
        },
        "id": "iW9eaPnvRYo-",
        "outputId": "0b8b4e7d-de06-4ae0-f3f5-9e9d83771595"
      },
      "execution_count": null,
      "outputs": [
        {
          "output_type": "stream",
          "name": "stdout",
          "text": [
            "C3_value is 5.473783347188228\n",
            "C3_value is 42.38082568387099\n",
            "The result for hatC5 is: 4.5592632151091665\n"
          ]
        }
      ]
    },
    {
      "cell_type": "code",
      "source": [
        "def hatC5_second(sigma_1_prime, sigma_2_prime, alpha, beta, delta, delta_2, a, a_i, b, b_i, d_i,\n",
        "              a_prime, a_i_prime, b_prime, b_i_prime, d_i_prime, T2,printing=0):\n",
        "    \"\"\"\n",
        "    Function to compute hat_C5 based on the conditional logic provided:\n",
        "    If A2 >= A1, it computes bre_C5(sigma_prime_2, T0, delta1, delta2).\n",
        "    Otherwise, it computes tilde_C5(sigma_prime_1, T0, delta1, delta2).\n",
        "    \"\"\"\n",
        "    X=T2\n",
        "    sigma_2 = 1 + (delta / np.log(X))\n",
        "    sigma_1 = 0.5\n",
        "\n",
        "    D4prime_value = D4prime(X)\n",
        "    C31_value_s = C3(T2, alpha, beta, a_second, a_i_values_second, b_second, b_i_values_second, compute_second_d_i(X, D1, D2), printing-1)\n",
        "    C31_times_D4_prime = C31_value_s * D4prime_value\n",
        "    D6_value = D6(delta, X)\n",
        "    D_5_value = D5(delta, X)\n",
        "    C32_value = C3(T2, alpha, beta, a_prime, a_i_prime_values, b_prime, b_i_prime_values, compute_d_i_second(X, D5, D6, delta), printing-1)\n",
        "    C32_times_D6 = C32_value * D6_value\n",
        "\n",
        "    if C32_times_D6 >= C31_times_D4_prime:\n",
        "        sigma_prime = sigma_2_prime - (delta_2 / np.log(T2))\n",
        "        exponent = (sigma_2 - sigma_prime) / (sigma_2 - sigma_1)\n",
        "        exponent2upper = 2 * (sigma_2_prime - sigma_1)\n",
        "        breve_C5_value_second = ((C31_times_D4_prime) ** exponent) * ((C32_times_D6) ** exponent2upper)\n",
        "        return breve_C5_value_second\n",
        "    else:\n",
        "        sigma_prime = sigma_1_prime - (delta_2 / np.log(T2))\n",
        "        exponent = (sigma_2 - sigma_prime) / (sigma_2 - sigma_1)\n",
        "        exponent2 = (sigma_prime - sigma_1) / (sigma_2 - sigma_1)\n",
        "        tilde_C5_value_second = ((C31_times_D4_prime) ** exponent) * ((C32_times_D6) ** exponent2)\n",
        "        return tilde_C5_value_second\n",
        "\n",
        "\n",
        "\n",
        "hatC5_value_second = hatC5_second(sigma_1_prime, sigma_2_prime, alpha, beta, delta, delta_2, a_second, a_i_values_second, b_second, b_i_values_second, compute_second_d_i(X, D1, D2),\n",
        "              a_prime, a_i_prime_values, b_prime, b_i_prime_values, compute_d_i_second(X, D5, D6, delta), T2,2)\n",
        "\n",
        "print(f\"The result for hatC5 is: {hatC5_value_second}\")"
      ],
      "metadata": {
        "colab": {
          "base_uri": "https://localhost:8080/"
        },
        "outputId": "4aa7e5e6-e23d-4217-85ac-42e6cc8a1675",
        "id": "dNj84n12EeW0"
      },
      "execution_count": null,
      "outputs": [
        {
          "output_type": "stream",
          "name": "stdout",
          "text": [
            "C3_value is 5.15234699639508\n",
            "C3_value is 42.38082568387099\n",
            "The result for hatC5 is: 40.546976909836\n"
          ]
        }
      ]
    },
    {
      "cell_type": "markdown",
      "source": [
        "# Define C1 as in equation 4.18"
      ],
      "metadata": {
        "id": "BWzlnuuusiTU"
      }
    },
    {
      "cell_type": "code",
      "source": [
        "def C1(sigma, T2, alpha, beta):\n",
        "      C1_value = np.exp(alpha * (sigma / T2)**beta)\n",
        "      return C1_value\n",
        "C1_value1 = C1(sigma_1, T2, alpha, beta)\n",
        "C1_value2 = C1(sigma_2, T2, alpha, beta)\n",
        "print(f\"The result for C1 on half line is: {C1_value1}\")\n",
        "print(f\"The result for C1 on sigma2 is: {C1_value2}\")\n",
        "C1_value1 ** exponent\n",
        "C1_value2 ** exponent2"
      ],
      "metadata": {
        "colab": {
          "base_uri": "https://localhost:8080/"
        },
        "id": "njimh5KbV8X4",
        "outputId": "3b96cdb3-ee6e-46e2-9c45-0fc4f4f6a90e"
      },
      "execution_count": null,
      "outputs": [
        {
          "output_type": "stream",
          "name": "stdout",
          "text": [
            "The result for C1 on half line is: 1.0\n",
            "The result for C1 on sigma2 is: 1.0\n"
          ]
        },
        {
          "output_type": "execute_result",
          "data": {
            "text/plain": [
              "1.0"
            ]
          },
          "metadata": {},
          "execution_count": 282
        }
      ]
    },
    {
      "cell_type": "markdown",
      "source": [
        "# Define C2 as in equation 4.18"
      ],
      "metadata": {
        "id": "khLLSxNOsq24"
      }
    },
    {
      "cell_type": "code",
      "source": [
        "T1 = 3 * 1e12\n",
        "def C2(sigma, T1, T2, alpha):\n",
        "      C2_value = ((1 - (1 / T1))**2) * np.exp((alpha * (sigma / T2)**2) - alpha)\n",
        "      return C2_value\n",
        "C2_value = C2(sigma, T1, T2, alpha)\n",
        "print(f\"The result for C2 is: {C2_value}\")"
      ],
      "metadata": {
        "colab": {
          "base_uri": "https://localhost:8080/"
        },
        "id": "g0tGJsDxX9WU",
        "outputId": "c611a269-5791-4730-9df3-4a8335b3a633"
      },
      "execution_count": null,
      "outputs": [
        {
          "output_type": "stream",
          "name": "stdout",
          "text": [
            "The result for C2 is: 0.7858416263878217\n"
          ]
        }
      ]
    },
    {
      "cell_type": "markdown",
      "source": [
        "#DEFINITION OF C4"
      ],
      "metadata": {
        "id": "wtX2s6r1n8m5"
      }
    },
    {
      "cell_type": "code",
      "source": [
        "# Define C4 as in equation 4.84\n",
        "def C4(sigma, T2, T1, alpha, beta, delta, delta_2,printing=0):\n",
        "    X=T2\n",
        "    sigma_2 = 1 + (delta / np.log(X))\n",
        "    sigma_1 = 0.5\n",
        "    sigma_prime = sigma - (delta_2 / np.log(T2))\n",
        "    exponent = (sigma_2 - sigma_prime) / (sigma_2 - sigma_1)\n",
        "    exponent2 = (sigma_prime - sigma_1) / (sigma_2 - sigma_1)\n",
        "\n",
        "    C2_value = C2(sigma_prime, T1, T2, alpha)\n",
        "    C1_value1 = C1(sigma_1, T2, alpha, beta)\n",
        "    C1_value2 = C1(sigma_2, T2, alpha, beta)\n",
        "\n",
        "    C4_value =  (alpha * beta * (C1_value1**exponent) *  (C1_value2**exponent2)) / C2_value\n",
        "    return C4_value\n",
        "\n",
        "\n",
        "C4_value = C4(sigma, T2, T1, alpha, beta, delta, delta_2,2)\n",
        "print(f\"The result for C4 is: {C4_value}\")"
      ],
      "metadata": {
        "colab": {
          "base_uri": "https://localhost:8080/"
        },
        "id": "Gb8SNzcmTbf4",
        "outputId": "30b34c7f-338e-4b94-dc75-ae7b21a17d4f"
      },
      "execution_count": null,
      "outputs": [
        {
          "output_type": "stream",
          "name": "stdout",
          "text": [
            "The result for C4 is: 0.6133551390189752\n"
          ]
        }
      ]
    },
    {
      "cell_type": "markdown",
      "source": [
        "#DEFINITION OF \\HAT{C4}:(MAX OF C4):"
      ],
      "metadata": {
        "id": "9gBRO2Glz6q4"
      }
    },
    {
      "cell_type": "code",
      "source": [
        "def hatC4(sigma_1_prime, sigma_2_prime,T2, T1, alpha, beta,  delta, delta_2,printing=0):\n",
        "    hatC4_value = ((1 - (1 / T1))**-(2)) * alpha * beta * np.exp(alpha) * np.exp((alpha/(4*T2)) * (sigma_1_prime + sigma_2_prime)**2)\n",
        "    return hatC4_value\n",
        "\n",
        "hatC4_value = hatC4(sigma_1_prime, sigma_2_prime, T2, T1, alpha, beta, delta, delta_2,2)\n",
        "print(f\"The result for hatC4 is: {hatC4_value}\")"
      ],
      "metadata": {
        "colab": {
          "base_uri": "https://localhost:8080/"
        },
        "id": "iiYwPkeKTy04",
        "outputId": "1a5c274e-a2c3-4803-94e5-4b7e78c4f9b6"
      },
      "execution_count": null,
      "outputs": [
        {
          "output_type": "stream",
          "name": "stdout",
          "text": [
            "The result for hatC4 is: 0.6133551390190151\n"
          ]
        }
      ]
    },
    {
      "cell_type": "markdown",
      "source": [
        "#DEFINITION OF C6:"
      ],
      "metadata": {
        "id": "9LPVOA1iuPi-"
      }
    },
    {
      "cell_type": "code",
      "source": [
        "# Define C6 as in equation 4.84\n",
        "def C6(sigma, T2, a, a_prime, b, b_prime, delta, delta_2,printing=0):\n",
        "\n",
        "    sigma_prime = sigma - (delta_2 / np.log(T2))\n",
        "    sigma_2 = 1 + (delta / np.log(T2))\n",
        "    sigma_1 = 0.5\n",
        "    exponent = (sigma_2 - sigma_prime) / (sigma_2 - sigma_1)\n",
        "    exponent2 = (sigma_prime - sigma_1) / (sigma_2 - sigma_1)\n",
        "\n",
        "    numerator = (\n",
        "        T2 ** ((a * exponent) + ((a_prime - 1) * exponent2)) *\n",
        "        (np.log(T2) ** (((b + 1) * exponent) + ((b_prime + 2) * exponent2)))\n",
        "    )\n",
        "\n",
        "    # Denominator\n",
        "    denominator = (\n",
        "        T2 ** ((2 * a * (1 - sigma)) + ((a_prime - 1) * (2 * sigma - 1))) *\n",
        "        (np.log(T2) ** ((2 * (b + 1) * (1 - sigma)) + ((b_prime + 2) * (2 * sigma - 1))))\n",
        "    )\n",
        "    C6_value =  numerator / denominator\n",
        "    return C6_value\n",
        "\n",
        "\n",
        "C6_value = C6(sigma, T2, a, a_prime, b, b_prime, delta, delta_2,2)\n",
        "print(f\"The result for C6 is: {C6_value}\")"
      ],
      "metadata": {
        "colab": {
          "base_uri": "https://localhost:8080/"
        },
        "id": "8HcNHq6rVySV",
        "outputId": "87046d07-ba79-4c78-ef90-179936907265"
      },
      "execution_count": null,
      "outputs": [
        {
          "output_type": "stream",
          "name": "stdout",
          "text": [
            "The result for C6 is: 6.081378015582197\n"
          ]
        }
      ]
    },
    {
      "cell_type": "code",
      "source": [
        "# Define C6 as in equation 4.84\n",
        "def C6_second(sigma, T2, a, a_prime, b, b_prime, delta, delta_2,printing=0):\n",
        "\n",
        "    sigma_prime = sigma - (delta_2 / np.log(T2))\n",
        "    sigma_2 = 1 + (delta / np.log(T2))\n",
        "    sigma_1 = 0.5\n",
        "    exponent = (sigma_2 - sigma_prime) / (sigma_2 - sigma_1)\n",
        "    exponent2 = (sigma_prime - sigma_1) / (sigma_2 - sigma_1)\n",
        "\n",
        "    numerator = (\n",
        "        T2 ** ((a_second * exponent) + ((a_prime - 1) * exponent2)) *\n",
        "        (np.log(T2) ** (((b_second + 1) * exponent) + ((b_prime + 2) * exponent2)))\n",
        "    )\n",
        "\n",
        "    # Denominator\n",
        "    denominator = (\n",
        "        T2 ** ((2 * a_second * (1 - sigma)) + ((a_prime - 1) * (2 * sigma - 1))) *\n",
        "        (np.log(T2) ** ((2 * (b_second + 1) * (1 - sigma)) + ((b_prime + 2) * (2 * sigma - 1))))\n",
        "    )\n",
        "    C6_value_second =  numerator / denominator\n",
        "    return C6_value_second\n",
        "\n",
        "\n",
        "C6_value_second = C6_second(sigma, T2, a_second, a_prime, b_second, b_prime, delta, delta_2,2)\n",
        "print(f\"The result for C6 is: {C6_value_second}\")"
      ],
      "metadata": {
        "colab": {
          "base_uri": "https://localhost:8080/"
        },
        "outputId": "50c37b90-efbd-492c-fce7-231ebbe73f9d",
        "id": "siTOMWfLI0i-"
      },
      "execution_count": null,
      "outputs": [
        {
          "output_type": "stream",
          "name": "stdout",
          "text": [
            "The result for C6 is: 4.523043019837011\n"
          ]
        }
      ]
    },
    {
      "cell_type": "markdown",
      "source": [
        "#breveC6:"
      ],
      "metadata": {
        "id": "PwZB2Wm4JGMo"
      }
    },
    {
      "cell_type": "code",
      "source": [
        "def breveC6(sigma_prime, T2, a, a_prime, delta, delta_2,printing=0):\n",
        "    sigma_prime = sigma - (delta_2 / np.log(T2))\n",
        "    breveC6_value = np.exp((1+a-a_prime) * (2 * delta * (2* sigma_prime -1) + 2 * delta_2))\n",
        "    return breveC6_value\n",
        "\n",
        "\n",
        "breveC6_value = breveC6(sigma, T2, a, a_prime, delta, delta_2,2)\n",
        "print(f\"The result for breveC6 is: {breveC6_value}\")"
      ],
      "metadata": {
        "colab": {
          "base_uri": "https://localhost:8080/"
        },
        "id": "8L_UPNm-o-rz",
        "outputId": "e85b99c5-db06-4348-ba8f-33a33d4dd285"
      },
      "execution_count": null,
      "outputs": [
        {
          "output_type": "stream",
          "name": "stdout",
          "text": [
            "The result for breveC6 is: 5.354529565142544\n"
          ]
        }
      ]
    },
    {
      "cell_type": "code",
      "source": [
        "def breveC6_second(sigma_prime, T2, a, a_prime, delta, delta_2,printing=0):\n",
        "    sigma_prime = sigma - (delta_2 / np.log(T2))\n",
        "    breveC6_value_second = np.exp((1+a_second-a_prime) * (2 * delta * (2* sigma_prime -1) + 2 * delta_2))\n",
        "    return breveC6_value_second\n",
        "\n",
        "\n",
        "breveC6_value_second = breveC6_second(sigma, T2, a_second, a_prime, delta, delta_2,2)\n",
        "print(f\"The result for breveC6 is: {breveC6_value_second}\")"
      ],
      "metadata": {
        "colab": {
          "base_uri": "https://localhost:8080/"
        },
        "id": "RXOXaQJeJLxX",
        "outputId": "00365075-5796-4c03-c7e2-7fe03d99cd63"
      },
      "execution_count": null,
      "outputs": [
        {
          "output_type": "stream",
          "name": "stdout",
          "text": [
            "The result for breveC6 is: 5.32720745359925\n"
          ]
        }
      ]
    },
    {
      "cell_type": "markdown",
      "source": [
        "#DEFINITION OF HAT_C6"
      ],
      "metadata": {
        "id": "eGcumhZ60jvB"
      }
    },
    {
      "cell_type": "code",
      "source": [
        "def hatC6(sigma_1_prime, sigma_2_prime, a, a_prime, b, b_prime, delta, delta_2, T2,printing=0):\n",
        "    \"\"\"\n",
        "    Function to compute hat_C6 based on the conditional logic provided:\n",
        "    If b-b_prime > 1, it computes C6(sigma_2_prime, T2, a, a_prime, b, b_prime).\n",
        "    Otherwise, it computes breveC6(sigma_1_prime, T2, a, a_prime, delta, delta_2).\n",
        "\n",
        "    C6_value = C6(sigma_prime, T2, a, a_prime, b, b_prime)\n",
        "    breveC6_value = breveC6(sigma_1_prime, T2, a, a_prime, delta, delta_2)\n",
        "    Returns:\n",
        "         Value of \\(\\hat{C_6}\\).\n",
        "    \"\"\"\n",
        "    if b-b_prime > 1:\n",
        "        return  C6(sigma_2_prime, T2, a, a_prime, b, b_prime, delta, delta_2,printing-1)\n",
        "    else:\n",
        "        return breveC6(sigma_2_prime, T2, a, a_prime, delta, delta_2)\n",
        "hatC6_value = hatC6(sigma_1_prime, sigma_2_prime, a, a_prime, b, b_prime,delta, delta_2, T2,2)\n",
        "print(f\"The result for hatC6 is: {hatC6_value}\")"
      ],
      "metadata": {
        "colab": {
          "base_uri": "https://localhost:8080/"
        },
        "outputId": "d737b0d6-c090-47a3-f2e0-3038f0200352",
        "id": "-Oe6XCjnerJO"
      },
      "execution_count": null,
      "outputs": [
        {
          "output_type": "stream",
          "name": "stdout",
          "text": [
            "The result for hatC6 is: 6.081378015582197\n"
          ]
        }
      ]
    },
    {
      "cell_type": "code",
      "source": [
        "def hatC6_second(sigma_1_prime, sigma_2_prime, a, a_prime, b, b_prime, delta, delta_2, T2,printing=0):\n",
        "    \"\"\"\n",
        "    Function to compute hat_C6 based on the conditional logic provided:\n",
        "    If b-b_prime > 1, it computes C6_second(sigma_2_prime, T2, a_second, a_prime, b_second, b_prime).\n",
        "    Otherwise, it computes breveC6(sigma_1_prime, T2, a_second, a_prime, delta, delta_2).\n",
        "\n",
        "    C6_value_second = C6_second(sigma_prime, T2, a_second, a_prime, b_second, b_prime)\n",
        "    breveC6_value_second = breveC6_second(sigma_1_prime, T2, a_second, a_prime, delta, delta_2)\n",
        "    Returns:\n",
        "         Value of \\(\\hat{C_6_second}\\).\n",
        "    \"\"\"\n",
        "    if b-b_prime > 1:\n",
        "        return  C6_second(sigma_2_prime, T2, a_second, a_prime, b_second, b_prime, delta, delta_2,printing-1)\n",
        "    else:\n",
        "        return breveC6_second(sigma_2_prime, T2, a_second, a_prime, delta, delta_2)\n",
        "hatC6_value_second = hatC6_second(sigma_1_prime, sigma_2_prime, a_second, a_prime, b_second, b_prime,delta, delta_2, T2,2)\n",
        "print(f\"The result for hatC6 is: {hatC6_value_second}\")"
      ],
      "metadata": {
        "colab": {
          "base_uri": "https://localhost:8080/"
        },
        "outputId": "7a43f7e3-450c-49fe-8794-39f78c3d218c",
        "id": "R4FDan_PKDE6"
      },
      "execution_count": null,
      "outputs": [
        {
          "output_type": "stream",
          "name": "stdout",
          "text": [
            "The result for hatC6 is: 5.32720745359925\n"
          ]
        }
      ]
    },
    {
      "cell_type": "code",
      "source": [
        "def U(sigma_1_prime, sigma_2_prime, alpha, beta, delta, delta_2, T2, a, a_i_values, b, b_i_values, compute_d_i, D1, D2,\n",
        "              a_prime, a_i_prime_values, b_prime, b_i_prime_values, compute_d_i_second, printing=0):\n",
        "    hatC4_value = hatC4(sigma_1_prime, sigma_2_prime, T2, T1, alpha, beta,delta, delta_2, printing-1)\n",
        "    hatC5_value = hatC5(sigma_1_prime, sigma_2_prime, alpha, beta, delta, delta_2, a, a_i_values, b, b_i_values, compute_d_i(X, D1, D2),\n",
        "              a_prime, a_i_prime_values, b_prime, b_i_prime_values, compute_d_i_second(X, D5, D6, delta), T2,printing-1)\n",
        "    hatC6_value = hatC6(sigma_1_prime, sigma_2_prime, a, a_prime, b, b_prime,delta, delta_2, T2,printing-1)\n",
        "    U_value = ((hatC4_value * hatC5_value * hatC6_value)/(2 * np.pi * delta_2))\n",
        "    if printing>0:\n",
        "        print(f\"hatC4_value is: {hatC4_value}\")\n",
        "        print(f\"hatC5_value is: {hatC5_value}\")\n",
        "        print(f\"hatC6_value is: {hatC6_value}\")\n",
        "    return U_value\n",
        "\n",
        "U_value = U(sigma_1_prime, sigma_2_prime, alpha, beta, delta, delta_2, T2, a, a_i_values, b, b_i_values, compute_d_i,D1, D2,\n",
        "              a_prime, a_i_prime_values, b_prime, b_i_prime_values,compute_d_i_second,2)\n",
        "print(f\"The result for U is: {U_value}\")"
      ],
      "metadata": {
        "colab": {
          "base_uri": "https://localhost:8080/"
        },
        "id": "PipRC5sqXlgF",
        "outputId": "0328d556-77c2-45ee-af2b-2f71b01be7b0"
      },
      "execution_count": null,
      "outputs": [
        {
          "output_type": "stream",
          "name": "stdout",
          "text": [
            "hatC4_value is: 0.6133551390190151\n",
            "hatC5_value is: 4.5592632151091665\n",
            "hatC6_value is: 6.081378015582197\n",
            "The result for U is: 7.733227043952999\n"
          ]
        }
      ]
    },
    {
      "cell_type": "code",
      "source": [
        "def U_second(sigma_1_prime, sigma_2_prime, alpha, beta, delta, delta_2, T2, a, a_i_values, b, b_i_values, compute_d_i, D1, D2,\n",
        "              a_prime, a_i_prime_values, b_prime, b_i_prime_values, compute_d_i_second, printing=0):\n",
        "    hatC4_value = hatC4(sigma_1_prime, sigma_2_prime, T2, T1, alpha, beta,delta, delta_2, printing-1)\n",
        "    hatC5_value_second = hatC5_second(sigma_1_prime, sigma_2_prime, alpha, beta, delta, delta_2, a_second, a_i_values_second, b_second, b_i_values_second, compute_second_d_i(X, D1, D2),\n",
        "              a_prime, a_i_prime_values, b_prime, b_i_prime_values, compute_d_i_second(X, D5, D6, delta), T2,printing-1)\n",
        "    hatC6_value_second = hatC6_second(sigma_1_prime, sigma_2_prime, a_second, a_prime, b_second, b_prime,delta, delta_2, T2,printing-1)\n",
        "    U_value_second = ((hatC4_value * hatC5_value_second * hatC6_value_second)/(2 * np.pi * delta_2))\n",
        "    if printing>0:\n",
        "        print(f\"hatC4_value is: {hatC4_value}\")\n",
        "        print(f\"hatC5_value is: {hatC5_value_second}\")\n",
        "        print(f\"hatC6_value is: {hatC6_value_second}\")\n",
        "    return U_value_second\n",
        "\n",
        "U_value_second = U_second(sigma_1_prime, sigma_2_prime, alpha, beta, delta, delta_2, T2, a_second, a_i_values_second, b_second, b_i_values_second, compute_second_d_i,D1, D2,\n",
        "              a_prime, a_i_prime_values, b_prime, b_i_prime_values,compute_d_i_second,2)\n",
        "print(f\"The result for U is: {U_value_second}\")"
      ],
      "metadata": {
        "colab": {
          "base_uri": "https://localhost:8080/"
        },
        "outputId": "8a570812-5273-45cc-aae4-747210fb3e9d",
        "id": "5z7NM3-FK0Bj"
      },
      "execution_count": null,
      "outputs": [
        {
          "output_type": "stream",
          "name": "stdout",
          "text": [
            "hatC4_value is: 0.6133551390190151\n",
            "hatC5_value is: 40.546976909836\n",
            "hatC6_value is: 5.32720745359925\n",
            "The result for U is: 60.2451631663255\n"
          ]
        }
      ]
    },
    {
      "cell_type": "code",
      "source": [
        "# It takes three parameters: alpha, delta, and delta_2 and assumed the other parameters are fixed\n",
        "def U_partial(alpha, delta, delta_2):\n",
        "    return U(sigma_1_prime, sigma_2_prime, alpha, beta, delta, delta_2, T2, a, a_i_values, b, b_i_values, compute_d_i,D1, D2,\n",
        "              a_prime, a_i_prime_values, b_prime, b_i_prime_values,compute_d_i_second)\n",
        "\n",
        "\n",
        "lambdaoptX = lambda ADD: U_partial(ADD[0], ADD[1], ADD[2])\n",
        "\n",
        "# Initial guess for [alpha, delta, delta_2]\n",
        "initial_guess = [0.15, 0.33, 0.33]\n",
        "\n",
        "\n",
        "bounds = [(0.001, 1), (0, 1), (0, 1)]\n",
        "\n",
        "result = minimize(lambdaoptX, initial_guess, bounds=bounds, method='L-BFGS-B')\n",
        "\n",
        "optimal_params = result.x\n",
        "optimal_U = result.fun\n",
        "\n",
        "print(f\"Optimal parameters: alpha={optimal_params[0]}, delta={optimal_params[1]}, delta_2={optimal_params[2]}\")\n",
        "print(f\"Minimum value of U: {optimal_U}\")"
      ],
      "metadata": {
        "id": "cB2yvLIHf6Wp",
        "colab": {
          "base_uri": "https://localhost:8080/"
        },
        "outputId": "7ffe8aaa-d4a6-45c7-e188-89408aa00eaa"
      },
      "execution_count": null,
      "outputs": [
        {
          "output_type": "stream",
          "name": "stdout",
          "text": [
            "Optimal parameters: alpha=0.2419871507835905, delta=0.36641375030212875, delta_2=0.3511175514777831\n",
            "Minimum value of U: 7.732290624302065\n"
          ]
        }
      ]
    },
    {
      "cell_type": "code",
      "source": [
        "# It takes three parameters: alpha, delta, and delta_2 and assumed the other parameters are fixed\n",
        "def U_partial_second(alpha, delta, delta_2):\n",
        "    return U_second(sigma_1_prime, sigma_2_prime, alpha, beta, delta, delta_2, T2, a_second, a_i_values_second, b_second, b_i_values_second, compute_second_d_i,D1, D2,\n",
        "              a_prime, a_i_prime_values, b_prime, b_i_prime_values,compute_d_i_second)\n",
        "\n",
        "\n",
        "lambdaoptX_s = lambda ADD: U_partial_second(ADD[0], ADD[1], ADD[2])\n",
        "\n",
        "# Initial guess for [alpha, delta, delta_2]\n",
        "initial_guess = [0.15, 0.33, 0.33]\n",
        "\n",
        "\n",
        "bounds = [(0.001, 1), (0.01, 1), (0.01, 1)]\n",
        "\n",
        "resultsecond = minimize(lambdaoptX_s, initial_guess, bounds=bounds, method='L-BFGS-B')\n",
        "\n",
        "optimal_params_s = resultsecond.x\n",
        "optimal_U_second = resultsecond.fun\n",
        "\n",
        "print(f\"Optimal parameters: alpha={optimal_params[0]}, delta={optimal_params[1]}, delta_2={optimal_params[2]}\")\n",
        "print(f\"Minimum value of U: {optimal_U_second}\")"
      ],
      "metadata": {
        "colab": {
          "base_uri": "https://localhost:8080/"
        },
        "outputId": "8521de91-59b1-4e93-8e22-496a04469089",
        "id": "0r3cptgxMKq8"
      },
      "execution_count": null,
      "outputs": [
        {
          "output_type": "stream",
          "name": "stdout",
          "text": [
            "Optimal parameters: alpha=0.2419871507835905, delta=0.36641375030212875, delta_2=0.3511175514777831\n",
            "Minimum value of U: 58.9469358669482\n"
          ]
        }
      ]
    },
    {
      "cell_type": "code",
      "source": [
        "sigma_1_prime_values_1 = np.arange(0.75, 0.99, 0.01)\n",
        "sigma_1_prime_values_2 = np.arange(0.990, 1.000, 0.001)\n",
        "\n",
        "# Here we combine both ranges\n",
        "sigma_1_prime_values = np.concatenate((sigma_1_prime_values_1, sigma_1_prime_values_2))\n",
        "\n",
        "# Generate corresponding sigma_2' values(need it after 0.99)\n",
        "sigma_2_prime_values = np.array([\n",
        "    s1 + (0.01 if s1 < 0.99 else 0.001) for s1 in sigma_1_prime_values\n",
        "])\n",
        "\n",
        "# sigma_2' should be less than 1\n",
        "valid_indices = sigma_2_prime_values <= 1\n",
        "sigma_1_prime_values = sigma_1_prime_values[valid_indices]\n",
        "sigma_2_prime_values = sigma_2_prime_values[valid_indices]\n",
        "\n",
        "results = []\n",
        "\n",
        "for sigma_1_prime, sigma_2_prime in zip(sigma_1_prime_values, sigma_2_prime_values):\n",
        "    def U_partial(alpha, delta, delta_2):\n",
        "        return U(sigma_1_prime, sigma_2_prime, alpha, beta, delta, delta_2, T2, a, a_i_values, b, b_i_values, compute_d_i, D1, D2,\n",
        "                  a_prime, a_i_prime_values, b_prime, b_i_prime_values, compute_d_i_second)\n",
        "\n",
        "    lambdaoptX = lambda ADD: U_partial(ADD[0], ADD[1], ADD[2])\n",
        "\n",
        "    initial_guess = [0.15, 0.33, 0.33]\n",
        "    bounds = [(0.001, 1), (0, 1), (0.1, 1)]\n",
        "\n",
        "    result = minimize(lambdaoptX, initial_guess, bounds=bounds, method='L-BFGS-B')\n",
        "\n",
        "    optimal_params = result.x\n",
        "    optimal_U = result.fun\n",
        "    results.append([sigma_1_prime, sigma_2_prime, optimal_params[0], optimal_params[1], optimal_params[2], optimal_U])\n",
        "\n",
        "columns = [\"Sigma_1'\", \"Sigma_2'\", \"Alpha\", \"Delta\", \"Delta_2\", \"Min U\"]\n",
        "df_results = pd.DataFrame(results, columns=columns)\n",
        "\n",
        "print(df_results)\n"
      ],
      "metadata": {
        "colab": {
          "base_uri": "https://localhost:8080/"
        },
        "id": "yXbyBYMrDqsc",
        "outputId": "6af51c87-4c3f-4eea-b2f8-5bd57951ec0f"
      },
      "execution_count": null,
      "outputs": [
        {
          "output_type": "stream",
          "name": "stdout",
          "text": [
            "    Sigma_1'  Sigma_2'     Alpha     Delta   Delta_2      Min U\n",
            "0      0.750     0.760  0.398079  0.381098  0.358549   3.637071\n",
            "1      0.760     0.770  0.386811  0.379884  0.358105   3.848096\n",
            "2      0.770     0.780  0.375555  0.378717  0.357650   4.069971\n",
            "3      0.780     0.790  0.364310  0.377590  0.357185   4.303122\n",
            "4      0.790     0.800  0.353077  0.376495  0.356707   4.547981\n",
            "5      0.800     0.810  0.341859  0.375429  0.356220   4.804979\n",
            "6      0.810     0.820  0.330658  0.374386  0.355718   5.074545\n",
            "7      0.820     0.830  0.319477  0.373363  0.355203   5.357106\n",
            "8      0.830     0.840  0.308317  0.372354  0.354673   5.653082\n",
            "9      0.840     0.850  0.297181  0.371355  0.354126   5.962880\n",
            "10     0.850     0.860  0.286072  0.370364  0.353563   6.286897\n",
            "11     0.860     0.870  0.274994  0.369378  0.352982   6.625508\n",
            "12     0.870     0.880  0.263951  0.368393  0.352382   6.979067\n",
            "13     0.880     0.890  0.252947  0.367406  0.351761   7.347899\n",
            "14     0.890     0.900  0.241987  0.366413  0.351117   7.732291\n",
            "15     0.900     0.910  0.231077  0.365414  0.350450   8.132489\n",
            "16     0.910     0.920  0.220223  0.364403  0.349758   8.548691\n",
            "17     0.920     0.930  0.209432  0.363378  0.349037   8.981032\n",
            "18     0.930     0.940  0.198714  0.362337  0.348289   9.429578\n",
            "19     0.940     0.950  0.188078  0.361274  0.347508   9.894318\n",
            "20     0.950     0.960  0.177534  0.360188  0.346693  10.375145\n",
            "21     0.960     0.970  0.167096  0.359076  0.345841  10.871848\n",
            "22     0.970     0.980  0.156779  0.357933  0.344950  11.384094\n",
            "23     0.980     0.990  0.146600  0.356755  0.344016  11.911417\n",
            "24     0.990     0.991  0.145590  0.356634  0.343920  11.964956\n",
            "25     0.991     0.992  0.144583  0.356515  0.343824  12.018639\n",
            "26     0.992     0.993  0.143576  0.356395  0.343727  12.072465\n",
            "27     0.993     0.994  0.142571  0.356274  0.343630  12.126434\n",
            "28     0.994     0.995  0.141568  0.356153  0.343533  12.180545\n",
            "29     0.995     0.996  0.140567  0.356031  0.343434  12.234796\n",
            "30     0.996     0.997  0.139567  0.355909  0.343336  12.289188\n",
            "31     0.997     0.998  0.138569  0.355786  0.343236  12.343719\n",
            "32     0.998     0.999  0.137573  0.355663  0.343137  12.398389\n",
            "33     0.999     1.000  0.136578  0.355540  0.343037  12.453196\n"
          ]
        }
      ]
    },
    {
      "cell_type": "code",
      "source": [
        "latex_table = df_results.to_latex(index=False, escape=False)\n",
        "\n",
        "print(latex_table)"
      ],
      "metadata": {
        "colab": {
          "base_uri": "https://localhost:8080/"
        },
        "id": "kGx-IHdTEU-b",
        "outputId": "1da719b3-c753-42c7-af38-257c30a2979e"
      },
      "execution_count": null,
      "outputs": [
        {
          "output_type": "stream",
          "name": "stdout",
          "text": [
            "\\begin{tabular}{rrrrrr}\n",
            "\\toprule\n",
            "Sigma_1' & Sigma_2' & Alpha & Delta & Delta_2 & Min U \\\\\n",
            "\\midrule\n",
            "0.750000 & 0.760000 & 0.398079 & 0.381098 & 0.358549 & 3.637071 \\\\\n",
            "0.760000 & 0.770000 & 0.386811 & 0.379884 & 0.358105 & 3.848096 \\\\\n",
            "0.770000 & 0.780000 & 0.375555 & 0.378717 & 0.357650 & 4.069971 \\\\\n",
            "0.780000 & 0.790000 & 0.364310 & 0.377590 & 0.357185 & 4.303122 \\\\\n",
            "0.790000 & 0.800000 & 0.353077 & 0.376495 & 0.356707 & 4.547981 \\\\\n",
            "0.800000 & 0.810000 & 0.341859 & 0.375429 & 0.356220 & 4.804979 \\\\\n",
            "0.810000 & 0.820000 & 0.330658 & 0.374386 & 0.355718 & 5.074545 \\\\\n",
            "0.820000 & 0.830000 & 0.319477 & 0.373363 & 0.355203 & 5.357106 \\\\\n",
            "0.830000 & 0.840000 & 0.308317 & 0.372354 & 0.354673 & 5.653082 \\\\\n",
            "0.840000 & 0.850000 & 0.297181 & 0.371355 & 0.354126 & 5.962880 \\\\\n",
            "0.850000 & 0.860000 & 0.286072 & 0.370364 & 0.353563 & 6.286897 \\\\\n",
            "0.860000 & 0.870000 & 0.274994 & 0.369378 & 0.352982 & 6.625508 \\\\\n",
            "0.870000 & 0.880000 & 0.263951 & 0.368393 & 0.352382 & 6.979067 \\\\\n",
            "0.880000 & 0.890000 & 0.252947 & 0.367406 & 0.351761 & 7.347899 \\\\\n",
            "0.890000 & 0.900000 & 0.241987 & 0.366413 & 0.351117 & 7.732291 \\\\\n",
            "0.900000 & 0.910000 & 0.231077 & 0.365414 & 0.350450 & 8.132489 \\\\\n",
            "0.910000 & 0.920000 & 0.220223 & 0.364403 & 0.349758 & 8.548691 \\\\\n",
            "0.920000 & 0.930000 & 0.209432 & 0.363378 & 0.349037 & 8.981032 \\\\\n",
            "0.930000 & 0.940000 & 0.198714 & 0.362337 & 0.348289 & 9.429578 \\\\\n",
            "0.940000 & 0.950000 & 0.188078 & 0.361274 & 0.347508 & 9.894318 \\\\\n",
            "0.950000 & 0.960000 & 0.177534 & 0.360188 & 0.346693 & 10.375145 \\\\\n",
            "0.960000 & 0.970000 & 0.167096 & 0.359076 & 0.345841 & 10.871848 \\\\\n",
            "0.970000 & 0.980000 & 0.156779 & 0.357933 & 0.344950 & 11.384094 \\\\\n",
            "0.980000 & 0.990000 & 0.146600 & 0.356755 & 0.344016 & 11.911417 \\\\\n",
            "0.990000 & 0.991000 & 0.145590 & 0.356634 & 0.343920 & 11.964956 \\\\\n",
            "0.991000 & 0.992000 & 0.144583 & 0.356515 & 0.343824 & 12.018639 \\\\\n",
            "0.992000 & 0.993000 & 0.143576 & 0.356395 & 0.343727 & 12.072465 \\\\\n",
            "0.993000 & 0.994000 & 0.142571 & 0.356274 & 0.343630 & 12.126434 \\\\\n",
            "0.994000 & 0.995000 & 0.141568 & 0.356153 & 0.343533 & 12.180545 \\\\\n",
            "0.995000 & 0.996000 & 0.140567 & 0.356031 & 0.343434 & 12.234796 \\\\\n",
            "0.996000 & 0.997000 & 0.139567 & 0.355909 & 0.343336 & 12.289188 \\\\\n",
            "0.997000 & 0.998000 & 0.138569 & 0.355786 & 0.343236 & 12.343719 \\\\\n",
            "0.998000 & 0.999000 & 0.137573 & 0.355663 & 0.343137 & 12.398389 \\\\\n",
            "0.999000 & 1.000000 & 0.136578 & 0.355540 & 0.343037 & 12.453196 \\\\\n",
            "\\bottomrule\n",
            "\\end{tabular}\n",
            "\n"
          ]
        }
      ]
    },
    {
      "cell_type": "code",
      "source": [
        "sigma_values = np.linspace(0.75, 0.99, 20)\n",
        "\n",
        "results = []\n",
        "\n",
        "for sigma in sigma_values:\n",
        "    sigma_1_prime = sigma_2_prime = sigma  #just for one point\n",
        "\n",
        "    def U_partial(alpha, delta, delta_2):\n",
        "        return U(sigma_1_prime, sigma_2_prime, alpha, beta, delta, delta_2, T2, a, a_i_values, b, b_i_values, compute_d_i, D1, D2,\n",
        "                  a_prime, a_i_prime_values, b_prime, b_i_prime_values, compute_d_i_second)\n",
        "\n",
        "    lambdaoptX = lambda ADD: U_partial(ADD[0], ADD[1], ADD[2])\n",
        "\n",
        "    initial_guess = [0.15, 0.33, 0.33]\n",
        "    bounds = [(0.001, 1), (0, 1), (0.1, 1)]\n",
        "\n",
        "    result = minimize(lambdaoptX, initial_guess, bounds=bounds, method='L-BFGS-B')\n",
        "\n",
        "    optimal_params = result.x\n",
        "    optimal_U = result.fun\n",
        "    results.append([sigma, optimal_params[0], optimal_params[1], optimal_params[2], optimal_U])\n",
        "\n",
        "columns = [\"Sigma\", \"Alpha\", \"Delta\", \"Delta_2\", \"Min U\"]\n",
        "df_results = pd.DataFrame(results, columns=columns)\n",
        "\n",
        "print(df_results)"
      ],
      "metadata": {
        "id": "xz-mUmCLf6UZ",
        "colab": {
          "base_uri": "https://localhost:8080/"
        },
        "outputId": "9d8e47c9-7533-4749-90d5-25db6afeec12"
      },
      "execution_count": null,
      "outputs": [
        {
          "output_type": "stream",
          "name": "stdout",
          "text": [
            "       Sigma     Alpha     Delta   Delta_2      Min U\n",
            "0   0.750000  0.409355  0.382366  0.358985   3.436473\n",
            "1   0.762632  0.395113  0.380774  0.358433   3.691576\n",
            "2   0.775263  0.380886  0.379264  0.357867   3.963493\n",
            "3   0.787895  0.366676  0.377824  0.357284   4.253079\n",
            "4   0.800526  0.352486  0.376438  0.356682   4.561201\n",
            "5   0.813158  0.338321  0.375097  0.356064   4.888727\n",
            "6   0.825789  0.324182  0.373792  0.355422   5.236522\n",
            "7   0.838421  0.310077  0.372512  0.354757   5.605440\n",
            "8   0.851053  0.296010  0.371250  0.354068   5.996311\n",
            "9   0.863684  0.281987  0.370000  0.353351   6.409931\n",
            "10  0.876316  0.268016  0.368756  0.352606   6.847048\n",
            "11  0.888947  0.254104  0.367510  0.351827   7.308346\n",
            "12  0.901579  0.240261  0.366256  0.351014   7.794423\n",
            "13  0.914211  0.226500  0.364988  0.350161   8.305772\n",
            "14  0.926842  0.212833  0.363703  0.349268   8.842754\n",
            "15  0.939474  0.199276  0.362392  0.348329   9.405566\n",
            "16  0.952105  0.185850  0.361047  0.347339   9.994213\n",
            "17  0.964737  0.172576  0.359665  0.346294  10.608464\n",
            "18  0.977368  0.159482  0.358236  0.345188  11.247809\n",
            "19  0.990000  0.146600  0.356755  0.344016  11.911417\n"
          ]
        }
      ]
    },
    {
      "cell_type": "code",
      "source": [
        "latex_table = df_results.to_latex(index=False, escape=False)\n",
        "\n",
        "print(latex_table)"
      ],
      "metadata": {
        "colab": {
          "base_uri": "https://localhost:8080/"
        },
        "id": "hznLVR2BUEMR",
        "outputId": "a3773bf0-722d-403d-ad6c-ed81712f1b5b"
      },
      "execution_count": null,
      "outputs": [
        {
          "output_type": "stream",
          "name": "stdout",
          "text": [
            "\\begin{tabular}{rrrrr}\n",
            "\\toprule\n",
            "Sigma & Alpha & Delta & Delta_2 & Min U \\\\\n",
            "\\midrule\n",
            "0.750000 & 0.409355 & 0.382366 & 0.358985 & 3.436473 \\\\\n",
            "0.762632 & 0.395113 & 0.380774 & 0.358433 & 3.691576 \\\\\n",
            "0.775263 & 0.380886 & 0.379264 & 0.357867 & 3.963493 \\\\\n",
            "0.787895 & 0.366676 & 0.377824 & 0.357284 & 4.253079 \\\\\n",
            "0.800526 & 0.352486 & 0.376438 & 0.356682 & 4.561201 \\\\\n",
            "0.813158 & 0.338321 & 0.375097 & 0.356064 & 4.888727 \\\\\n",
            "0.825789 & 0.324182 & 0.373792 & 0.355422 & 5.236522 \\\\\n",
            "0.838421 & 0.310077 & 0.372512 & 0.354757 & 5.605440 \\\\\n",
            "0.851053 & 0.296010 & 0.371250 & 0.354068 & 5.996311 \\\\\n",
            "0.863684 & 0.281987 & 0.370000 & 0.353351 & 6.409931 \\\\\n",
            "0.876316 & 0.268016 & 0.368756 & 0.352606 & 6.847048 \\\\\n",
            "0.888947 & 0.254104 & 0.367510 & 0.351827 & 7.308346 \\\\\n",
            "0.901579 & 0.240261 & 0.366256 & 0.351014 & 7.794423 \\\\\n",
            "0.914211 & 0.226500 & 0.364988 & 0.350161 & 8.305772 \\\\\n",
            "0.926842 & 0.212833 & 0.363703 & 0.349268 & 8.842754 \\\\\n",
            "0.939474 & 0.199276 & 0.362392 & 0.348329 & 9.405566 \\\\\n",
            "0.952105 & 0.185850 & 0.361047 & 0.347339 & 9.994213 \\\\\n",
            "0.964737 & 0.172576 & 0.359665 & 0.346294 & 10.608464 \\\\\n",
            "0.977368 & 0.159482 & 0.358236 & 0.345188 & 11.247809 \\\\\n",
            "0.990000 & 0.146600 & 0.356755 & 0.344016 & 11.911417 \\\\\n",
            "\\bottomrule\n",
            "\\end{tabular}\n",
            "\n"
          ]
        }
      ]
    },
    {
      "cell_type": "markdown",
      "source": [
        "#FOURTH INTEGRAL:"
      ],
      "metadata": {
        "id": "cggdSc_ZzQ5T"
      }
    },
    {
      "cell_type": "code",
      "source": [
        "def E2(X, tau):\n",
        "    term1 = (1 / (tau - 1)) * (((1/np.pi**2) * np.log(X)**3) + (0.745*np.log(X)**2) + (0.824*np.log(X)) + 0.461)\n",
        "    term2 = (1 / ((tau - 1)**3)) * (((6/np.pi**2) * np.log(X)) + 1.49)\n",
        "    term3 = (1 / ((tau - 1)**2)) * (((3/np.pi**2) * np.log(X)**2) + (1.49*np.log(X)) + 0.824)\n",
        "    term4 = (1 / ((tau - 1)**4)) * (6/np.pi**2)\n",
        "    term5 = (9.73 * X**(-1/4) * np.log(X)) / (tau - (3/4))\n",
        "    term6 = (9.73 * X**(-1/4)) / (tau - (3/4))**2\n",
        "    return (1 / X**(tau - 1)) * (term1 + term2 + term3 + term4 + term5 + term6)"
      ],
      "metadata": {
        "id": "YOMB93xGzQ5U"
      },
      "execution_count": 62,
      "outputs": []
    },
    {
      "cell_type": "code",
      "source": [
        "def E3(X, k):\n",
        "    term1 = (np.log(X) / (k * (np.log(X))**(k-1) * np.log(np.log(X)))) + (1 / (np.log(X))**(k-1))\n",
        "    term2 = 1 + (1 / (k * np.log(np.log(X)))) + (float(gamma) / np.log(X))\n",
        "    term3 = (7 * k * np.log(np.log(X))) / ((12 * X * np.log(X)) * (np.log(X) + k * np.log(np.log(X))))\n",
        "    return term1 * (term2 + term3)"
      ],
      "metadata": {
        "id": "TMNPyHZnzQ5U"
      },
      "execution_count": 61,
      "outputs": []
    },
    {
      "cell_type": "code",
      "source": [
        "E3(3e12, 1.6)"
      ],
      "metadata": {
        "colab": {
          "base_uri": "https://localhost:8080/"
        },
        "id": "qHkGZf-ZlL5m",
        "outputId": "ef4300a3-b0e1-4ee5-c0e5-81411117395f"
      },
      "execution_count": 23,
      "outputs": [
        {
          "output_type": "execute_result",
          "data": {
            "text/plain": [
              "1.0209868404249012"
            ]
          },
          "metadata": {},
          "execution_count": 23
        }
      ]
    },
    {
      "cell_type": "code",
      "source": [
        "X = 3e12"
      ],
      "metadata": {
        "id": "cAmBvRYdVUDV"
      },
      "execution_count": 16,
      "outputs": []
    },
    {
      "cell_type": "code",
      "source": [
        "import scipy.optimize as opt\n",
        "def equation_to_solve(k):\n",
        "    return 1 - E3(X, k)**2   # Solve for E3(k)^2 = 1\n",
        "#This is for finding the bound for eta\n",
        "try:\n",
        "    eta_bound = opt.root_scalar(equation_to_solve, bracket=[1.5, 5], method='brentq')\n",
        "    print(f\"Bound on eta: k > {eta_bound.root:.6f} to ensure 1 - E3 > 0\")\n",
        "except ValueError:\n",
        "    print(\"Could not find a valid bound for eta in the given range. Try adjusting the bracket.\")"
      ],
      "metadata": {
        "colab": {
          "base_uri": "https://localhost:8080/"
        },
        "id": "cPp3dfd0Uady",
        "outputId": "5e89fb34-9371-47b8-cec4-0fcce50700b5"
      },
      "execution_count": 22,
      "outputs": [
        {
          "output_type": "stream",
          "name": "stdout",
          "text": [
            "Bound on eta: k > 1.605219 to ensure 1 - E3 > 0\n"
          ]
        }
      ]
    },
    {
      "cell_type": "code",
      "source": [
        "def E4(k, X):\n",
        "    E3_value = E3(k, X)\n",
        "    return -np.log(1 - E3_value**2) / (E3_value**2)"
      ],
      "metadata": {
        "id": "fOMw4yaxzQ5U"
      },
      "execution_count": 57,
      "outputs": []
    },
    {
      "cell_type": "code",
      "source": [
        "#this is actuall the E5\n",
        "def E5(k, X):\n",
        "    mu = 1 + ((k * np.log(np.log(X))) / np.log(X))\n",
        "    E4_value = E4(k, X)\n",
        "    term1 = (X + 2 * np.pi * m0()) * E2(X, (2*mu))\n",
        "    term2 = 2 * np.pi * m0() * E2(X, (2*mu - 1))\n",
        "    term3 = k * np.log(np.log(X)) * np.log(X)**((2*k-4))\n",
        "    return (E4_value * (term1 + term2)) * term3"
      ],
      "metadata": {
        "id": "khEENHgglw7Y"
      },
      "execution_count": 56,
      "outputs": []
    },
    {
      "cell_type": "code",
      "source": [
        "#This is upper bound for the fourth integral:\n",
        "E5_value = E5(k, X)/(k * np.log(np.log(X)) * np.log(X)**((2*k-3)))\n",
        "print(f\"The result for E5 is: {E5_value}\")"
      ],
      "metadata": {
        "colab": {
          "base_uri": "https://localhost:8080/",
          "height": 182
        },
        "id": "aUj4VnTuqHTh",
        "outputId": "ac49808f-0563-4bec-83c8-0ea36b0ba26c"
      },
      "execution_count": 60,
      "outputs": [
        {
          "output_type": "error",
          "ename": "NameError",
          "evalue": "name 'k' is not defined",
          "traceback": [
            "\u001b[0;31m---------------------------------------------------------------------------\u001b[0m",
            "\u001b[0;31mNameError\u001b[0m                                 Traceback (most recent call last)",
            "\u001b[0;32m<ipython-input-60-63f65c0cb6ba>\u001b[0m in \u001b[0;36m<cell line: 0>\u001b[0;34m()\u001b[0m\n\u001b[1;32m      1\u001b[0m \u001b[0;31m#This is upper bound for the fourth integral:\u001b[0m\u001b[0;34m\u001b[0m\u001b[0;34m\u001b[0m\u001b[0m\n\u001b[0;32m----> 2\u001b[0;31m \u001b[0mE5_value\u001b[0m \u001b[0;34m=\u001b[0m \u001b[0mE5\u001b[0m\u001b[0;34m(\u001b[0m\u001b[0mk\u001b[0m\u001b[0;34m,\u001b[0m \u001b[0mX\u001b[0m\u001b[0;34m)\u001b[0m\u001b[0;34m/\u001b[0m\u001b[0;34m(\u001b[0m\u001b[0mk\u001b[0m \u001b[0;34m*\u001b[0m \u001b[0mnp\u001b[0m\u001b[0;34m.\u001b[0m\u001b[0mlog\u001b[0m\u001b[0;34m(\u001b[0m\u001b[0mnp\u001b[0m\u001b[0;34m.\u001b[0m\u001b[0mlog\u001b[0m\u001b[0;34m(\u001b[0m\u001b[0mX\u001b[0m\u001b[0;34m)\u001b[0m\u001b[0;34m)\u001b[0m \u001b[0;34m*\u001b[0m \u001b[0mnp\u001b[0m\u001b[0;34m.\u001b[0m\u001b[0mlog\u001b[0m\u001b[0;34m(\u001b[0m\u001b[0mX\u001b[0m\u001b[0;34m)\u001b[0m\u001b[0;34m**\u001b[0m\u001b[0;34m(\u001b[0m\u001b[0;34m(\u001b[0m\u001b[0;36m2\u001b[0m\u001b[0;34m*\u001b[0m\u001b[0mk\u001b[0m\u001b[0;34m-\u001b[0m\u001b[0;36m3\u001b[0m\u001b[0;34m)\u001b[0m\u001b[0;34m)\u001b[0m\u001b[0;34m)\u001b[0m\u001b[0;34m\u001b[0m\u001b[0;34m\u001b[0m\u001b[0m\n\u001b[0m\u001b[1;32m      3\u001b[0m \u001b[0mprint\u001b[0m\u001b[0;34m(\u001b[0m\u001b[0;34mf\"The result for E5 is: {E5_value}\"\u001b[0m\u001b[0;34m)\u001b[0m\u001b[0;34m\u001b[0m\u001b[0;34m\u001b[0m\u001b[0m\n",
            "\u001b[0;31mNameError\u001b[0m: name 'k' is not defined"
          ]
        }
      ]
    },
    {
      "cell_type": "code",
      "source": [],
      "metadata": {
        "id": "JxVTEnZf32CE"
      },
      "execution_count": null,
      "outputs": []
    },
    {
      "cell_type": "markdown",
      "source": [
        "#THIS IS OPTIMIZATION FOR FINDING K (MU) (I will do it after the optimization for eta)"
      ],
      "metadata": {
        "id": "hTwrunO_1InB"
      }
    },
    {
      "cell_type": "code",
      "source": [
        "def objective(k):\n",
        "    return (E5(k, X)/(k * np.log(np.log(X)) * np.log(X)**((2*k-3)))) + (17.1483 * ((1+ ((k * np.log(np.log(X))) / np.log(X)))))\n",
        "\n",
        "lambdaoptX = lambda ADD: objective(ADD[0])\n",
        "\n",
        "# Initial guess for [K]\n",
        "initial_guess = [2]\n",
        "\n",
        "\n",
        "bounds = [(1.63, 4.27)]\n",
        "\n",
        "res = minimize(lambdaoptX, initial_guess, bounds=bounds, method='L-BFGS-B')\n",
        "\n",
        "optimal_params = res.x\n",
        "optimal_bound = res.fun\n",
        "\n",
        "print(f\"Optimal parameters: k={optimal_params[0]}\")\n",
        "print(f\"Minimum value of bound: {optimal_bound}\")"
      ],
      "metadata": {
        "colab": {
          "base_uri": "https://localhost:8080/"
        },
        "outputId": "dbb2646f-b988-425d-a751-3bb6d7ed18d8",
        "id": "eDrHArl2l3q7"
      },
      "execution_count": 63,
      "outputs": [
        {
          "output_type": "stream",
          "name": "stdout",
          "text": [
            "Optimal parameters: k=2.0\n",
            "Minimum value of bound: nan\n"
          ]
        },
        {
          "output_type": "stream",
          "name": "stderr",
          "text": [
            "<ipython-input-61-d562b7679bf8>:2: RuntimeWarning: divide by zero encountered in scalar divide\n",
            "  term1 = (np.log(X) / (k * (np.log(X))**(k-1) * np.log(np.log(X)))) + (1 / (np.log(X))**(k-1))\n",
            "<ipython-input-61-d562b7679bf8>:2: RuntimeWarning: invalid value encountered in scalar add\n",
            "  term1 = (np.log(X) / (k * (np.log(X))**(k-1) * np.log(np.log(X)))) + (1 / (np.log(X))**(k-1))\n"
          ]
        }
      ]
    },
    {
      "cell_type": "markdown",
      "source": [
        "#SECOND AND THIRD INTEGRAL:"
      ],
      "metadata": {
        "id": "IB1tU5f30UGO"
      }
    },
    {
      "cell_type": "code",
      "source": [
        "X = 3e12"
      ],
      "metadata": {
        "id": "cW7nWhXmZ60D"
      },
      "execution_count": 44,
      "outputs": []
    },
    {
      "cell_type": "code",
      "source": [
        "gamma = mpmath.euler"
      ],
      "metadata": {
        "id": "ZmfWPLIVvjAR"
      },
      "execution_count": 45,
      "outputs": []
    },
    {
      "cell_type": "code",
      "source": [
        "import mpmath"
      ],
      "metadata": {
        "id": "hjnamdXVyY00"
      },
      "execution_count": 46,
      "outputs": []
    },
    {
      "cell_type": "code",
      "source": [
        "T1= 3e12"
      ],
      "metadata": {
        "id": "cB8ibo3ZKjmv"
      },
      "execution_count": 47,
      "outputs": []
    },
    {
      "cell_type": "code",
      "source": [
        "def E6(eta):\n",
        "    term1 = (mpmath.zeta(1+eta)**4 / mpmath.zeta(2+2*eta)**2)\n",
        "    term2 = (2 * mpmath.zeta(1+eta)**2 / mpmath.zeta(2+2*eta))\n",
        "    return term1 + term2"
      ],
      "metadata": {
        "id": "Fs-tYHkwzTjq"
      },
      "execution_count": 48,
      "outputs": []
    },
    {
      "cell_type": "code",
      "source": [
        "def E7(X, eta):\n",
        "    term1 = ((1+eta) * np.log(X)) / (eta * X**eta)\n",
        "    term2 = (1 + 1/(eta * np.log(X)) + (float(gamma)/np.log(X)) + ((7*eta)/(12*(1+eta)*X*np.log(X))))\n",
        "    return term1 * term2"
      ],
      "metadata": {
        "id": "HPFA8_l4zThJ"
      },
      "execution_count": 49,
      "outputs": []
    },
    {
      "cell_type": "code",
      "source": [
        "def E8(eta, T1):\n",
        "    term1 = (1 + (2/(3.006 * mpmath.zeta(1+eta) * (T1)**(1+eta))))\n",
        "    term2 = (3.006 * mpmath.zeta(1+eta))**2\n",
        "    return term1 * term2"
      ],
      "metadata": {
        "id": "Cmtxnd_ozTe0"
      },
      "execution_count": 50,
      "outputs": []
    },
    {
      "cell_type": "code",
      "source": [
        "def E9(eta, T1):\n",
        "    term1 = (2+eta)**2 / T1**2\n",
        "    term2 = (((1+2*eta)/T1)+ 1 )**2\n",
        "    return np.sqrt(term1 + term2)"
      ],
      "metadata": {
        "id": "KcwCXHq_zTcj"
      },
      "execution_count": 51,
      "outputs": []
    },
    {
      "cell_type": "code",
      "source": [
        "def E11(eta, T1, X):\n",
        "    E8_value = E8(eta, T1)\n",
        "    E9_value = E9(eta, T1)\n",
        "    E7_value = E7(X, eta)\n",
        "    E6_value = E6(eta)\n",
        "    term1 = (np.pi * mpmath.log(E8_value))/(np.log(2))\n",
        "    term2 = (np.pi * mpmath.log(E6_value))/(np.log(2))\n",
        "    term3 = (2 * np.pi * np.log(1-(E7_value**2)))/(np.log(2))\n",
        "    term4 = np.pi\n",
        "    term5 = ((2 * (1+2*eta))/(np.log(2))) * np.log(E9_value/2*np.pi)\n",
        "    return term1 + term2 - term3 + term4 + term5"
      ],
      "metadata": {
        "id": "jaOrng-PzTZ8"
      },
      "execution_count": 52,
      "outputs": []
    },
    {
      "cell_type": "code",
      "source": [
        "def E10(eta, T1, X):\n",
        "    E8_value = E8(eta, T1)\n",
        "    E9_value = E9(eta, T1)\n",
        "    E7_value = E7(X, eta)\n",
        "    E6_value = E6(eta)\n",
        "    E11_value = E11(eta, T1, X)\n",
        "    term1 = (2*(1+(2*eta))+(2*np.pi*(1+eta)))/(np.log(2))\n",
        "    term2 = (E11_value)/(np.log(T1))\n",
        "    return term1 + term2"
      ],
      "metadata": {
        "id": "MotbnKWfzTXm"
      },
      "execution_count": 53,
      "outputs": []
    },
    {
      "cell_type": "code",
      "source": [
        "import scipy.optimize as opt\n",
        "def equation_to_solve(eta):\n",
        "    return 1 - E7(X, eta)**2   # Solve for E7(eta)^2 = 1\n",
        "#This is for finding the bound for eta\n",
        "try:\n",
        "    eta_bound = opt.root_scalar(equation_to_solve, bracket=[1/np.log(X), 1], method='brentq')\n",
        "    print(f\"Bound on eta: eta > {eta_bound.root:.6f} to ensure 1 - E7 > 0\")\n",
        "except ValueError:\n",
        "    print(\"Could not find a valid bound for eta in the given range. Try adjusting the bracket.\")"
      ],
      "metadata": {
        "colab": {
          "base_uri": "https://localhost:8080/"
        },
        "outputId": "d017249f-5223-468d-a343-1ef26a1628e7",
        "id": "cGhjHfA0ahyK"
      },
      "execution_count": 12,
      "outputs": [
        {
          "output_type": "stream",
          "name": "stdout",
          "text": [
            "Bound on eta: eta > 0.187619 to ensure 1 - E7 > 0\n"
          ]
        }
      ]
    },
    {
      "cell_type": "markdown",
      "source": [
        "#THIS IS OPTIMIZATION FOR FINDING ETA (IN ARG PART) AND THEN DO THE OPTIMIZATION IN FOURTH INTEGRAL TO FIND K AND HENCE MU"
      ],
      "metadata": {
        "id": "uefjqLI_0dzl"
      }
    },
    {
      "cell_type": "code",
      "source": [
        "X = 3e12"
      ],
      "metadata": {
        "id": "fcCdm55jF62b"
      },
      "execution_count": 25,
      "outputs": []
    },
    {
      "cell_type": "code",
      "source": [
        "def arg(eta):\n",
        "    return E10(eta, T1, X)\n",
        "\n",
        "lambdaoptX = lambda ADD: arg(ADD[0])\n",
        "\n",
        "# Initial guess for [eta]\n",
        "initial_guess = [0.25]\n",
        "\n",
        "\n",
        "bounds = [(0.1877, 0.5)]\n",
        "\n",
        "opteta = minimize(lambdaoptX, initial_guess, bounds=bounds, method='L-BFGS-B')\n",
        "\n",
        "optimal_params = opteta.x\n",
        "optimal_bound = opteta.fun\n",
        "\n",
        "print(f\"Optimal parameters: eta={optimal_params[0]}\")\n",
        "print(f\"Minimum value of bound: {optimal_bound}\")"
      ],
      "metadata": {
        "colab": {
          "base_uri": "https://localhost:8080/"
        },
        "id": "BZXzqkkHzTUW",
        "outputId": "c123e969-e293-4e2a-f6e9-6871c2be321b"
      },
      "execution_count": 28,
      "outputs": [
        {
          "output_type": "stream",
          "name": "stdout",
          "text": [
            "Optimal parameters: eta=0.20341425469384475\n",
            "Minimum value of bound: 17.148386308652\n"
          ]
        }
      ]
    },
    {
      "cell_type": "markdown",
      "source": [
        "#THIS IS OPTIMIZATION FOR FINDING K (MU)"
      ],
      "metadata": {
        "id": "OEpDBRS93sbs"
      }
    },
    {
      "cell_type": "code",
      "source": [
        "optimal_eta = opteta.x[0]"
      ],
      "metadata": {
        "id": "I_aIWbE6GTHL"
      },
      "execution_count": 54,
      "outputs": []
    },
    {
      "cell_type": "code",
      "source": [
        "def objective(k):\n",
        "    return (E5(k, X)/(k * np.log(np.log(X)) * np.log(X)**((2*k-3)))) + (E10(optimal_eta, T1, X) * ((1+ ((k * np.log(np.log(X))) / np.log(X)))))\n",
        "\n",
        "lambdaoptX = lambda ADD: objective(ADD[0])\n",
        "\n",
        "# Initial guess for [K]\n",
        "initial_guess = [2]\n",
        "\n",
        "\n",
        "bounds = [(2, 4.27)]\n",
        "\n",
        "res = minimize(lambdaoptX, initial_guess, bounds=bounds, method='L-BFGS-B')\n",
        "\n",
        "optimal_params = res.x\n",
        "optimal_bound = res.fun\n",
        "\n",
        "print(f\"Optimal parameters: k={optimal_params[0]}\")\n",
        "print(f\"Minimum value of bound: {optimal_bound}\")"
      ],
      "metadata": {
        "colab": {
          "base_uri": "https://localhost:8080/"
        },
        "outputId": "314e6e15-f3dc-47e0-9f5f-acf5f981e212",
        "id": "bAZY7RhT25j4"
      },
      "execution_count": 55,
      "outputs": [
        {
          "output_type": "stream",
          "name": "stdout",
          "text": [
            "Optimal parameters: k=2.0\n",
            "Minimum value of bound: nan\n"
          ]
        },
        {
          "output_type": "stream",
          "name": "stderr",
          "text": [
            "<ipython-input-15-d562b7679bf8>:2: RuntimeWarning: divide by zero encountered in scalar divide\n",
            "  term1 = (np.log(X) / (k * (np.log(X))**(k-1) * np.log(np.log(X)))) + (1 / (np.log(X))**(k-1))\n",
            "<ipython-input-15-d562b7679bf8>:2: RuntimeWarning: invalid value encountered in scalar add\n",
            "  term1 = (np.log(X) / (k * (np.log(X))**(k-1) * np.log(np.log(X)))) + (1 / (np.log(X))**(k-1))\n",
            "<ipython-input-55-2f749f44e221>:2: RuntimeWarning: invalid value encountered in add\n",
            "  return (E5(k, X)/(k * np.log(np.log(X)) * np.log(X)**((2*k-3)))) + (E10(optimal_eta, T1, X) * ((1+ ((k * np.log(np.log(X))) / np.log(X)))))\n"
          ]
        }
      ]
    },
    {
      "cell_type": "markdown",
      "source": [
        "#DEFINITION OF V:"
      ],
      "metadata": {
        "id": "VZDL8OL10SGG"
      }
    },
    {
      "cell_type": "code",
      "source": [
        "def V(delta2, sigma, eta, k, mu, T_1, T_2):\n",
        "    E8_value = E8(eta, H_0)\n",
        "    E9_value = E9(eta, T_1)\n",
        "    E7_value = E7(X, eta)\n",
        "    E6_value = E6(eta)\n",
        "    E11_value = E11(eta, T_1)\n",
        "    E10_value = E10(eta, T_1)\n",
        "    E5_value = E5(k, X)\n",
        "    mu = 1 + ((k * np.log(np.log(X))) / np.log(X))\n",
        "    sigma_prime = sigma - (delta2/np.log(X))\n",
        "    return ((E5_value/(k * np.log(np.log(X)) * np.log(X)**((2*k-3)))) + (E10_value * (mu - sigma_prime))) / (2 * np.pi * delta2)"
      ],
      "metadata": {
        "id": "smUqzp3xmqrp"
      },
      "execution_count": null,
      "outputs": []
    },
    {
      "cell_type": "code",
      "source": [
        "optimal_k = res.x[0]\n",
        "delta2= 0.35\n",
        "T_2 = 3e12\n",
        "T_1 = 3e12\n",
        "sigma = 0.9\n",
        "sigma_prime = sigma - (delta2/np.log(X))\n",
        "mu = 1 + ((optimal_k * np.log(np.log(X))) / np.log(X))\n",
        "optimal_eta = opteta.x[0]\n",
        "V_value = V(delta2, sigma, optimal_eta, optimal_k, mu, T_1, T_2)\n",
        "print(f\"The result for V is: {V_value}\")"
      ],
      "metadata": {
        "colab": {
          "base_uri": "https://localhost:8080/"
        },
        "id": "OWwfcazLovMO",
        "outputId": "f69478d2-8928-49f0-f380-ec1e1342ae95"
      },
      "execution_count": null,
      "outputs": [
        {
          "output_type": "stream",
          "name": "stdout",
          "text": [
            "The result for V is: 2.4117202900187\n"
          ]
        }
      ]
    },
    {
      "cell_type": "markdown",
      "source": [
        "#THIS IS FOR OPTIMIZATION OF THE GENERAL CHAPTER"
      ],
      "metadata": {
        "id": "jfKvvdatLJo_"
      }
    },
    {
      "cell_type": "code",
      "source": [
        "from scipy.special import gamma #For optimization of error term\n",
        "import matplotlib.pyplot as plt\n",
        "#This is the code that i used for finding the limit of error term when t goes to infty\n",
        "# we first define the function E_sigma(alpha, beta, T)(eq 2.64)\n",
        "def E_sigma(alpha, beta, sigma, T):\n",
        "    # First term: exponential part\n",
        "    exponent = alpha * (((2 - 2 * sigma) * (1 / (2 * T)) ** beta) + ((2 * sigma - 1) * ((1 / T) ** beta)) - ((sigma / T) ** beta) + 1)\n",
        "    exp_term = np.exp(exponent)\n",
        "\n",
        "    # Second term: Gamma term\n",
        "    gamma_term = ((alpha ** (-4 / (3 * beta))) * (gamma((4 / (3 * beta)) + 1))) ** (2 - 2 * sigma)\n",
        "\n",
        "    # Return the full expression\n",
        "    return exp_term * gamma_term\n",
        "\n",
        "# Set values for alpha, beta, sigma, and T (large T)\n",
        "alpha = 0.013\n",
        "beta = 2\n",
        "sigma = 0.99\n",
        "T_values = np.logspace(1, 12, 100)\n",
        "\n",
        "# Compute E_sigma for large T values\n",
        "E_values = [E_sigma(alpha, beta, sigma, T) for T in T_values]\n",
        "\n",
        "# Plot the result\n",
        "plt.figure(figsize=(8, 6))\n",
        "plt.plot(T_values, E_values, label=r\"$E_\\sigma(\\alpha, \\beta, T)$\", color='blue')\n",
        "plt.xscale('log')\n",
        "plt.xlabel(r'T_values')\n",
        "plt.ylabel(r'$E_\\sigma(\\alpha, \\beta, T)$')\n",
        "plt.title(r\"Behavior of $E_\\sigma(\\alpha, \\beta, T)$ as $T \\to \\infty$\")\n",
        "plt.grid(True)\n",
        "plt.legend()\n",
        "plt.show()\n",
        "\n",
        "print(f\"Value of E_sigma as T -> infinity (approximated): {E_values[-1]}\")"
      ],
      "metadata": {
        "id": "c0I-CC7BFuf5"
      },
      "execution_count": null,
      "outputs": []
    },
    {
      "cell_type": "code",
      "source": [],
      "metadata": {
        "id": "SQ_hbfG-TMar"
      },
      "execution_count": null,
      "outputs": []
    },
    {
      "cell_type": "code",
      "source": [
        "import sympy as sp\n",
        "\n",
        "# Define variables\n",
        "T, X, D_1, D_2, omega_2, omega_3, omega_4, omega_8, D4_prime = sp.symbols('T X D_1 D_2 omega_2 omega_3 omega_4 omega_8 D4_prime')\n",
        "log_T = sp.log(T)\n",
        "log_X = sp.log(X)\n",
        "\n",
        "\n",
        "term1 = ((T**sp.Rational(1,6) * log_T) + ((omega_3/omega_2) * T**sp.Rational(1,6)) - (omega_4/omega_2))**2 + (omega_8/omega_2**2)\n",
        "term2 = T + ((D_2 / D_1) * X)\n",
        "term3 = log_X\n",
        "term4 = (1 + (1 / (T**sp.Rational(1,6) * sp.sqrt(D_1 * log_X))))**2\n",
        "\n",
        "# full expression\n",
        "expr = D4_prime * term1 * term2 * term3 * term4\n",
        "\n",
        "# Expand the full expression\n",
        "expanded_expr = sp.expand(expr)\n",
        "\n",
        "print(\"Expanded Expression:\")\n",
        "print(expanded_expr)\n",
        "# Output results\n",
        "print(\"Original Expanded Expression:\")\n",
        "sp.pprint(expanded_expr, use_unicode=True)"
      ],
      "metadata": {
        "id": "mNIJnAD24VwX"
      },
      "execution_count": null,
      "outputs": []
    },
    {
      "cell_type": "code",
      "source": [
        "import sympy as sp\n",
        "\n",
        "\n",
        "D4_prime, D_1, D_2, omega_2, omega_3, omega_4, omega_8, X, T = sp.symbols('D4_prime D_1 D_2 omega_2 omega_3 omega_4 omega_8 X T')\n",
        "log_T = sp.log(T)\n",
        "log_X = sp.log(X)\n",
        "\n",
        "# each term in the expression\n",
        "terms = [\n",
        "    (2 * D4_prime * T**(7/6) * log_T**2 * log_X) / sp.sqrt(D_1 * log_X),\n",
        "    (4 * D4_prime * T**(7/6) * omega_3 * log_T * log_X) / (omega_2 * sp.sqrt(D_1 * log_X)),\n",
        "    (-2 * D4_prime * T**(7/6) * omega_4 * log_T * log_X) / omega_2,\n",
        "    (2 * D4_prime * T**(7/6) * omega_3**2 * log_X) / (omega_2**2 * sp.sqrt(D_1 * log_X)),\n",
        "    (-2 * D4_prime * T**(7/6) * omega_3 * omega_4 * log_X) / omega_2**2,\n",
        "    (2 * D4_prime * T**(5/6) * omega_4**2 * log_X) / (omega_2**2 * sp.sqrt(D_1 * log_X)),\n",
        "    (2 * D4_prime * T**(5/6) * omega_8 * log_X) / (omega_2**2 * sp.sqrt(D_1 * log_X)),\n",
        "    (D4_prime * T**(4/3) * log_T**2 * log_X),\n",
        "    (2 * D4_prime * T**(4/3) * omega_3 * log_T * log_X) / omega_2,\n",
        "    (D4_prime * T**(4/3) * omega_3**2 * log_X) / omega_2**2,\n",
        "    (-4 * D4_prime * T * omega_4 * log_T * log_X) / (omega_2 * sp.sqrt(D_1 * log_X)),\n",
        "    (-4 * D4_prime * T * omega_3 * omega_4 * log_X) / (omega_2**2 * sp.sqrt(D_1 * log_X)),\n",
        "    (D4_prime * T * omega_4**2 * log_X) / omega_2**2,\n",
        "    (D4_prime * T * omega_8 * log_X) / omega_2**2,\n",
        "    (2 * D4_prime * D_2 * T**(1/6) * X * log_T**2 * log_X) / (D_1 * sp.sqrt(D_1 * log_X)),\n",
        "    (4 * D4_prime * D_2 * T**(1/6) * X * omega_3 * log_T * log_X) / (D_1 * omega_2 * sp.sqrt(D_1 * log_X)),\n",
        "    (-2 * D4_prime * D_2 * T**(1/6) * X * omega_4 * log_T * log_X) / (D_1 * omega_2),\n",
        "    (2 * D4_prime * D_2 * T**(1/6) * X * omega_3**2 * log_X) / (D_1 * omega_2**2 * sp.sqrt(D_1 * log_X)),\n",
        "    (-2 * D4_prime * D_2 * T**(1/6) * X * omega_3 * omega_4 * log_X) / (D_1 * omega_2**2),\n",
        "    (D4_prime * D_2 * T**(1/3) * X * log_T**2 * log_X) / D_1,\n",
        "    (2 * D4_prime * D_2 * T**(1/3) * X * omega_3 * log_T * log_X) / (D_1 * omega_2),\n",
        "    (D4_prime * D_2 * T**(1/3) * X * omega_3**2 * log_X) / (D_1 * omega_2**2),\n",
        "    (-4 * D4_prime * D_2 * X * omega_4 * log_T * log_X) / (D_1 * omega_2 * sp.sqrt(D_1 * log_X)),\n",
        "    (-4 * D4_prime * D_2 * X * omega_3 * omega_4 * log_X) / (D_1 * omega_2**2 * sp.sqrt(D_1 * log_X)),\n",
        "    (D4_prime * D_2 * X * omega_4**2 * log_X) / (D_1 * omega_2**2),\n",
        "    (D4_prime * D_2 * X * omega_8 * log_X) / (D_1 * omega_2**2),\n",
        "    (2 * D4_prime * D_2 * X * omega_4**2 * log_X) / (D_1 * T**(1/6) * omega_2**2 * sp.sqrt(D_1 * log_X)),\n",
        "    (2 * D4_prime * D_2 * X * omega_8 * log_X) / (D_1 * T**(1/6) * omega_2**2 * sp.sqrt(D_1 * log_X)),\n",
        "    (-2 * D4_prime * T**(5/6) * omega_4 * log_T) / (D_1 * omega_2),\n",
        "    (-2 * D4_prime * T**(5/6) * omega_3 * omega_4) / (D_1 * omega_2**2),\n",
        "    (D4_prime * T**(2/3) * omega_4**2) / (D_1 * omega_2**2),\n",
        "    (D4_prime * T**(2/3) * omega_8) / (D_1 * omega_2**2),\n",
        "    (D4_prime * T * log_T**2) / D_1,\n",
        "    (2 * D4_prime * T * omega_3 * log_T) / (D_1 * omega_2),\n",
        "    (D4_prime * T * omega_3**2) / (D_1 * omega_2**2),\n",
        "    (D4_prime * D_2 * X * log_T**2) / D_1**2,\n",
        "    (2 * D4_prime * D_2 * X * omega_3 * log_T) / (D_1**2 * omega_2),\n",
        "    (D4_prime * D_2 * X * omega_3**2) / (D_1**2 * omega_2**2),\n",
        "    (D4_prime * D_2 * X * omega_4**2) / (D_1**2 * T**(1/3) * omega_2**2),\n",
        "    (D4_prime * D_2 * X * omega_8) / (D_1**2 * T**(1/3) * omega_2**2),\n",
        "    (-2 * D4_prime * D_2 * X * omega_4 * log_T) / (D_1**2 * T**(1/6) * omega_2),\n",
        "    (-2 * D4_prime * D_2 * X * omega_3 * omega_4) / (D_1**2 * T**(1/6) * omega_2**2)\n",
        "]\n",
        "\n",
        "# The divisor is D4_prime * (log_T)**2 * T**(4/3)(dominant term)\n",
        "divisor = D4_prime * log_T**2 * T**(4/3)\n",
        "\n",
        "# Divide each term by the divisor\n",
        "simplified_terms = [sp.simplify(term / divisor) for term in terms]\n",
        "\n",
        "for idx, term in enumerate(simplified_terms, 1):\n",
        "    print(f\"Term {idx}: {term}\")"
      ],
      "metadata": {
        "colab": {
          "base_uri": "https://localhost:8080/"
        },
        "id": "JroImtBHE-QF",
        "outputId": "2ae0052f-8e38-43b8-a7ef-71feca8e2b7c"
      },
      "execution_count": null,
      "outputs": [
        {
          "output_type": "stream",
          "name": "stdout",
          "text": [
            "Term 1: 2*log(X)/(T**0.166666666666667*sqrt(D_1*log(X)))\n",
            "Term 2: 4*omega_3*log(X)/(T**0.166666666666667*omega_2*sqrt(D_1*log(X))*log(T))\n",
            "Term 3: -2*omega_4*log(X)/(T**0.166666666666667*omega_2*log(T))\n",
            "Term 4: 2*omega_3**2*log(X)/(T**0.166666666666667*omega_2**2*sqrt(D_1*log(X))*log(T)**2)\n",
            "Term 5: -2*omega_3*omega_4*log(X)/(T**0.166666666666667*omega_2**2*log(T)**2)\n",
            "Term 6: 2*omega_4**2*log(X)/(T**0.5*omega_2**2*sqrt(D_1*log(X))*log(T)**2)\n",
            "Term 7: 2*omega_8*log(X)/(T**0.5*omega_2**2*sqrt(D_1*log(X))*log(T)**2)\n",
            "Term 8: log(X)\n",
            "Term 9: 2*omega_3*log(X)/(omega_2*log(T))\n",
            "Term 10: omega_3**2*log(X)/(omega_2**2*log(T)**2)\n",
            "Term 11: -4*omega_4*log(X)/(T**0.333333333333333*omega_2*sqrt(D_1*log(X))*log(T))\n",
            "Term 12: -4*omega_3*omega_4*log(X)/(T**0.333333333333333*omega_2**2*sqrt(D_1*log(X))*log(T)**2)\n",
            "Term 13: omega_4**2*log(X)/(T**0.333333333333333*omega_2**2*log(T)**2)\n",
            "Term 14: omega_8*log(X)/(T**0.333333333333333*omega_2**2*log(T)**2)\n",
            "Term 15: 2*D_2*X*log(X)/(D_1*T**1.16666666666667*sqrt(D_1*log(X)))\n",
            "Term 16: 4*D_2*X*omega_3*log(X)/(D_1*T**1.16666666666667*omega_2*sqrt(D_1*log(X))*log(T))\n",
            "Term 17: -2*D_2*X*omega_4*log(X)/(D_1*T**1.16666666666667*omega_2*log(T))\n",
            "Term 18: 2*D_2*X*omega_3**2*log(X)/(D_1*T**1.16666666666667*omega_2**2*sqrt(D_1*log(X))*log(T)**2)\n",
            "Term 19: -2*D_2*X*omega_3*omega_4*log(X)/(D_1*T**1.16666666666667*omega_2**2*log(T)**2)\n",
            "Term 20: D_2*X*log(X)/(D_1*T**1.0)\n",
            "Term 21: 2*D_2*X*omega_3*log(X)/(D_1*T**1.0*omega_2*log(T))\n",
            "Term 22: D_2*X*omega_3**2*log(X)/(D_1*T**1.0*omega_2**2*log(T)**2)\n",
            "Term 23: -4*D_2*X*omega_4*log(X)/(D_1*T**1.33333333333333*omega_2*sqrt(D_1*log(X))*log(T))\n",
            "Term 24: -4*D_2*X*omega_3*omega_4*log(X)/(D_1*T**1.33333333333333*omega_2**2*sqrt(D_1*log(X))*log(T)**2)\n",
            "Term 25: D_2*X*omega_4**2*log(X)/(D_1*T**1.33333333333333*omega_2**2*log(T)**2)\n",
            "Term 26: D_2*X*omega_8*log(X)/(D_1*T**1.33333333333333*omega_2**2*log(T)**2)\n",
            "Term 27: 2*D_2*X*omega_4**2*log(X)/(D_1*T**1.5*omega_2**2*sqrt(D_1*log(X))*log(T)**2)\n",
            "Term 28: 2*D_2*X*omega_8*log(X)/(D_1*T**1.5*omega_2**2*sqrt(D_1*log(X))*log(T)**2)\n",
            "Term 29: -2*omega_4/(D_1*T**0.5*omega_2*log(T))\n",
            "Term 30: -2*omega_3*omega_4/(D_1*T**0.5*omega_2**2*log(T)**2)\n",
            "Term 31: omega_4**2/(D_1*T**0.666666666666667*omega_2**2*log(T)**2)\n",
            "Term 32: omega_8/(D_1*T**0.666666666666667*omega_2**2*log(T)**2)\n",
            "Term 33: 1/(D_1*T**0.333333333333333)\n",
            "Term 34: 2*omega_3/(D_1*T**0.333333333333333*omega_2*log(T))\n",
            "Term 35: omega_3**2/(D_1*T**0.333333333333333*omega_2**2*log(T)**2)\n",
            "Term 36: D_2*X/(D_1**2*T**1.33333333333333)\n",
            "Term 37: 2*D_2*X*omega_3/(D_1**2*T**1.33333333333333*omega_2*log(T))\n",
            "Term 38: D_2*X*omega_3**2/(D_1**2*T**1.33333333333333*omega_2**2*log(T)**2)\n",
            "Term 39: D_2*X*omega_4**2/(D_1**2*T**1.66666666666667*omega_2**2*log(T)**2)\n",
            "Term 40: D_2*X*omega_8/(D_1**2*T**1.66666666666667*omega_2**2*log(T)**2)\n",
            "Term 41: -2*D_2*X*omega_4/(D_1**2*T**1.5*omega_2*log(T))\n",
            "Term 42: -2*D_2*X*omega_3*omega_4/(D_1**2*T**1.5*omega_2**2*log(T)**2)\n"
          ]
        }
      ]
    }
  ]
}