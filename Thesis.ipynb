{
  "nbformat": 4,
  "nbformat_minor": 0,
  "metadata": {
    "colab": {
      "provenance": [],
      "authorship_tag": "ABX9TyMCut9UIdz9NcMYPsE0/TbW",
      "include_colab_link": true
    },
    "kernelspec": {
      "name": "python3",
      "display_name": "Python 3"
    },
    "language_info": {
      "name": "python"
    }
  },
  "cells": [
    {
      "cell_type": "markdown",
      "metadata": {
        "id": "view-in-github",
        "colab_type": "text"
      },
      "source": [
        "<a href=\"https://colab.research.google.com/github/golnoushfarzan/Thesis/blob/main/Thesis.ipynb\" target=\"_parent\"><img src=\"https://colab.research.google.com/assets/colab-badge.svg\" alt=\"Open In Colab\"/></a>"
      ]
    },
    {
      "cell_type": "code",
      "source": [
        "import numpy as np\n",
        "#this one is used to compute binomial coefficients (for C_3)\n",
        "from scipy.special import comb\n",
        "#This one is used for numerical integration of a given function over a specified interval (for I term)\n",
        "from scipy.integrate import quad\n",
        "import mpmath\n",
        "from functools import partial # This one is used to create a version of a function with some arguments fixed(for optimization)\n",
        "from scipy.optimize import minimize\n",
        "import pandas as pd"
      ],
      "metadata": {
        "id": "cSERG_96o_P4"
      },
      "execution_count": 91,
      "outputs": []
    },
    {
      "cell_type": "markdown",
      "source": [
        "#This is the computation for C3 on the half line:"
      ],
      "metadata": {
        "id": "vSck010kpfI0"
      }
    },
    {
      "cell_type": "code",
      "source": [
        "# Define C3 function as in equation 2.25. This one is for \\sigma_1\n",
        "\n",
        "# Define b1(X_0) based on the provided formula in equation 3.11\n",
        "def b1(X_0):\n",
        "    return (6 / np.pi**2) + (0.1333 / np.sqrt(X_0))\n",
        "\n",
        "# Define m_0 based on the provided formula in equation 2.82\n",
        "def m0():\n",
        "    return np.sqrt(1 + (2 / 3) * np.sqrt(6 / 5))\n",
        "\n",
        "# Define b2(X_0) as a constant value in eq 3.15\n",
        "def b2(X_0):\n",
        "    return 1.048  # Given value for b2(X_0) for X_0 \\geq 1000\n",
        "\n",
        "# Define D1 and D2 as given in equation 4.25\n",
        "def D1(X):\n",
        "    return 6 / np.pi**2 + b2(X) / np.log(X)\n",
        "\n",
        "def D2(X):\n",
        "    return (np.pi * m0() * b1(X) / np.log(X)) + (6 * m0() / (np.pi * X)) + (np.pi * m0() * b2(X) / (X * np.log(X)))\n",
        "\n",
        "# Define the integral I_alpha_beta as in equation \\eqref{eq:2.23} (2.25)\n",
        "def I_alpha_beta(A, n, alpha, beta):\n",
        "    def integrand(x):\n",
        "        return x**A * np.exp(-alpha * x**beta) * (np.log(x)**n)\n",
        "\n",
        "    result, _ = quad(integrand, 0, np.inf)\n",
        "    return result\n",
        "\n",
        "# Define constants(Example value)\n",
        "X = 3 * 1e12\n",
        "T2 = 3 * 1e12\n",
        "alpha = 0.241\n",
        "beta = 2\n",
        "\n",
        "j_1 = 0.618\n",
        "j_3 = float(mpmath.zeta(1/2)**2)\n",
        "\n",
        "a = 4/3\n",
        "b = 2\n",
        "# List of values for a_i, b_i, and d_i based on the table of 4.1 (for sigma_1)\n",
        "a_i_values = [0, -1/6, -1/3, -1/3, -1/2, -2/3, -1, -7/6, -4/3, -4/3, -3/2, -5/3]\n",
        "b_i_values = [0, 0, 0, -2, -2, -2, 0, 0, 0, -2, -2, -2]\n",
        "\n",
        "def compute_d_i(X, D1, D2):\n",
        "    \"\"\"\n",
        "    Calculate the d_i values based on the provided formula.\n",
        "    \"\"\"\n",
        "\n",
        "    d_i_values = [1,\n",
        "                  2 / np.sqrt(D1(X) * np.log(X)),\n",
        "                  1 / (D1(X) * np.log(X)),\n",
        "                  j_3 / j_1**2,\n",
        "                  j_3 / (j_1**2 * np.sqrt(D1(X) * np.log(X))),\n",
        "                  j_3 / (2 * j_1**2 * D1(X) * np.log(X)),\n",
        "                  (X * D2(X)) / D1(X),\n",
        "                  2 * X * D2(X) / (D1(X) * np.sqrt(D1(X) * np.log(X))),\n",
        "                  (X * D2(X)) / (D1(X)**2 * np.log(X)),\n",
        "                  j_3 * D2(X) * X / (2 * j_1**2 * D1(X)),\n",
        "                  j_3 * D2(X) * X / (j_1**2 * D1(X) * np.sqrt(D1(X) * np.log(X))),\n",
        "                  j_3 * D2(X) * X / (j_1**2 * D1(X)**2 * np.log(X))]\n",
        "    return d_i_values\n",
        "\n",
        "\n",
        "# Define the d_i values based on the formula\n",
        "#def compute_d_i(i, X, D1, D2, j_1, j_3):\n",
        "    \"\"\"\n",
        "    Calculate the d_i values based on the provided formula.\n",
        "    \"\"\"\n",
        "\"\"\"\n",
        "    D1_value = D1(X)\n",
        "    D2_value = D2(X)\n",
        "\n",
        "    if i == 0:\n",
        "        return 1\n",
        "    elif i == 1:\n",
        "        return 2 / np.sqrt(D1(X) * np.log(X))\n",
        "    elif i == 2:\n",
        "        return 1 / (D1(X) * np.log(X))\n",
        "    elif i == 3:\n",
        "        return j_3 / j_1**2\n",
        "    elif i == 4:\n",
        "        return j_3 / (j_1**2 * np.sqrt(D1(X) * np.log(X)))\n",
        "    elif i == 5:\n",
        "        return j_3 / (2 * j_1**2 * D1(X) * np.log(X))\n",
        "    elif i == 6:\n",
        "        return (X * D2(X)) / D1(X)\n",
        "    elif i == 7:\n",
        "        return 2 * X * D2(X) / (D1(X) * np.sqrt(D1(X) * np.log(X)))\n",
        "    elif i == 8:\n",
        "        return (X * D2(X)) / (D1(X)**2 * np.log(X))\n",
        "    elif i == 9:\n",
        "        return j_3 * D2(X) * X / (2 * j_1**2 * D1(X))\n",
        "    elif i == 10:\n",
        "        return j_3 * D2(X) * X / (j_1**2 * D1(X) * np.sqrt(D1(X) * np.log(X)))\n",
        "    elif i == 11:\n",
        "        return j_3 * D2(X) * X / (j_1**2 * D1(X)**2 * np.log(X))\n",
        "\"\"\"\n",
        "\n",
        "\n",
        "\n",
        "# Define C3 function as equation 2.25. This one is for \\sigma_1\n",
        "def C3(T2, alpha, beta, a, a_i_values, b, b_i_values,  d_i_values, printing=0):\n",
        "    log_T = np.log(T2)\n",
        "\n",
        "    C31_value = 0\n",
        "\n",
        "    for i in range(len(a_i_values)):\n",
        "        a_i = a_i_values[i]\n",
        "        b_i = b_i_values[i]\n",
        "        d_i = d_i_values[i]\n",
        "        # Calculate d_i using the function for d_i\n",
        "\n",
        "        inner_sum = 0\n",
        "        # Summation over k\n",
        "        for k in range(b + b_i + 1):\n",
        "            binomial_coeff = comb(b + b_i, k)\n",
        "            integral_value = I_alpha_beta(beta + a + a_i - 1, b + b_i - k, alpha, beta)\n",
        "            inner_sum += binomial_coeff * integral_value / (log_T**(b + b_i - k))\n",
        "\n",
        "        # definition of C3\n",
        "        C31_value += d_i * T2**a_i * (log_T**b_i) * inner_sum\n",
        "\n",
        "    if printing > 0:\n",
        "        print(f\"C3_value is {C31_value}\")\n",
        "    return C31_value\n",
        "\n",
        "C31_value = C3(T2, alpha, beta, a, a_i_values, b, b_i_values, compute_d_i(X, D1, D2))\n",
        "print(f\"The value of C_3 on the half line is: {C31_value}\")"
      ],
      "metadata": {
        "colab": {
          "base_uri": "https://localhost:8080/"
        },
        "id": "4CwQU-2IBPrz",
        "outputId": "c1bb0ce3-9c8f-4cf6-b6a1-4e187175be6b"
      },
      "execution_count": 92,
      "outputs": [
        {
          "output_type": "stream",
          "name": "stdout",
          "text": [
            "The value of C_3 on the half line is: 5.473783347188228\n"
          ]
        }
      ]
    },
    {
      "cell_type": "code",
      "source": [
        "# Define D4 as equation 4.54\n",
        "j_1 = 0.618\n",
        "def D4(X):\n",
        "    return D1(X) * (j_1 ** 2)\n",
        "\n",
        "D4_value = D4(X)\n",
        "print(f\"The value of D_4 is: {D4_value}\")"
      ],
      "metadata": {
        "colab": {
          "base_uri": "https://localhost:8080/"
        },
        "id": "R1pmiYPz6liJ",
        "outputId": "dbfc5c42-cd90-4d39-8101-5fc247b57b5c"
      },
      "execution_count": 93,
      "outputs": [
        {
          "output_type": "stream",
          "name": "stdout",
          "text": [
            "The value of D_4 is: 0.24611377987225733\n"
          ]
        }
      ]
    },
    {
      "cell_type": "code",
      "source": [
        "log_X = np.log(X)\n",
        "print(f\"The value of log_X is: {log_X}\")"
      ],
      "metadata": {
        "colab": {
          "base_uri": "https://localhost:8080/"
        },
        "id": "XylU0L0_Mp-K",
        "outputId": "f175a0e9-2658-406f-b911-b3bf38b533bb"
      },
      "execution_count": 94,
      "outputs": [
        {
          "output_type": "stream",
          "name": "stdout",
          "text": [
            "The value of log_X is: 28.729633404596658\n"
          ]
        }
      ]
    },
    {
      "cell_type": "code",
      "source": [
        "C31_times_D4 = C31_value * D4_value\n",
        "print(f\"The value of C3 . D4 on the half line is: {C31_times_D4}\")"
      ],
      "metadata": {
        "id": "AiSm9cpZ7xVf",
        "colab": {
          "base_uri": "https://localhost:8080/"
        },
        "outputId": "97f38256-278b-43a1-bef3-b2a89b9e0553"
      },
      "execution_count": 95,
      "outputs": [
        {
          "output_type": "stream",
          "name": "stdout",
          "text": [
            "The value of C3 . D4 on the half line is: 1.3471735097783113\n"
          ]
        }
      ]
    },
    {
      "cell_type": "markdown",
      "source": [
        "#FIRST EXPONENT"
      ],
      "metadata": {
        "id": "v7CNAi1Ep9tE"
      }
    },
    {
      "cell_type": "code",
      "source": [
        "delta = 0.36\n",
        "sigma_2 = 1 + (delta / log_X)\n",
        "sigma_1 = 0.5\n",
        "delta_2 = 0.35\n",
        "sigma = 0.9\n",
        "sigma_prime = sigma - (delta_2 / np.log(T2))\n",
        "exponent = (sigma_2 - sigma_prime) / (sigma_2 - sigma_1)\n",
        "print(f\"The value of exponent is: {exponent}\")"
      ],
      "metadata": {
        "colab": {
          "base_uri": "https://localhost:8080/"
        },
        "id": "Np5TroVza575",
        "outputId": "c9e5beba-6381-4aa9-9d04-f23d5cf45a6f"
      },
      "execution_count": 96,
      "outputs": [
        {
          "output_type": "stream",
          "name": "stdout",
          "text": [
            "The value of exponent is: 0.24332821337602245\n"
          ]
        }
      ]
    },
    {
      "cell_type": "markdown",
      "source": [
        "#This is the final result on the half line (A1^exponent):"
      ],
      "metadata": {
        "id": "KwukOpqxqVa1"
      }
    },
    {
      "cell_type": "code",
      "source": [
        "result1 = (C31_times_D4) ** exponent\n",
        "print(f\"The result for the half line: {result1}\")"
      ],
      "metadata": {
        "colab": {
          "base_uri": "https://localhost:8080/"
        },
        "id": "Ig344afOo_Ex",
        "outputId": "39f0cbfc-44ff-452f-db20-7bb51d41b43f"
      },
      "execution_count": 97,
      "outputs": [
        {
          "output_type": "stream",
          "name": "stdout",
          "text": [
            "The result for the half line: 1.0752077780603713\n"
          ]
        }
      ]
    },
    {
      "cell_type": "markdown",
      "source": [
        "#This is the computation for C3 on the sigme2:"
      ],
      "metadata": {
        "id": "WcV2YZr6qiJ-"
      }
    },
    {
      "cell_type": "code",
      "source": [
        "# Define C3 function as in equation 2.25. This one is for \\sigma_2\n",
        "gamma = mpmath.euler\n",
        "# Define b_4 function based on the given equation 3.40\n",
        "def b_4(X_0):\n",
        "    return 0.428 + 0.895 / np.log(X_0)\n",
        "\n",
        "# Define b3(X_0) as a constant value in eq 3.21\n",
        "def b_3(X_0):\n",
        "    return 0.605  # Given value for b2(X_0) for X_0 \\geq 1000\n",
        "\n",
        "# Define m_0 based on the provided formula in equation 2.82\n",
        "def m0():\n",
        "    return np.sqrt(1 + (2 / 3) * np.sqrt(6 / 5))\n",
        "\n",
        "# Define D_5 and D_6 based on the given equations\n",
        "def D5(delta, X):\n",
        "    \"\"\"\n",
        "    Calculate D_5 for given delta and X, using m0 and gamma.\n",
        "    \"\"\"\n",
        "    b4_X = b_4(X)\n",
        "    return (np.pi * m0() * b4_X) / (2 * delta) * np.exp((2 * delta * float(gamma) / np.log(X)))\n",
        "\n",
        "def D6(delta, X):\n",
        "    \"\"\"\n",
        "    Calculate D_6 for given delta and X, using gamma.\n",
        "    \"\"\"\n",
        "    b3_X = b_3(X)\n",
        "    b4_X = b_4(X)\n",
        "    return (b4_X / (5 * delta * np.exp(float(gamma)))) + (b3_X * np.exp(-2 * delta)) / (np.log(X)**2)\n",
        "\n",
        "\n",
        "# Define constants(Example value)\n",
        "X = 3 * 1e12\n",
        "T2 = 3 * 1e12\n",
        "alpha = 0.241\n",
        "beta = 2\n",
        "a_prime = 1\n",
        "b_prime = 0\n",
        "\n",
        "# List of values for a_i', b_i', and d_i' based on the table of 4.3 (for sigma_2)\n",
        "a_i_prime_values = [0, -1, -1]\n",
        "b_i_prime_values = [0, 0, 0]\n",
        "\n",
        "# Define the d_i values based on your formula\n",
        "def compute_d_i_second(X, D5, D6, delta):\n",
        "    \"\"\"\n",
        "    Calculate the d_i values based on the provided formula.\n",
        "    \"\"\"\n",
        "    D5_value = D5(delta, X)\n",
        "    D6_value = D6(delta, X)\n",
        "\n",
        "    d_i_values = [1, (D5(delta, X) * X ) / D6(delta, X), np.pi * m0()]\n",
        "    return d_i_values\n",
        "\n",
        "\n",
        "C32_value = C3(T2, alpha, beta, a_prime, a_i_prime_values, b_prime, b_i_prime_values, compute_d_i_second(X, D5, D6, delta))\n",
        "\n",
        "print(f\"The value of C_3 at sigma_2 is: {C32_value}\")"
      ],
      "metadata": {
        "colab": {
          "base_uri": "https://localhost:8080/"
        },
        "id": "ZrXJSWjKCb42",
        "outputId": "69562e9a-180f-4777-bfdc-a146d7c14de3"
      },
      "execution_count": 98,
      "outputs": [
        {
          "output_type": "stream",
          "name": "stdout",
          "text": [
            "The value of C_3 at sigma_2 is: 42.38082568387099\n"
          ]
        }
      ]
    },
    {
      "cell_type": "code",
      "source": [
        "# Define D6\n",
        "def D6(delta, X):\n",
        "    \"\"\"\n",
        "    Calculate D_6 for given delta and X, using gamma.\n",
        "    \"\"\"\n",
        "    b3_X = b_3(X)\n",
        "    b4_X = b_4(X)\n",
        "    return (b4_X / (5 * delta * np.exp(float(gamma)))) + (b3_X * np.exp(-2 * delta)) / (np.log(X)**2)\n",
        "D6_value = D6(delta, X)\n",
        "print(f\"The value of D_6 is: {D6_value}\")"
      ],
      "metadata": {
        "colab": {
          "base_uri": "https://localhost:8080/"
        },
        "id": "Euq1y0owo-_0",
        "outputId": "7401dc76-e4c4-4965-92c3-813263b1d0f3"
      },
      "execution_count": 99,
      "outputs": [
        {
          "output_type": "stream",
          "name": "stdout",
          "text": [
            "The value of D_6 is: 0.14357651963994592\n"
          ]
        }
      ]
    },
    {
      "cell_type": "code",
      "source": [
        "C32_times_D6 = C32_value * D6_value\n",
        "print(f\"The value of C3 . D6 at sigma_2 is: {C32_times_D6}\")"
      ],
      "metadata": {
        "colab": {
          "base_uri": "https://localhost:8080/"
        },
        "id": "qcR69T5Uo-9N",
        "outputId": "72aa4e64-6823-4ff6-9825-bd12ba41763e"
      },
      "execution_count": 100,
      "outputs": [
        {
          "output_type": "stream",
          "name": "stdout",
          "text": [
            "The value of C3 . D6 at sigma_2 is: 6.084891451157427\n"
          ]
        }
      ]
    },
    {
      "cell_type": "markdown",
      "source": [
        "#SECOND EXPONENT"
      ],
      "metadata": {
        "id": "f28j4pS0q7xY"
      }
    },
    {
      "cell_type": "code",
      "source": [
        "delta = 0.36\n",
        "sigma_2 = 1 + (delta / np.log(X))\n",
        "sigma_1 = 0.5\n",
        "delta_2 = 0.35\n",
        "sigma = 0.9\n",
        "sigma_prime = sigma - (delta_2 / np.log(T2))\n",
        "exponent2 = (sigma_prime - sigma_1) / (sigma_2 - sigma_1)\n",
        "print(f\"The value of exponent2 is: {exponent2}\")"
      ],
      "metadata": {
        "colab": {
          "base_uri": "https://localhost:8080/"
        },
        "id": "4IOjEEdGo-6n",
        "outputId": "58d4e80a-7d0c-472b-a403-ba562bff6f71"
      },
      "execution_count": 101,
      "outputs": [
        {
          "output_type": "stream",
          "name": "stdout",
          "text": [
            "The value of exponent2 is: 0.7566717866239775\n"
          ]
        }
      ]
    },
    {
      "cell_type": "markdown",
      "source": [
        "#This is the final result on sigma2 (A2^exponent2):"
      ],
      "metadata": {
        "id": "hqjsCOZZrCnW"
      }
    },
    {
      "cell_type": "code",
      "source": [
        "result2 = (C32_times_D6) ** exponent2\n",
        "print(f\"The result for sigma2: {result2}\")"
      ],
      "metadata": {
        "colab": {
          "base_uri": "https://localhost:8080/"
        },
        "id": "8Mx8GeVCo-4H",
        "outputId": "575334e2-aaf7-4f87-d24f-86b9b4b19fcb"
      },
      "execution_count": 102,
      "outputs": [
        {
          "output_type": "stream",
          "name": "stdout",
          "text": [
            "The result for sigma2: 3.9212270870277846\n"
          ]
        }
      ]
    },
    {
      "cell_type": "markdown",
      "source": [
        "#This is the definition for \\tilde{C_5} as equation 4.85."
      ],
      "metadata": {
        "id": "4CaloQG-rV-5"
      }
    },
    {
      "cell_type": "code",
      "source": [
        "def tilde_C5(sigma, alpha, beta, delta, delta_2, a, a_i, b, b_i, d_i,\n",
        "              a_prime, a_i_prime, b_prime, b_i_prime, d_i_prime, T2, printing=0):\n",
        "    X = T2\n",
        "\n",
        "    sigma_2 = 1 + (delta / np.log(X))\n",
        "    sigma_1 = 0.5\n",
        "    sigma_prime = sigma - (delta_2 / np.log(T2))\n",
        "    exponent = (sigma_2 - sigma_prime) / (sigma_2 - sigma_1)\n",
        "    exponent2 = (sigma_prime - sigma_1) / (sigma_2 - sigma_1)\n",
        "    D4_value = D4(X)\n",
        "    C31_value = C3(T2, alpha, beta, a, a_i_values, b, b_i_values, compute_d_i(X, D1, D2), printing-1)\n",
        "    C31_times_D4 = C31_value * D4_value\n",
        "    D6_value = D6(delta, X)\n",
        "    D_5_value = D5(delta, X)\n",
        "    C32_value = C3(T2, alpha, beta, a_prime, a_i_prime_values, b_prime, b_i_prime_values, compute_d_i_second(X, D5, D6, delta), printing-1)\n",
        "    C32_times_D6 = C32_value * D6_value\n",
        "    tilde_C5_value = ((C31_times_D4) ** exponent) * ((C32_times_D6) ** exponent2)\n",
        "    return tilde_C5_value\n",
        "\n",
        "tilde_C5(sigma_prime, alpha, beta, delta, delta_2, a, a_i_values, b, b_i_values, compute_d_i(X, D1, D2),\n",
        "              a_prime, a_i_prime_values, b_prime, b_i_prime_values, compute_d_i_second(X, D5, D6, delta), T2,2)"
      ],
      "metadata": {
        "colab": {
          "base_uri": "https://localhost:8080/"
        },
        "id": "hrl7peZ7FoZJ",
        "outputId": "737cb620-a4fb-4db1-c32a-b0a6676b2c87"
      },
      "execution_count": 103,
      "outputs": [
        {
          "output_type": "stream",
          "name": "stdout",
          "text": [
            "C3_value is 5.473783347188228\n",
            "C3_value is 42.38082568387099\n"
          ]
        },
        {
          "output_type": "execute_result",
          "data": {
            "text/plain": [
              "4.067705422614315"
            ]
          },
          "metadata": {},
          "execution_count": 103
        }
      ]
    },
    {
      "cell_type": "markdown",
      "source": [
        "#DEFINITION OF \\breve{C_5}"
      ],
      "metadata": {
        "id": "4Lbe8rnSdAJm"
      }
    },
    {
      "cell_type": "code",
      "source": [
        "exponent2upper = 2 * (sigma - sigma_1)\n",
        "result2breve = (C32_times_D6) ** exponent2upper\n",
        "print(f\"The result for sigma2: {result2breve}\")"
      ],
      "metadata": {
        "colab": {
          "base_uri": "https://localhost:8080/"
        },
        "id": "8P7APxxl4DP7",
        "outputId": "1bf64a76-04cd-489b-a30b-27bb66c7c01d"
      },
      "execution_count": 104,
      "outputs": [
        {
          "output_type": "stream",
          "name": "stdout",
          "text": [
            "The result for sigma2: 4.240355499784314\n"
          ]
        }
      ]
    },
    {
      "cell_type": "code",
      "source": [
        "def breve_C5(sigma,alpha, beta, delta_2, a, a_i, b, b_i, d_i,\n",
        "              a_prime, a_i_prime, b_prime, b_i_prime, d_i_prime, T2, printing=0):\n",
        "    X = T2\n",
        "    sigma_2 = 1 + (delta / np.log(X))\n",
        "    sigma_1 = 0.5\n",
        "    sigma_prime = sigma - (delta_2 / np.log(T2))\n",
        "    exponent = (sigma_2 - sigma_prime) / (sigma_2 - sigma_1)\n",
        "    exponent2upper = 2 * (sigma - sigma_1)\n",
        "\n",
        "    D4_value = D4(X)\n",
        "    C31_value = C3(T2, alpha, beta, a, a_i_values, b, b_i_values, compute_d_i(X, D1, D2),printing-1)\n",
        "    C31_times_D4 = C31_value * D4_value\n",
        "    D6_value = D6(delta, X)\n",
        "    D_5_value = D5(delta, X)\n",
        "    C32_value = C3(T2, alpha, beta, a_prime, a_i_prime_values, b_prime, b_i_prime_values, compute_d_i_second(X, D5, D6, delta),printing-1)\n",
        "    C32_times_D6 = C32_value * D6_value\n",
        "    breve_C5_value = ((C31_times_D4) ** exponent) * ((C32_times_D6) ** exponent2upper)\n",
        "    return breve_C5_value\n",
        "\n",
        "breve_C5(sigma_prime, alpha, beta, delta_2, a, a_i_values, b, b_i_values, compute_d_i,\n",
        "              a_prime, a_i_prime_values, b_prime, b_i_prime_values, compute_d_i_second(X, D5, D6, delta), T2,2)"
      ],
      "metadata": {
        "colab": {
          "base_uri": "https://localhost:8080/"
        },
        "id": "jsytcGFa4abB",
        "outputId": "7ac65eda-9e65-43c3-f3d8-296f1ca7f9c0"
      },
      "execution_count": 105,
      "outputs": [
        {
          "output_type": "stream",
          "name": "stdout",
          "text": [
            "C3_value is 5.473783347188228\n",
            "C3_value is 42.38082568387099\n"
          ]
        },
        {
          "output_type": "execute_result",
          "data": {
            "text/plain": [
              "4.394025740841114"
            ]
          },
          "metadata": {},
          "execution_count": 105
        }
      ]
    },
    {
      "cell_type": "markdown",
      "source": [
        "#DEFINITION OF \\hat{C5}:"
      ],
      "metadata": {
        "id": "DaOFDT4idKXv"
      }
    },
    {
      "cell_type": "code",
      "source": [
        "sigma_1_prime = 0.9\n",
        "sigma_2_prime = 0.9"
      ],
      "metadata": {
        "id": "9JSZiQCRVZ7d"
      },
      "execution_count": 106,
      "outputs": []
    },
    {
      "cell_type": "code",
      "source": [
        "def hatC5(sigma_1_prime, sigma_2_prime, alpha, beta, delta, delta_2, a, a_i, b, b_i, d_i,\n",
        "              a_prime, a_i_prime, b_prime, b_i_prime, d_i_prime, T2,printing=0):\n",
        "    \"\"\"\n",
        "    Function to compute hat_C5 based on the conditional logic provided:\n",
        "    If A2 >= A1, it computes bre_C5(sigma_prime_2, T0, delta1, delta2).\n",
        "    Otherwise, it computes tilde_C5(sigma_prime_1, T0, delta1, delta2).\n",
        "    \"\"\"\n",
        "    X=T2\n",
        "    sigma_2 = 1 + (delta / np.log(X))\n",
        "    sigma_1 = 0.5\n",
        "\n",
        "    D4_value = D4(X)\n",
        "    C31_value = C3(T2, alpha, beta, a, a_i_values, b, b_i_values, compute_d_i(X, D1, D2), printing-1)\n",
        "    C31_times_D4 = C31_value * D4_value\n",
        "    D6_value = D6(delta, X)\n",
        "    D_5_value = D5(delta, X)\n",
        "    C32_value = C3(T2, alpha, beta, a_prime, a_i_prime_values, b_prime, b_i_prime_values, compute_d_i_second(X, D5, D6, delta), printing-1)\n",
        "    C32_times_D6 = C32_value * D6_value\n",
        "\n",
        "    if C32_times_D6 >= C31_times_D4:\n",
        "        sigma_prime = sigma_2_prime - (delta_2 / np.log(T2))\n",
        "        exponent = (sigma_2 - sigma_prime) / (sigma_2 - sigma_1)\n",
        "        exponent2upper = 2 * (sigma_2_prime - sigma_1)\n",
        "        breve_C5_value = ((C31_times_D4) ** exponent) * ((C32_times_D6) ** exponent2upper)\n",
        "        return breve_C5_value\n",
        "    else:\n",
        "        sigma_prime = sigma_1_prime - (delta_2 / np.log(T2))\n",
        "        exponent = (sigma_2 - sigma_prime) / (sigma_2 - sigma_1)\n",
        "        exponent2 = (sigma_prime - sigma_1) / (sigma_2 - sigma_1)\n",
        "        tilde_C5_value = ((C31_times_D4) ** exponent) * ((C32_times_D6) ** exponent2)\n",
        "        return tilde_C5_value\n",
        "\n",
        "\n",
        "\n",
        "hatC5_value = hatC5(sigma_1_prime, sigma_2_prime, alpha, beta, delta, delta_2, a, a_i_values, b, b_i_values, compute_d_i(X, D1, D2),\n",
        "              a_prime, a_i_prime_values, b_prime, b_i_prime_values, compute_d_i_second(X, D5, D6, delta), T2,2)\n",
        "\n",
        "print(f\"The result for hatC5 is: {hatC5_value}\")"
      ],
      "metadata": {
        "colab": {
          "base_uri": "https://localhost:8080/"
        },
        "id": "iW9eaPnvRYo-",
        "outputId": "01c71014-0fff-4f31-e611-c250362fff9f"
      },
      "execution_count": 107,
      "outputs": [
        {
          "output_type": "stream",
          "name": "stdout",
          "text": [
            "C3_value is 5.473783347188228\n",
            "C3_value is 42.38082568387099\n",
            "The result for hatC5 is: 4.5592632151091665\n"
          ]
        }
      ]
    },
    {
      "cell_type": "markdown",
      "source": [
        "# Define C1 as in equation 4.18"
      ],
      "metadata": {
        "id": "BWzlnuuusiTU"
      }
    },
    {
      "cell_type": "code",
      "source": [
        "def C1(sigma, T2, alpha, beta):\n",
        "      C1_value = np.exp(alpha * (sigma / T2)**beta)\n",
        "      return C1_value\n",
        "C1_value1 = C1(sigma_1, T2, alpha, beta)\n",
        "C1_value2 = C1(sigma_2, T2, alpha, beta)\n",
        "print(f\"The result for C1 on half line is: {C1_value1}\")\n",
        "print(f\"The result for C1 on sigma2 is: {C1_value2}\")\n",
        "C1_value1 ** exponent\n",
        "C1_value2 ** exponent2"
      ],
      "metadata": {
        "colab": {
          "base_uri": "https://localhost:8080/"
        },
        "id": "njimh5KbV8X4",
        "outputId": "b859bf27-08ea-4256-90bc-e9d6daae7097"
      },
      "execution_count": 108,
      "outputs": [
        {
          "output_type": "stream",
          "name": "stdout",
          "text": [
            "The result for C1 on half line is: 1.0\n",
            "The result for C1 on sigma2 is: 1.0\n"
          ]
        },
        {
          "output_type": "execute_result",
          "data": {
            "text/plain": [
              "1.0"
            ]
          },
          "metadata": {},
          "execution_count": 108
        }
      ]
    },
    {
      "cell_type": "markdown",
      "source": [
        "# Define C2 as in equation 4.18"
      ],
      "metadata": {
        "id": "khLLSxNOsq24"
      }
    },
    {
      "cell_type": "code",
      "source": [
        "T1 = 3 * 1e12\n",
        "def C2(sigma, T1, T2, alpha):\n",
        "      C2_value = ((1 - (1 / T1))**2) * np.exp((alpha * (sigma / T2)**2) - alpha)\n",
        "      return C2_value\n",
        "C2_value = C2(sigma_prime, T1, T2, alpha)\n",
        "print(f\"The result for C2 is: {C2_value}\")"
      ],
      "metadata": {
        "colab": {
          "base_uri": "https://localhost:8080/"
        },
        "id": "g0tGJsDxX9WU",
        "outputId": "dc92dd48-6656-4bc0-c0fa-c2470aac14e4"
      },
      "execution_count": 109,
      "outputs": [
        {
          "output_type": "stream",
          "name": "stdout",
          "text": [
            "The result for C2 is: 0.7858416263878217\n"
          ]
        }
      ]
    },
    {
      "cell_type": "markdown",
      "source": [
        "#DEFINITION OF C4"
      ],
      "metadata": {
        "id": "wtX2s6r1n8m5"
      }
    },
    {
      "cell_type": "code",
      "source": [
        "# Define C4 as in equation 4.84\n",
        "def C4(sigma, T2, T1, alpha, beta, delta, delta_2,printing=0):\n",
        "    X=T2\n",
        "    sigma_2 = 1 + (delta / np.log(X))\n",
        "    sigma_1 = 0.5\n",
        "    sigma_prime = sigma - (delta_2 / np.log(T2))\n",
        "    exponent = (sigma_2 - sigma_prime) / (sigma_2 - sigma_1)\n",
        "    exponent2 = (sigma_prime - sigma_1) / (sigma_2 - sigma_1)\n",
        "\n",
        "    C2_value = C2(sigma_prime, T1, T2, alpha)\n",
        "    C1_value1 = C1(sigma_1, T2, alpha, beta)\n",
        "    C1_value2 = C1(sigma_2, T2, alpha, beta)\n",
        "\n",
        "    C4_value =  (alpha * beta * (C1_value1**exponent) *  (C1_value2**exponent2)) / C2_value\n",
        "    return C4_value\n",
        "\n",
        "\n",
        "C4_value = C4(sigma_prime, T2, T1, alpha, beta, delta, delta_2,2)\n",
        "print(f\"The result for C4 is: {C4_value}\")"
      ],
      "metadata": {
        "colab": {
          "base_uri": "https://localhost:8080/"
        },
        "id": "Gb8SNzcmTbf4",
        "outputId": "fd2e8b46-0c10-435b-d9b9-28fa79abb28e"
      },
      "execution_count": 110,
      "outputs": [
        {
          "output_type": "stream",
          "name": "stdout",
          "text": [
            "The result for C4 is: 0.6133551390189752\n"
          ]
        }
      ]
    },
    {
      "cell_type": "markdown",
      "source": [
        "#DEFINITION OF \\HAT{C4}:(MAX OF C4):"
      ],
      "metadata": {
        "id": "9gBRO2Glz6q4"
      }
    },
    {
      "cell_type": "code",
      "source": [
        "def hatC4(sigma_1_prime, sigma_2_prime,T2, T1, alpha, beta,  delta, delta_2,printing=0):\n",
        "    hatC4_value = ((1 - (1 / T1))**-(2)) * alpha * beta * np.exp(alpha) * np.exp((alpha/(4*T2)) * (sigma_1_prime + sigma_2_prime)**2)\n",
        "    return hatC4_value\n",
        "\n",
        "hatC4_value = hatC4(sigma_1_prime, sigma_2_prime, T2, T1, alpha, beta, delta, delta_2,2)\n",
        "print(f\"The result for hatC4 is: {hatC4_value}\")"
      ],
      "metadata": {
        "colab": {
          "base_uri": "https://localhost:8080/"
        },
        "id": "iiYwPkeKTy04",
        "outputId": "e9706637-9864-40d0-8419-2b633d67cda9"
      },
      "execution_count": 111,
      "outputs": [
        {
          "output_type": "stream",
          "name": "stdout",
          "text": [
            "The result for hatC4 is: 0.6133551390190151\n"
          ]
        }
      ]
    },
    {
      "cell_type": "markdown",
      "source": [
        "#DEFINITION OF C6:"
      ],
      "metadata": {
        "id": "9LPVOA1iuPi-"
      }
    },
    {
      "cell_type": "code",
      "source": [
        "# Define C6 as in equation 4.84\n",
        "def C6(sigma, T2, a, a_prime, b, b_prime, delta, delta_2,printing=0):\n",
        "\n",
        "    sigma_prime = sigma - (delta_2 / np.log(T2))\n",
        "    sigma_2 = 1 + (delta / np.log(T2))\n",
        "    sigma_1 = 0.5\n",
        "    exponent = (sigma_2 - sigma_prime) / (sigma_2 - sigma_1)\n",
        "    exponent2 = (sigma_prime - sigma_1) / (sigma_2 - sigma_1)\n",
        "\n",
        "    numerator = (\n",
        "        T2 ** ((a * exponent) + ((a_prime - 1) * exponent2)) *\n",
        "        (np.log(T2) ** (((b + 1) * exponent) + ((b_prime + 2) * exponent2)))\n",
        "    )\n",
        "\n",
        "    # Denominator\n",
        "    denominator = (\n",
        "        T2 ** ((2 * a * (1 - sigma)) + ((a_prime - 1) * (2 * sigma - 1))) *\n",
        "        (np.log(T2) ** ((2 * (b + 1) * (1 - sigma)) + ((b_prime + 2) * (2 * sigma - 1))))\n",
        "    )\n",
        "    C6_value =  numerator / denominator\n",
        "    return C6_value\n",
        "\n",
        "\n",
        "C6_value = C6(sigma_prime, T2, a, a_prime, b, b_prime, delta, delta_2,2)\n",
        "print(f\"The result for C6 is: {C6_value}\")"
      ],
      "metadata": {
        "colab": {
          "base_uri": "https://localhost:8080/"
        },
        "id": "8HcNHq6rVySV",
        "outputId": "1cacfcb7-976b-4d1e-a36b-e8d24bbd6591"
      },
      "execution_count": 112,
      "outputs": [
        {
          "output_type": "stream",
          "name": "stdout",
          "text": [
            "The result for C6 is: 5.932302463592068\n"
          ]
        }
      ]
    },
    {
      "cell_type": "code",
      "source": [
        "def breveC6(sigma_prime, T2, a, a_prime, delta, delta_2,printing=0):\n",
        "    sigma_prime = sigma - (delta_2 / np.log(T2))\n",
        "    breveC6_value = np.exp((1+a-a_prime) * (2 * delta * (2* sigma_prime -1) + 2 * delta_2))\n",
        "    return breveC6_value\n",
        "\n",
        "\n",
        "breveC6_value = breveC6(sigma_prime, T2, a, a_prime, delta, delta_2,2)\n",
        "print(f\"The result for breveC6 is: {breveC6_value}\")"
      ],
      "metadata": {
        "colab": {
          "base_uri": "https://localhost:8080/"
        },
        "id": "8L_UPNm-o-rz",
        "outputId": "5e4ad6e6-08d5-4c24-aa8a-168645158b6b"
      },
      "execution_count": 113,
      "outputs": [
        {
          "output_type": "stream",
          "name": "stdout",
          "text": [
            "The result for breveC6 is: 5.354529565142544\n"
          ]
        }
      ]
    },
    {
      "cell_type": "markdown",
      "source": [
        "#DEFINITION OF HAT_C6"
      ],
      "metadata": {
        "id": "eGcumhZ60jvB"
      }
    },
    {
      "cell_type": "code",
      "source": [
        "def hatC6(sigma_1_prime, sigma_2_prime, a, a_prime, b, b_prime, delta, delta_2, T2,printing=0):\n",
        "    \"\"\"\n",
        "    Function to compute hat_C6 based on the conditional logic provided:\n",
        "    If b-b_prime > 1, it computes C6(sigma_2_prime, T2, a, a_prime, b, b_prime).\n",
        "    Otherwise, it computes breveC6(sigma_1_prime, T2, a, a_prime, delta, delta_2).\n",
        "\n",
        "    C6_value = C6(sigma_prime, T2, a, a_prime, b, b_prime)\n",
        "    breveC6_value = breveC6(sigma_1_prime, T2, a, a_prime, delta, delta_2)\n",
        "    Returns:\n",
        "         Value of \\(\\hat{C_6}\\).\n",
        "    \"\"\"\n",
        "    if b-b_prime > 1:\n",
        "        return  C6(sigma_2_prime, T2, a, a_prime, b, b_prime, delta, delta_2,printing-1)\n",
        "    else:\n",
        "        return breveC6(sigma_2_prime, T2, a, a_prime, delta, delta_2)\n",
        "hatC6_value = hatC6(sigma_1_prime, sigma_2_prime, a, a_prime, b, b_prime,delta, delta_2, T2,2)\n",
        "print(f\"The result for hatC6 is: {hatC6_value}\")"
      ],
      "metadata": {
        "colab": {
          "base_uri": "https://localhost:8080/"
        },
        "outputId": "565fb39a-9c0d-47d6-fdaf-f67a9c5709b8",
        "id": "-Oe6XCjnerJO"
      },
      "execution_count": 114,
      "outputs": [
        {
          "output_type": "stream",
          "name": "stdout",
          "text": [
            "The result for hatC6 is: 6.081378015582197\n"
          ]
        }
      ]
    },
    {
      "cell_type": "code",
      "source": [
        "def U(sigma_1_prime, sigma_2_prime, alpha, beta, delta, delta_2, T2, a, a_i_values, b, b_i_values, compute_d_i, D1, D2,\n",
        "              a_prime, a_i_prime_values, b_prime, b_i_prime_values, compute_d_i_second, printing=0):\n",
        "    hatC4_value = hatC4(sigma_1_prime, sigma_2_prime, T2, T1, alpha, beta,delta, delta_2, printing-1)\n",
        "    hatC5_value = hatC5(sigma_1_prime, sigma_2_prime, alpha, beta, delta, delta_2, a, a_i_values, b, b_i_values, compute_d_i(X, D1, D2),\n",
        "              a_prime, a_i_prime_values, b_prime, b_i_prime_values, compute_d_i_second(X, D5, D6, delta), T2,printing-1)\n",
        "    hatC6_value = hatC6(sigma_1_prime, sigma_2_prime, a, a_prime, b, b_prime,delta, delta_2, T2,printing-1)\n",
        "    U_value = ((hatC4_value * hatC5_value * hatC6_value)/(2 * np.pi * delta_2))\n",
        "    if printing>0:\n",
        "        print(f\"hatC4_value is: {hatC4_value}\")\n",
        "        print(f\"hatC5_value is: {hatC5_value}\")\n",
        "        print(f\"hatC6_value is: {hatC6_value}\")\n",
        "    return U_value\n",
        "\n",
        "U_value = U(sigma_1_prime, sigma_2_prime, alpha, beta, delta, delta_2, T2, a, a_i_values, b, b_i_values, compute_d_i,D1, D2,\n",
        "              a_prime, a_i_prime_values, b_prime, b_i_prime_values,compute_d_i_second,2)\n",
        "print(f\"The result for U is: {U_value}\")"
      ],
      "metadata": {
        "colab": {
          "base_uri": "https://localhost:8080/"
        },
        "id": "PipRC5sqXlgF",
        "outputId": "49f8d83a-342a-464c-8400-7c317fdfebe2"
      },
      "execution_count": 115,
      "outputs": [
        {
          "output_type": "stream",
          "name": "stdout",
          "text": [
            "hatC4_value is: 0.6133551390190151\n",
            "hatC5_value is: 4.5592632151091665\n",
            "hatC6_value is: 6.081378015582197\n",
            "The result for U is: 7.733227043952999\n"
          ]
        }
      ]
    },
    {
      "cell_type": "code",
      "source": [
        "# It takes three parameters: alpha, delta, and delta_2 and assumed the other parameters are fixed\n",
        "def U_partial(alpha, delta, delta_2):\n",
        "    return U(sigma_1_prime, sigma_2_prime, alpha, beta, delta, delta_2, T2, a, a_i_values, b, b_i_values, compute_d_i,D1, D2,\n",
        "              a_prime, a_i_prime_values, b_prime, b_i_prime_values,compute_d_i_second)\n",
        "\n",
        "\n",
        "lambdaoptX = lambda ADD: U_partial(ADD[0], ADD[1], ADD[2])\n",
        "\n",
        "# Initial guess for [alpha, delta, delta_2]\n",
        "initial_guess = [0.15, 0.33, 0.33]\n",
        "\n",
        "\n",
        "bounds = [(0, 1), (0, 1), (0, 1)]\n",
        "\n",
        "result = minimize(lambdaoptX, initial_guess, bounds=bounds, method='L-BFGS-B')\n",
        "\n",
        "optimal_params = result.x\n",
        "optimal_U = result.fun\n",
        "\n",
        "print(f\"Optimal parameters: alpha={optimal_params[0]}, delta={optimal_params[1]}, delta_2={optimal_params[2]}\")\n",
        "print(f\"Minimum value of U: {optimal_U}\")"
      ],
      "metadata": {
        "id": "cB2yvLIHf6Wp",
        "colab": {
          "base_uri": "https://localhost:8080/"
        },
        "outputId": "a6b36120-7caa-4dd1-bbb1-0872037e42b6"
      },
      "execution_count": 116,
      "outputs": [
        {
          "output_type": "stream",
          "name": "stdout",
          "text": [
            "Optimal parameters: alpha=0.2419871507835905, delta=0.36641375030212875, delta_2=0.3511175514777831\n",
            "Minimum value of U: 7.732290624302065\n"
          ]
        }
      ]
    },
    {
      "cell_type": "code",
      "source": [
        "# Define sigma_1' and sigma_2' ranges\n",
        "sigma_1_prime_values = np.arange(0.75, 0.99, 0.02)\n",
        "sigma_2_prime_values = np.arange(0.77, 0.99, 0.02)\n",
        "\n",
        "results = []\n",
        "\n",
        "min_length = min(len(sigma_1_prime_values), len(sigma_2_prime_values))\n",
        "\n",
        "for i in range(min_length):\n",
        "    sigma_1_prime = sigma_1_prime_values[i]\n",
        "    sigma_2_prime = sigma_2_prime_values[i]\n",
        "\n",
        "    def U_partial(alpha, delta, delta_2):\n",
        "        return U(sigma_1_prime, sigma_2_prime, alpha, beta, delta, delta_2, T2, a, a_i_values, b, b_i_values, compute_d_i, D1, D2,\n",
        "                  a_prime, a_i_prime_values, b_prime, b_i_prime_values, compute_d_i_second)\n",
        "\n",
        "    lambdaoptX = lambda ADD: U_partial(ADD[0], ADD[1], ADD[2])\n",
        "\n",
        "    initial_guess = [0.15, 0.33, 0.33]\n",
        "    bounds = [(0, 1), (0, 1), (0.1, 1)]\n",
        "\n",
        "    result = minimize(lambdaoptX, initial_guess, bounds=bounds, method='L-BFGS-B')\n",
        "\n",
        "    optimal_params = result.x\n",
        "    optimal_U = result.fun\n",
        "    results.append([sigma_1_prime, sigma_2_prime, optimal_params[0], optimal_params[1], optimal_params[2], optimal_U])\n",
        "\n",
        "columns = [\"Sigma_1'\", \"Sigma_2'\", \"Alpha\", \"Delta\", \"Delta_2\", \"Min U\"]\n",
        "df_results = pd.DataFrame(results, columns=columns)\n",
        "\n",
        "print(df_results)"
      ],
      "metadata": {
        "colab": {
          "base_uri": "https://localhost:8080/"
        },
        "id": "ndXE53-zQZ6v",
        "outputId": "a1e83686-303d-4de7-f0d9-8bd3674e8697"
      },
      "execution_count": 117,
      "outputs": [
        {
          "output_type": "stream",
          "name": "stdout",
          "text": [
            "    Sigma_1'  Sigma_2'     Alpha     Delta   Delta_2      Min U\n",
            "0       0.75      0.77  0.386811  0.379884  0.358105   3.848096\n",
            "1       0.77      0.79  0.364310  0.377590  0.357185   4.303122\n",
            "2       0.79      0.81  0.341859  0.375429  0.356220   4.804979\n",
            "3       0.81      0.83  0.319477  0.373362  0.355203   5.357106\n",
            "4       0.83      0.85  0.297181  0.371355  0.354126   5.962880\n",
            "5       0.85      0.87  0.274994  0.369378  0.352982   6.625508\n",
            "6       0.87      0.89  0.252947  0.367406  0.351761   7.347899\n",
            "7       0.89      0.91  0.231077  0.365414  0.350450   8.132489\n",
            "8       0.91      0.93  0.209432  0.363378  0.349037   8.981032\n",
            "9       0.93      0.95  0.188078  0.361274  0.347508   9.894318\n",
            "10      0.95      0.97  0.167096  0.359076  0.345841  10.871848\n"
          ]
        }
      ]
    },
    {
      "cell_type": "code",
      "source": [
        "latex_table = df_results.to_latex(index=False, escape=False)\n",
        "\n",
        "print(latex_table)"
      ],
      "metadata": {
        "colab": {
          "base_uri": "https://localhost:8080/"
        },
        "id": "-aNyuG3oSl43",
        "outputId": "b88c2291-43aa-41d6-af2b-d884fe0f8ccb"
      },
      "execution_count": 118,
      "outputs": [
        {
          "output_type": "stream",
          "name": "stdout",
          "text": [
            "\\begin{tabular}{rrrrrr}\n",
            "\\toprule\n",
            "Sigma_1' & Sigma_2' & Alpha & Delta & Delta_2 & Min U \\\\\n",
            "\\midrule\n",
            "0.750000 & 0.770000 & 0.386811 & 0.379884 & 0.358105 & 3.848096 \\\\\n",
            "0.770000 & 0.790000 & 0.364310 & 0.377590 & 0.357185 & 4.303122 \\\\\n",
            "0.790000 & 0.810000 & 0.341859 & 0.375429 & 0.356220 & 4.804979 \\\\\n",
            "0.810000 & 0.830000 & 0.319477 & 0.373362 & 0.355203 & 5.357106 \\\\\n",
            "0.830000 & 0.850000 & 0.297181 & 0.371355 & 0.354126 & 5.962880 \\\\\n",
            "0.850000 & 0.870000 & 0.274994 & 0.369378 & 0.352982 & 6.625508 \\\\\n",
            "0.870000 & 0.890000 & 0.252947 & 0.367406 & 0.351761 & 7.347899 \\\\\n",
            "0.890000 & 0.910000 & 0.231077 & 0.365414 & 0.350450 & 8.132489 \\\\\n",
            "0.910000 & 0.930000 & 0.209432 & 0.363378 & 0.349037 & 8.981032 \\\\\n",
            "0.930000 & 0.950000 & 0.188078 & 0.361274 & 0.347508 & 9.894318 \\\\\n",
            "0.950000 & 0.970000 & 0.167096 & 0.359076 & 0.345841 & 10.871848 \\\\\n",
            "\\bottomrule\n",
            "\\end{tabular}\n",
            "\n"
          ]
        }
      ]
    },
    {
      "cell_type": "code",
      "source": [
        "sigma_values = np.linspace(0.75, 0.99, 20)\n",
        "\n",
        "results = []\n",
        "\n",
        "for sigma in sigma_values:\n",
        "    sigma_1_prime = sigma_2_prime = sigma  #just for one point\n",
        "\n",
        "    def U_partial(alpha, delta, delta_2):\n",
        "        return U(sigma_1_prime, sigma_2_prime, alpha, beta, delta, delta_2, T2, a, a_i_values, b, b_i_values, compute_d_i, D1, D2,\n",
        "                  a_prime, a_i_prime_values, b_prime, b_i_prime_values, compute_d_i_second)\n",
        "\n",
        "    lambdaoptX = lambda ADD: U_partial(ADD[0], ADD[1], ADD[2])\n",
        "\n",
        "    initial_guess = [0.15, 0.33, 0.33]\n",
        "    bounds = [(0, 1), (0, 1), (0.1, 1)]\n",
        "\n",
        "    result = minimize(lambdaoptX, initial_guess, bounds=bounds, method='L-BFGS-B')\n",
        "\n",
        "    optimal_params = result.x\n",
        "    optimal_U = result.fun\n",
        "    results.append([sigma, optimal_params[0], optimal_params[1], optimal_params[2], optimal_U])\n",
        "\n",
        "columns = [\"Sigma\", \"Alpha\", \"Delta\", \"Delta_2\", \"Min U\"]\n",
        "df_results = pd.DataFrame(results, columns=columns)\n",
        "\n",
        "print(df_results)"
      ],
      "metadata": {
        "id": "xz-mUmCLf6UZ",
        "colab": {
          "base_uri": "https://localhost:8080/"
        },
        "outputId": "1aee0186-8727-4687-d3c4-fefb86c2e885"
      },
      "execution_count": 119,
      "outputs": [
        {
          "output_type": "stream",
          "name": "stderr",
          "text": [
            "<ipython-input-92-6594859c24f2>:27: IntegrationWarning: The integral is probably divergent, or slowly convergent.\n",
            "  result, _ = quad(integrand, 0, np.inf)\n",
            "<ipython-input-92-6594859c24f2>:27: IntegrationWarning: The algorithm does not converge.  Roundoff error is detected\n",
            "  in the extrapolation table.  It is assumed that the requested tolerance\n",
            "  cannot be achieved, and that the returned result (if full_output = 1) is \n",
            "  the best which can be obtained.\n",
            "  result, _ = quad(integrand, 0, np.inf)\n",
            "<ipython-input-92-6594859c24f2>:27: IntegrationWarning: The maximum number of subdivisions (50) has been achieved.\n",
            "  If increasing the limit yields no improvement it is advised to analyze \n",
            "  the integrand in order to determine the difficulties.  If the position of a \n",
            "  local difficulty can be determined (singularity, discontinuity) one will \n",
            "  probably gain from splitting up the interval and calling the integrator \n",
            "  on the subranges.  Perhaps a special-purpose integrator should be used.\n",
            "  result, _ = quad(integrand, 0, np.inf)\n"
          ]
        },
        {
          "output_type": "stream",
          "name": "stdout",
          "text": [
            "       Sigma     Alpha     Delta   Delta_2      Min U\n",
            "0   0.750000  0.409355  0.382366  0.358985   3.436473\n",
            "1   0.762632  0.395113  0.380774  0.358433   3.691576\n",
            "2   0.775263  0.380886  0.379264  0.357867   3.963493\n",
            "3   0.787895  0.366676  0.377824  0.357284   4.253079\n",
            "4   0.800526  0.352486  0.376438  0.356682   4.561201\n",
            "5   0.813158  0.338321  0.375097  0.356064   4.888727\n",
            "6   0.825789  0.324182  0.373792  0.355422   5.236522\n",
            "7   0.838421  0.310077  0.372512  0.354757   5.605440\n",
            "8   0.851053  0.296010  0.371250  0.354068   5.996311\n",
            "9   0.863684  0.281987  0.370000  0.353351   6.409931\n",
            "10  0.876316  0.268016  0.368756  0.352606   6.847048\n",
            "11  0.888947  0.254104  0.367510  0.351827   7.308346\n",
            "12  0.901579  0.240261  0.366256  0.351014   7.794423\n",
            "13  0.914211  0.226500  0.364988  0.350161   8.305772\n",
            "14  0.926842  0.212833  0.363703  0.349268   8.842754\n",
            "15  0.939474  0.199276  0.362392  0.348329   9.405566\n",
            "16  0.952105  0.185850  0.361047  0.347339   9.994213\n",
            "17  0.964737  0.172576  0.359665  0.346294  10.608464\n",
            "18  0.977368  0.159482  0.358236  0.345188  11.247809\n",
            "19  0.990000  0.000000  1.000000  1.000000   0.000000\n"
          ]
        }
      ]
    },
    {
      "cell_type": "code",
      "source": [
        "latex_table = df_results.to_latex(index=False, escape=False)\n",
        "\n",
        "print(latex_table)"
      ],
      "metadata": {
        "colab": {
          "base_uri": "https://localhost:8080/"
        },
        "id": "hznLVR2BUEMR",
        "outputId": "d4f7e823-c25e-41ab-a5d2-fa3c05f66bec"
      },
      "execution_count": 120,
      "outputs": [
        {
          "output_type": "stream",
          "name": "stdout",
          "text": [
            "\\begin{tabular}{rrrrr}\n",
            "\\toprule\n",
            "Sigma & Alpha & Delta & Delta_2 & Min U \\\\\n",
            "\\midrule\n",
            "0.750000 & 0.409355 & 0.382366 & 0.358985 & 3.436473 \\\\\n",
            "0.762632 & 0.395113 & 0.380774 & 0.358433 & 3.691576 \\\\\n",
            "0.775263 & 0.380886 & 0.379264 & 0.357867 & 3.963493 \\\\\n",
            "0.787895 & 0.366676 & 0.377824 & 0.357284 & 4.253079 \\\\\n",
            "0.800526 & 0.352486 & 0.376438 & 0.356682 & 4.561201 \\\\\n",
            "0.813158 & 0.338321 & 0.375097 & 0.356064 & 4.888727 \\\\\n",
            "0.825789 & 0.324182 & 0.373792 & 0.355422 & 5.236522 \\\\\n",
            "0.838421 & 0.310077 & 0.372512 & 0.354757 & 5.605440 \\\\\n",
            "0.851053 & 0.296010 & 0.371250 & 0.354068 & 5.996311 \\\\\n",
            "0.863684 & 0.281987 & 0.370000 & 0.353351 & 6.409931 \\\\\n",
            "0.876316 & 0.268016 & 0.368756 & 0.352606 & 6.847048 \\\\\n",
            "0.888947 & 0.254104 & 0.367510 & 0.351827 & 7.308346 \\\\\n",
            "0.901579 & 0.240261 & 0.366256 & 0.351014 & 7.794423 \\\\\n",
            "0.914211 & 0.226500 & 0.364988 & 0.350161 & 8.305772 \\\\\n",
            "0.926842 & 0.212833 & 0.363703 & 0.349268 & 8.842754 \\\\\n",
            "0.939474 & 0.199276 & 0.362392 & 0.348329 & 9.405566 \\\\\n",
            "0.952105 & 0.185850 & 0.361047 & 0.347339 & 9.994213 \\\\\n",
            "0.964737 & 0.172576 & 0.359665 & 0.346294 & 10.608464 \\\\\n",
            "0.977368 & 0.159482 & 0.358236 & 0.345188 & 11.247809 \\\\\n",
            "0.990000 & 0.000000 & 1.000000 & 1.000000 & 0.000000 \\\\\n",
            "\\bottomrule\n",
            "\\end{tabular}\n",
            "\n"
          ]
        }
      ]
    }
  ]
}