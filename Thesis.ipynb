{
  "nbformat": 4,
  "nbformat_minor": 0,
  "metadata": {
    "colab": {
      "provenance": [],
      "authorship_tag": "ABX9TyOJZmatMea+2JyBdVS0O5EW",
      "include_colab_link": true
    },
    "kernelspec": {
      "name": "python3",
      "display_name": "Python 3"
    },
    "language_info": {
      "name": "python"
    }
  },
  "cells": [
    {
      "cell_type": "markdown",
      "metadata": {
        "id": "view-in-github",
        "colab_type": "text"
      },
      "source": [
        "<a href=\"https://colab.research.google.com/github/golnoushfarzan/Thesis/blob/main/Thesis.ipynb\" target=\"_parent\"><img src=\"https://colab.research.google.com/assets/colab-badge.svg\" alt=\"Open In Colab\"/></a>"
      ]
    },
    {
      "cell_type": "code",
      "source": [
        "import numpy as np\n",
        "#this one is used to compute binomial coefficients (for C_3)\n",
        "from scipy.special import comb\n",
        "#This one is used for numerical integration of a given function over a specified interval (for I term)\n",
        "from scipy.integrate import quad\n",
        "import mpmath\n",
        "from functools import partial # This one is used to create a version of a function with some arguments fixed(for optimization)\n",
        "from scipy.optimize import minimize\n",
        "import pandas as pd\n",
        "from scipy.special import gamma #For optimization of error term\n",
        "import matplotlib.pyplot as plt"
      ],
      "metadata": {
        "id": "cSERG_96o_P4"
      },
      "execution_count": 254,
      "outputs": []
    },
    {
      "cell_type": "markdown",
      "source": [
        "#This is the computation for C3 on the half line:"
      ],
      "metadata": {
        "id": "vSck010kpfI0"
      }
    },
    {
      "cell_type": "code",
      "source": [
        "# Define C3 function as in equation 2.25. This one is for \\sigma_1\n",
        "\n",
        "# Define b1(X_0) based on the provided formula in equation 3.11\n",
        "def b1(X_0):\n",
        "    return (6 / np.pi**2) + (0.1333 / np.sqrt(X_0))\n",
        "\n",
        "# Define m_0 based on the provided formula in equation 2.82\n",
        "def m0():\n",
        "    return np.sqrt(1 + (2 / 3) * np.sqrt(6 / 5))\n",
        "\n",
        "# Define b2(X_0) as a constant value in eq 3.15\n",
        "def b2(X_0):\n",
        "    return 1.048  # Given value for b2(X_0) for X_0 \\geq 1000\n",
        "\n",
        "# Define D1 and D2 as given in equation 4.25\n",
        "def D1(X):\n",
        "    return 6 / np.pi**2 + b2(X) / np.log(X)\n",
        "\n",
        "def D2(X):\n",
        "    return (np.pi * m0() * b1(X) / np.log(X)) + (6 * m0() / (np.pi * X)) + (np.pi * m0() * b2(X) / (X * np.log(X)))\n",
        "\n",
        "# Define the integral I_alpha_beta as in equation \\eqref{eq:2.23} (2.25)\n",
        "def I_alpha_beta(A, n, alpha, beta):\n",
        "    def integrand(x):\n",
        "        return x**A * np.exp(-alpha * x**beta) * (np.log(x)**n)\n",
        "\n",
        "    result, _ = quad(integrand, 0, np.inf)\n",
        "    return result\n",
        "\n",
        "# Define constants(Example value)\n",
        "X = 3e12\n",
        "T2 =  3e12\n",
        "alpha = 0.241\n",
        "beta = 2\n",
        "\n",
        "j_1 = 0.618\n",
        "j_3 = float(mpmath.zeta(1/2)**2)\n",
        "\n",
        "a = 4/3\n",
        "b = 2\n",
        "# List of values for a_i, b_i, and d_i based on the table of 4.1 (for sigma_1)\n",
        "a_i_values = [0, -1/6, -1/3, -1/3, -1/2, -2/3, -1, -7/6, -4/3, -4/3, -3/2, -5/3]\n",
        "b_i_values = [0, 0, 0, -2, -2, -2, 0, 0, 0, -2, -2, -2]\n",
        "\n",
        "def compute_d_i(X, D1, D2):\n",
        "    \"\"\"\n",
        "    Calculate the d_i values based on the provided formula.\n",
        "    \"\"\"\n",
        "\n",
        "    d_i_values = [1,\n",
        "                  2 / np.sqrt(D1(X) * np.log(X)),\n",
        "                  1 / (D1(X) * np.log(X)),\n",
        "                  j_3 / j_1**2,\n",
        "                  j_3 / (j_1**2 * np.sqrt(D1(X) * np.log(X))),\n",
        "                  j_3 / (2 * j_1**2 * D1(X) * np.log(X)),\n",
        "                  (X * D2(X)) / D1(X),\n",
        "                  2 * X * D2(X) / (D1(X) * np.sqrt(D1(X) * np.log(X))),\n",
        "                  (X * D2(X)) / (D1(X)**2 * np.log(X)),\n",
        "                  j_3 * D2(X) * X / (2 * j_1**2 * D1(X)),\n",
        "                  j_3 * D2(X) * X / (j_1**2 * D1(X) * np.sqrt(D1(X) * np.log(X))),\n",
        "                  j_3 * D2(X) * X / (j_1**2 * D1(X)**2 * np.log(X))]\n",
        "    return d_i_values\n",
        "\n",
        "\n",
        "# Define the d_i values based on the formula\n",
        "#def compute_d_i(i, X, D1, D2, j_1, j_3):\n",
        "    \"\"\"\n",
        "    Calculate the d_i values based on the provided formula.\n",
        "    \"\"\"\n",
        "\"\"\"\n",
        "    D1_value = D1(X)\n",
        "    D2_value = D2(X)\n",
        "\n",
        "    if i == 0:\n",
        "        return 1\n",
        "    elif i == 1:\n",
        "        return 2 / np.sqrt(D1(X) * np.log(X))\n",
        "    elif i == 2:\n",
        "        return 1 / (D1(X) * np.log(X))\n",
        "    elif i == 3:\n",
        "        return j_3 / j_1**2\n",
        "    elif i == 4:\n",
        "        return j_3 / (j_1**2 * np.sqrt(D1(X) * np.log(X)))\n",
        "    elif i == 5:\n",
        "        return j_3 / (2 * j_1**2 * D1(X) * np.log(X))\n",
        "    elif i == 6:\n",
        "        return (X * D2(X)) / D1(X)\n",
        "    elif i == 7:\n",
        "        return 2 * X * D2(X) / (D1(X) * np.sqrt(D1(X) * np.log(X)))\n",
        "    elif i == 8:\n",
        "        return (X * D2(X)) / (D1(X)**2 * np.log(X))\n",
        "    elif i == 9:\n",
        "        return j_3 * D2(X) * X / (2 * j_1**2 * D1(X))\n",
        "    elif i == 10:\n",
        "        return j_3 * D2(X) * X / (j_1**2 * D1(X) * np.sqrt(D1(X) * np.log(X)))\n",
        "    elif i == 11:\n",
        "        return j_3 * D2(X) * X / (j_1**2 * D1(X)**2 * np.log(X))\n",
        "\"\"\"\n",
        "\n",
        "\n",
        "\n",
        "# Define C3 function as equation 2.25. This one is for \\sigma_1\n",
        "def C3(T2, alpha, beta, a, a_i_values, b, b_i_values,  d_i_values, printing=0):\n",
        "    log_T = np.log(T2)\n",
        "\n",
        "    C31_value = 0\n",
        "\n",
        "    for i in range(len(a_i_values)):\n",
        "        a_i = a_i_values[i]\n",
        "        b_i = b_i_values[i]\n",
        "        d_i = d_i_values[i]\n",
        "        # Calculate d_i using the function for d_i\n",
        "\n",
        "        inner_sum = 0\n",
        "        # Summation over k\n",
        "        for k in range(b + b_i + 1):\n",
        "            binomial_coeff = comb(b + b_i, k)\n",
        "            integral_value = I_alpha_beta(beta + a + a_i - 1, b + b_i - k, alpha, beta)\n",
        "            inner_sum += binomial_coeff * integral_value / (log_T**(b + b_i - k))\n",
        "\n",
        "        # definition of C3\n",
        "        C31_value += d_i * T2**a_i * (log_T**b_i) * inner_sum\n",
        "\n",
        "    if printing > 0:\n",
        "        print(f\"C3_value is {C31_value}\")\n",
        "    return C31_value\n",
        "\n",
        "C31_value = C3(T2, alpha, beta, a, a_i_values, b, b_i_values, compute_d_i(X, D1, D2))\n",
        "print(f\"The value of C_3 on the half line is: {C31_value}\")"
      ],
      "metadata": {
        "colab": {
          "base_uri": "https://localhost:8080/"
        },
        "id": "4CwQU-2IBPrz",
        "outputId": "cbce83e8-07c7-48ec-deaf-a89c32f146b1"
      },
      "execution_count": 255,
      "outputs": [
        {
          "output_type": "stream",
          "name": "stdout",
          "text": [
            "The value of C_3 on the half line is: 5.473783347188228\n"
          ]
        }
      ]
    },
    {
      "cell_type": "code",
      "source": [
        "a_second = 109/82\n",
        "b_second = 0\n",
        "# List of values for a_i, b_i, and d_i based on the table of 4.1 (for sigma_1)\n",
        "a_i_values_second = [0, -27/164, -27/82, -27/82, -81/164, -109/164, -1, -191/164, -109/82, -109/82, -164/81, -136/82]\n",
        "b_i_values_second = [0, 0, 0, 0, 0, 0, 0, 0, 0, 0, 0, 0]\n",
        "omega_5 = 66.7\n",
        "omega_7 = mpmath.zeta(1/2) ** 2\n",
        "\n",
        "def compute_second_d_i(X, D1, D2):\n",
        "    \"\"\"\n",
        "    Calculate the d_i values based on the provided formula.\n",
        "    \"\"\"\n",
        "    D1_value = D1(X)\n",
        "    D2_value = D2(X)\n",
        "\n",
        "    d_i_values_second = [1,\n",
        "                  2 /(omega_5 * (np.sqrt(D1(X) * np.log(X)))),\n",
        "                  omega_7 / (omega_5**2),\n",
        "                  1 / (D1(X) * (omega_5**2) * np.log(X)),\n",
        "                  (2 * omega_7) / (((omega_5**3)) * np.sqrt(D1(X) * np.log(X))),\n",
        "                  omega_7 / (omega_5**4 * D1(X) * np.log(X)),\n",
        "                  (X * D2(X)) / D1(X),\n",
        "                  (2 * X * D2(X)) / (D1(X) * np.sqrt(D1(X) * np.log(X))),\n",
        "                  (X * D2(X) * omega_7) / (D1(X) * omega_5**2),\n",
        "                  (D2(X) * X) / (2 * D1(X)**2 * omega_5**2 * np.log(X) ),\n",
        "                  (2 * omega_7 * D2(X) * X) / (omega_5**3 * D1(X) * np.sqrt(D1(X) * np.log(X))),\n",
        "                  (omega_7 * D2(X) * X) / (2 * omega_5**4 * D1(X)**2 * np.log(X))]\n",
        "    return d_i_values_second\n",
        "\n",
        "\n",
        "C31_value_s = C3(T2, alpha, beta, a_second, a_i_values_second, b_second, b_i_values_second, compute_second_d_i(X, D1, D2))\n",
        "\n",
        "print(f\"The second version of C_3 at sigma_1 is: {C31_value_s}\")\n",
        "# Define D4' as equation 4.54\n",
        "\n",
        "def D4prime(X):\n",
        "    return D1(X) * (omega_5 ** 2)\n",
        "\n",
        "D4prime_value = D4prime(X)\n",
        "print(f\"The value of D_4' is: {D4prime_value}\")"
      ],
      "metadata": {
        "colab": {
          "base_uri": "https://localhost:8080/"
        },
        "id": "tTRAhNy8k--v",
        "outputId": "32a4b6d4-9107-405f-da7d-16f4962084c6"
      },
      "execution_count": 256,
      "outputs": [
        {
          "output_type": "stream",
          "name": "stdout",
          "text": [
            "The second version of C_3 at sigma_1 is: 5.15234699639508\n",
            "The value of D_4' is: 2866.8874805874652\n"
          ]
        }
      ]
    },
    {
      "cell_type": "code",
      "source": [
        "# Define D4 as equation 4.54\n",
        "j_1 = 0.618\n",
        "def D4(X):\n",
        "    return D1(X) * (j_1 ** 2)\n",
        "\n",
        "D4_value = D4(X)\n",
        "print(f\"The value of D_4 is: {D4_value}\")"
      ],
      "metadata": {
        "colab": {
          "base_uri": "https://localhost:8080/"
        },
        "id": "R1pmiYPz6liJ",
        "outputId": "551220b0-d510-43a0-d8a3-f078957a1d33"
      },
      "execution_count": 257,
      "outputs": [
        {
          "output_type": "stream",
          "name": "stdout",
          "text": [
            "The value of D_4 is: 0.24611377987225733\n"
          ]
        }
      ]
    },
    {
      "cell_type": "code",
      "source": [
        "log_X = np.log(X)\n",
        "print(f\"The value of log_X is: {log_X}\")"
      ],
      "metadata": {
        "colab": {
          "base_uri": "https://localhost:8080/"
        },
        "id": "XylU0L0_Mp-K",
        "outputId": "5fa963f8-e2b1-45d6-c044-1f1d0ca9243a"
      },
      "execution_count": 258,
      "outputs": [
        {
          "output_type": "stream",
          "name": "stdout",
          "text": [
            "The value of log_X is: 28.729633404596658\n"
          ]
        }
      ]
    },
    {
      "cell_type": "code",
      "source": [
        "C31_times_D4 = C31_value * D4_value\n",
        "print(f\"The value of C3 . D4 on the half line is: {C31_times_D4}\")\n",
        "C31_times_D4_prime = C31_value_s * D4prime_value\n",
        "print(f\"The value of C3 . D4' on the half line is: {C31_times_D4_prime}\")"
      ],
      "metadata": {
        "id": "AiSm9cpZ7xVf",
        "colab": {
          "base_uri": "https://localhost:8080/"
        },
        "outputId": "813a563e-b55f-4ba4-cd0e-1e38108aa955"
      },
      "execution_count": 259,
      "outputs": [
        {
          "output_type": "stream",
          "name": "stdout",
          "text": [
            "The value of C3 . D4 on the half line is: 1.3471735097783113\n",
            "The value of C3 . D4' on the half line is: 14771.1990996075\n"
          ]
        }
      ]
    },
    {
      "cell_type": "markdown",
      "source": [
        "#FIRST EXPONENT"
      ],
      "metadata": {
        "id": "v7CNAi1Ep9tE"
      }
    },
    {
      "cell_type": "code",
      "source": [
        "delta = 0.36\n",
        "sigma_2 = 1 + (delta / log_X)\n",
        "sigma_1 = 0.5\n",
        "delta_2 = 0.35\n",
        "sigma = 0.9\n",
        "sigma_prime = sigma - (delta_2 / np.log(T2))\n",
        "exponent = (sigma_2 - sigma_prime) / (sigma_2 - sigma_1)\n",
        "print(f\"The value of exponent is: {exponent}\")"
      ],
      "metadata": {
        "colab": {
          "base_uri": "https://localhost:8080/"
        },
        "id": "Np5TroVza575",
        "outputId": "09a08f1b-0c1c-4bea-fb1d-7300daacddf2"
      },
      "execution_count": 260,
      "outputs": [
        {
          "output_type": "stream",
          "name": "stdout",
          "text": [
            "The value of exponent is: 0.24332821337602245\n"
          ]
        }
      ]
    },
    {
      "cell_type": "markdown",
      "source": [
        "#This is the final result on the half line (A1^exponent):"
      ],
      "metadata": {
        "id": "KwukOpqxqVa1"
      }
    },
    {
      "cell_type": "code",
      "source": [
        "result1 = (C31_times_D4) ** exponent\n",
        "print(f\"The result for the half line: {result1}\")\n",
        "result1_s= (C31_times_D4_prime) ** exponent\n",
        "print(f\"The result for the half line: {result1_s}\")"
      ],
      "metadata": {
        "colab": {
          "base_uri": "https://localhost:8080/"
        },
        "id": "Ig344afOo_Ex",
        "outputId": "66889550-46fa-4a20-cdf9-6e652de6a359"
      },
      "execution_count": 261,
      "outputs": [
        {
          "output_type": "stream",
          "name": "stdout",
          "text": [
            "The result for the half line: 1.0752077780603713\n",
            "The result for the half line: 10.3403796847098\n"
          ]
        }
      ]
    },
    {
      "cell_type": "markdown",
      "source": [
        "#This is the computation for C3 on the sigme2:"
      ],
      "metadata": {
        "id": "WcV2YZr6qiJ-"
      }
    },
    {
      "cell_type": "code",
      "source": [
        "# Define C3 function as in equation 2.25. This one is for \\sigma_2\n",
        "gamma = mpmath.euler\n",
        "# Define b_4 function based on the given equation 3.40\n",
        "def b_4(X_0):\n",
        "    return 0.428 + 0.895 / np.log(X_0)\n",
        "\n",
        "# Define b3(X_0) as a constant value in eq 3.21\n",
        "def b_3(X_0):\n",
        "    return 0.605  # Given value for b2(X_0) for X_0 \\geq 1000\n",
        "\n",
        "# Define m_0 based on the provided formula in equation 2.82\n",
        "def m0():\n",
        "    return np.sqrt(1 + (2 / 3) * np.sqrt(6 / 5))\n",
        "\n",
        "# Define D_5 and D_6 based on the given equations\n",
        "def D5(delta, X):\n",
        "    \"\"\"\n",
        "    Calculate D_5 for given delta and X, using m0 and gamma.\n",
        "    \"\"\"\n",
        "    b4_X = b_4(X)\n",
        "    return (np.pi * m0() * b4_X) / (2 * delta) * np.exp((2 * delta * float(gamma) / np.log(X)))\n",
        "\n",
        "def D6(delta, X):\n",
        "    \"\"\"\n",
        "    Calculate D_6 for given delta and X, using gamma.\n",
        "    \"\"\"\n",
        "    b3_X = b_3(X)\n",
        "    b4_X = b_4(X)\n",
        "    return (b4_X / (5 * delta * np.exp(float(gamma)))) + (b3_X * np.exp(-2 * delta)) / (np.log(X)**2)\n",
        "\n",
        "\n",
        "# Define constants(Example value)\n",
        "X = 3e12\n",
        "T2 = 3e12\n",
        "alpha = 0.241\n",
        "beta = 2\n",
        "a_prime = 1\n",
        "b_prime = 0\n",
        "\n",
        "# List of values for a_i', b_i', and d_i' based on the table of 4.3 (for sigma_2)\n",
        "a_i_prime_values = [0, -1, -1]\n",
        "b_i_prime_values = [0, 0, 0]\n",
        "\n",
        "# Define the d_i values based on your formula\n",
        "def compute_d_i_second(X, D5, D6, delta):\n",
        "    \"\"\"\n",
        "    Calculate the d_i values based on the provided formula.\n",
        "    \"\"\"\n",
        "    D5_value = D5(delta, X)\n",
        "    D6_value = D6(delta, X)\n",
        "\n",
        "    d_i_values = [1, (D5(delta, X) * X ) / D6(delta, X), np.pi * m0()]\n",
        "    return d_i_values\n",
        "\n",
        "\n",
        "C32_value = C3(T2, alpha, beta, a_prime, a_i_prime_values, b_prime, b_i_prime_values, compute_d_i_second(X, D5, D6, delta))\n",
        "\n",
        "print(f\"The value of C_3 at sigma_2 is: {C32_value}\")"
      ],
      "metadata": {
        "colab": {
          "base_uri": "https://localhost:8080/"
        },
        "id": "ZrXJSWjKCb42",
        "outputId": "c84bd0f1-9499-442c-98bd-a7cdb71ab2c1"
      },
      "execution_count": 262,
      "outputs": [
        {
          "output_type": "stream",
          "name": "stdout",
          "text": [
            "The value of C_3 at sigma_2 is: 42.38082568387099\n"
          ]
        }
      ]
    },
    {
      "cell_type": "code",
      "source": [
        "# Define D6\n",
        "def D6(delta, X):\n",
        "    \"\"\"\n",
        "    Calculate D_6 for given delta and X, using gamma.\n",
        "    \"\"\"\n",
        "    b3_X = b_3(X)\n",
        "    b4_X = b_4(X)\n",
        "    return (b4_X / (5 * delta * np.exp(float(gamma)))) + (b3_X * np.exp(-2 * delta)) / (np.log(X)**2)\n",
        "D6_value = D6(delta, X)\n",
        "print(f\"The value of D_6 is: {D6_value}\")"
      ],
      "metadata": {
        "colab": {
          "base_uri": "https://localhost:8080/"
        },
        "id": "Euq1y0owo-_0",
        "outputId": "2179cf4f-8804-456a-a553-474bf6aa49eb"
      },
      "execution_count": 263,
      "outputs": [
        {
          "output_type": "stream",
          "name": "stdout",
          "text": [
            "The value of D_6 is: 0.14357651963994592\n"
          ]
        }
      ]
    },
    {
      "cell_type": "code",
      "source": [
        "C32_times_D6 = C32_value * D6_value\n",
        "print(f\"The value of C3 . D6 at sigma_2 is: {C32_times_D6}\")"
      ],
      "metadata": {
        "colab": {
          "base_uri": "https://localhost:8080/"
        },
        "id": "qcR69T5Uo-9N",
        "outputId": "3abb6183-223e-4623-b06f-4dec14feeee0"
      },
      "execution_count": 264,
      "outputs": [
        {
          "output_type": "stream",
          "name": "stdout",
          "text": [
            "The value of C3 . D6 at sigma_2 is: 6.084891451157427\n"
          ]
        }
      ]
    },
    {
      "cell_type": "markdown",
      "source": [
        "#SECOND EXPONENT"
      ],
      "metadata": {
        "id": "f28j4pS0q7xY"
      }
    },
    {
      "cell_type": "code",
      "source": [
        "delta = 0.36\n",
        "sigma_2 = 1 + (delta / np.log(X))\n",
        "sigma_1 = 0.5\n",
        "delta_2 = 0.35\n",
        "sigma = 0.9\n",
        "sigma_prime = sigma - (delta_2 / np.log(T2))\n",
        "exponent2 = (sigma_prime - sigma_1) / (sigma_2 - sigma_1)\n",
        "print(f\"The value of exponent2 is: {exponent2}\")"
      ],
      "metadata": {
        "colab": {
          "base_uri": "https://localhost:8080/"
        },
        "id": "4IOjEEdGo-6n",
        "outputId": "b96b4e97-acbf-46b8-e243-e520c9fa1feb"
      },
      "execution_count": 265,
      "outputs": [
        {
          "output_type": "stream",
          "name": "stdout",
          "text": [
            "The value of exponent2 is: 0.7566717866239775\n"
          ]
        }
      ]
    },
    {
      "cell_type": "markdown",
      "source": [
        "#This is the final result on sigma2 (A2^exponent2):"
      ],
      "metadata": {
        "id": "hqjsCOZZrCnW"
      }
    },
    {
      "cell_type": "code",
      "source": [
        "result2 = (C32_times_D6) ** exponent2\n",
        "print(f\"The result for sigma2: {result2}\")"
      ],
      "metadata": {
        "colab": {
          "base_uri": "https://localhost:8080/"
        },
        "id": "8Mx8GeVCo-4H",
        "outputId": "c5047b0b-56e9-4fb8-b770-77f97f6e1498"
      },
      "execution_count": 266,
      "outputs": [
        {
          "output_type": "stream",
          "name": "stdout",
          "text": [
            "The result for sigma2: 3.9212270870277846\n"
          ]
        }
      ]
    },
    {
      "cell_type": "markdown",
      "source": [
        "#This is the definition for \\tilde{C_5} as equation 4.85."
      ],
      "metadata": {
        "id": "4CaloQG-rV-5"
      }
    },
    {
      "cell_type": "code",
      "source": [
        "def tilde_C5(sigma, alpha, beta, delta, delta_2, a, a_i, b, b_i, d_i,\n",
        "              a_prime, a_i_prime, b_prime, b_i_prime, d_i_prime, T2, printing=0):\n",
        "    X = T2\n",
        "\n",
        "    sigma_2 = 1 + (delta / np.log(X))\n",
        "    sigma_1 = 0.5\n",
        "    sigma_prime = sigma - (delta_2 / np.log(T2))\n",
        "    exponent = (sigma_2 - sigma_prime) / (sigma_2 - sigma_1)\n",
        "    exponent2 = (sigma_prime - sigma_1) / (sigma_2 - sigma_1)\n",
        "    D4_value = D4(X)\n",
        "    C31_value = C3(T2, alpha, beta, a, a_i_values, b, b_i_values, compute_d_i(X, D1, D2), printing-1)\n",
        "    C31_times_D4 = C31_value * D4_value\n",
        "    D6_value = D6(delta, X)\n",
        "    D_5_value = D5(delta, X)\n",
        "    C32_value = C3(T2, alpha, beta, a_prime, a_i_prime_values, b_prime, b_i_prime_values, compute_d_i_second(X, D5, D6, delta), printing-1)\n",
        "    C32_times_D6 = C32_value * D6_value\n",
        "    tilde_C5_value = ((C31_times_D4) ** exponent) * ((C32_times_D6) ** exponent2)\n",
        "    return tilde_C5_value\n",
        "\n",
        "tilde_C5(sigma, alpha, beta, delta, delta_2, a, a_i_values, b, b_i_values, compute_d_i(X, D1, D2),\n",
        "              a_prime, a_i_prime_values, b_prime, b_i_prime_values, compute_d_i_second(X, D5, D6, delta), T2,2)\n"
      ],
      "metadata": {
        "colab": {
          "base_uri": "https://localhost:8080/"
        },
        "id": "hrl7peZ7FoZJ",
        "outputId": "60aa79e6-c3e7-4d97-e092-84d5eae0824b"
      },
      "execution_count": 267,
      "outputs": [
        {
          "output_type": "stream",
          "name": "stdout",
          "text": [
            "C3_value is 5.473783347188228\n",
            "C3_value is 42.38082568387099\n"
          ]
        },
        {
          "output_type": "execute_result",
          "data": {
            "text/plain": [
              "4.216133863513286"
            ]
          },
          "metadata": {},
          "execution_count": 267
        }
      ]
    },
    {
      "cell_type": "code",
      "source": [
        "def tilde_C5_second(sigma, alpha, beta, delta, delta_2, a, a_i, b, b_i, d_i,\n",
        "              a_prime, a_i_prime, b_prime, b_i_prime, d_i_prime, T2, printing=0):\n",
        "    X = T2\n",
        "\n",
        "    sigma_2 = 1 + (delta / np.log(X))\n",
        "    sigma_1 = 0.5\n",
        "    sigma_prime = sigma - (delta_2 / np.log(T2))\n",
        "    exponent = (sigma_2 - sigma_prime) / (sigma_2 - sigma_1)\n",
        "    exponent2 = (sigma_prime - sigma_1) / (sigma_2 - sigma_1)\n",
        "    D4prime_value = D4prime(X)\n",
        "    C31_value_s = C3(T2, alpha, beta, a_second, a_i_values_second, b_second, b_i_values_second, compute_second_d_i(X, D1, D2), printing-1)\n",
        "    C31_times_D4_prime = C31_value_s * D4prime_value\n",
        "    result1_s= (C31_times_D4_prime) ** exponent\n",
        "    D6_value = D6(delta, X)\n",
        "    D_5_value = D5(delta, X)\n",
        "    C32_value = C3(T2, alpha, beta, a_prime, a_i_prime_values, b_prime, b_i_prime_values, compute_d_i_second(X, D5, D6, delta), printing-1)\n",
        "    C32_times_D6 = C32_value * D6_value\n",
        "    result2 = (C32_times_D6) ** exponent2\n",
        "    tilde_C5_value_second = result1_s * result2\n",
        "    return tilde_C5_value_second\n",
        "\n",
        "tilde_C5_second(sigma, alpha, beta, delta, delta_2, a_second, a_i_values_second, b_second, b_i_values_second, compute_second_d_i(X, D1, D2),\n",
        "              a_prime, a_i_prime_values, b_prime, b_i_prime_values, compute_d_i_second(X, D5, D6, delta), T2,2)\n"
      ],
      "metadata": {
        "colab": {
          "base_uri": "https://localhost:8080/"
        },
        "outputId": "dd9f3e60-aa6e-45f5-d528-a3c3a7380493",
        "id": "1w_zAp1PCeTB"
      },
      "execution_count": 268,
      "outputs": [
        {
          "output_type": "stream",
          "name": "stdout",
          "text": [
            "C3_value is 5.15234699639508\n",
            "C3_value is 42.38082568387099\n"
          ]
        },
        {
          "output_type": "execute_result",
          "data": {
            "text/plain": [
              "mpf('40.546976909836019')"
            ]
          },
          "metadata": {},
          "execution_count": 268
        }
      ]
    },
    {
      "cell_type": "markdown",
      "source": [
        "#DEFINITION OF \\breve{C_5}"
      ],
      "metadata": {
        "id": "4Lbe8rnSdAJm"
      }
    },
    {
      "cell_type": "code",
      "source": [
        "exponent2upper = 2 * (sigma - sigma_1)\n",
        "result2breve = (C32_times_D6) ** exponent2upper\n",
        "print(f\"The result for sigma2: {result2breve}\")"
      ],
      "metadata": {
        "colab": {
          "base_uri": "https://localhost:8080/"
        },
        "id": "8P7APxxl4DP7",
        "outputId": "a8c4a351-4e11-4c2a-b6e5-b692156285c3"
      },
      "execution_count": 269,
      "outputs": [
        {
          "output_type": "stream",
          "name": "stdout",
          "text": [
            "The result for sigma2: 4.240355499784314\n"
          ]
        }
      ]
    },
    {
      "cell_type": "code",
      "source": [
        "def breve_C5(sigma,alpha, beta, delta_2, a, a_i, b, b_i, d_i,\n",
        "              a_prime, a_i_prime, b_prime, b_i_prime, d_i_prime, T2, printing=0):\n",
        "    X = T2\n",
        "    sigma_2 = 1 + (delta / np.log(X))\n",
        "    sigma_1 = 0.5\n",
        "    sigma_prime = sigma - (delta_2 / np.log(T2))\n",
        "    exponent = (sigma_2 - sigma_prime) / (sigma_2 - sigma_1)\n",
        "    exponent2upper = 2 * (sigma - sigma_1)\n",
        "\n",
        "    D4_value = D4(X)\n",
        "    C31_value = C3(T2, alpha, beta, a, a_i_values, b, b_i_values, compute_d_i(X, D1, D2),printing-1)\n",
        "    C31_times_D4 = C31_value * D4_value\n",
        "    D6_value = D6(delta, X)\n",
        "    D_5_value = D5(delta, X)\n",
        "    C32_value = C3(T2, alpha, beta, a_prime, a_i_prime_values, b_prime, b_i_prime_values, compute_d_i_second(X, D5, D6, delta),printing-1)\n",
        "    C32_times_D6 = C32_value * D6_value\n",
        "    breve_C5_value = ((C31_times_D4) ** exponent) * ((C32_times_D6) ** exponent2upper)\n",
        "    return breve_C5_value\n",
        "\n",
        "breve_C5(sigma, alpha, beta, delta_2, a, a_i_values, b, b_i_values, compute_d_i,\n",
        "              a_prime, a_i_prime_values, b_prime, b_i_prime_values, compute_d_i_second(X, D5, D6, delta), T2,2)"
      ],
      "metadata": {
        "colab": {
          "base_uri": "https://localhost:8080/"
        },
        "id": "jsytcGFa4abB",
        "outputId": "0df34ced-c307-4d71-99db-2d584512ddaf"
      },
      "execution_count": 270,
      "outputs": [
        {
          "output_type": "stream",
          "name": "stdout",
          "text": [
            "C3_value is 5.473783347188228\n",
            "C3_value is 42.38082568387099\n"
          ]
        },
        {
          "output_type": "execute_result",
          "data": {
            "text/plain": [
              "4.5592632151091665"
            ]
          },
          "metadata": {},
          "execution_count": 270
        }
      ]
    },
    {
      "cell_type": "code",
      "source": [
        "def breve_C5_second(sigma,alpha, beta, delta_2, a, a_i, b, b_i, d_i,\n",
        "              a_prime, a_i_prime, b_prime, b_i_prime, d_i_prime, T2, printing=0):\n",
        "    X = T2\n",
        "    sigma_2 = 1 + (delta / np.log(X))\n",
        "    sigma_1 = 0.5\n",
        "    sigma_prime = sigma - (delta_2 / np.log(T2))\n",
        "    exponent = (sigma_2 - sigma_prime) / (sigma_2 - sigma_1)\n",
        "    exponent2upper = 2 * (sigma - sigma_1)\n",
        "\n",
        "    D4prime_value = D4prime(X)\n",
        "    C31_value_s = C3(T2, alpha, beta, a_second, a_i_values_second, b_second, b_i_values_second, compute_second_d_i(X, D1, D2), printing-1)\n",
        "    C31_times_D4_prime = C31_value_s * D4prime_value\n",
        "    result1_s= (C31_times_D4_prime) ** exponent\n",
        "    D6_value = D6(delta, X)\n",
        "    D_5_value = D5(delta, X)\n",
        "    C32_value = C3(T2, alpha, beta, a_prime, a_i_prime_values, b_prime, b_i_prime_values, compute_d_i_second(X, D5, D6, delta),printing-1)\n",
        "    C32_times_D6 = C32_value * D6_value\n",
        "    result2breve = (C32_times_D6) ** exponent2upper\n",
        "    breve_C5_value_second = result1_s * result2breve\n",
        "    return breve_C5_value_second\n",
        "\n",
        "breve_C5_second(sigma, alpha, beta, delta_2, a_second, a_i_values_second, b_second, b_i_values_second, compute_second_d_i(X, D1, D2),\n",
        "              a_prime, a_i_prime_values, b_prime, b_i_prime_values, compute_d_i_second(X, D5, D6, delta), T2,2)"
      ],
      "metadata": {
        "colab": {
          "base_uri": "https://localhost:8080/"
        },
        "outputId": "0bb44658-1f53-4503-d75c-3cde98e89a95",
        "id": "wqAtWgT9DeOj"
      },
      "execution_count": 271,
      "outputs": [
        {
          "output_type": "stream",
          "name": "stdout",
          "text": [
            "C3_value is 5.15234699639508\n",
            "C3_value is 42.38082568387099\n"
          ]
        },
        {
          "output_type": "execute_result",
          "data": {
            "text/plain": [
              "mpf('43.846885865917322')"
            ]
          },
          "metadata": {},
          "execution_count": 271
        }
      ]
    },
    {
      "cell_type": "markdown",
      "source": [
        "#DEFINITION OF \\hat{C5}:"
      ],
      "metadata": {
        "id": "DaOFDT4idKXv"
      }
    },
    {
      "cell_type": "code",
      "source": [
        "sigma_1_prime = 0.9\n",
        "sigma_2_prime = 0.9"
      ],
      "metadata": {
        "id": "9JSZiQCRVZ7d"
      },
      "execution_count": 272,
      "outputs": []
    },
    {
      "cell_type": "code",
      "source": [
        "def hatC5(sigma_1_prime, sigma_2_prime, alpha, beta, delta, delta_2, a, a_i, b, b_i, d_i,\n",
        "              a_prime, a_i_prime, b_prime, b_i_prime, d_i_prime, T2,printing=0):\n",
        "    \"\"\"\n",
        "    Function to compute hat_C5 based on the conditional logic provided:\n",
        "    If A2 >= A1, it computes bre_C5(sigma_prime_2, T0, delta1, delta2).\n",
        "    Otherwise, it computes tilde_C5(sigma_prime_1, T0, delta1, delta2).\n",
        "    \"\"\"\n",
        "    X=T2\n",
        "    sigma_2 = 1 + (delta / np.log(X))\n",
        "    sigma_1 = 0.5\n",
        "\n",
        "    D4_value = D4(X)\n",
        "    C31_value = C3(T2, alpha, beta, a, a_i_values, b, b_i_values, compute_d_i(X, D1, D2), printing-1)\n",
        "    C31_times_D4 = C31_value * D4_value\n",
        "    D6_value = D6(delta, X)\n",
        "    D_5_value = D5(delta, X)\n",
        "    C32_value = C3(T2, alpha, beta, a_prime, a_i_prime_values, b_prime, b_i_prime_values, compute_d_i_second(X, D5, D6, delta), printing-1)\n",
        "    C32_times_D6 = C32_value * D6_value\n",
        "\n",
        "    if C32_times_D6 >= C31_times_D4:\n",
        "        sigma_prime = sigma_2_prime - (delta_2 / np.log(T2))\n",
        "        exponent = (sigma_2 - sigma_prime) / (sigma_2 - sigma_1)\n",
        "        exponent2upper = 2 * (sigma_2_prime - sigma_1)\n",
        "        breve_C5_value = ((C31_times_D4) ** exponent) * ((C32_times_D6) ** exponent2upper)\n",
        "        return breve_C5_value\n",
        "    else:\n",
        "        sigma_prime = sigma_1_prime - (delta_2 / np.log(T2))\n",
        "        exponent = (sigma_2 - sigma_prime) / (sigma_2 - sigma_1)\n",
        "        exponent2 = (sigma_prime - sigma_1) / (sigma_2 - sigma_1)\n",
        "        tilde_C5_value = ((C31_times_D4) ** exponent) * ((C32_times_D6) ** exponent2)\n",
        "        return tilde_C5_value\n",
        "\n",
        "\n",
        "\n",
        "hatC5_value = hatC5(sigma_1_prime, sigma_2_prime, alpha, beta, delta, delta_2, a, a_i_values, b, b_i_values, compute_d_i(X, D1, D2),\n",
        "              a_prime, a_i_prime_values, b_prime, b_i_prime_values, compute_d_i_second(X, D5, D6, delta), T2,2)\n",
        "\n",
        "print(f\"The result for hatC5 is: {hatC5_value}\")"
      ],
      "metadata": {
        "colab": {
          "base_uri": "https://localhost:8080/"
        },
        "id": "iW9eaPnvRYo-",
        "outputId": "ae08c7cc-1a64-4582-9159-fa05ed410103"
      },
      "execution_count": 273,
      "outputs": [
        {
          "output_type": "stream",
          "name": "stdout",
          "text": [
            "C3_value is 5.473783347188228\n",
            "C3_value is 42.38082568387099\n",
            "The result for hatC5 is: 4.5592632151091665\n"
          ]
        }
      ]
    },
    {
      "cell_type": "code",
      "source": [
        "def hatC5_second(sigma_1_prime, sigma_2_prime, alpha, beta, delta, delta_2, a, a_i, b, b_i, d_i,\n",
        "              a_prime, a_i_prime, b_prime, b_i_prime, d_i_prime, T2,printing=0):\n",
        "    \"\"\"\n",
        "    Function to compute hat_C5 based on the conditional logic provided:\n",
        "    If A2 >= A1, it computes bre_C5(sigma_prime_2, T0, delta1, delta2).\n",
        "    Otherwise, it computes tilde_C5(sigma_prime_1, T0, delta1, delta2).\n",
        "    \"\"\"\n",
        "    X=T2\n",
        "    sigma_2 = 1 + (delta / np.log(X))\n",
        "    sigma_1 = 0.5\n",
        "\n",
        "    D4prime_value = D4prime(X)\n",
        "    C31_value_s = C3(T2, alpha, beta, a_second, a_i_values_second, b_second, b_i_values_second, compute_second_d_i(X, D1, D2), printing-1)\n",
        "    C31_times_D4_prime = C31_value_s * D4prime_value\n",
        "    D6_value = D6(delta, X)\n",
        "    D_5_value = D5(delta, X)\n",
        "    C32_value = C3(T2, alpha, beta, a_prime, a_i_prime_values, b_prime, b_i_prime_values, compute_d_i_second(X, D5, D6, delta), printing-1)\n",
        "    C32_times_D6 = C32_value * D6_value\n",
        "\n",
        "    if C32_times_D6 >= C31_times_D4_prime:\n",
        "        sigma_prime = sigma_2_prime - (delta_2 / np.log(T2))\n",
        "        exponent = (sigma_2 - sigma_prime) / (sigma_2 - sigma_1)\n",
        "        exponent2upper = 2 * (sigma_2_prime - sigma_1)\n",
        "        breve_C5_value_second = ((C31_times_D4_prime) ** exponent) * ((C32_times_D6) ** exponent2upper)\n",
        "        return breve_C5_value_second\n",
        "    else:\n",
        "        sigma_prime = sigma_1_prime - (delta_2 / np.log(T2))\n",
        "        exponent = (sigma_2 - sigma_prime) / (sigma_2 - sigma_1)\n",
        "        exponent2 = (sigma_prime - sigma_1) / (sigma_2 - sigma_1)\n",
        "        tilde_C5_value_second = ((C31_times_D4_prime) ** exponent) * ((C32_times_D6) ** exponent2)\n",
        "        return tilde_C5_value_second\n",
        "\n",
        "\n",
        "\n",
        "hatC5_value_second = hatC5_second(sigma_1_prime, sigma_2_prime, alpha, beta, delta, delta_2, a_second, a_i_values_second, b_second, b_i_values_second, compute_second_d_i(X, D1, D2),\n",
        "              a_prime, a_i_prime_values, b_prime, b_i_prime_values, compute_d_i_second(X, D5, D6, delta), T2,2)\n",
        "\n",
        "print(f\"The result for hatC5 is: {hatC5_value_second}\")"
      ],
      "metadata": {
        "colab": {
          "base_uri": "https://localhost:8080/"
        },
        "outputId": "a071c171-a42a-4098-eee1-8c82c2321c15",
        "id": "dNj84n12EeW0"
      },
      "execution_count": 274,
      "outputs": [
        {
          "output_type": "stream",
          "name": "stdout",
          "text": [
            "C3_value is 5.15234699639508\n",
            "C3_value is 42.38082568387099\n",
            "The result for hatC5 is: 40.546976909836\n"
          ]
        }
      ]
    },
    {
      "cell_type": "markdown",
      "source": [
        "# Define C1 as in equation 4.18"
      ],
      "metadata": {
        "id": "BWzlnuuusiTU"
      }
    },
    {
      "cell_type": "code",
      "source": [
        "def C1(sigma, T2, alpha, beta):\n",
        "      C1_value = np.exp(alpha * (sigma / T2)**beta)\n",
        "      return C1_value\n",
        "C1_value1 = C1(sigma_1, T2, alpha, beta)\n",
        "C1_value2 = C1(sigma_2, T2, alpha, beta)\n",
        "print(f\"The result for C1 on half line is: {C1_value1}\")\n",
        "print(f\"The result for C1 on sigma2 is: {C1_value2}\")\n",
        "C1_value1 ** exponent\n",
        "C1_value2 ** exponent2"
      ],
      "metadata": {
        "colab": {
          "base_uri": "https://localhost:8080/"
        },
        "id": "njimh5KbV8X4",
        "outputId": "4056c900-69dc-48c2-8c4f-48a76886e46a"
      },
      "execution_count": 275,
      "outputs": [
        {
          "output_type": "stream",
          "name": "stdout",
          "text": [
            "The result for C1 on half line is: 1.0\n",
            "The result for C1 on sigma2 is: 1.0\n"
          ]
        },
        {
          "output_type": "execute_result",
          "data": {
            "text/plain": [
              "1.0"
            ]
          },
          "metadata": {},
          "execution_count": 275
        }
      ]
    },
    {
      "cell_type": "markdown",
      "source": [
        "# Define C2 as in equation 4.18"
      ],
      "metadata": {
        "id": "khLLSxNOsq24"
      }
    },
    {
      "cell_type": "code",
      "source": [
        "T1 = 3 * 1e12\n",
        "def C2(sigma, T1, T2, alpha):\n",
        "      C2_value = ((1 - (1 / T1))**2) * np.exp((alpha * (sigma / T2)**2) - alpha)\n",
        "      return C2_value\n",
        "C2_value = C2(sigma, T1, T2, alpha)\n",
        "print(f\"The result for C2 is: {C2_value}\")"
      ],
      "metadata": {
        "colab": {
          "base_uri": "https://localhost:8080/"
        },
        "id": "g0tGJsDxX9WU",
        "outputId": "bb29851f-d6fa-4487-fdc1-2cbd3ee3fd1f"
      },
      "execution_count": 276,
      "outputs": [
        {
          "output_type": "stream",
          "name": "stdout",
          "text": [
            "The result for C2 is: 0.7858416263878217\n"
          ]
        }
      ]
    },
    {
      "cell_type": "markdown",
      "source": [
        "#DEFINITION OF C4"
      ],
      "metadata": {
        "id": "wtX2s6r1n8m5"
      }
    },
    {
      "cell_type": "code",
      "source": [
        "# Define C4 as in equation 4.84\n",
        "def C4(sigma, T2, T1, alpha, beta, delta, delta_2,printing=0):\n",
        "    X=T2\n",
        "    sigma_2 = 1 + (delta / np.log(X))\n",
        "    sigma_1 = 0.5\n",
        "    sigma_prime = sigma - (delta_2 / np.log(T2))\n",
        "    exponent = (sigma_2 - sigma_prime) / (sigma_2 - sigma_1)\n",
        "    exponent2 = (sigma_prime - sigma_1) / (sigma_2 - sigma_1)\n",
        "\n",
        "    C2_value = C2(sigma_prime, T1, T2, alpha)\n",
        "    C1_value1 = C1(sigma_1, T2, alpha, beta)\n",
        "    C1_value2 = C1(sigma_2, T2, alpha, beta)\n",
        "\n",
        "    C4_value =  (alpha * beta * (C1_value1**exponent) *  (C1_value2**exponent2)) / C2_value\n",
        "    return C4_value\n",
        "\n",
        "\n",
        "C4_value = C4(sigma, T2, T1, alpha, beta, delta, delta_2,2)\n",
        "print(f\"The result for C4 is: {C4_value}\")"
      ],
      "metadata": {
        "colab": {
          "base_uri": "https://localhost:8080/"
        },
        "id": "Gb8SNzcmTbf4",
        "outputId": "c233b230-d37d-4822-a51d-bb6cc2509f07"
      },
      "execution_count": 277,
      "outputs": [
        {
          "output_type": "stream",
          "name": "stdout",
          "text": [
            "The result for C4 is: 0.6133551390189752\n"
          ]
        }
      ]
    },
    {
      "cell_type": "markdown",
      "source": [
        "#DEFINITION OF \\HAT{C4}:(MAX OF C4):"
      ],
      "metadata": {
        "id": "9gBRO2Glz6q4"
      }
    },
    {
      "cell_type": "code",
      "source": [
        "def hatC4(sigma_1_prime, sigma_2_prime,T2, T1, alpha, beta,  delta, delta_2,printing=0):\n",
        "    hatC4_value = ((1 - (1 / T1))**-(2)) * alpha * beta * np.exp(alpha) * np.exp((alpha/(4*T2)) * (sigma_1_prime + sigma_2_prime)**2)\n",
        "    return hatC4_value\n",
        "\n",
        "hatC4_value = hatC4(sigma_1_prime, sigma_2_prime, T2, T1, alpha, beta, delta, delta_2,2)\n",
        "print(f\"The result for hatC4 is: {hatC4_value}\")"
      ],
      "metadata": {
        "colab": {
          "base_uri": "https://localhost:8080/"
        },
        "id": "iiYwPkeKTy04",
        "outputId": "51ff276f-746e-4b3c-9722-d1c094e41a6e"
      },
      "execution_count": 278,
      "outputs": [
        {
          "output_type": "stream",
          "name": "stdout",
          "text": [
            "The result for hatC4 is: 0.6133551390190151\n"
          ]
        }
      ]
    },
    {
      "cell_type": "markdown",
      "source": [
        "#DEFINITION OF C6:"
      ],
      "metadata": {
        "id": "9LPVOA1iuPi-"
      }
    },
    {
      "cell_type": "code",
      "source": [
        "# Define C6 as in equation 4.84\n",
        "def C6(sigma, T2, a, a_prime, b, b_prime, delta, delta_2,printing=0):\n",
        "\n",
        "    sigma_prime = sigma - (delta_2 / np.log(T2))\n",
        "    sigma_2 = 1 + (delta / np.log(T2))\n",
        "    sigma_1 = 0.5\n",
        "    exponent = (sigma_2 - sigma_prime) / (sigma_2 - sigma_1)\n",
        "    exponent2 = (sigma_prime - sigma_1) / (sigma_2 - sigma_1)\n",
        "\n",
        "    numerator = (\n",
        "        T2 ** ((a * exponent) + ((a_prime - 1) * exponent2)) *\n",
        "        (np.log(T2) ** (((b + 1) * exponent) + ((b_prime + 2) * exponent2)))\n",
        "    )\n",
        "\n",
        "    # Denominator\n",
        "    denominator = (\n",
        "        T2 ** ((2 * a * (1 - sigma)) + ((a_prime - 1) * (2 * sigma - 1))) *\n",
        "        (np.log(T2) ** ((2 * (b + 1) * (1 - sigma)) + ((b_prime + 2) * (2 * sigma - 1))))\n",
        "    )\n",
        "    C6_value =  numerator / denominator\n",
        "    return C6_value\n",
        "\n",
        "\n",
        "C6_value = C6(sigma, T2, a, a_prime, b, b_prime, delta, delta_2,2)\n",
        "print(f\"The result for C6 is: {C6_value}\")"
      ],
      "metadata": {
        "colab": {
          "base_uri": "https://localhost:8080/"
        },
        "id": "8HcNHq6rVySV",
        "outputId": "d0dd4441-57dc-4978-dc74-4ba521baa485"
      },
      "execution_count": 279,
      "outputs": [
        {
          "output_type": "stream",
          "name": "stdout",
          "text": [
            "The result for C6 is: 6.081378015582197\n"
          ]
        }
      ]
    },
    {
      "cell_type": "code",
      "source": [
        "# Define C6 as in equation 4.84\n",
        "def C6_second(sigma, T2, a, a_prime, b, b_prime, delta, delta_2,printing=0):\n",
        "\n",
        "    sigma_prime = sigma - (delta_2 / np.log(T2))\n",
        "    sigma_2 = 1 + (delta / np.log(T2))\n",
        "    sigma_1 = 0.5\n",
        "    exponent = (sigma_2 - sigma_prime) / (sigma_2 - sigma_1)\n",
        "    exponent2 = (sigma_prime - sigma_1) / (sigma_2 - sigma_1)\n",
        "\n",
        "    numerator = (\n",
        "        T2 ** ((a_second * exponent) + ((a_prime - 1) * exponent2)) *\n",
        "        (np.log(T2) ** (((b_second + 1) * exponent) + ((b_prime + 2) * exponent2)))\n",
        "    )\n",
        "\n",
        "    # Denominator\n",
        "    denominator = (\n",
        "        T2 ** ((2 * a_second * (1 - sigma)) + ((a_prime - 1) * (2 * sigma - 1))) *\n",
        "        (np.log(T2) ** ((2 * (b_second + 1) * (1 - sigma)) + ((b_prime + 2) * (2 * sigma - 1))))\n",
        "    )\n",
        "    C6_value_second =  numerator / denominator\n",
        "    return C6_value_second\n",
        "\n",
        "\n",
        "C6_value_second = C6_second(sigma, T2, a_second, a_prime, b_second, b_prime, delta, delta_2,2)\n",
        "print(f\"The result for C6 is: {C6_value_second}\")"
      ],
      "metadata": {
        "colab": {
          "base_uri": "https://localhost:8080/"
        },
        "outputId": "631fb84d-3a61-4384-de4f-773d4809c68a",
        "id": "siTOMWfLI0i-"
      },
      "execution_count": 280,
      "outputs": [
        {
          "output_type": "stream",
          "name": "stdout",
          "text": [
            "The result for C6 is: 4.523043019837011\n"
          ]
        }
      ]
    },
    {
      "cell_type": "markdown",
      "source": [
        "#breveC6:"
      ],
      "metadata": {
        "id": "PwZB2Wm4JGMo"
      }
    },
    {
      "cell_type": "code",
      "source": [
        "def breveC6(sigma_prime, T2, a, a_prime, delta, delta_2,printing=0):\n",
        "    sigma_prime = sigma - (delta_2 / np.log(T2))\n",
        "    breveC6_value = np.exp((1+a-a_prime) * (2 * delta * (2* sigma_prime -1) + 2 * delta_2))\n",
        "    return breveC6_value\n",
        "\n",
        "\n",
        "breveC6_value = breveC6(sigma, T2, a, a_prime, delta, delta_2,2)\n",
        "print(f\"The result for breveC6 is: {breveC6_value}\")"
      ],
      "metadata": {
        "colab": {
          "base_uri": "https://localhost:8080/"
        },
        "id": "8L_UPNm-o-rz",
        "outputId": "1d07071f-fd3a-461d-b0ea-b8c79ce6d8f4"
      },
      "execution_count": 281,
      "outputs": [
        {
          "output_type": "stream",
          "name": "stdout",
          "text": [
            "The result for breveC6 is: 5.354529565142544\n"
          ]
        }
      ]
    },
    {
      "cell_type": "code",
      "source": [
        "def breveC6_second(sigma_prime, T2, a, a_prime, delta, delta_2,printing=0):\n",
        "    sigma_prime = sigma - (delta_2 / np.log(T2))\n",
        "    breveC6_value_second = np.exp((1+a_second-a_prime) * (2 * delta * (2* sigma_prime -1) + 2 * delta_2))\n",
        "    return breveC6_value_second\n",
        "\n",
        "\n",
        "breveC6_value_second = breveC6_second(sigma, T2, a_second, a_prime, delta, delta_2,2)\n",
        "print(f\"The result for breveC6 is: {breveC6_value_second}\")"
      ],
      "metadata": {
        "colab": {
          "base_uri": "https://localhost:8080/"
        },
        "id": "RXOXaQJeJLxX",
        "outputId": "7cf01c84-f83f-4d32-c143-53040ad83027"
      },
      "execution_count": 282,
      "outputs": [
        {
          "output_type": "stream",
          "name": "stdout",
          "text": [
            "The result for breveC6 is: 5.32720745359925\n"
          ]
        }
      ]
    },
    {
      "cell_type": "markdown",
      "source": [
        "#DEFINITION OF HAT_C6"
      ],
      "metadata": {
        "id": "eGcumhZ60jvB"
      }
    },
    {
      "cell_type": "code",
      "source": [
        "def hatC6(sigma_1_prime, sigma_2_prime, a, a_prime, b, b_prime, delta, delta_2, T2,printing=0):\n",
        "    \"\"\"\n",
        "    Function to compute hat_C6 based on the conditional logic provided:\n",
        "    If b-b_prime > 1, it computes C6(sigma_2_prime, T2, a, a_prime, b, b_prime).\n",
        "    Otherwise, it computes breveC6(sigma_1_prime, T2, a, a_prime, delta, delta_2).\n",
        "\n",
        "    C6_value = C6(sigma_prime, T2, a, a_prime, b, b_prime)\n",
        "    breveC6_value = breveC6(sigma_1_prime, T2, a, a_prime, delta, delta_2)\n",
        "    Returns:\n",
        "         Value of \\(\\hat{C_6}\\).\n",
        "    \"\"\"\n",
        "    if b-b_prime > 1:\n",
        "        return  C6(sigma_2_prime, T2, a, a_prime, b, b_prime, delta, delta_2,printing-1)\n",
        "    else:\n",
        "        return breveC6(sigma_2_prime, T2, a, a_prime, delta, delta_2)\n",
        "hatC6_value = hatC6(sigma_1_prime, sigma_2_prime, a, a_prime, b, b_prime,delta, delta_2, T2,2)\n",
        "print(f\"The result for hatC6 is: {hatC6_value}\")"
      ],
      "metadata": {
        "colab": {
          "base_uri": "https://localhost:8080/"
        },
        "outputId": "98ee15a3-060b-4c18-ebde-8bc5789a5347",
        "id": "-Oe6XCjnerJO"
      },
      "execution_count": 283,
      "outputs": [
        {
          "output_type": "stream",
          "name": "stdout",
          "text": [
            "The result for hatC6 is: 6.081378015582197\n"
          ]
        }
      ]
    },
    {
      "cell_type": "code",
      "source": [
        "def hatC6_second(sigma_1_prime, sigma_2_prime, a, a_prime, b, b_prime, delta, delta_2, T2,printing=0):\n",
        "    \"\"\"\n",
        "    Function to compute hat_C6 based on the conditional logic provided:\n",
        "    If b-b_prime > 1, it computes C6_second(sigma_2_prime, T2, a_second, a_prime, b_second, b_prime).\n",
        "    Otherwise, it computes breveC6(sigma_1_prime, T2, a_second, a_prime, delta, delta_2).\n",
        "\n",
        "    C6_value_second = C6_second(sigma_prime, T2, a_second, a_prime, b_second, b_prime)\n",
        "    breveC6_value_second = breveC6_second(sigma_1_prime, T2, a_second, a_prime, delta, delta_2)\n",
        "    Returns:\n",
        "         Value of \\(\\hat{C_6_second}\\).\n",
        "    \"\"\"\n",
        "    if b-b_prime > 1:\n",
        "        return  C6_second(sigma_2_prime, T2, a_second, a_prime, b_second, b_prime, delta, delta_2,printing-1)\n",
        "    else:\n",
        "        return breveC6_second(sigma_2_prime, T2, a_second, a_prime, delta, delta_2)\n",
        "hatC6_value_second = hatC6_second(sigma_1_prime, sigma_2_prime, a_second, a_prime, b_second, b_prime,delta, delta_2, T2,2)\n",
        "print(f\"The result for hatC6 is: {hatC6_value_second}\")"
      ],
      "metadata": {
        "colab": {
          "base_uri": "https://localhost:8080/"
        },
        "outputId": "d3ada1af-c5a6-42c3-c088-23fb9829c524",
        "id": "R4FDan_PKDE6"
      },
      "execution_count": 284,
      "outputs": [
        {
          "output_type": "stream",
          "name": "stdout",
          "text": [
            "The result for hatC6 is: 5.32720745359925\n"
          ]
        }
      ]
    },
    {
      "cell_type": "code",
      "source": [
        "def U(sigma_1_prime, sigma_2_prime, alpha, beta, delta, delta_2, T2, a, a_i_values, b, b_i_values, compute_d_i, D1, D2,\n",
        "              a_prime, a_i_prime_values, b_prime, b_i_prime_values, compute_d_i_second, printing=0):\n",
        "    hatC4_value = hatC4(sigma_1_prime, sigma_2_prime, T2, T1, alpha, beta,delta, delta_2, printing-1)\n",
        "    hatC5_value = hatC5(sigma_1_prime, sigma_2_prime, alpha, beta, delta, delta_2, a, a_i_values, b, b_i_values, compute_d_i(X, D1, D2),\n",
        "              a_prime, a_i_prime_values, b_prime, b_i_prime_values, compute_d_i_second(X, D5, D6, delta), T2,printing-1)\n",
        "    hatC6_value = hatC6(sigma_1_prime, sigma_2_prime, a, a_prime, b, b_prime,delta, delta_2, T2,printing-1)\n",
        "    U_value = ((hatC4_value * hatC5_value * hatC6_value)/(2 * np.pi * delta_2))\n",
        "    if printing>0:\n",
        "        print(f\"hatC4_value is: {hatC4_value}\")\n",
        "        print(f\"hatC5_value is: {hatC5_value}\")\n",
        "        print(f\"hatC6_value is: {hatC6_value}\")\n",
        "    return U_value\n",
        "\n",
        "U_value = U(sigma_1_prime, sigma_2_prime, alpha, beta, delta, delta_2, T2, a, a_i_values, b, b_i_values, compute_d_i,D1, D2,\n",
        "              a_prime, a_i_prime_values, b_prime, b_i_prime_values,compute_d_i_second,2)\n",
        "print(f\"The result for U is: {U_value}\")"
      ],
      "metadata": {
        "colab": {
          "base_uri": "https://localhost:8080/"
        },
        "id": "PipRC5sqXlgF",
        "outputId": "cef64b08-1d8e-470d-b8e7-3abe9a453eb4"
      },
      "execution_count": 285,
      "outputs": [
        {
          "output_type": "stream",
          "name": "stdout",
          "text": [
            "hatC4_value is: 0.6133551390190151\n",
            "hatC5_value is: 4.5592632151091665\n",
            "hatC6_value is: 6.081378015582197\n",
            "The result for U is: 7.733227043952999\n"
          ]
        }
      ]
    },
    {
      "cell_type": "code",
      "source": [
        "def U_second(sigma_1_prime, sigma_2_prime, alpha, beta, delta, delta_2, T2, a, a_i_values, b, b_i_values, compute_d_i, D1, D2,\n",
        "              a_prime, a_i_prime_values, b_prime, b_i_prime_values, compute_d_i_second, printing=0):\n",
        "    hatC4_value = hatC4(sigma_1_prime, sigma_2_prime, T2, T1, alpha, beta,delta, delta_2, printing-1)\n",
        "    hatC5_value_second = hatC5_second(sigma_1_prime, sigma_2_prime, alpha, beta, delta, delta_2, a_second, a_i_values_second, b_second, b_i_values_second, compute_second_d_i(X, D1, D2),\n",
        "              a_prime, a_i_prime_values, b_prime, b_i_prime_values, compute_d_i_second(X, D5, D6, delta), T2,printing-1)\n",
        "    hatC6_value_second = hatC6_second(sigma_1_prime, sigma_2_prime, a_second, a_prime, b_second, b_prime,delta, delta_2, T2,printing-1)\n",
        "    U_value_second = ((hatC4_value * hatC5_value_second * hatC6_value_second)/(2 * np.pi * delta_2))\n",
        "    if printing>0:\n",
        "        print(f\"hatC4_value is: {hatC4_value}\")\n",
        "        print(f\"hatC5_value is: {hatC5_value_second}\")\n",
        "        print(f\"hatC6_value is: {hatC6_value_second}\")\n",
        "    return U_value_second\n",
        "\n",
        "U_value_second = U_second(sigma_1_prime, sigma_2_prime, alpha, beta, delta, delta_2, T2, a_second, a_i_values_second, b_second, b_i_values_second, compute_second_d_i,D1, D2,\n",
        "              a_prime, a_i_prime_values, b_prime, b_i_prime_values,compute_d_i_second,2)\n",
        "print(f\"The result for U is: {U_value_second}\")"
      ],
      "metadata": {
        "colab": {
          "base_uri": "https://localhost:8080/"
        },
        "outputId": "d0dfd028-dc2b-429c-f044-f5a7a59c4fe7",
        "id": "5z7NM3-FK0Bj"
      },
      "execution_count": 286,
      "outputs": [
        {
          "output_type": "stream",
          "name": "stdout",
          "text": [
            "hatC4_value is: 0.6133551390190151\n",
            "hatC5_value is: 40.546976909836\n",
            "hatC6_value is: 5.32720745359925\n",
            "The result for U is: 60.2451631663255\n"
          ]
        }
      ]
    },
    {
      "cell_type": "markdown",
      "source": [
        "#FOURTH INTEGRAL:"
      ],
      "metadata": {
        "id": "ZLLf-skl4g3m"
      }
    },
    {
      "cell_type": "code",
      "source": [
        "k=2"
      ],
      "metadata": {
        "id": "Wz6finL098o_"
      },
      "execution_count": 287,
      "outputs": []
    },
    {
      "cell_type": "code",
      "source": [
        "def E2(X, tau):\n",
        "    term1 = (1 / (tau - 1)) * (((1/np.pi**2) * np.log(X)**3) + (0.745*np.log(X)**2) + (0.824*np.log(X)) + 0.461)\n",
        "    term2 = (1 / ((tau - 1)**3)) * (((6/np.pi**2) * np.log(X)) + 1.49)\n",
        "    term3 = (1 / ((tau - 1)**2)) * (((3/np.pi**2) * np.log(X)**2) + (1.49*np.log(X)) + 0.824)\n",
        "    term4 = (1 / ((tau - 1)**4)) * (6/np.pi**2)\n",
        "    term5 = (9.73 * X**(-1/4) * np.log(X)) / (tau - (3/4))\n",
        "    term6 = (9.73 * X**(-1/4)) / (tau - (3/4))**2\n",
        "    return (1 / X**(tau - 1)) * (term1 + term2 + term3 + term4 + term5 + term6)"
      ],
      "metadata": {
        "id": "zG21AT5w4jsv"
      },
      "execution_count": 288,
      "outputs": []
    },
    {
      "cell_type": "code",
      "source": [
        "def E3(k, X):\n",
        "    term1 = (np.log(X) / (k * (np.log(X))**(k-1) * np.log(np.log(X)))) + (1 / (np.log(X))**(k-1))\n",
        "    term2 = 1 + (1 / (k * np.log(np.log(X)))) + (float(gamma) / np.log(X))\n",
        "    term3 = (7 * k * np.log(np.log(X))) / ((12 * X * np.log(X)) * (np.log(X) + k * np.log(np.log(X))))\n",
        "    return term1 * (term2 + term3)\n",
        "\n",
        "E3_value = E3(k, X)"
      ],
      "metadata": {
        "id": "H4DwOD2D6FEy"
      },
      "execution_count": 289,
      "outputs": []
    },
    {
      "cell_type": "code",
      "source": [
        "def E4(k, X):\n",
        "    E3_value = E3(k, X)\n",
        "    return -np.log(1 - E3_value**2) / (E3_value**2)\n",
        "E4_value = E4(k, X)"
      ],
      "metadata": {
        "id": "JAZnQhN77o15"
      },
      "execution_count": 290,
      "outputs": []
    },
    {
      "cell_type": "code",
      "source": [
        "#this is actuall the whole upper bound for the fourth integral\n",
        "def E5(k, X):\n",
        "    mu = 1 + ((k * np.log(np.log(X))) / np.log(X))\n",
        "    E4_value = E4(k, X)\n",
        "    term1 = (X + 2 * np.pi * m0()) * E2(X, (2*mu))\n",
        "    term2 = 2 * np.pi * m0() * E2(X, (2*mu - 1))\n",
        "    return (E4_value * (term1 + term2))\n",
        "E5_value = E5(k, X)"
      ],
      "metadata": {
        "id": "7a6Nzs5l8TbD"
      },
      "execution_count": 291,
      "outputs": []
    },
    {
      "cell_type": "code",
      "source": [
        "def objective(k):\n",
        "    return E5(k, X)\n",
        "\n",
        "lambdaoptX = lambda ADD: objective(ADD[0])\n",
        "\n",
        "# Initial guess for [alpha, delta, delta_2]\n",
        "initial_guess = [2]\n",
        "\n",
        "\n",
        "bounds = [(2, 10)]\n",
        "\n",
        "res = minimize(lambdaoptX, initial_guess, bounds=bounds, method='L-BFGS-B')\n",
        "\n",
        "optimal_params = res.x\n",
        "optimal_E5 = res.fun\n",
        "\n",
        "print(f\"Optimal parameters: k={optimal_params[0]}\")\n",
        "print(f\"Minimum value of E5: {optimal_E5}\")"
      ],
      "metadata": {
        "colab": {
          "base_uri": "https://localhost:8080/"
        },
        "id": "UjR2I4e9-R2X",
        "outputId": "06cdcd74-f217-4c82-8a97-c16053b0a4f8"
      },
      "execution_count": 292,
      "outputs": [
        {
          "output_type": "stream",
          "name": "stdout",
          "text": [
            "Optimal parameters: k=3.625741791083096\n",
            "Minimum value of E5: 9.325756934115785e-07\n"
          ]
        }
      ]
    },
    {
      "cell_type": "code",
      "source": [
        "((3.62 * np.log(np.log(X))) / np.log(X))"
      ],
      "metadata": {
        "colab": {
          "base_uri": "https://localhost:8080/"
        },
        "id": "weJW4ThZKwHe",
        "outputId": "fbe132a1-abf7-4778-947f-65cea491b730"
      },
      "execution_count": 300,
      "outputs": [
        {
          "output_type": "execute_result",
          "data": {
            "text/plain": [
              "0.4231068046525277"
            ]
          },
          "metadata": {},
          "execution_count": 300
        }
      ]
    },
    {
      "cell_type": "code",
      "source": [
        "# It takes three parameters: alpha, delta, and delta_2 and assumed the other parameters are fixed\n",
        "def U_partial(alpha, delta, delta_2):\n",
        "    return U(sigma_1_prime, sigma_2_prime, alpha, beta, delta, delta_2, T2, a, a_i_values, b, b_i_values, compute_d_i,D1, D2,\n",
        "              a_prime, a_i_prime_values, b_prime, b_i_prime_values,compute_d_i_second)\n",
        "\n",
        "\n",
        "lambdaoptX = lambda ADD: U_partial(ADD[0], ADD[1], ADD[2])\n",
        "\n",
        "# Initial guess for [alpha, delta, delta_2]\n",
        "initial_guess = [0.15, 0.33, 0.33]\n",
        "\n",
        "\n",
        "bounds = [(0.001, 1), (0, 1), (0, 1)]\n",
        "\n",
        "result = minimize(lambdaoptX, initial_guess, bounds=bounds, method='L-BFGS-B')\n",
        "\n",
        "optimal_params = result.x\n",
        "optimal_U = result.fun\n",
        "\n",
        "print(f\"Optimal parameters: alpha={optimal_params[0]}, delta={optimal_params[1]}, delta_2={optimal_params[2]}\")\n",
        "print(f\"Minimum value of U: {optimal_U}\")"
      ],
      "metadata": {
        "id": "cB2yvLIHf6Wp",
        "colab": {
          "base_uri": "https://localhost:8080/"
        },
        "outputId": "da7cf1c9-dec3-49d2-b626-9a253c8777c2"
      },
      "execution_count": 293,
      "outputs": [
        {
          "output_type": "stream",
          "name": "stdout",
          "text": [
            "Optimal parameters: alpha=0.2419871507835905, delta=0.36641375030212875, delta_2=0.3511175514777831\n",
            "Minimum value of U: 7.732290624302065\n"
          ]
        }
      ]
    },
    {
      "cell_type": "code",
      "source": [
        "# It takes three parameters: alpha, delta, and delta_2 and assumed the other parameters are fixed\n",
        "def U_partial_second(alpha, delta, delta_2):\n",
        "    return U_second(sigma_1_prime, sigma_2_prime, alpha, beta, delta, delta_2, T2, a_second, a_i_values_second, b_second, b_i_values_second, compute_second_d_i,D1, D2,\n",
        "              a_prime, a_i_prime_values, b_prime, b_i_prime_values,compute_d_i_second)\n",
        "\n",
        "\n",
        "lambdaoptX_s = lambda ADD: U_partial_second(ADD[0], ADD[1], ADD[2])\n",
        "\n",
        "# Initial guess for [alpha, delta, delta_2]\n",
        "initial_guess = [0.15, 0.33, 0.33]\n",
        "\n",
        "\n",
        "bounds = [(0.001, 1), (0.01, 1), (0.01, 1)]\n",
        "\n",
        "resultsecond = minimize(lambdaoptX_s, initial_guess, bounds=bounds, method='L-BFGS-B')\n",
        "\n",
        "optimal_params_s = resultsecond.x\n",
        "optimal_U_second = resultsecond.fun\n",
        "\n",
        "print(f\"Optimal parameters: alpha={optimal_params[0]}, delta={optimal_params[1]}, delta_2={optimal_params[2]}\")\n",
        "print(f\"Minimum value of U: {optimal_U_second}\")"
      ],
      "metadata": {
        "colab": {
          "base_uri": "https://localhost:8080/"
        },
        "outputId": "152d5166-3582-43c2-d2ef-98f906724db1",
        "id": "0r3cptgxMKq8"
      },
      "execution_count": 294,
      "outputs": [
        {
          "output_type": "stream",
          "name": "stdout",
          "text": [
            "Optimal parameters: alpha=0.2419871507835905, delta=0.36641375030212875, delta_2=0.3511175514777831\n",
            "Minimum value of U: 58.9469358669482\n"
          ]
        }
      ]
    },
    {
      "cell_type": "code",
      "source": [
        "sigma_1_prime_values_1 = np.arange(0.75, 0.99, 0.01)\n",
        "sigma_1_prime_values_2 = np.arange(0.990, 1.000, 0.001)\n",
        "\n",
        "# Here we combine both ranges\n",
        "sigma_1_prime_values = np.concatenate((sigma_1_prime_values_1, sigma_1_prime_values_2))\n",
        "\n",
        "# Generate corresponding sigma_2' values(need it after 0.99)\n",
        "sigma_2_prime_values = np.array([\n",
        "    s1 + (0.01 if s1 < 0.99 else 0.001) for s1 in sigma_1_prime_values\n",
        "])\n",
        "\n",
        "# sigma_2' should be less than 1\n",
        "valid_indices = sigma_2_prime_values <= 1\n",
        "sigma_1_prime_values = sigma_1_prime_values[valid_indices]\n",
        "sigma_2_prime_values = sigma_2_prime_values[valid_indices]\n",
        "\n",
        "results = []\n",
        "\n",
        "for sigma_1_prime, sigma_2_prime in zip(sigma_1_prime_values, sigma_2_prime_values):\n",
        "    def U_partial(alpha, delta, delta_2):\n",
        "        return U(sigma_1_prime, sigma_2_prime, alpha, beta, delta, delta_2, T2, a, a_i_values, b, b_i_values, compute_d_i, D1, D2,\n",
        "                  a_prime, a_i_prime_values, b_prime, b_i_prime_values, compute_d_i_second)\n",
        "\n",
        "    lambdaoptX = lambda ADD: U_partial(ADD[0], ADD[1], ADD[2])\n",
        "\n",
        "    initial_guess = [0.15, 0.33, 0.33]\n",
        "    bounds = [(0.001, 1), (0, 1), (0.1, 1)]\n",
        "\n",
        "    result = minimize(lambdaoptX, initial_guess, bounds=bounds, method='L-BFGS-B')\n",
        "\n",
        "    optimal_params = result.x\n",
        "    optimal_U = result.fun\n",
        "    results.append([sigma_1_prime, sigma_2_prime, optimal_params[0], optimal_params[1], optimal_params[2], optimal_U])\n",
        "\n",
        "columns = [\"Sigma_1'\", \"Sigma_2'\", \"Alpha\", \"Delta\", \"Delta_2\", \"Min U\"]\n",
        "df_results = pd.DataFrame(results, columns=columns)\n",
        "\n",
        "print(df_results)\n"
      ],
      "metadata": {
        "colab": {
          "base_uri": "https://localhost:8080/"
        },
        "id": "yXbyBYMrDqsc",
        "outputId": "f5327310-36a6-4cf6-c051-fab0e59b631e"
      },
      "execution_count": 295,
      "outputs": [
        {
          "output_type": "stream",
          "name": "stdout",
          "text": [
            "    Sigma_1'  Sigma_2'     Alpha     Delta   Delta_2      Min U\n",
            "0      0.750     0.760  0.398079  0.381098  0.358549   3.637071\n",
            "1      0.760     0.770  0.386811  0.379884  0.358105   3.848096\n",
            "2      0.770     0.780  0.375555  0.378717  0.357650   4.069971\n",
            "3      0.780     0.790  0.364310  0.377590  0.357185   4.303122\n",
            "4      0.790     0.800  0.353077  0.376495  0.356707   4.547981\n",
            "5      0.800     0.810  0.341859  0.375429  0.356220   4.804979\n",
            "6      0.810     0.820  0.330658  0.374386  0.355718   5.074545\n",
            "7      0.820     0.830  0.319477  0.373363  0.355203   5.357106\n",
            "8      0.830     0.840  0.308317  0.372354  0.354673   5.653082\n",
            "9      0.840     0.850  0.297181  0.371355  0.354126   5.962880\n",
            "10     0.850     0.860  0.286072  0.370364  0.353563   6.286897\n",
            "11     0.860     0.870  0.274994  0.369378  0.352982   6.625508\n",
            "12     0.870     0.880  0.263951  0.368393  0.352382   6.979067\n",
            "13     0.880     0.890  0.252947  0.367406  0.351761   7.347899\n",
            "14     0.890     0.900  0.241987  0.366413  0.351117   7.732291\n",
            "15     0.900     0.910  0.231077  0.365414  0.350450   8.132489\n",
            "16     0.910     0.920  0.220223  0.364403  0.349758   8.548691\n",
            "17     0.920     0.930  0.209432  0.363378  0.349037   8.981032\n",
            "18     0.930     0.940  0.198714  0.362337  0.348289   9.429578\n",
            "19     0.940     0.950  0.188078  0.361274  0.347508   9.894318\n",
            "20     0.950     0.960  0.177534  0.360188  0.346693  10.375145\n",
            "21     0.960     0.970  0.167096  0.359076  0.345841  10.871848\n",
            "22     0.970     0.980  0.156779  0.357933  0.344950  11.384094\n",
            "23     0.980     0.990  0.146600  0.356755  0.344016  11.911417\n",
            "24     0.990     0.991  0.145590  0.356634  0.343920  11.964956\n",
            "25     0.991     0.992  0.144583  0.356515  0.343824  12.018639\n",
            "26     0.992     0.993  0.143576  0.356395  0.343727  12.072465\n",
            "27     0.993     0.994  0.142571  0.356274  0.343630  12.126434\n",
            "28     0.994     0.995  0.141568  0.356153  0.343533  12.180545\n",
            "29     0.995     0.996  0.140567  0.356031  0.343434  12.234796\n",
            "30     0.996     0.997  0.139567  0.355909  0.343336  12.289188\n",
            "31     0.997     0.998  0.138569  0.355786  0.343236  12.343719\n",
            "32     0.998     0.999  0.137573  0.355663  0.343137  12.398389\n",
            "33     0.999     1.000  0.136578  0.355540  0.343037  12.453196\n"
          ]
        }
      ]
    },
    {
      "cell_type": "code",
      "source": [
        "latex_table = df_results.to_latex(index=False, escape=False)\n",
        "\n",
        "print(latex_table)"
      ],
      "metadata": {
        "colab": {
          "base_uri": "https://localhost:8080/"
        },
        "id": "kGx-IHdTEU-b",
        "outputId": "f9caaf06-65e2-4f34-a3f1-c0c0abd7d1c7"
      },
      "execution_count": 296,
      "outputs": [
        {
          "output_type": "stream",
          "name": "stdout",
          "text": [
            "\\begin{tabular}{rrrrrr}\n",
            "\\toprule\n",
            "Sigma_1' & Sigma_2' & Alpha & Delta & Delta_2 & Min U \\\\\n",
            "\\midrule\n",
            "0.750000 & 0.760000 & 0.398079 & 0.381098 & 0.358549 & 3.637071 \\\\\n",
            "0.760000 & 0.770000 & 0.386811 & 0.379884 & 0.358105 & 3.848096 \\\\\n",
            "0.770000 & 0.780000 & 0.375555 & 0.378717 & 0.357650 & 4.069971 \\\\\n",
            "0.780000 & 0.790000 & 0.364310 & 0.377590 & 0.357185 & 4.303122 \\\\\n",
            "0.790000 & 0.800000 & 0.353077 & 0.376495 & 0.356707 & 4.547981 \\\\\n",
            "0.800000 & 0.810000 & 0.341859 & 0.375429 & 0.356220 & 4.804979 \\\\\n",
            "0.810000 & 0.820000 & 0.330658 & 0.374386 & 0.355718 & 5.074545 \\\\\n",
            "0.820000 & 0.830000 & 0.319477 & 0.373363 & 0.355203 & 5.357106 \\\\\n",
            "0.830000 & 0.840000 & 0.308317 & 0.372354 & 0.354673 & 5.653082 \\\\\n",
            "0.840000 & 0.850000 & 0.297181 & 0.371355 & 0.354126 & 5.962880 \\\\\n",
            "0.850000 & 0.860000 & 0.286072 & 0.370364 & 0.353563 & 6.286897 \\\\\n",
            "0.860000 & 0.870000 & 0.274994 & 0.369378 & 0.352982 & 6.625508 \\\\\n",
            "0.870000 & 0.880000 & 0.263951 & 0.368393 & 0.352382 & 6.979067 \\\\\n",
            "0.880000 & 0.890000 & 0.252947 & 0.367406 & 0.351761 & 7.347899 \\\\\n",
            "0.890000 & 0.900000 & 0.241987 & 0.366413 & 0.351117 & 7.732291 \\\\\n",
            "0.900000 & 0.910000 & 0.231077 & 0.365414 & 0.350450 & 8.132489 \\\\\n",
            "0.910000 & 0.920000 & 0.220223 & 0.364403 & 0.349758 & 8.548691 \\\\\n",
            "0.920000 & 0.930000 & 0.209432 & 0.363378 & 0.349037 & 8.981032 \\\\\n",
            "0.930000 & 0.940000 & 0.198714 & 0.362337 & 0.348289 & 9.429578 \\\\\n",
            "0.940000 & 0.950000 & 0.188078 & 0.361274 & 0.347508 & 9.894318 \\\\\n",
            "0.950000 & 0.960000 & 0.177534 & 0.360188 & 0.346693 & 10.375145 \\\\\n",
            "0.960000 & 0.970000 & 0.167096 & 0.359076 & 0.345841 & 10.871848 \\\\\n",
            "0.970000 & 0.980000 & 0.156779 & 0.357933 & 0.344950 & 11.384094 \\\\\n",
            "0.980000 & 0.990000 & 0.146600 & 0.356755 & 0.344016 & 11.911417 \\\\\n",
            "0.990000 & 0.991000 & 0.145590 & 0.356634 & 0.343920 & 11.964956 \\\\\n",
            "0.991000 & 0.992000 & 0.144583 & 0.356515 & 0.343824 & 12.018639 \\\\\n",
            "0.992000 & 0.993000 & 0.143576 & 0.356395 & 0.343727 & 12.072465 \\\\\n",
            "0.993000 & 0.994000 & 0.142571 & 0.356274 & 0.343630 & 12.126434 \\\\\n",
            "0.994000 & 0.995000 & 0.141568 & 0.356153 & 0.343533 & 12.180545 \\\\\n",
            "0.995000 & 0.996000 & 0.140567 & 0.356031 & 0.343434 & 12.234796 \\\\\n",
            "0.996000 & 0.997000 & 0.139567 & 0.355909 & 0.343336 & 12.289188 \\\\\n",
            "0.997000 & 0.998000 & 0.138569 & 0.355786 & 0.343236 & 12.343719 \\\\\n",
            "0.998000 & 0.999000 & 0.137573 & 0.355663 & 0.343137 & 12.398389 \\\\\n",
            "0.999000 & 1.000000 & 0.136578 & 0.355540 & 0.343037 & 12.453196 \\\\\n",
            "\\bottomrule\n",
            "\\end{tabular}\n",
            "\n"
          ]
        }
      ]
    },
    {
      "cell_type": "code",
      "source": [
        "sigma_values = np.linspace(0.75, 0.99, 20)\n",
        "\n",
        "results = []\n",
        "\n",
        "for sigma in sigma_values:\n",
        "    sigma_1_prime = sigma_2_prime = sigma  #just for one point\n",
        "\n",
        "    def U_partial(alpha, delta, delta_2):\n",
        "        return U(sigma_1_prime, sigma_2_prime, alpha, beta, delta, delta_2, T2, a, a_i_values, b, b_i_values, compute_d_i, D1, D2,\n",
        "                  a_prime, a_i_prime_values, b_prime, b_i_prime_values, compute_d_i_second)\n",
        "\n",
        "    lambdaoptX = lambda ADD: U_partial(ADD[0], ADD[1], ADD[2])\n",
        "\n",
        "    initial_guess = [0.15, 0.33, 0.33]\n",
        "    bounds = [(0.001, 1), (0, 1), (0.1, 1)]\n",
        "\n",
        "    result = minimize(lambdaoptX, initial_guess, bounds=bounds, method='L-BFGS-B')\n",
        "\n",
        "    optimal_params = result.x\n",
        "    optimal_U = result.fun\n",
        "    results.append([sigma, optimal_params[0], optimal_params[1], optimal_params[2], optimal_U])\n",
        "\n",
        "columns = [\"Sigma\", \"Alpha\", \"Delta\", \"Delta_2\", \"Min U\"]\n",
        "df_results = pd.DataFrame(results, columns=columns)\n",
        "\n",
        "print(df_results)"
      ],
      "metadata": {
        "id": "xz-mUmCLf6UZ",
        "colab": {
          "base_uri": "https://localhost:8080/"
        },
        "outputId": "407ef7c6-10d1-429a-abd3-cc0e287c9ddb"
      },
      "execution_count": 297,
      "outputs": [
        {
          "output_type": "stream",
          "name": "stdout",
          "text": [
            "       Sigma     Alpha     Delta   Delta_2      Min U\n",
            "0   0.750000  0.409355  0.382366  0.358985   3.436473\n",
            "1   0.762632  0.395113  0.380774  0.358433   3.691576\n",
            "2   0.775263  0.380886  0.379264  0.357867   3.963493\n",
            "3   0.787895  0.366676  0.377824  0.357284   4.253079\n",
            "4   0.800526  0.352486  0.376438  0.356682   4.561201\n",
            "5   0.813158  0.338321  0.375097  0.356064   4.888727\n",
            "6   0.825789  0.324182  0.373792  0.355422   5.236522\n",
            "7   0.838421  0.310077  0.372512  0.354757   5.605440\n",
            "8   0.851053  0.296010  0.371250  0.354068   5.996311\n",
            "9   0.863684  0.281987  0.370000  0.353351   6.409931\n",
            "10  0.876316  0.268016  0.368756  0.352606   6.847048\n",
            "11  0.888947  0.254104  0.367510  0.351827   7.308346\n",
            "12  0.901579  0.240261  0.366256  0.351014   7.794423\n",
            "13  0.914211  0.226500  0.364988  0.350161   8.305772\n",
            "14  0.926842  0.212833  0.363703  0.349268   8.842754\n",
            "15  0.939474  0.199276  0.362392  0.348329   9.405566\n",
            "16  0.952105  0.185850  0.361047  0.347339   9.994213\n",
            "17  0.964737  0.172576  0.359665  0.346294  10.608464\n",
            "18  0.977368  0.159482  0.358236  0.345188  11.247809\n",
            "19  0.990000  0.146600  0.356755  0.344016  11.911417\n"
          ]
        }
      ]
    },
    {
      "cell_type": "code",
      "source": [
        "latex_table = df_results.to_latex(index=False, escape=False)\n",
        "\n",
        "print(latex_table)"
      ],
      "metadata": {
        "colab": {
          "base_uri": "https://localhost:8080/"
        },
        "id": "hznLVR2BUEMR",
        "outputId": "36aadd7c-ec96-4a71-84db-b5892a4d007f"
      },
      "execution_count": 298,
      "outputs": [
        {
          "output_type": "stream",
          "name": "stdout",
          "text": [
            "\\begin{tabular}{rrrrr}\n",
            "\\toprule\n",
            "Sigma & Alpha & Delta & Delta_2 & Min U \\\\\n",
            "\\midrule\n",
            "0.750000 & 0.409355 & 0.382366 & 0.358985 & 3.436473 \\\\\n",
            "0.762632 & 0.395113 & 0.380774 & 0.358433 & 3.691576 \\\\\n",
            "0.775263 & 0.380886 & 0.379264 & 0.357867 & 3.963493 \\\\\n",
            "0.787895 & 0.366676 & 0.377824 & 0.357284 & 4.253079 \\\\\n",
            "0.800526 & 0.352486 & 0.376438 & 0.356682 & 4.561201 \\\\\n",
            "0.813158 & 0.338321 & 0.375097 & 0.356064 & 4.888727 \\\\\n",
            "0.825789 & 0.324182 & 0.373792 & 0.355422 & 5.236522 \\\\\n",
            "0.838421 & 0.310077 & 0.372512 & 0.354757 & 5.605440 \\\\\n",
            "0.851053 & 0.296010 & 0.371250 & 0.354068 & 5.996311 \\\\\n",
            "0.863684 & 0.281987 & 0.370000 & 0.353351 & 6.409931 \\\\\n",
            "0.876316 & 0.268016 & 0.368756 & 0.352606 & 6.847048 \\\\\n",
            "0.888947 & 0.254104 & 0.367510 & 0.351827 & 7.308346 \\\\\n",
            "0.901579 & 0.240261 & 0.366256 & 0.351014 & 7.794423 \\\\\n",
            "0.914211 & 0.226500 & 0.364988 & 0.350161 & 8.305772 \\\\\n",
            "0.926842 & 0.212833 & 0.363703 & 0.349268 & 8.842754 \\\\\n",
            "0.939474 & 0.199276 & 0.362392 & 0.348329 & 9.405566 \\\\\n",
            "0.952105 & 0.185850 & 0.361047 & 0.347339 & 9.994213 \\\\\n",
            "0.964737 & 0.172576 & 0.359665 & 0.346294 & 10.608464 \\\\\n",
            "0.977368 & 0.159482 & 0.358236 & 0.345188 & 11.247809 \\\\\n",
            "0.990000 & 0.146600 & 0.356755 & 0.344016 & 11.911417 \\\\\n",
            "\\bottomrule\n",
            "\\end{tabular}\n",
            "\n"
          ]
        }
      ]
    },
    {
      "cell_type": "code",
      "source": [
        "from scipy.special import gamma #For optimization of error term\n",
        "import matplotlib.pyplot as plt\n",
        "#This is the code that i used for finding the limit of error term when t goes to infty\n",
        "# we first define the function E_sigma(alpha, beta, T)(eq 2.64)\n",
        "def E_sigma(alpha, beta, sigma, T):\n",
        "    # First term: exponential part\n",
        "    exponent = alpha * (((2 - 2 * sigma) * (1 / (2 * T)) ** beta) + ((2 * sigma - 1) * ((1 / T) ** beta)) - ((sigma / T) ** beta) + 1)\n",
        "    exp_term = np.exp(exponent)\n",
        "\n",
        "    # Second term: Gamma term\n",
        "    gamma_term = ((alpha ** (-4 / (3 * beta))) * (gamma((4 / (3 * beta)) + 1))) ** (2 - 2 * sigma)\n",
        "\n",
        "    # Return the full expression\n",
        "    return exp_term * gamma_term\n",
        "\n",
        "# Set values for alpha, beta, sigma, and T (large T)\n",
        "alpha = 0.013\n",
        "beta = 2\n",
        "sigma = 0.99\n",
        "T_values = np.logspace(1, 12, 100)\n",
        "\n",
        "# Compute E_sigma for large T values\n",
        "E_values = [E_sigma(alpha, beta, sigma, T) for T in T_values]\n",
        "\n",
        "# Plot the result\n",
        "plt.figure(figsize=(8, 6))\n",
        "plt.plot(T_values, E_values, label=r\"$E_\\sigma(\\alpha, \\beta, T)$\", color='blue')\n",
        "plt.xscale('log')\n",
        "plt.xlabel(r'T_values')\n",
        "plt.ylabel(r'$E_\\sigma(\\alpha, \\beta, T)$')\n",
        "plt.title(r\"Behavior of $E_\\sigma(\\alpha, \\beta, T)$ as $T \\to \\infty$\")\n",
        "plt.grid(True)\n",
        "plt.legend()\n",
        "plt.show()\n",
        "\n",
        "print(f\"Value of E_sigma as T -> infinity (approximated): {E_values[-1]}\")"
      ],
      "metadata": {
        "colab": {
          "base_uri": "https://localhost:8080/",
          "height": 589
        },
        "id": "c0I-CC7BFuf5",
        "outputId": "74880ced-db62-4be3-d32a-7ae5e67518ee"
      },
      "execution_count": 299,
      "outputs": [
        {
          "output_type": "display_data",
          "data": {
            "text/plain": [
              "<Figure size 800x600 with 1 Axes>"
            ],
            "image/png": "[encoded data removed]"
          },
          "metadata": {}
        },
        {
          "output_type": "stream",
          "name": "stdout",
          "text": [
            "Value of E_sigma as T -> infinity (approximated): 1.0712838427838334\n"
          ]
        }
      ]
    },
    {
      "cell_type": "code",
      "source": [],
      "metadata": {
        "id": "SQ_hbfG-TMar"
      },
      "execution_count": 299,
      "outputs": []
    }
  ]
}