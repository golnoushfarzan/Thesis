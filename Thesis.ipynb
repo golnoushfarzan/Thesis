{
  "nbformat": 4,
  "nbformat_minor": 0,
  "metadata": {
    "colab": {
      "provenance": [],
      "authorship_tag": "ABX9TyP7/f8QbIQFJ9TiQ8quGhlj",
      "include_colab_link": true
    },
    "kernelspec": {
      "name": "python3",
      "display_name": "Python 3"
    },
    "language_info": {
      "name": "python"
    }
  },
  "cells": [
    {
      "cell_type": "markdown",
      "metadata": {
        "id": "view-in-github",
        "colab_type": "text"
      },
      "source": [
        "<a href=\"https://colab.research.google.com/github/golnoushfarzan/Thesis/blob/main/Thesis.ipynb\" target=\"_parent\"><img src=\"https://colab.research.google.com/assets/colab-badge.svg\" alt=\"Open In Colab\"/></a>"
      ]
    },
    {
      "cell_type": "code",
      "execution_count": null,
      "metadata": {
        "id": "OtL2Mv_O9iq6"
      },
      "outputs": [],
      "source": [
        "import numpy as np\n",
        "#this one is used to compute binomial coefficients (for C_3)\n",
        "from scipy.special import comb\n",
        "#This one is used for numerical integration of a given function over a specified interval (for I term)\n",
        "from scipy.integrate import quad\n",
        "import mpmath\n",
        "from scipy.optimize import minimize_scalar"
      ]
    },
    {
      "cell_type": "code",
      "source": [
        " #Define C1 as in equation 4.18\n",
        "def C1(sigma, T2, alpha, beta):\n",
        "      C1_value = np.exp(alpha * (sigma / T2)**beta)\n",
        "      return C1_value"
      ],
      "metadata": {
        "id": "oSHL_lohAFz7"
      },
      "execution_count": null,
      "outputs": []
    },
    {
      "cell_type": "code",
      "source": [
        "# Define C2 as in equation 4.18\n",
        "def C2(sigma, T1, T2, alpha):\n",
        "    return (1 - 1 / T1) * np.exp(alpha * (sigma / T2)**2 - alpha)"
      ],
      "metadata": {
        "id": "21qHkrZCAFwg"
      },
      "execution_count": null,
      "outputs": []
    },
    {
      "cell_type": "code",
      "source": [
        "# Define C4 as in equation 4.84\n",
        "def C4(T0, sigma, sigma_1_prime, sigma_2_prime, sigma_1, sigma_2, T2, T1, alpha, beta):\n",
        "        # this is for computing the numerator\n",
        "        C1_sigma1 = C1(sigma_1, T2, alpha, beta)\n",
        "        C1_sigma2 = C1(sigma_2, T2, alpha, beta)\n",
        "        weight1 = 2 * (sigma_2 - sigma) / (sigma_2 - sigma_1)\n",
        "        weight2 = 2 * (sigma - sigma_1) / (sigma_2 - sigma_1)\n",
        "        numerator = 4 * alpha * beta * (C1_sigma1**weight1) * (C1_sigma2**weight2)\n",
        "\n",
        "        # this is for computing the denominator\n",
        "        denominator = C2(sigma, T1, T2, alpha)\n",
        "\n",
        "        return numerator / denominator"
      ],
      "metadata": {
        "id": "E4FYlKetAFt5"
      },
      "execution_count": null,
      "outputs": []
    },
    {
      "cell_type": "code",
      "source": [
        "# Define the integral I_alpha_beta as in equation \\eqref{eq:2.23} (2.25)\n",
        "def I_alpha_beta(A, n, alpha, beta):\n",
        "    def integrand(x):\n",
        "        return x**A * np.exp(-alpha * x**beta) * (np.log(x)**n)\n",
        "\n",
        "    result, _ = quad(integrand, 0, np.inf)\n",
        "    return result"
      ],
      "metadata": {
        "id": "UEyA4f_9DYBt"
      },
      "execution_count": null,
      "outputs": []
    },
    {
      "cell_type": "code",
      "source": [
        "# Define m_0 based on the provided formula in equation 2.82\n",
        "def m0():\n",
        "    return np.sqrt(1 + (2 / 3) * np.sqrt(6 / 5))"
      ],
      "metadata": {
        "id": "jKxZS0SaKx3P"
      },
      "execution_count": null,
      "outputs": []
    },
    {
      "cell_type": "code",
      "source": [
        "# Define b1(X_0) based on the provided formula in equation 3.11\n",
        "def b1(X_0):\n",
        "    return (6 / np.pi**2) + (0.1333 / np.sqrt(X_0))"
      ],
      "metadata": {
        "id": "N81ksG5AKyCZ"
      },
      "execution_count": null,
      "outputs": []
    },
    {
      "cell_type": "code",
      "source": [
        "# Define b2(X_0) as a constant value in eq 3.15\n",
        "def b2(X_0):\n",
        "    return 1.048  # Given value for b2(X_0) for X_0 \\geq 1000"
      ],
      "metadata": {
        "id": "9gFwJDCDLkEc"
      },
      "execution_count": null,
      "outputs": []
    },
    {
      "cell_type": "code",
      "source": [
        "# Define b3(X_0) as a constant value in eq 3.21\n",
        "def b_3(X_0):\n",
        "    return 0.605  # Given value for b2(X_0) for X_0 \\geq 1000"
      ],
      "metadata": {
        "id": "fliOFlhfhk5s"
      },
      "execution_count": null,
      "outputs": []
    },
    {
      "cell_type": "code",
      "source": [
        "# Define b_4 function based on the given equation 3.40\n",
        "def b_4(X_0):\n",
        "    return 0.428 + 0.895 / np.log(X_0)"
      ],
      "metadata": {
        "id": "jPf8T66ihdwW"
      },
      "execution_count": null,
      "outputs": []
    },
    {
      "cell_type": "code",
      "source": [
        "# Define D1 and D2 as given in equation 4.25\n",
        "def D1(X):\n",
        "    return 6 / np.pi**2 + b2(X) / np.log(X)\n",
        "\n",
        "def D2(X):\n",
        "    return (np.pi * m0 * b1(X) / np.log(X)) + (6 * m0 / (np.pi * X)) + (np.pi * m0 * b2(X) / (X * np.log(X)))\n"
      ],
      "metadata": {
        "id": "UDsL54J9Kvd3"
      },
      "execution_count": null,
      "outputs": []
    },
    {
      "cell_type": "markdown",
      "source": [
        "#This is the computation for C3 on the half line:\n",
        "\n"
      ],
      "metadata": {
        "id": "AiLDdtahu5dU"
      }
    },
    {
      "cell_type": "code",
      "source": [
        "# Define C3 function as in equation 2.25. This one is for \\sigma_1\n",
        "\n",
        "# Define b1(X_0) based on the provided formula in equation 3.11\n",
        "def b1(X_0):\n",
        "    return (6 / np.pi**2) + (0.1333 / np.sqrt(X_0))\n",
        "\n",
        "# Define m_0 based on the provided formula in equation 2.82\n",
        "def m0():\n",
        "    return np.sqrt(1 + (2 / 3) * np.sqrt(6 / 5))\n",
        "\n",
        "# Define b2(X_0) as a constant value in eq 3.15\n",
        "def b2(X_0):\n",
        "    return 1.048  # Given value for b2(X_0) for X_0 \\geq 1000\n",
        "\n",
        "# Define D1 and D2 as given in equation 4.25\n",
        "def D1(X):\n",
        "    return 6 / np.pi**2 + b2(X) / np.log(X)\n",
        "\n",
        "def D2(X):\n",
        "    return (np.pi * m0() * b1(X) / np.log(X)) + (6 * m0() / (np.pi * X)) + (np.pi * m0() * b2(X) / (X * np.log(X)))\n",
        "\n",
        "# Define the integral I_alpha_beta as in equation \\eqref{eq:2.23} (2.25)\n",
        "def I_alpha_beta(A, n, alpha, beta):\n",
        "    def integrand(x):\n",
        "        return x**A * np.exp(-alpha * x**beta) * (np.log(x)**n)\n",
        "\n",
        "    result, _ = quad(integrand, 0, np.inf)\n",
        "    return result\n",
        "\n",
        "# Define constants(Example value)\n",
        "X = 1e12\n",
        "T2 = 1e12\n",
        "alpha = 0.203\n",
        "beta = 2\n",
        "\n",
        "j_1 = 0.618\n",
        "j_3 = float(mpmath.zeta(1/2)**2)\n",
        "\n",
        "a = 4/3\n",
        "b = 2\n",
        "# List of values for a_i, b_i, and d_i based on the table of 4.1 (for sigma_1)\n",
        "a_i_values = [0, -1/6, -1/3, -1/3, -1/2, -2/3, -1, -7/6, -4/3, -4/3, -3/2, -5/3]\n",
        "b_i_values = [0, 0, 0, -2, -2, -2, 0, 0, 0, -2, -2, -2]\n",
        "\n",
        "def compute_d_i(X, D1, D2):\n",
        "    \"\"\"\n",
        "    Calculate the d_i values based on the provided formula.\n",
        "    \"\"\"\n",
        "    D1_value = D1(X)\n",
        "    D2_value = D2(X)\n",
        "\n",
        "    d_i_values = [1,\n",
        "                  2 / np.sqrt(D1(X) * np.log(X)),\n",
        "                  1 / (D1(X) * np.log(X)),\n",
        "                  j_3 / j_1**2,\n",
        "                  j_3 / (j_1**2 * np.sqrt(D1(X) * np.log(X))),\n",
        "                  j_3 / (2 * j_1**2 * D1(X) * np.log(X)),\n",
        "                  (X * D2(X)) / D1(X),\n",
        "                  2 * X * D2(X) / (D1(X) * np.sqrt(D1(X) * np.log(X))),\n",
        "                  (X * D2(X)) / (D1(X)**2 * np.log(X)),\n",
        "                  j_3 * D2(X) * X / (2 * j_1**2 * D1(X)),\n",
        "                  j_3 * D2(X) * X / (j_1**2 * D1(X) * np.sqrt(D1(X) * np.log(X))),\n",
        "                  j_3 * D2(X) * X / (j_1**2 * D1(X)**2 * np.log(X))]\n",
        "    return d_i_values\n",
        "\n",
        "\n",
        "# Define the d_i values based on the formula\n",
        "#def compute_d_i(i, X, D1, D2, j_1, j_3):\n",
        "    \"\"\"\n",
        "    Calculate the d_i values based on the provided formula.\n",
        "    \"\"\"\n",
        "\"\"\"\n",
        "    D1_value = D1(X)\n",
        "    D2_value = D2(X)\n",
        "\n",
        "    if i == 0:\n",
        "        return 1\n",
        "    elif i == 1:\n",
        "        return 2 / np.sqrt(D1(X) * np.log(X))\n",
        "    elif i == 2:\n",
        "        return 1 / (D1(X) * np.log(X))\n",
        "    elif i == 3:\n",
        "        return j_3 / j_1**2\n",
        "    elif i == 4:\n",
        "        return j_3 / (j_1**2 * np.sqrt(D1(X) * np.log(X)))\n",
        "    elif i == 5:\n",
        "        return j_3 / (2 * j_1**2 * D1(X) * np.log(X))\n",
        "    elif i == 6:\n",
        "        return (X * D2(X)) / D1(X)\n",
        "    elif i == 7:\n",
        "        return 2 * X * D2(X) / (D1(X) * np.sqrt(D1(X) * np.log(X)))\n",
        "    elif i == 8:\n",
        "        return (X * D2(X)) / (D1(X)**2 * np.log(X))\n",
        "    elif i == 9:\n",
        "        return j_3 * D2(X) * X / (2 * j_1**2 * D1(X))\n",
        "    elif i == 10:\n",
        "        return j_3 * D2(X) * X / (j_1**2 * D1(X) * np.sqrt(D1(X) * np.log(X)))\n",
        "    elif i == 11:\n",
        "        return j_3 * D2(X) * X / (j_1**2 * D1(X)**2 * np.log(X))\n",
        "\"\"\"\n",
        "\n",
        "\n",
        "\n",
        "# Define C3 function as equation 2.25. This one is for \\sigma_1\n",
        "def C3(T2, alpha, beta, a, a_i_values, b, b_i_values,  d_i_values):\n",
        "    log_T = np.log(T2)\n",
        "\n",
        "    C31_value = 0\n",
        "\n",
        "    for i in range(len(a_i_values)):\n",
        "        a_i = a_i_values[i]\n",
        "        b_i = b_i_values[i]\n",
        "        d_i = d_i_values[i]\n",
        "        # Calculate d_i using the function for d_i\n",
        "\n",
        "        inner_sum = 0\n",
        "        # Summation over k\n",
        "        for k in range(b + b_i + 1):\n",
        "            binomial_coeff = comb(b + b_i, k)\n",
        "            integral_value = I_alpha_beta(beta + a + a_i - 1, b + b_i - k, alpha, beta)\n",
        "            inner_sum += binomial_coeff * integral_value / (log_T**(b + b_i - k))\n",
        "\n",
        "        # definition of C3\n",
        "        C31_value += d_i * T2**a_i * (log_T**b_i) * inner_sum\n",
        "\n",
        "    return C31_value\n",
        "\n",
        "C31_value = C3(T2, alpha, beta, a, a_i_values, b, b_i_values, compute_d_i(X, D1, D2))\n",
        "\n",
        "print(f\"The value of C_3 on the half line is: {C31_value}\")"
      ],
      "metadata": {
        "colab": {
          "base_uri": "https://localhost:8080/"
        },
        "id": "4CwQU-2IBPrz",
        "outputId": "6b225e00-a08b-46fa-e156-25fa71ba8bb4"
      },
      "execution_count": 542,
      "outputs": [
        {
          "output_type": "stream",
          "name": "stdout",
          "text": [
            "The value of C_3 on the half line is: 7.328676672266382\n"
          ]
        }
      ]
    },
    {
      "cell_type": "code",
      "source": [
        "mpmath.zeta(1/2)"
      ],
      "metadata": {
        "colab": {
          "base_uri": "https://localhost:8080/"
        },
        "id": "IF0HjpVotjzC",
        "outputId": "d83da2fa-6edb-4d02-ac5b-d7b9bf6e4b46"
      },
      "execution_count": null,
      "outputs": [
        {
          "output_type": "execute_result",
          "data": {
            "text/plain": [
              "mpf('-1.4603545088095868')"
            ]
          },
          "metadata": {},
          "execution_count": 64
        }
      ]
    },
    {
      "cell_type": "code",
      "source": [
        "a = 109/82\n",
        "b = 0\n",
        "# List of values for a_i, b_i, and d_i based on the table of 4.1 (for sigma_1)\n",
        "a_i_values = [0, -27/164, -27/82, -27/82, -81/164, -109/164, -1, -191/164, -109/82, -109/82, -164/81, -136/82]\n",
        "b_i_values = [0, 0, 0, 0, 0, 0, 0, 0, 0, 0, 0, 0]\n",
        "omega_5 = 66.7\n",
        "omega_7 = mpmath.zeta(1/2) ** 2\n",
        "\n",
        "def compute_d_i(X, D1, D2):\n",
        "    \"\"\"\n",
        "    Calculate the d_i values based on the provided formula.\n",
        "    \"\"\"\n",
        "    D1_value = D1(X)\n",
        "    D2_value = D2(X)\n",
        "\n",
        "    d_i_values = [1,\n",
        "                  2 /omega_5 * np.sqrt(D1(X) * np.log(X)),\n",
        "                  omega_7 / (omega_5**2),\n",
        "                  1 / D1(X) * (omega_5**2) * np.log(X),\n",
        "                  2 * omega_7 / ((omega_5**3)) * np.sqrt(D1(X) * np.log(X)),\n",
        "                  omega_7 / (omega_5**4 * D1(X) * np.log(X)),\n",
        "                  (X * D2(X)) / D1(X),\n",
        "                  2 * X * D2(X) / (D1(X) * np.sqrt(D1(X) * np.log(X))),\n",
        "                  (X * D2(X) * omega_7) / (D1(X) * omega_5**2),\n",
        "                  D2(X) * X / (2 * D1(X)**2 * omega_5**2 * np.log(X) ),\n",
        "                  2 * omega_7 * D2(X) * X / (omega_5**3 * D1(X) * np.sqrt(D1(X) * np.log(X))),\n",
        "                  omega_7 * D2(X) * X / (2 * omega_5**4 * D1(X)**2 * np.log(X))]\n",
        "    return d_i_values\n",
        "\n",
        "\n",
        "C31_valuesecond = C3(T2, alpha, beta, a, a_i_values, b, b_i_values, compute_d_i(X, D1, D2))\n",
        "\n",
        "print(f\"The second version of C_3 at sigma_1 is: {C31_valuesecond}\")\n",
        "# Define D4' as equation 4.54\n",
        "\n",
        "def D4prime(X):\n",
        "    return D1(X) * (omega_5 ** 2)\n",
        "\n",
        "    X = 1e12\n",
        "D4prime_value = D4prime(X)\n",
        "print(f\"The value of D_4' is: {D4prime_value}\")"
      ],
      "metadata": {
        "colab": {
          "base_uri": "https://localhost:8080/"
        },
        "id": "tTRAhNy8k--v",
        "outputId": "fadb39d2-9796-4f04-cd90-eb23ccc3fbf5"
      },
      "execution_count": null,
      "outputs": [
        {
          "output_type": "stream",
          "name": "stdout",
          "text": [
            "The second version of C_3 at sigma_1 is: 297.494018999578\n",
            "The value of D_4' is: 2873.3400158106188\n"
          ]
        }
      ]
    },
    {
      "cell_type": "code",
      "source": [
        "# Define D4 as equation 4.54\n",
        "j_1 = 0.618\n",
        "def D4(X):\n",
        "    return D1(X) * (j_1 ** 2)\n",
        "\n",
        "    X = 1e12\n",
        "D4_value = D4(X)\n",
        "print(f\"The value of D_4 is: {D4_value}\")"
      ],
      "metadata": {
        "colab": {
          "base_uri": "https://localhost:8080/"
        },
        "id": "R1pmiYPz6liJ",
        "outputId": "8348e1a6-0730-4d9f-b84d-4987c9ebb9a3"
      },
      "execution_count": 543,
      "outputs": [
        {
          "output_type": "stream",
          "name": "stdout",
          "text": [
            "The value of D_4 is: 0.2466677108668577\n"
          ]
        }
      ]
    },
    {
      "cell_type": "code",
      "source": [
        "D4_value = D4(X)\n",
        "print(f\"The value of D_4 is: {D4_value}\")"
      ],
      "metadata": {
        "colab": {
          "base_uri": "https://localhost:8080/"
        },
        "id": "InOLmmQL7Jrm",
        "outputId": "3c817ca0-5a5e-4cd4-cf41-87af90efaa49"
      },
      "execution_count": 391,
      "outputs": [
        {
          "output_type": "stream",
          "name": "stdout",
          "text": [
            "The value of D_4 is: 0.2466677108668577\n"
          ]
        }
      ]
    },
    {
      "cell_type": "code",
      "source": [
        "log_X = np.log(X)\n",
        "X = 1e12\n",
        "print(f\"The value of log_X is: {log_X}\")"
      ],
      "metadata": {
        "colab": {
          "base_uri": "https://localhost:8080/"
        },
        "id": "XylU0L0_Mp-K",
        "outputId": "87f6dead-5fa9-4edf-a4e9-286d94bce12b"
      },
      "execution_count": 544,
      "outputs": [
        {
          "output_type": "stream",
          "name": "stdout",
          "text": [
            "The value of log_X is: 27.631021115928547\n"
          ]
        }
      ]
    },
    {
      "cell_type": "code",
      "source": [
        "C31_times_D4 = C31_value * D4_value"
      ],
      "metadata": {
        "id": "AiSm9cpZ7xVf"
      },
      "execution_count": 545,
      "outputs": []
    },
    {
      "cell_type": "code",
      "source": [
        "delta = 0.3\n",
        "sigma_2 = 1 + delta / log_X\n",
        "sigma = 0.9\n",
        "sigma_1 = 0.5\n",
        "delta_2 = 0.44\n",
        "sigma_prime = sigma - (delta_2 / np.log(T2))\n",
        "exponent = (sigma_2 - sigma_prime) / (sigma_2 - sigma_1)\n",
        "print(f\"The value of exponent is: {exponent}\")"
      ],
      "metadata": {
        "colab": {
          "base_uri": "https://localhost:8080/"
        },
        "id": "Np5TroVza575",
        "outputId": "ab632e23-4aec-44f9-e2df-15a7a51d3265"
      },
      "execution_count": 546,
      "outputs": [
        {
          "output_type": "stream",
          "name": "stdout",
          "text": [
            "The value of exponent is: 0.2481739570954682\n"
          ]
        }
      ]
    },
    {
      "cell_type": "code",
      "source": [
        "x = C31_valuesecond * D4prime_value\n",
        "print(f\"The value of second version of C3 . D4' on the half line is: {x}\")\n",
        "result1prime = (x) ** exponent\n",
        "print(f\"The result for the half line: {result1prime}\")"
      ],
      "metadata": {
        "colab": {
          "base_uri": "https://localhost:8080/"
        },
        "id": "RLdqWkBSaYaj",
        "outputId": "2743dc5b-2350-4803-e3f4-cf609a52f3cc"
      },
      "execution_count": null,
      "outputs": [
        {
          "output_type": "stream",
          "name": "stdout",
          "text": [
            "The value of second version of C3 . D4' on the half line is: 854801.469255811\n",
            "The result for the half line: 26.6629600560128\n"
          ]
        }
      ]
    },
    {
      "cell_type": "markdown",
      "source": [
        "#This value is for C3. D4 (which we need it for the half line):"
      ],
      "metadata": {
        "id": "TNKrZekp9oLB"
      }
    },
    {
      "cell_type": "code",
      "source": [
        "print(f\"The value of C3 . D4 on the half line is: {C31_times_D4}\")"
      ],
      "metadata": {
        "colab": {
          "base_uri": "https://localhost:8080/"
        },
        "id": "3UuvLQlJ7-_x",
        "outputId": "d46b221d-0169-4640-9c80-9e6feb592555"
      },
      "execution_count": 547,
      "outputs": [
        {
          "output_type": "stream",
          "name": "stdout",
          "text": [
            "The value of C3 . D4 on the half line is: 1.8077478984312887\n"
          ]
        }
      ]
    },
    {
      "cell_type": "code",
      "source": [
        "delta = 0.3\n",
        "sigma_2 = 1 + delta / log_X\n",
        "sigma = 0.9\n",
        "sigma_1 = 0.5\n",
        "delta_2 = 0.4\n",
        "sigma_prime = sigma - (delta_2 / np.log(T2))\n",
        "exponent = (sigma_2 - sigma_prime) / (sigma_2 - sigma_1)\n",
        "print(f\"The value of exponent is: {exponent}\")"
      ],
      "metadata": {
        "colab": {
          "base_uri": "https://localhost:8080/"
        },
        "id": "BzmIwTEuTD1p",
        "outputId": "4ab4eb61-b5ab-4acb-8514-556adb0817e4"
      },
      "execution_count": 575,
      "outputs": [
        {
          "output_type": "stream",
          "name": "stdout",
          "text": [
            "The value of exponent is: 0.2453401949133819\n"
          ]
        }
      ]
    },
    {
      "cell_type": "markdown",
      "source": [
        "#This is the final result on the half line (The first part of the \\tilde{C5}):"
      ],
      "metadata": {
        "id": "5Z-x7Wf8UbbY"
      }
    },
    {
      "cell_type": "code",
      "source": [
        "result1 = (C31_times_D4) ** exponent\n",
        "print(f\"The result for the half line: {result1}\")"
      ],
      "metadata": {
        "colab": {
          "base_uri": "https://localhost:8080/"
        },
        "id": "FIaXp_RpT55J",
        "outputId": "edc8732f-d75c-4b38-db8f-0a8442287038"
      },
      "execution_count": 549,
      "outputs": [
        {
          "output_type": "stream",
          "name": "stdout",
          "text": [
            "The result for the half line: 1.1582836381209503\n"
          ]
        }
      ]
    },
    {
      "cell_type": "markdown",
      "source": [
        "#This is the computation for C3 on the sigme2:\n",
        "\n"
      ],
      "metadata": {
        "id": "dNffa4iRhO7F"
      }
    },
    {
      "cell_type": "code",
      "source": [
        "# Define C3 function as in equation 2.25. This one is for \\sigma_2\n",
        "gamma = mpmath.euler\n",
        "# Define b_4 function based on the given equation 3.40\n",
        "def b_4(X_0):\n",
        "    return 0.428 + 0.895 / np.log(X_0)\n",
        "\n",
        "# Define b3(X_0) as a constant value in eq 3.21\n",
        "def b_3(X_0):\n",
        "    return 0.605  # Given value for b2(X_0) for X_0 \\geq 1000\n",
        "\n",
        "# Define m_0 based on the provided formula in equation 2.82\n",
        "def m0():\n",
        "    return np.sqrt(1 + (2 / 3) * np.sqrt(6 / 5))\n",
        "\n",
        "# Define D_5 and D_6 based on the given equations\n",
        "def D5(delta, X):\n",
        "    \"\"\"\n",
        "    Calculate D_5 for given delta and X, using m0 and gamma.\n",
        "    \"\"\"\n",
        "    b4_X = b_4(X)\n",
        "    return (np.pi * m0() * b4_X) / (2 * delta) * np.exp((2 * delta * float(gamma) / np.log(X)))\n",
        "\n",
        "def D6(delta, X):\n",
        "    \"\"\"\n",
        "    Calculate D_6 for given delta and X, using gamma.\n",
        "    \"\"\"\n",
        "    b3_X = b_3(X)\n",
        "    b4_X = b_4(X)\n",
        "    return (b4_X / (5 * delta * np.exp(float(gamma)))) + (b3_X * np.exp(-2 * delta)) / (np.log(X)**2)\n",
        "\n",
        "\n",
        "# Define constants(Example value)\n",
        "X = 1e12\n",
        "T2 = 1e12\n",
        "alpha = 0.203\n",
        "beta = 2\n",
        "a = 1\n",
        "b = 0\n",
        "delta = 0.3\n",
        "\n",
        "# List of values for a_i', b_i', and d_i' based on the table of 4.3 (for sigma_2)\n",
        "a_i_values = [0, -1, -1]\n",
        "b_i_values = [0, 0, 0]\n",
        "\n",
        "# Define the d_i values based on your formula\n",
        "def compute_d_i(X, D5, D6, delta):\n",
        "    \"\"\"\n",
        "    Calculate the d_i values based on the provided formula.\n",
        "    \"\"\"\n",
        "    D5_value = D5(delta, X)\n",
        "    D6_value = D6(delta, X)\n",
        "\n",
        "    d_i_values = [1, (D5(delta, X) * X ) / D6(delta, X), np.pi * m0()]\n",
        "    return d_i_values\n",
        "\n",
        "\n",
        "C32_value = C3(T2, alpha, beta, a, a_i_values, b, b_i_values, compute_d_i(X, D5, D6, delta))\n",
        "\n",
        "print(f\"The value of C_3 at sigma_2 is: {C32_value}\")"
      ],
      "metadata": {
        "colab": {
          "base_uri": "https://localhost:8080/"
        },
        "id": "ZrXJSWjKCb42",
        "outputId": "adbb147d-ec01-4b37-ff06-62ba3afe8cc7"
      },
      "execution_count": 554,
      "outputs": [
        {
          "output_type": "stream",
          "name": "stdout",
          "text": [
            "The value of C_3 at sigma_2 is: 50.62250818025071\n"
          ]
        }
      ]
    },
    {
      "cell_type": "code",
      "source": [
        "# Define D6\n",
        "X = 1e12\n",
        "delta = 0.3\n",
        "def D6(delta, X):\n",
        "    \"\"\"\n",
        "    Calculate D_6 for given delta and X, using gamma.\n",
        "    \"\"\"\n",
        "    b3_X = b_3(X)\n",
        "    b4_X = b_4(X)\n",
        "    return (b4_X / (5 * delta * np.exp(float(gamma)))) + (b3_X * np.exp(-2 * delta)) / (np.log(X)**2)\n",
        "D6_value = D6(delta, X)\n",
        "print(f\"The value of D_6 is: {D6_value}\")"
      ],
      "metadata": {
        "colab": {
          "base_uri": "https://localhost:8080/"
        },
        "id": "4bpTSckCCtiU",
        "outputId": "6572c0c3-4e41-4e41-a2eb-9d13b93c75eb"
      },
      "execution_count": 555,
      "outputs": [
        {
          "output_type": "stream",
          "name": "stdout",
          "text": [
            "The value of D_6 is: 0.17276220616834606\n"
          ]
        }
      ]
    },
    {
      "cell_type": "code",
      "source": [
        "C32_times_D6 = C32_value * D6_value"
      ],
      "metadata": {
        "id": "rkJ2WoVzeLIK"
      },
      "execution_count": 556,
      "outputs": []
    },
    {
      "cell_type": "markdown",
      "source": [
        "#This value is for C3. D6 (which we need it for the sigma2):"
      ],
      "metadata": {
        "id": "KIoTWbZB9u3W"
      }
    },
    {
      "cell_type": "code",
      "source": [
        "print(f\"The value of C3 . D6 at sigma_2 is: {C32_times_D6}\")"
      ],
      "metadata": {
        "colab": {
          "base_uri": "https://localhost:8080/"
        },
        "id": "u9v6N2lD5fLs",
        "outputId": "5bcf68da-7101-4701-f088-2e3b02fd2b1c"
      },
      "execution_count": 557,
      "outputs": [
        {
          "output_type": "stream",
          "name": "stdout",
          "text": [
            "The value of C3 . D6 at sigma_2 is: 8.745656194995258\n"
          ]
        }
      ]
    },
    {
      "cell_type": "code",
      "source": [
        "delta = 0.3\n",
        "sigma_2 = 1 + delta / np.log(X)\n",
        "sigma = 0.9\n",
        "sigma_1 = 0.5\n",
        "delta_2 = 0.4\n",
        "sigma_prime = sigma - (delta_2 / np.log(T2))\n",
        "exponent2 = (sigma_prime - sigma_1) / (sigma_2 - sigma_1)\n",
        "print(f\"The value of exponent2 is: {exponent2}\")"
      ],
      "metadata": {
        "colab": {
          "base_uri": "https://localhost:8080/"
        },
        "id": "D4F63Rxr59Nf",
        "outputId": "31925058-8aa5-4c10-e9f2-e895404f690f"
      },
      "execution_count": 572,
      "outputs": [
        {
          "output_type": "stream",
          "name": "stdout",
          "text": [
            "The value of exponent2 is: 0.7546598050866181\n"
          ]
        }
      ]
    },
    {
      "cell_type": "markdown",
      "source": [
        "#This is the final result on the sigma2 (The second part of the \\tilde{C5})"
      ],
      "metadata": {
        "id": "3SYa6Dl1VU1Q"
      }
    },
    {
      "cell_type": "code",
      "source": [
        "result2 = (C32_times_D6) ** exponent2\n",
        "print(f\"The result for sigma2: {result2}\")"
      ],
      "metadata": {
        "colab": {
          "base_uri": "https://localhost:8080/"
        },
        "id": "SiqUcTVPU_3Q",
        "outputId": "157d88dc-8946-4881-e961-4a7789e4646b"
      },
      "execution_count": 559,
      "outputs": [
        {
          "output_type": "stream",
          "name": "stdout",
          "text": [
            "The result for sigma2: 5.105802995167109\n"
          ]
        }
      ]
    },
    {
      "cell_type": "markdown",
      "source": [
        "#This is the upper bound for the second exponent and then the second part of \\hat{C5}."
      ],
      "metadata": {
        "id": "5TUdSCBtgu-b"
      }
    },
    {
      "cell_type": "code",
      "source": [
        "exponent2upper = 2 * (sigma - sigma_1)"
      ],
      "metadata": {
        "id": "I5ZdYdmKgb-l"
      },
      "execution_count": 374,
      "outputs": []
    },
    {
      "cell_type": "code",
      "source": [
        "result2breve = (C32_times_D6) ** exponent2upper\n",
        "print(f\"The result for sigma2: {result2breve}\")"
      ],
      "metadata": {
        "colab": {
          "base_uri": "https://localhost:8080/"
        },
        "id": "1EpcyMNdfOd9",
        "outputId": "348c439b-bedd-45e0-f319-ce96350b9929"
      },
      "execution_count": 375,
      "outputs": [
        {
          "output_type": "stream",
          "name": "stdout",
          "text": [
            "The result for sigma2: 2.440004673731563\n"
          ]
        }
      ]
    },
    {
      "cell_type": "markdown",
      "source": [
        "#This is the final value for \\tilde{C_5} as equation 4.85 for the first version:"
      ],
      "metadata": {
        "id": "wFhw6SyPW69t"
      }
    },
    {
      "cell_type": "code",
      "source": [
        "def tilde_C5(sigma_prime, a, a_i, b, b_i, d_i,\n",
        "              a_prime, a_i_prime, b_prime, b_i_prime, d_i_prime, X):\n",
        "    # Compute logarithmic terms\n",
        "    log_X = np.log(X)\n",
        "\n",
        "    tilde_C5_value = result1 * result2\n",
        "    return tilde_C5_value"
      ],
      "metadata": {
        "id": "Zf7f6cUGa0qP"
      },
      "execution_count": 560,
      "outputs": []
    },
    {
      "cell_type": "code",
      "source": [
        "a = 4/3\n",
        "a_prime = 1\n",
        "a_i = [0, -1/6, -1/3, -1/3, -1/2, -2/3, -1, -7/6, -4/3, -4/3, -3/2, -5/3]\n",
        "a_i_prime = [0, -1, -1]\n",
        "b = 2\n",
        "b_prime = 0\n",
        "b_i = [0, 0, 0, -2, -2, -2, 0, 0, 0, -2, -2, -2]\n",
        "b_i_prime = [0, 0, 0]\n",
        "d_i = [1, 2 / np.sqrt(D1(X) * np.log(X)),\n",
        "                  1 / (D1(X) * np.log(X)),\n",
        "                  j_3 / j_1**2,\n",
        "                  j_3 / (j_1**2 * np.sqrt(D1(X) * np.log(X))),\n",
        "                  j_3 / (2 * j_1**2 * D1(X) * np.log(X)),\n",
        "                  (X * D2(X)) / D1(X),\n",
        "                  2 * X * D2(X) / (D1(X) * np.sqrt(D1(X) * np.log(X))),\n",
        "                  (X * D2(X)) / (D1(X)**2 * np.log(X)),\n",
        "                  j_3 * D2(X) * X / (2 * j_1**2 * D1(X)),\n",
        "                  j_3 * D2(X) * X / (j_1**2 * D1(X) * np.sqrt(D1(X) * np.log(X))),\n",
        "                  j_3 * D2(X) * X / (j_1**2 * D1(X)**2 * np.log(X))]\n",
        "d_i_prime = [1, (D5(delta, X) * X ) / D6(delta, X), np.pi * m0()]\n",
        "X = 1e12\n",
        "tilde_C5_value = tilde_C5(sigma_prime, a, a_i, b, b_i, d_i,\n",
        "              a_prime, a_i_prime, b_prime, b_i_prime, d_i_prime, X)\n",
        "print(f\"The value of tilde{{C_5}} is: {tilde_C5_value}\")\n"
      ],
      "metadata": {
        "colab": {
          "base_uri": "https://localhost:8080/"
        },
        "id": "6xGcxmYpcXTd",
        "outputId": "ae452b1f-e15d-4ade-8a6a-36da04f0877b"
      },
      "execution_count": 561,
      "outputs": [
        {
          "output_type": "stream",
          "name": "stdout",
          "text": [
            "The value of tilde{C_5} is: 5.913968068771004\n"
          ]
        }
      ]
    },
    {
      "cell_type": "code",
      "source": [
        "tilde_c5 = result1 * result2\n",
        "print(f\"The result for tilde_C5 is: {tilde_c5}\")\n"
      ],
      "metadata": {
        "colab": {
          "base_uri": "https://localhost:8080/"
        },
        "id": "kbC8_WDEVMMc",
        "outputId": "ebb085cf-00e8-408a-c40f-acb1c3fa1e70"
      },
      "execution_count": 422,
      "outputs": [
        {
          "output_type": "stream",
          "name": "stdout",
          "text": [
            "The result for tilde_C5 is: 14.053855316679108\n"
          ]
        }
      ]
    },
    {
      "cell_type": "markdown",
      "source": [
        "#This is the final value for \\breve{C_5} as equation 4.94 as we use it for first version:"
      ],
      "metadata": {
        "id": "JSaOYAy5hG1G"
      }
    },
    {
      "cell_type": "code",
      "source": [
        "def breve_C5(sigma_prime, a, a_i, b, b_i, d_i,\n",
        "              a_prime, a_i_prime, b_prime, b_i_prime, d_i_prime, X):\n",
        "    # Compute logarithmic terms\n",
        "    log_X = np.log(X)\n",
        "\n",
        "    breve_C5_value = result1 * result2breve\n",
        "    return breve_C5_value"
      ],
      "metadata": {
        "id": "zp9fe7xQhcLL"
      },
      "execution_count": 378,
      "outputs": []
    },
    {
      "cell_type": "code",
      "source": [
        "a = 4/3\n",
        "a_prime = 1\n",
        "a_i = [0, -1/6, -1/3, -1/3, -1/2, -2/3, -1, -7/6, -4/3, -4/3, -3/2, -5/3]\n",
        "a_i_prime = [0, -1, -1]\n",
        "b = 2\n",
        "b_prime = 0\n",
        "b_i = [0, 0, 0, -2, -2, -2, 0, 0, 0, -2, -2, -2]\n",
        "b_i_prime = [0, 0, 0]\n",
        "d_i = [1, 2 / np.sqrt(D1(X) * np.log(X)),\n",
        "                  1 / (D1(X) * np.log(X)),\n",
        "                  j_3 / j_1**2,\n",
        "                  j_3 / (j_1**2 * np.sqrt(D1(X) * np.log(X))),\n",
        "                  j_3 / (2 * j_1**2 * D1(X) * np.log(X)),\n",
        "                  (X * D2(X)) / D1(X),\n",
        "                  2 * X * D2(X) / (D1(X) * np.sqrt(D1(X) * np.log(X))),\n",
        "                  (X * D2(X)) / (D1(X)**2 * np.log(X)),\n",
        "                  j_3 * D2(X) * X / (2 * j_1**2 * D1(X)),\n",
        "                  j_3 * D2(X) * X / (j_1**2 * D1(X) * np.sqrt(D1(X) * np.log(X))),\n",
        "                  j_3 * D2(X) * X / (j_1**2 * D1(X)**2 * np.log(X))]\n",
        "d_i_prime = [1, (D5(delta, X) * X ) / D6(delta, X), np.pi * m0()]\n",
        "X = 1e12\n",
        "breve_C5_value = breve_C5(sigma_prime, a, a_i, b, b_i, d_i,\n",
        "              a_prime, a_i_prime, b_prime, b_i_prime, d_i_prime, X)\n",
        "print(f\"The value of breve{{C_5}} is: {breve_C5_value}\")"
      ],
      "metadata": {
        "colab": {
          "base_uri": "https://localhost:8080/"
        },
        "id": "ULDc4j0Fh9Ea",
        "outputId": "6cc9c80b-e623-4a28-87cc-c45aa5ec53ae"
      },
      "execution_count": 379,
      "outputs": [
        {
          "output_type": "stream",
          "name": "stdout",
          "text": [
            "The value of breve{C_5} is: 1.8750132704399058\n"
          ]
        }
      ]
    },
    {
      "cell_type": "markdown",
      "source": [
        "#This is the final value for \\tilde{C_5} as equation 4.85 for the second version:"
      ],
      "metadata": {
        "id": "pJ_n1x7viLjB"
      }
    },
    {
      "cell_type": "code",
      "source": [
        "def tilde_C5(sigma_prime, a, a_i, b, b_i, d_i,\n",
        "              a_prime, a_i_prime, b_prime, b_i_prime, d_i_prime, X):\n",
        "    # Compute logarithmic terms\n",
        "    log_X = np.log(X)\n",
        "\n",
        "    tilde_C5_value = result1prime * result2\n",
        "    return tilde_C5_value"
      ],
      "metadata": {
        "id": "1FQ7PChGiKTB"
      },
      "execution_count": null,
      "outputs": []
    },
    {
      "cell_type": "code",
      "source": [
        "omega_5 = 66.7\n",
        "omega_7 = mpmath.zeta(1/2) ** 2\n",
        "a = 109/82\n",
        "a_prime = 1\n",
        "a_i = [0, -27/164, -27/82, -27/82, -81/164, -109/164, -1, -191/164, -109/82, -109/82, -164/81, -136/82]\n",
        "a_i_prime = [0, -1, -1]\n",
        "b = 0\n",
        "b_prime = 0\n",
        "b_i = [0, 0, 0, 0, 0, 0, 0, 0, 0, 0, 0, 0]\n",
        "b_i_prime = [0, 0, 0]\n",
        "d_i = [1,\n",
        "                  2 /omega_5 * np.sqrt(D1(X) * np.log(X)),\n",
        "                  omega_7 / (omega_5**2),\n",
        "                  1 / D1(X) * (omega_5**2) * np.log(X),\n",
        "                  2 * omega_7 / ((omega_5**3)) * np.sqrt(D1(X) * np.log(X)),\n",
        "                  omega_7 / (omega_5**4 * D1(X) * np.log(X)),\n",
        "                  (X * D2(X)) / D1(X),\n",
        "                  2 * X * D2(X) / (D1(X) * np.sqrt(D1(X) * np.log(X))),\n",
        "                  (X * D2(X) * omega_7) / (D1(X) * omega_5**2),\n",
        "                  D2(X) * X / (2 * D1(X)**2 * omega_5**2 * np.log(X) ),\n",
        "                  2 * omega_7 * D2(X) * X / (omega_5**3 * D1(X) * np.sqrt(D1(X) * np.log(X))),\n",
        "                  omega_7 * D2(X) * X / (2 * omega_5**4 * D1(X)**2 * np.log(X))]\n",
        "d_i_prime = [1, (D5(delta, X) * X ) / D6(delta, X), np.pi * m0()]\n",
        "X = 1e12\n",
        "tilde_C5_value = tilde_C5(sigma_prime, a, a_i, b, b_i, d_i,\n",
        "              a_prime, a_i_prime, b_prime, b_i_prime, d_i_prime, X)\n",
        "print(f\"The value of tilde{{C_5}} is: {tilde_C5_value}\")"
      ],
      "metadata": {
        "colab": {
          "base_uri": "https://localhost:8080/"
        },
        "id": "RsX5oM5KiRux",
        "outputId": "7103685c-4acf-470a-efb3-49b010f85875"
      },
      "execution_count": null,
      "outputs": [
        {
          "output_type": "stream",
          "name": "stdout",
          "text": [
            "The value of tilde{C_5} is: 138.929459684424\n"
          ]
        }
      ]
    },
    {
      "cell_type": "code",
      "source": [
        "#SECOND VERSION\n",
        "tilde_C52 = result1prime * result2\n",
        "print(f\"The second version for tilde_C52 is: {tilde_C52}\")"
      ],
      "metadata": {
        "colab": {
          "base_uri": "https://localhost:8080/"
        },
        "id": "P6NQ4Ps6RNfI",
        "outputId": "cc2acdaa-5174-4356-b8be-cbef59a33b17"
      },
      "execution_count": null,
      "outputs": [
        {
          "output_type": "stream",
          "name": "stdout",
          "text": [
            "The second version for tilde_C52 is: 234.908193389705\n"
          ]
        }
      ]
    },
    {
      "cell_type": "markdown",
      "source": [
        "# Define C1 as in equation 4.18"
      ],
      "metadata": {
        "id": "l83uUGAgXKz-"
      }
    },
    {
      "cell_type": "code",
      "source": [
        "def C1(sigma, T2, alpha, beta):\n",
        "      C1_value = np.exp(alpha * (sigma / T2)**beta)\n",
        "      return C1_value\n",
        "C1_value = C1(sigma_1, T2, alpha, beta)\n",
        "print(f\"The result for C1 on half line is: {C1_value}\")\n",
        "C1_value ** exponent"
      ],
      "metadata": {
        "colab": {
          "base_uri": "https://localhost:8080/"
        },
        "id": "njimh5KbV8X4",
        "outputId": "8b459c23-8713-424c-c0a9-f0ab8be29a55"
      },
      "execution_count": 562,
      "outputs": [
        {
          "output_type": "stream",
          "name": "stdout",
          "text": [
            "The result for C1 on half line is: 1.0\n"
          ]
        },
        {
          "output_type": "execute_result",
          "data": {
            "text/plain": [
              "1.0"
            ]
          },
          "metadata": {},
          "execution_count": 562
        }
      ]
    },
    {
      "cell_type": "code",
      "source": [
        "C1_value = C1(sigma_2, T2, alpha, beta)\n",
        "print(f\"The result for C1 at sigma2: {C1_value}\")"
      ],
      "metadata": {
        "colab": {
          "base_uri": "https://localhost:8080/"
        },
        "id": "7BY9yreMQ7xi",
        "outputId": "151a4280-0b9e-45c3-c7ba-0985c77a7169"
      },
      "execution_count": 563,
      "outputs": [
        {
          "output_type": "stream",
          "name": "stdout",
          "text": [
            "The result for C1 at sigma2: 1.0\n"
          ]
        }
      ]
    },
    {
      "cell_type": "markdown",
      "source": [
        "# Define C2 as in equation 4.18"
      ],
      "metadata": {
        "id": "2kwk-j1aasAt"
      }
    },
    {
      "cell_type": "code",
      "source": [
        "T1 = 1e12\n",
        "T2 = 1e12\n",
        "delta_2 = 0.44\n",
        "sigma_prime = sigma - (delta_2 / np.log(T2))\n",
        "def C2(sigma, T1, T2, alpha):\n",
        "      C2_value = (1 - 1 / T1) * np.exp(alpha * (sigma / T2)**2 - alpha)\n",
        "      return C2_value\n",
        "C2_value = C2(sigma_prime, T1, T2, alpha)\n",
        "print(f\"The result for C2 is: {C2_value}\")"
      ],
      "metadata": {
        "colab": {
          "base_uri": "https://localhost:8080/"
        },
        "id": "g0tGJsDxX9WU",
        "outputId": "70827cc0-ee76-43b7-ac9b-a0fee79459d8"
      },
      "execution_count": 564,
      "outputs": [
        {
          "output_type": "stream",
          "name": "stdout",
          "text": [
            "The result for C2 is: 0.8162782414247937\n"
          ]
        }
      ]
    },
    {
      "cell_type": "markdown",
      "source": [
        "#DEFINITION OF C4"
      ],
      "metadata": {
        "id": "wtX2s6r1n8m5"
      }
    },
    {
      "cell_type": "code",
      "source": [
        "# Define C4 as in equation 4.84\n",
        "def C4(sigma_prime, T2, T1, alpha, beta):\n",
        "\n",
        "    C4_value =  (2 * alpha * beta) * (C1_value ** exponent * C1_value ** exponent2) / C2_value\n",
        "    return C4_value"
      ],
      "metadata": {
        "id": "utjZkSXckm5J"
      },
      "execution_count": 565,
      "outputs": []
    },
    {
      "cell_type": "code",
      "source": [
        "C4_value = C4(sigma_prime, T2, T1, alpha, beta)\n",
        "print(f\"The value of C4 is: {C4_value}\")"
      ],
      "metadata": {
        "colab": {
          "base_uri": "https://localhost:8080/"
        },
        "id": "px7V4rv8lshY",
        "outputId": "b43e8179-9370-4044-b537-f5c277f9eb59"
      },
      "execution_count": 566,
      "outputs": [
        {
          "output_type": "stream",
          "name": "stdout",
          "text": [
            "The value of C4 is: 0.9947588442179641\n"
          ]
        }
      ]
    },
    {
      "cell_type": "code",
      "source": [
        "C4 = (2 * 5 * beta) / C2_value\n",
        "print(f\"The result for C4: {C4}\")"
      ],
      "metadata": {
        "colab": {
          "base_uri": "https://localhost:8080/"
        },
        "id": "GNnm_WSmaEp1",
        "outputId": "c25a687c-6bca-4608-b0d0-e38abe55ea6f"
      },
      "execution_count": 430,
      "outputs": [
        {
          "output_type": "stream",
          "name": "stdout",
          "text": [
            "The result for C4: 22.103418361535056\n"
          ]
        }
      ]
    },
    {
      "cell_type": "code",
      "source": [
        "tilde_c5 * C4"
      ],
      "metadata": {
        "colab": {
          "base_uri": "https://localhost:8080/"
        },
        "id": "tJJ9moWCoKoY",
        "outputId": "1b15af31-aacf-48ac-c32a-332ca094c49b"
      },
      "execution_count": null,
      "outputs": [
        {
          "output_type": "execute_result",
          "data": {
            "text/plain": [
              "6.179499366232277"
            ]
          },
          "metadata": {},
          "execution_count": 21
        }
      ]
    },
    {
      "cell_type": "code",
      "source": [
        "# Define C6 as in equation 4.84\n",
        "def C6(sigma_prime, T2, a, a_prime, b, b_prime):\n",
        "\n",
        "    numerator = (\n",
        "        T2 ** ((a * exponent) + ((a_prime - 1) * exponent2)) *\n",
        "        (np.log(T2) ** (((b + 1) * exponent) + ((b_prime + 2) * exponent2)))\n",
        "    )\n",
        "\n",
        "    # Denominator\n",
        "    denominator = (\n",
        "        T2 ** ((2 * a * (1 - sigma)) + ((a_prime - 1) * (2 * sigma - 1))) *\n",
        "        (np.log(T2) ** ((2 * (b + 1) * (1 - sigma)) + ((b_prime + 2) * (2 * sigma - 1))))\n",
        "    )\n",
        "    C6_value =  numerator / denominator\n",
        "    return C6_value"
      ],
      "metadata": {
        "id": "OgQDbZ0opyGG"
      },
      "execution_count": 576,
      "outputs": []
    },
    {
      "cell_type": "code",
      "source": [
        "a = 4/3\n",
        "a_prime = 1\n",
        "b = 2\n",
        "b_prime = 0\n",
        "C6_value = C6(sigma_prime, T2, a, a_prime, b, b_prime)\n",
        "print(f\"The value of C6 is: {C6_value}\")"
      ],
      "metadata": {
        "colab": {
          "base_uri": "https://localhost:8080/"
        },
        "id": "uWIRhON4sGU7",
        "outputId": "3fb771b8-7417-4d3f-beb8-d0112194b2a6"
      },
      "execution_count": 577,
      "outputs": [
        {
          "output_type": "stream",
          "name": "stdout",
          "text": [
            "The value of C6 is: 6.17726647841941\n"
          ]
        }
      ]
    },
    {
      "cell_type": "code",
      "source": [
        "a = 109/82\n",
        "a_prime = 1\n",
        "b = 0\n",
        "b_prime = 0\n",
        "C6_value = C6(sigma_prime, T2, a, a_prime, b, b_prime)\n",
        "print(f\"The value of C6 is: {C6_value}\")"
      ],
      "metadata": {
        "colab": {
          "base_uri": "https://localhost:8080/"
        },
        "id": "e0vDyMs1qJqO",
        "outputId": "85043b48-3269-4257-da0d-eb73a72c376a"
      },
      "execution_count": null,
      "outputs": [
        {
          "output_type": "stream",
          "name": "stdout",
          "text": [
            "The value of C6 is: 3.8540980354146113\n"
          ]
        }
      ]
    },
    {
      "cell_type": "code",
      "source": [
        "# Define hatC6 as in equation 4.108\n",
        "import math\n",
        "def hatC6(sigma_prime, a, a_prime, delta, delta_2):\n",
        "\n",
        "    hatC6_value =  math.exp(((1+a-a_prime)) * ((2 * delta *(2 * sigma_prime - 1)) + 2 * delta_2))\n",
        "    return hatC6_value"
      ],
      "metadata": {
        "id": "3TGGGvk9kvzc"
      },
      "execution_count": null,
      "outputs": []
    },
    {
      "cell_type": "code",
      "source": [
        "a = 109/82\n",
        "a_prime = 1\n",
        "hatC6_value = hatC6(sigma_prime, a, a_prime, delta, delta_2)\n",
        "print(f\"The value of C6 is: {hatC6_value}\")"
      ],
      "metadata": {
        "colab": {
          "base_uri": "https://localhost:8080/"
        },
        "id": "3HjUOx7elwLp",
        "outputId": "22e60c2d-357c-4f73-b707-b693d3a3d11f"
      },
      "execution_count": null,
      "outputs": [
        {
          "output_type": "stream",
          "name": "stdout",
          "text": [
            "The value of C6 is: 4.465205131911867\n"
          ]
        }
      ]
    },
    {
      "cell_type": "code",
      "source": [],
      "metadata": {
        "id": "KsZVEk7xptD3"
      },
      "execution_count": null,
      "outputs": []
    },
    {
      "cell_type": "code",
      "source": [],
      "metadata": {
        "id": "_y8NmGS2ptAZ"
      },
      "execution_count": null,
      "outputs": []
    },
    {
      "cell_type": "code",
      "source": [],
      "metadata": {
        "id": "ul_nm7EVBV5U"
      },
      "execution_count": null,
      "outputs": []
    }
  ]
}