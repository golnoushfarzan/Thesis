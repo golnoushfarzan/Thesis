{
  "nbformat": 4,
  "nbformat_minor": 0,
  "metadata": {
    "colab": {
      "provenance": [],
      "authorship_tag": "ABX9TyMOCoXFGnysJ4+G6k5M0zEP",
      "include_colab_link": true
    },
    "kernelspec": {
      "name": "python3",
      "display_name": "Python 3"
    },
    "language_info": {
      "name": "python"
    }
  },
  "cells": [
    {
      "cell_type": "markdown",
      "metadata": {
        "id": "view-in-github",
        "colab_type": "text"
      },
      "source": [
        "<a href=\"https://colab.research.google.com/github/golnoushfarzan/Thesis/blob/main/Thesis.ipynb\" target=\"_parent\"><img src=\"https://colab.research.google.com/assets/colab-badge.svg\" alt=\"Open In Colab\"/></a>"
      ]
    },
    {
      "cell_type": "code",
      "execution_count": 1,
      "metadata": {
        "id": "OtL2Mv_O9iq6"
      },
      "outputs": [],
      "source": [
        "import numpy as np\n",
        "#this one is used to compute binomial coefficients (for C_3)\n",
        "from scipy.special import comb\n",
        "#This one is used for numerical integration of a given function over a specified interval (for I term)\n",
        "from scipy.integrate import quad\n",
        "import mpmath"
      ]
    },
    {
      "cell_type": "code",
      "source": [
        "# Define C2 as in equation 4.18\n",
        "def C2(sigma, T1, T2, alpha):\n",
        "    return (1 - 1 / T1) * np.exp(alpha * (sigma / T2)**2 - alpha)"
      ],
      "metadata": {
        "id": "wiFhdn8z_dOf"
      },
      "execution_count": 2,
      "outputs": []
    },
    {
      "cell_type": "code",
      "source": [
        "# Define C4 as in equation 4.84\n",
        "def C4(T0, sigma, sigma_1_prime, sigma_2_prime, sigma_1, sigma_2, T2, T1, alpha, beta):\n",
        "        # this is for computing the numerator\n",
        "        C1_sigma1 = C1(sigma_1, T2, alpha, beta)\n",
        "        C1_sigma2 = C1(sigma_2, T2, alpha, beta)\n",
        "        weight1 = 2 * (sigma_2 - sigma) / (sigma_2 - sigma_1)\n",
        "        weight2 = 2 * (sigma - sigma_1) / (sigma_2 - sigma_1)\n",
        "        numerator = 4 * alpha * beta * (C1_sigma1**weight1) * (C1_sigma2**weight2)\n",
        "\n",
        "        # this is for computing the denominator\n",
        "        denominator = C2(sigma, T1, T2, alpha)\n",
        "\n",
        "        return numerator / denominator"
      ],
      "metadata": {
        "id": "t5umVrQnBRb0"
      },
      "execution_count": 3,
      "outputs": []
    },
    {
      "cell_type": "code",
      "source": [
        "# Define the integral I_alpha_beta as in equation \\eqref{eq:2.23} (2.25)\n",
        "def I_alpha_beta(A, n, alpha, beta):\n",
        "    def integrand(x):\n",
        "        return x**A * np.exp(-alpha * x**beta) * (np.log(x)**n)\n",
        "\n",
        "    result, _ = quad(integrand, 0, np.inf)\n",
        "    return result"
      ],
      "metadata": {
        "id": "UEyA4f_9DYBt"
      },
      "execution_count": 4,
      "outputs": []
    },
    {
      "cell_type": "code",
      "source": [
        "# Define m_0 based on the provided formula in equation 2.82\n",
        "def m0():\n",
        "    return np.sqrt(1 + (2 / 3) * np.sqrt(6 / 5))"
      ],
      "metadata": {
        "id": "jKxZS0SaKx3P"
      },
      "execution_count": 5,
      "outputs": []
    },
    {
      "cell_type": "code",
      "source": [
        "# Define b1(X_0) based on the provided formula in equation 3.11\n",
        "def b1(X_0):\n",
        "    return (6 / np.pi**2) + (0.1333 / np.sqrt(X_0))"
      ],
      "metadata": {
        "id": "N81ksG5AKyCZ"
      },
      "execution_count": 6,
      "outputs": []
    },
    {
      "cell_type": "code",
      "source": [
        "# Define b2(X_0) as a constant value in eq 3.15\n",
        "def b2(X_0):\n",
        "    return 1.048  # Given value for b2(X_0) for X_0 \\geq 1000"
      ],
      "metadata": {
        "id": "9gFwJDCDLkEc"
      },
      "execution_count": 6,
      "outputs": []
    },
    {
      "cell_type": "code",
      "source": [
        "# Define b3(X_0) as a constant value in eq 3.21\n",
        "def b_3(X_0):\n",
        "    return 0.605  # Given value for b2(X_0) for X_0 \\geq 1000"
      ],
      "metadata": {
        "id": "fliOFlhfhk5s"
      },
      "execution_count": 7,
      "outputs": []
    },
    {
      "cell_type": "code",
      "source": [
        "# Define b_4 function based on the given equation 3.40\n",
        "def b_4(X_0):\n",
        "    return 0.428 + 0.895 / np.log(X_0)"
      ],
      "metadata": {
        "id": "jPf8T66ihdwW"
      },
      "execution_count": 8,
      "outputs": []
    },
    {
      "cell_type": "code",
      "source": [
        "# Define D1 and D2 as given in equation 4.25\n",
        "def D1(X):\n",
        "    return 6 / np.pi**2 + b2(X) / np.log(X)\n",
        "\n",
        "def D2(X):\n",
        "    return (np.pi * m0 * b1(X) / np.log(X)) + (6 * m0 / (np.pi * X)) + (np.pi * m0 * b2(X) / (X * np.log(X)))\n"
      ],
      "metadata": {
        "id": "UDsL54J9Kvd3"
      },
      "execution_count": 9,
      "outputs": []
    },
    {
      "cell_type": "markdown",
      "source": [
        "#This is the computation for C3 on the half line:\n",
        "\n"
      ],
      "metadata": {
        "id": "AiLDdtahu5dU"
      }
    },
    {
      "cell_type": "code",
      "source": [
        "# Define C3 function as in equation 2.25. This one is for \\sigma_1\n",
        "\n",
        "# Define b1(X_0) based on the provided formula in equation 3.11\n",
        "def b1(X_0):\n",
        "    return (6 / np.pi**2) + (0.1333 / np.sqrt(X_0))\n",
        "\n",
        "# Define m_0 based on the provided formula in equation 2.82\n",
        "def m0():\n",
        "    return np.sqrt(1 + (2 / 3) * np.sqrt(6 / 5))\n",
        "\n",
        "# Define b2(X_0) as a constant value in eq 3.15\n",
        "def b2(X_0):\n",
        "    return 1.048  # Given value for b2(X_0) for X_0 \\geq 1000\n",
        "\n",
        "# Define D1 and D2 as given in equation 4.25\n",
        "def D1(X):\n",
        "    return 6 / np.pi**2 + b2(X) / np.log(X)\n",
        "\n",
        "def D2(X):\n",
        "    return (np.pi * m0() * b1(X) / np.log(X)) + (6 * m0() / (np.pi * X)) + (np.pi * m0() * b2(X) / (X * np.log(X)))\n",
        "\n",
        "# Define the integral I_alpha_beta as in equation \\eqref{eq:2.23} (2.25)\n",
        "def I_alpha_beta(A, n, alpha, beta):\n",
        "    def integrand(x):\n",
        "        return x**A * np.exp(-alpha * x**beta) * (np.log(x)**n)\n",
        "\n",
        "    result, _ = quad(integrand, 0, np.inf)\n",
        "    return result\n",
        "\n",
        "# Define constants(Example value)\n",
        "X = 1e12\n",
        "T2 = 1e12\n",
        "alpha = 0.105\n",
        "beta = 2\n",
        "a = 4/3\n",
        "b = 2\n",
        "\n",
        "# List of values for a_i, b_i, and d_i based on the table of 4.1 (for sigma_1)\n",
        "a_i_values = [0, -1/6, -1/3, -1/3, -1/2, -2/3, -1, -7/6, -4/3, -4/3, -3/2, -5/3]\n",
        "b_i_values = [0, 0, 0, -2, -2, -2, 0, 0, 0, -2, -2, -2]\n",
        "\n",
        "# Define the d_i values based on the formula\n",
        "def compute_d_i(i, X, D1, D2, j_1, j_3):\n",
        "    \"\"\"\n",
        "    Calculate the d_i values based on the provided formula.\n",
        "    \"\"\"\n",
        "    D1_value = D1(X)\n",
        "    D2_value = D2(X)\n",
        "\n",
        "    if i == 0:\n",
        "        return 1\n",
        "    elif i == 1:\n",
        "        return 2 / np.sqrt(D1(X) * np.log(X))\n",
        "    elif i == 2:\n",
        "        return 1 / (D1(X) * np.log(X))\n",
        "    elif i == 3:\n",
        "        return j_3 / j_1**2\n",
        "    elif i == 4:\n",
        "        return j_3 / (j_1**2 * np.sqrt(D1(X) * np.log(X)))\n",
        "    elif i == 5:\n",
        "        return j_3 / (2 * j_1**2 * D1(X) * np.log(X))\n",
        "    elif i == 6:\n",
        "        return (X * D2(X)) / D1(X)\n",
        "    elif i == 7:\n",
        "        return 2 * X * D2(X) / (D1(X) * np.sqrt(D1(X) * np.log(X)))\n",
        "    elif i == 8:\n",
        "        return (X * D2(X)) / (D1(X)**2 * np.log(X))\n",
        "    elif i == 9:\n",
        "        return j_3 * D2(X) * X / (2 * j_1**2 * D1(X))\n",
        "    elif i == 10:\n",
        "        return j_3 * D2(X) * X / (j_1**2 * D1(X) * np.sqrt(D1(X) * np.log(X)))\n",
        "    elif i == 11:\n",
        "        return j_3 * D2(X) * X / (j_1**2 * D1(X)**2 * np.log(X))\n",
        "\n",
        "# Define C3 function as equation 2.25. This one is for \\sigma_1\n",
        "def C31(T2, alpha, beta, a, a_i_values, b, b_i_values, X, D1, D2):\n",
        "    log_T = np.log(T2)\n",
        "\n",
        "    j_1 = 0.618\n",
        "    j_3 = float(mpmath.zeta(1/2)**2)\n",
        "\n",
        "    C31_value = 0\n",
        "\n",
        "\n",
        "    for i in range(len(a_i_values)):\n",
        "        a_i = a_i_values[i]\n",
        "        b_i = b_i_values[i]\n",
        "\n",
        "        # Calculate d_i using the function for d_i\n",
        "        d_i = compute_d_i(i, X, D1, D2, j_1, j_3)\n",
        "\n",
        "        inner_sum = 0\n",
        "        # Summation over k\n",
        "        for k in range(b + b_i + 1):\n",
        "            binomial_coeff = comb(b + b_i, k)\n",
        "            integral_value = I_alpha_beta(beta + a + a_i - 1, b + b_i - k, alpha, beta)\n",
        "            inner_sum += binomial_coeff * integral_value / (log_T**(b + b_i - k))\n",
        "\n",
        "        # definition of C3\n",
        "        C31_value += d_i * T2**a_i * (log_T**b_i) * inner_sum\n",
        "\n",
        "    return C31_value\n",
        "\n",
        "C31_value = C31(T2, alpha, beta, a, a_i_values, b, b_i_values, X, D1, D2)\n",
        "\n",
        "print(f\"The value of C_3 on the half line is: {C31_value}\")\n"
      ],
      "metadata": {
        "colab": {
          "base_uri": "https://localhost:8080/"
        },
        "id": "dj4tsAEplrIe",
        "outputId": "37963ec6-11ac-4e0a-f0bc-c3bc91c5b3bc"
      },
      "execution_count": 2,
      "outputs": [
        {
          "output_type": "stream",
          "name": "stdout",
          "text": [
            "The value of C_3 on the half line is: 22.115139081848703\n"
          ]
        }
      ]
    },
    {
      "cell_type": "code",
      "source": [
        "# Define D4 as equation 4.54\n",
        "j_1 = 0.618\n",
        "def D4(X):\n",
        "    return D1(X) * j_1\n",
        "\n",
        "    X = 1e12"
      ],
      "metadata": {
        "id": "R1pmiYPz6liJ"
      },
      "execution_count": 3,
      "outputs": []
    },
    {
      "cell_type": "code",
      "source": [
        "D4_value = D4(X)\n",
        "print(f\"The value of D_4 is: {D4_value}\")"
      ],
      "metadata": {
        "colab": {
          "base_uri": "https://localhost:8080/"
        },
        "id": "InOLmmQL7Jrm",
        "outputId": "f16bdefc-e61b-48f8-ad7f-1bb992dddbe1"
      },
      "execution_count": 4,
      "outputs": [
        {
          "output_type": "stream",
          "name": "stdout",
          "text": [
            "The value of D_4 is: 0.39913869072307073\n"
          ]
        }
      ]
    },
    {
      "cell_type": "code",
      "source": [
        "log_X = np.log(X)\n",
        "X = 1e12\n",
        "print(f\"The value of log_X is: {log_X}\")"
      ],
      "metadata": {
        "colab": {
          "base_uri": "https://localhost:8080/"
        },
        "id": "XylU0L0_Mp-K",
        "outputId": "ad294611-b243-4389-aba6-0abe6044db30"
      },
      "execution_count": 5,
      "outputs": [
        {
          "output_type": "stream",
          "name": "stdout",
          "text": [
            "The value of log_X is: 27.631021115928547\n"
          ]
        }
      ]
    },
    {
      "cell_type": "code",
      "source": [
        "C31_times_D4 = C31_value * D4_value"
      ],
      "metadata": {
        "id": "AiSm9cpZ7xVf"
      },
      "execution_count": 6,
      "outputs": []
    },
    {
      "cell_type": "markdown",
      "source": [
        "#This value is for C3. D4 (which we need it for the half line):"
      ],
      "metadata": {
        "id": "TNKrZekp9oLB"
      }
    },
    {
      "cell_type": "code",
      "source": [
        "print(f\"The value of C3 . D4 on the half line is: {C31_times_D4}\")"
      ],
      "metadata": {
        "colab": {
          "base_uri": "https://localhost:8080/"
        },
        "id": "3UuvLQlJ7-_x",
        "outputId": "bf920859-6488-4c59-a61e-8f80771b89d7"
      },
      "execution_count": 7,
      "outputs": [
        {
          "output_type": "stream",
          "name": "stdout",
          "text": [
            "The value of C3 . D4 on the half line is: 8.827007658287704\n"
          ]
        }
      ]
    },
    {
      "cell_type": "code",
      "source": [
        "delta = 0.3\n",
        "sigma_2 = 1 + delta / log_X\n",
        "sigma = 0.9\n",
        "sigma_1 = 0.5\n",
        "delta_2 = 0.33\n",
        "sigma_prime = sigma - (delta_2 / np.log(T2))\n",
        "exponent = (sigma_2 - sigma_prime) / (sigma_2 - sigma_1)\n",
        "print(f\"The value of exponent is: {exponent}\")"
      ],
      "metadata": {
        "colab": {
          "base_uri": "https://localhost:8080/"
        },
        "id": "BzmIwTEuTD1p",
        "outputId": "04390b67-5480-4231-dcd5-9b2f2a9b1a55"
      },
      "execution_count": 8,
      "outputs": [
        {
          "output_type": "stream",
          "name": "stdout",
          "text": [
            "The value of exponent is: 0.24038111109473076\n"
          ]
        }
      ]
    },
    {
      "cell_type": "markdown",
      "source": [
        "#This is the final result on the half line (The first part of the \\tilde{C5}):"
      ],
      "metadata": {
        "id": "5Z-x7Wf8UbbY"
      }
    },
    {
      "cell_type": "code",
      "source": [
        "result1 = (C31_times_D4) ** exponent\n",
        "print(f\"The result for the half line: {result1}\")"
      ],
      "metadata": {
        "colab": {
          "base_uri": "https://localhost:8080/"
        },
        "id": "FIaXp_RpT55J",
        "outputId": "e5c66064-bf1a-4fbf-9062-6f915707f213"
      },
      "execution_count": 9,
      "outputs": [
        {
          "output_type": "stream",
          "name": "stdout",
          "text": [
            "The result for the half line: 1.6879349311612515\n"
          ]
        }
      ]
    },
    {
      "cell_type": "markdown",
      "source": [
        "#This is the computation for C3 on the sigme2:\n",
        "\n"
      ],
      "metadata": {
        "id": "dNffa4iRhO7F"
      }
    },
    {
      "cell_type": "code",
      "source": [
        "# Define C3 function as in equation 2.25. This one is for \\sigma_2\n",
        "gamma = mpmath.euler\n",
        "# Define b_4 function based on the given equation 3.40\n",
        "def b_4(X_0):\n",
        "    return 0.428 + 0.895 / np.log(X_0)\n",
        "\n",
        "# Define b3(X_0) as a constant value in eq 3.21\n",
        "def b_3(X_0):\n",
        "    return 0.605  # Given value for b2(X_0) for X_0 \\geq 1000\n",
        "\n",
        "# Define m_0 based on the provided formula in equation 2.82\n",
        "def m0():\n",
        "    return np.sqrt(1 + (2 / 3) * np.sqrt(6 / 5))\n",
        "\n",
        "# Define D_5 and D_6 based on the given equations\n",
        "def D5(delta, X, m0, gamma):\n",
        "    \"\"\"\n",
        "    Calculate D_5 for given delta and X, using m0 and gamma.\n",
        "    \"\"\"\n",
        "    b4_X = b_4(X)\n",
        "    return (np.pi * m0() * b4_X) / (2 * delta) * np.exp((2 * delta * float(gamma) / np.log(X)))\n",
        "\n",
        "def D6(delta, X, gamma):\n",
        "    \"\"\"\n",
        "    Calculate D_6 for given delta and X, using gamma.\n",
        "    \"\"\"\n",
        "    b3_X = b_3(X)\n",
        "    b4_X = b_4(X)\n",
        "    return (b4_X / (5 * delta * np.exp(float(gamma)))) + (b3_X * np.exp(-2 * delta)) / (np.log(X)**2)\n",
        "\n",
        "# Define the integral I_alpha_beta as in equation \\eqref{eq:2.23} (2.25)\n",
        "def I_alpha_beta(A, n, alpha, beta):\n",
        "    def integrand(x):\n",
        "        return x**A * np.exp(-alpha * x**beta) * (np.log(x)**n)\n",
        "\n",
        "    result, _ = quad(integrand, 0, np.inf)\n",
        "    return result\n",
        "\n",
        "# Define constants(Example value)\n",
        "X = 1e12\n",
        "T2 = 1e12\n",
        "alpha = 0.105\n",
        "beta = 2\n",
        "a = 1\n",
        "b = 0\n",
        "delta = 0.3\n",
        "\n",
        "# List of values for a_i', b_i', and d_i' based on the table of 4.3 (for sigma_2)\n",
        "a_i_values = [0, -1, -1]\n",
        "b_i_values = [0, 0, 0]\n",
        "\n",
        "# Define the d_i values based on your formula\n",
        "def compute_d_i(i, X, D5, D6, b4, b3):\n",
        "    \"\"\"\n",
        "    Calculate the d_i values based on the provided formula.\n",
        "    \"\"\"\n",
        "    D5_value = D5(delta, X, m0, gamma)\n",
        "    D6_value = D6(delta, X, gamma)\n",
        "\n",
        "    if i == 0:\n",
        "        return 1\n",
        "    elif i == 1:\n",
        "        return (D5(delta, X, m0, gamma) * X ) / D6(delta, X, gamma)\n",
        "    elif i == 2:\n",
        "        return np.pi * m0()\n",
        "\n",
        "# Define C3 function\n",
        "def C32(T2, alpha, beta, a, a_i_values, b, b_i_values, X, D5, D6):\n",
        "    log_T = np.log(T2)\n",
        "\n",
        "    C32_value = 0\n",
        "\n",
        "    # Iterate through the values of a_i, b_i, and d_i\n",
        "    for i in range(len(a_i_values)):\n",
        "        a_i = a_i_values[i]\n",
        "        b_i = b_i_values[i]\n",
        "\n",
        "        # Calculate d_i using the function for d_i\n",
        "        d_i = compute_d_i(i, X, D5, D6, gamma, delta)\n",
        "\n",
        "        inner_sum = 0\n",
        "        # Summation over k\n",
        "        for k in range(b + b_i + 1):\n",
        "            binomial_coeff = comb(b + b_i, k)\n",
        "            integral_value = I_alpha_beta(beta + a + a_i - 1, b + b_i - k, alpha, beta)\n",
        "            inner_sum += binomial_coeff * integral_value / (log_T**(b + b_i - k))\n",
        "\n",
        "        # definition of C3\n",
        "        C32_value += d_i * T2**a_i * (log_T**b_i) * inner_sum\n",
        "\n",
        "    return C32_value\n",
        "\n",
        "C32_value = C32(T2, alpha, beta, a, a_i_values, b, b_i_values, X, D5, D6)\n",
        "\n",
        "print(f\"The value of C_3 at sigma_2 is: {C32_value}\")"
      ],
      "metadata": {
        "colab": {
          "base_uri": "https://localhost:8080/"
        },
        "outputId": "bd4b5be3-24d1-4490-f354-0a19e974ccf8",
        "id": "Qi6xYpVGeJTw"
      },
      "execution_count": 10,
      "outputs": [
        {
          "output_type": "stream",
          "name": "stdout",
          "text": [
            "The value of C_3 at sigma_2 is: 101.52727465863806\n"
          ]
        }
      ]
    },
    {
      "cell_type": "code",
      "source": [
        "# Define D6\n",
        "X = 1e12\n",
        "delta = 0.3\n",
        "def D6(delta, X, gamma):\n",
        "    \"\"\"\n",
        "    Calculate D_6 for given delta and X, using gamma.\n",
        "    \"\"\"\n",
        "    b3_X = b_3(X)\n",
        "    b4_X = b_4(X)\n",
        "    return (b4_X / (5 * delta * np.exp(float(gamma)))) + (b3_X * np.exp(-2 * delta)) / (np.log(X)**2)\n",
        "D6_value = D6(delta, X, gamma)\n",
        "print(f\"The value of D_6 is: {D6_value}\")"
      ],
      "metadata": {
        "colab": {
          "base_uri": "https://localhost:8080/"
        },
        "id": "dEEnqmQy4-uM",
        "outputId": "23c1d2d7-323a-427a-a510-ce7b21d3521c"
      },
      "execution_count": 11,
      "outputs": [
        {
          "output_type": "stream",
          "name": "stdout",
          "text": [
            "The value of D_6 is: 0.17276220616834606\n"
          ]
        }
      ]
    },
    {
      "cell_type": "code",
      "source": [
        "C32_times_D6 = C32_value * D6_value"
      ],
      "metadata": {
        "id": "rkJ2WoVzeLIK"
      },
      "execution_count": 12,
      "outputs": []
    },
    {
      "cell_type": "markdown",
      "source": [
        "#This value is for C3. D6 (which we need it for the sigma2):"
      ],
      "metadata": {
        "id": "KIoTWbZB9u3W"
      }
    },
    {
      "cell_type": "code",
      "source": [
        "print(f\"The value of C3 . D6 at sigma_2 is: {C32_times_D6}\")"
      ],
      "metadata": {
        "colab": {
          "base_uri": "https://localhost:8080/"
        },
        "id": "u9v6N2lD5fLs",
        "outputId": "896ba3aa-220b-4635-ae5a-45fc62d42c6f"
      },
      "execution_count": 13,
      "outputs": [
        {
          "output_type": "stream",
          "name": "stdout",
          "text": [
            "The value of C3 . D6 at sigma_2 is: 17.540075956285925\n"
          ]
        }
      ]
    },
    {
      "cell_type": "code",
      "source": [
        "delta = 0.3\n",
        "sigma_2 = 1 + delta / np.log(X)\n",
        "sigma = 0.9\n",
        "sigma_1 = 0.5\n",
        "delta_2 = 0.33\n",
        "sigma_prime = sigma - (delta_2 / np.log(T2))\n",
        "exponent2 = (sigma_prime - sigma_1) / (sigma_2 - sigma_1)\n",
        "print(f\"The value of exponent2 is: {exponent2}\")"
      ],
      "metadata": {
        "colab": {
          "base_uri": "https://localhost:8080/"
        },
        "id": "D4F63Rxr59Nf",
        "outputId": "66c9737f-40c7-41c2-aca9-95809ae53fb7"
      },
      "execution_count": 20,
      "outputs": [
        {
          "output_type": "stream",
          "name": "stdout",
          "text": [
            "The value of exponent2 is: 0.7596188889052692\n"
          ]
        }
      ]
    },
    {
      "cell_type": "markdown",
      "source": [
        "#This is the final result on the sigma2 (The second part of the \\tilde{C5})"
      ],
      "metadata": {
        "id": "3SYa6Dl1VU1Q"
      }
    },
    {
      "cell_type": "code",
      "source": [
        "result2 = (C32_times_D6) ** exponent2\n",
        "print(f\"The result for sigma2: {result2}\")"
      ],
      "metadata": {
        "colab": {
          "base_uri": "https://localhost:8080/"
        },
        "id": "SiqUcTVPU_3Q",
        "outputId": "3b499817-3e15-421c-cf5e-2394ac72ca21"
      },
      "execution_count": 21,
      "outputs": [
        {
          "output_type": "stream",
          "name": "stdout",
          "text": [
            "The result for sigma2: 8.810281862787052\n"
          ]
        }
      ]
    },
    {
      "cell_type": "markdown",
      "source": [
        "#This is the final value for \\tilde{C_5} as equation 4.85:"
      ],
      "metadata": {
        "id": "wFhw6SyPW69t"
      }
    },
    {
      "cell_type": "code",
      "source": [
        "tilde_c5 = result1 * result2\n",
        "print(f\"The result for tilde_C5 is: {tilde_c5}\")\n"
      ],
      "metadata": {
        "colab": {
          "base_uri": "https://localhost:8080/"
        },
        "id": "kbC8_WDEVMMc",
        "outputId": "709f1bf8-a220-4a14-c4fe-3f72da7abb9e"
      },
      "execution_count": 22,
      "outputs": [
        {
          "output_type": "stream",
          "name": "stdout",
          "text": [
            "The result for tilde_C5 is: 14.871182509574686\n"
          ]
        }
      ]
    },
    {
      "cell_type": "markdown",
      "source": [
        "# Define C1 as in equation 4.18"
      ],
      "metadata": {
        "id": "l83uUGAgXKz-"
      }
    },
    {
      "cell_type": "code",
      "source": [
        "def C1(sigma, T2, alpha, beta):\n",
        "      C1_value = np.exp(alpha * (sigma / T2)**beta)\n",
        "      return C1_value\n",
        "C1_value = C1(sigma_1, T2, alpha, beta)\n",
        "print(f\"The result for C1 on half line is: {C1_value}\")\n",
        "C1_value ** exponent"
      ],
      "metadata": {
        "colab": {
          "base_uri": "https://localhost:8080/"
        },
        "id": "njimh5KbV8X4",
        "outputId": "8eba6dc5-505a-4253-85bf-03fa8ab1294e"
      },
      "execution_count": 23,
      "outputs": [
        {
          "output_type": "stream",
          "name": "stdout",
          "text": [
            "The result for C1 on half line is: 1.0\n"
          ]
        },
        {
          "output_type": "execute_result",
          "data": {
            "text/plain": [
              "1.0"
            ]
          },
          "metadata": {},
          "execution_count": 23
        }
      ]
    },
    {
      "cell_type": "code",
      "source": [
        "C1_value = C1(sigma_2, T2, alpha, beta)\n",
        "print(f\"The result for C1 at sigma2: {C1_value}\")"
      ],
      "metadata": {
        "colab": {
          "base_uri": "https://localhost:8080/"
        },
        "id": "M-XnyEJ2nM8d",
        "outputId": "172bb413-3611-4e08-8e0c-ba8e83216338"
      },
      "execution_count": 24,
      "outputs": [
        {
          "output_type": "stream",
          "name": "stdout",
          "text": [
            "The result for C1 at sigma2: 1.0\n"
          ]
        }
      ]
    },
    {
      "cell_type": "markdown",
      "source": [
        "# Define C2 as in equation 4.18"
      ],
      "metadata": {
        "id": "2kwk-j1aasAt"
      }
    },
    {
      "cell_type": "code",
      "source": [
        "T1 = 1e12\n",
        "T2 = 1e12\n",
        "delta_2 = 0.33\n",
        "sigma_prime = sigma - (delta_2 / np.log(T2))\n",
        "def C2(sigma, T1, T2, alpha):\n",
        "      C2_value = (1 - 1 / T1) * np.exp(alpha * (sigma / T2)**2 - alpha)\n",
        "      return C2_value\n",
        "C2_value = C2(sigma_prime, T1, T2, alpha)\n",
        "print(f\"The result for C2 is: {C2_value}\")"
      ],
      "metadata": {
        "colab": {
          "base_uri": "https://localhost:8080/"
        },
        "id": "g0tGJsDxX9WU",
        "outputId": "034e7825-9986-40a3-a887-eb0e6c92d267"
      },
      "execution_count": 25,
      "outputs": [
        {
          "output_type": "stream",
          "name": "stdout",
          "text": [
            "The result for C2 is: 0.9003245225853653\n"
          ]
        }
      ]
    },
    {
      "cell_type": "markdown",
      "source": [
        "0.9033926416216275\n",
        "0.9010905734089533\n"
      ],
      "metadata": {
        "id": "g9ugEY_POwkJ"
      }
    },
    {
      "cell_type": "code",
      "source": [
        "C4 = (2 * alpha * beta) / C2_value\n",
        "print(f\"The result for C4: {C4}\")"
      ],
      "metadata": {
        "colab": {
          "base_uri": "https://localhost:8080/"
        },
        "id": "GNnm_WSmaEp1",
        "outputId": "c9a6827c-3e93-409e-adbd-394746ed7428"
      },
      "execution_count": 26,
      "outputs": [
        {
          "output_type": "stream",
          "name": "stdout",
          "text": [
            "The result for C4: 0.46649845634986264\n"
          ]
        }
      ]
    },
    {
      "cell_type": "code",
      "source": [
        "tilde_c5 * C4"
      ],
      "metadata": {
        "colab": {
          "base_uri": "https://localhost:8080/"
        },
        "id": "tJJ9moWCoKoY",
        "outputId": "c598fe50-cabf-485f-8b2a-cfce7fc34afc"
      },
      "execution_count": 27,
      "outputs": [
        {
          "output_type": "execute_result",
          "data": {
            "text/plain": [
              "6.937383684813668"
            ]
          },
          "metadata": {},
          "execution_count": 27
        }
      ]
    },
    {
      "cell_type": "code",
      "source": [
        "numerator = (T2 ** (4/3 * exponent)) * ( np.log(T2) ** ((3 * exponent) + (2 * exponent2)) )"
      ],
      "metadata": {
        "id": "TfGB5jsSovL9"
      },
      "execution_count": 28,
      "outputs": []
    },
    {
      "cell_type": "code",
      "source": [
        "denominator = (T2 ** (8/3 * (1 - sigma))) * ( np.log(T2) ** (2 + (2 * (1 - sigma))) )"
      ],
      "metadata": {
        "id": "YcA5-zCXu1EP"
      },
      "execution_count": 29,
      "outputs": []
    },
    {
      "cell_type": "code",
      "source": [
        "C6 = numerator / denominator"
      ],
      "metadata": {
        "id": "I_-KcVQTj9SL"
      },
      "execution_count": 30,
      "outputs": []
    },
    {
      "cell_type": "code",
      "source": [
        "print(f\"The result for C6: {C6}\")"
      ],
      "metadata": {
        "colab": {
          "base_uri": "https://localhost:8080/"
        },
        "id": "LL3ukMcFkE8z",
        "outputId": "442a0e8a-6e22-4749-dd5d-716207a52ef0"
      },
      "execution_count": 32,
      "outputs": [
        {
          "output_type": "stream",
          "name": "stdout",
          "text": [
            "The result for C6: 5.061776757129234\n"
          ]
        }
      ]
    },
    {
      "cell_type": "code",
      "source": [
        "C6 * tilde_c5 * C4"
      ],
      "metadata": {
        "colab": {
          "base_uri": "https://localhost:8080/"
        },
        "id": "YWClTmoxkJqq",
        "outputId": "6102d5a3-cfcb-41ee-8fc8-019d69c894a5"
      },
      "execution_count": 33,
      "outputs": [
        {
          "output_type": "execute_result",
          "data": {
            "text/plain": [
              "35.11548749107738"
            ]
          },
          "metadata": {},
          "execution_count": 33
        }
      ]
    },
    {
      "cell_type": "code",
      "source": [
        "(C6 * tilde_c5 * C4) / 2 * np.pi * 0.33"
      ],
      "metadata": {
        "colab": {
          "base_uri": "https://localhost:8080/"
        },
        "id": "HKUVeWCnACiI",
        "outputId": "813f86f9-3963-4edb-ed01-006ca89b1cfa"
      },
      "execution_count": 35,
      "outputs": [
        {
          "output_type": "execute_result",
          "data": {
            "text/plain": [
              "18.20256199231684"
            ]
          },
          "metadata": {},
          "execution_count": 35
        }
      ]
    },
    {
      "cell_type": "code",
      "source": [],
      "metadata": {
        "id": "rdyNS_vCBV8q"
      },
      "execution_count": null,
      "outputs": []
    },
    {
      "cell_type": "code",
      "source": [],
      "metadata": {
        "id": "ul_nm7EVBV5U"
      },
      "execution_count": null,
      "outputs": []
    },
    {
      "cell_type": "code",
      "source": [
        "3 / 2 * np.pi"
      ],
      "metadata": {
        "colab": {
          "base_uri": "https://localhost:8080/"
        },
        "id": "pxQlfTVokRUW",
        "outputId": "e15d47aa-06bf-4488-da30-39370a18c946"
      },
      "execution_count": 40,
      "outputs": [
        {
          "output_type": "execute_result",
          "data": {
            "text/plain": [
              "4.71238898038469"
            ]
          },
          "metadata": {},
          "execution_count": 40
        }
      ]
    },
    {
      "cell_type": "code",
      "source": [
        "(C6 * tilde_c5 * C4 ) * (3 / (2 * np.pi))"
      ],
      "metadata": {
        "colab": {
          "base_uri": "https://localhost:8080/"
        },
        "id": "zw9YtELLl0dS",
        "outputId": "2a5e4a8f-cc47-4d62-d578-86bc86e4cecd"
      },
      "execution_count": 36,
      "outputs": [
        {
          "output_type": "execute_result",
          "data": {
            "text/plain": [
              "16.76641023985975"
            ]
          },
          "metadata": {},
          "execution_count": 36
        }
      ]
    },
    {
      "cell_type": "code",
      "source": [
        "X = 1e12\n",
        "2 * 0.9 * np.log(X)"
      ],
      "metadata": {
        "colab": {
          "base_uri": "https://localhost:8080/"
        },
        "id": "lKmyXDlGmAdm",
        "outputId": "8b54a27a-f4ed-464d-aaca-9dca68b646c4"
      },
      "execution_count": 42,
      "outputs": [
        {
          "output_type": "execute_result",
          "data": {
            "text/plain": [
              "49.73583800867139"
            ]
          },
          "metadata": {},
          "execution_count": 42
        }
      ]
    },
    {
      "cell_type": "code",
      "source": [
        "np.log(X)"
      ],
      "metadata": {
        "colab": {
          "base_uri": "https://localhost:8080/"
        },
        "id": "7WFlqwYOncaJ",
        "outputId": "a277fff0-38d5-466f-96fc-6bd33fecbd97"
      },
      "execution_count": 5,
      "outputs": [
        {
          "output_type": "execute_result",
          "data": {
            "text/plain": [
              "27.631021115928547"
            ]
          },
          "metadata": {},
          "execution_count": 5
        }
      ]
    },
    {
      "cell_type": "code",
      "source": [],
      "metadata": {
        "id": "Ez3Z0n4iq7e6"
      },
      "execution_count": null,
      "outputs": []
    }
  ]
}