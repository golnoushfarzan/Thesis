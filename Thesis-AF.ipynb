{
 "cells": [
  {
   "cell_type": "markdown",
   "metadata": {
    "colab_type": "text",
    "id": "view-in-github"
   },
   "source": [
    "<a href=\"https://colab.research.google.com/github/golnoushfarzan/Thesis/blob/main/Thesis.ipynb\" target=\"_parent\"><img src=\"https://colab.research.google.com/assets/colab-badge.svg\" alt=\"Open In Colab\"/></a>"
   ]
  },
  {
   "cell_type": "code",
   "execution_count": 1,
   "metadata": {
    "id": "OtL2Mv_O9iq6"
   },
   "outputs": [],
   "source": [
    "import numpy as np\n",
    "#this one is used to compute binomial coefficients (for C_3)\n",
    "from scipy.special import comb\n",
    "#This one is used for numerical integration of a given function over a specified interval (for I term)\n",
    "from scipy.integrate import quad\n",
    "import mpmath"
   ]
  },
  {
   "cell_type": "code",
   "execution_count": 2,
   "metadata": {
    "id": "wiFhdn8z_dOf"
   },
   "outputs": [],
   "source": [
    "# Define C2 as in equation 4.18\n",
    "def C2(sigma, T1, T2, alpha):\n",
    "    return (1 - 1 / T1) * np.exp(alpha * (sigma / T2)**2 - alpha)"
   ]
  },
  {
   "cell_type": "code",
   "execution_count": 3,
   "metadata": {
    "id": "t5umVrQnBRb0"
   },
   "outputs": [],
   "source": [
    "# Define C4 as in equation 4.84\n",
    "def C4(T0, sigma, sigma_1_prime, sigma_2_prime, sigma_1, sigma_2, T2, T1, alpha, beta):\n",
    "        # this is for computing the numerator\n",
    "        C1_sigma1 = C1(sigma_1, T2, alpha, beta)\n",
    "        C1_sigma2 = C1(sigma_2, T2, alpha, beta)\n",
    "        weight1 = 2 * (sigma_2 - sigma) / (sigma_2 - sigma_1)\n",
    "        weight2 = 2 * (sigma - sigma_1) / (sigma_2 - sigma_1)\n",
    "        numerator = 4 * alpha * beta * (C1_sigma1**weight1) * (C1_sigma2**weight2)\n",
    "\n",
    "        # this is for computing the denominator\n",
    "        denominator = C2(sigma, T1, T2, alpha)\n",
    "\n",
    "        return numerator / denominator"
   ]
  },
  {
   "cell_type": "code",
   "execution_count": 4,
   "metadata": {
    "id": "UEyA4f_9DYBt"
   },
   "outputs": [],
   "source": [
    "# Define the integral I_alpha_beta as in equation \\eqref{eq:2.23} (2.25)\n",
    "def I_alpha_beta(A, n, alpha, beta):\n",
    "    def integrand(x):\n",
    "        return x**A * np.exp(-alpha * x**beta) * (np.log(x)**n)\n",
    "\n",
    "    result, _ = quad(integrand, 0, np.inf)\n",
    "    return result"
   ]
  },
  {
   "cell_type": "code",
   "execution_count": 5,
   "metadata": {
    "id": "jKxZS0SaKx3P"
   },
   "outputs": [],
   "source": [
    "# Define m_0 based on the provided formula in equation 2.82\n",
    "def m0():\n",
    "    return np.sqrt(1 + (2 / 3) * np.sqrt(6 / 5))"
   ]
  },
  {
   "cell_type": "code",
   "execution_count": 6,
   "metadata": {
    "id": "N81ksG5AKyCZ"
   },
   "outputs": [],
   "source": [
    "# Define b1(X_0) based on the provided formula in equation 3.11\n",
    "def b1(X_0):\n",
    "    return (6 / np.pi**2) + (0.1333 / np.sqrt(X_0))"
   ]
  },
  {
   "cell_type": "code",
   "execution_count": 7,
   "metadata": {
    "id": "9gFwJDCDLkEc"
   },
   "outputs": [],
   "source": [
    "# Define b2(X_0) as a constant value in eq 3.15\n",
    "def b2(X_0):\n",
    "    return 1.048  # Given value for b2(X_0) for X_0 \\geq 1000"
   ]
  },
  {
   "cell_type": "code",
   "execution_count": 8,
   "metadata": {
    "id": "fliOFlhfhk5s"
   },
   "outputs": [],
   "source": [
    "# Define b3(X_0) as a constant value in eq 3.21\n",
    "def b_3(X_0):\n",
    "    return 0.605  # Given value for b2(X_0) for X_0 \\geq 1000"
   ]
  },
  {
   "cell_type": "code",
   "execution_count": 9,
   "metadata": {
    "id": "jPf8T66ihdwW"
   },
   "outputs": [],
   "source": [
    "# Define b_4 function based on the given equation 3.40\n",
    "def b_4(X_0):\n",
    "    return 0.428 + 0.895 / np.log(X_0)"
   ]
  },
  {
   "cell_type": "code",
   "execution_count": 10,
   "metadata": {
    "id": "UDsL54J9Kvd3"
   },
   "outputs": [],
   "source": [
    "# Define D1 and D2 as given in equation 4.25\n",
    "def D1(X):\n",
    "    return 6 / np.pi**2 + b2(X) / np.log(X)\n",
    "\n",
    "def D2(X):\n",
    "    return (np.pi * m0 * b1(X) / np.log(X)) + (6 * m0 / (np.pi * X)) + (np.pi * m0 * b2(X) / (X * np.log(X)))\n"
   ]
  },
  {
   "cell_type": "markdown",
   "metadata": {
    "id": "AiLDdtahu5dU"
   },
   "source": [
    "#This is the computation for C3 on the half line:\n",
    "\n"
   ]
  },
  {
   "cell_type": "code",
   "execution_count": 13,
   "metadata": {
    "colab": {
     "base_uri": "https://localhost:8080/"
    },
    "id": "dj4tsAEplrIe",
    "outputId": "37963ec6-11ac-4e0a-f0bc-c3bc91c5b3bc",
    "scrolled": true
   },
   "outputs": [
    {
     "name": "stdout",
     "output_type": "stream",
     "text": [
      "The value of C_3 on the half line is: 22.115139081848703\n"
     ]
    }
   ],
   "source": [
    "# Define C3 function as in equation 2.25. This one is for \\sigma_1\n",
    "\n",
    "# Define b1(X_0) based on the provided formula in equation 3.11\n",
    "def b1(X_0):\n",
    "    return (6 / np.pi**2) + (0.1333 / np.sqrt(X_0))\n",
    "\n",
    "# Define m_0 based on the provided formula in equation 2.82\n",
    "def m0():\n",
    "    return np.sqrt(1 + (2 / 3) * np.sqrt(6 / 5))\n",
    "\n",
    "# Define b2(X_0) as a constant value in eq 3.15\n",
    "def b2(X_0):\n",
    "    return 1.048  # Given value for b2(X_0) for X_0 \\geq 1000\n",
    "\n",
    "# Define D1 and D2 as given in equation 4.25\n",
    "def D1(X):\n",
    "    return 6 / np.pi**2 + b2(X) / np.log(X)\n",
    "\n",
    "def D2(X):\n",
    "    return (np.pi * m0() * b1(X) / np.log(X)) + (6 * m0() / (np.pi * X)) + (np.pi * m0() * b2(X) / (X * np.log(X)))\n",
    "\n",
    "# Define the integral I_alpha_beta as in equation \\eqref{eq:2.23} (2.25)\n",
    "def I_alpha_beta(A, n, alpha, beta):\n",
    "    def integrand(x):\n",
    "        return x**A * np.exp(-alpha * x**beta) * (np.log(x)**n)\n",
    "\n",
    "    result, _ = quad(integrand, 0, np.inf)\n",
    "    return result\n",
    "\n",
    "# Define constants(Example value)\n",
    "X = 1e12\n",
    "T2 = 1e12\n",
    "alpha = 0.105\n",
    "beta = 2\n",
    "\n",
    "j_1 = 0.618\n",
    "j_3 = float(mpmath.zeta(1/2)**2)\n",
    "\n",
    "a = 4/3\n",
    "b = 2\n",
    "# List of values for a_i, b_i, and d_i based on the table of 4.1 (for sigma_1)\n",
    "a_i_values = [0, -1/6, -1/3, -1/3, -1/2, -2/3, -1, -7/6, -4/3, -4/3, -3/2, -5/3]\n",
    "b_i_values = [0, 0, 0, -2, -2, -2, 0, 0, 0, -2, -2, -2]\n",
    "\n",
    "def compute_d_i(X, D1, D2):\n",
    "    \"\"\"\n",
    "    Calculate the d_i values based on the provided formula.\n",
    "    \"\"\"\n",
    "    D1_value = D1(X)\n",
    "    D2_value = D2(X)\n",
    "\n",
    "    d_i_values = [1, \n",
    "                  2 / np.sqrt(D1(X) * np.log(X)),\n",
    "                  1 / (D1(X) * np.log(X)),\n",
    "                  j_3 / j_1**2,\n",
    "                  j_3 / (j_1**2 * np.sqrt(D1(X) * np.log(X))),\n",
    "                  j_3 / (2 * j_1**2 * D1(X) * np.log(X)),\n",
    "                  (X * D2(X)) / D1(X),\n",
    "                  2 * X * D2(X) / (D1(X) * np.sqrt(D1(X) * np.log(X))),\n",
    "                  (X * D2(X)) / (D1(X)**2 * np.log(X)),\n",
    "                  j_3 * D2(X) * X / (2 * j_1**2 * D1(X)),\n",
    "                  j_3 * D2(X) * X / (j_1**2 * D1(X) * np.sqrt(D1(X) * np.log(X))),\n",
    "                  j_3 * D2(X) * X / (j_1**2 * D1(X)**2 * np.log(X))]\n",
    "    return d_i_values\n",
    "\n",
    "\n",
    "# Define the d_i values based on the formula\n",
    "#def compute_d_i(i, X, D1, D2, j_1, j_3):\n",
    "    \"\"\"\n",
    "    Calculate the d_i values based on the provided formula.\n",
    "    \"\"\"\n",
    "\"\"\"\n",
    "    D1_value = D1(X)\n",
    "    D2_value = D2(X)\n",
    "\n",
    "    if i == 0:\n",
    "        return 1\n",
    "    elif i == 1:\n",
    "        return 2 / np.sqrt(D1(X) * np.log(X))\n",
    "    elif i == 2:\n",
    "        return 1 / (D1(X) * np.log(X))\n",
    "    elif i == 3:\n",
    "        return j_3 / j_1**2\n",
    "    elif i == 4:\n",
    "        return j_3 / (j_1**2 * np.sqrt(D1(X) * np.log(X)))\n",
    "    elif i == 5:\n",
    "        return j_3 / (2 * j_1**2 * D1(X) * np.log(X))\n",
    "    elif i == 6:\n",
    "        return (X * D2(X)) / D1(X)\n",
    "    elif i == 7:\n",
    "        return 2 * X * D2(X) / (D1(X) * np.sqrt(D1(X) * np.log(X)))\n",
    "    elif i == 8:\n",
    "        return (X * D2(X)) / (D1(X)**2 * np.log(X))\n",
    "    elif i == 9:\n",
    "        return j_3 * D2(X) * X / (2 * j_1**2 * D1(X))\n",
    "    elif i == 10:\n",
    "        return j_3 * D2(X) * X / (j_1**2 * D1(X) * np.sqrt(D1(X) * np.log(X)))\n",
    "    elif i == 11:\n",
    "        return j_3 * D2(X) * X / (j_1**2 * D1(X)**2 * np.log(X))\n",
    "\"\"\"\n",
    "\n",
    "\n",
    "\n",
    "# Define C3 function as equation 2.25. This one is for \\sigma_1\n",
    "def C3(T2, alpha, beta, a, a_i_values, b, b_i_values,  d_i_values):\n",
    "    log_T = np.log(T2)\n",
    "\n",
    "    C31_value = 0\n",
    "\n",
    "    for i in range(len(a_i_values)):\n",
    "        a_i = a_i_values[i]\n",
    "        b_i = b_i_values[i]\n",
    "        d_i = d_i_values[i]\n",
    "        # Calculate d_i using the function for d_i\n",
    "\n",
    "        inner_sum = 0\n",
    "        # Summation over k\n",
    "        for k in range(b + b_i + 1):\n",
    "            binomial_coeff = comb(b + b_i, k)\n",
    "            integral_value = I_alpha_beta(beta + a + a_i - 1, b + b_i - k, alpha, beta)\n",
    "            inner_sum += binomial_coeff * integral_value / (log_T**(b + b_i - k))\n",
    "\n",
    "        # definition of C3\n",
    "        C31_value += d_i * T2**a_i * (log_T**b_i) * inner_sum\n",
    "\n",
    "    return C31_value\n",
    "\n",
    "C31_value = C3(T2, alpha, beta, a, a_i_values, b, b_i_values, compute_d_i(X, D1, D2))\n",
    "\n",
    "print(f\"The value of C_3 on the half line is: {C31_value}\")\n"
   ]
  },
  {
   "cell_type": "code",
   "execution_count": 18,
   "metadata": {},
   "outputs": [
    {
     "data": {
      "text/plain": [
       "20.95086235677927"
      ]
     },
     "execution_count": 18,
     "metadata": {},
     "output_type": "execute_result"
    }
   ],
   "source": [
    "def I_alpha_beta(A, n, alpha, beta):\n",
    "    def integrand(x):\n",
    "        return (x**A) * np.exp(-alpha * (x**beta) * (np.log(x)**n))\n",
    "\n",
    "    result, _ = quad(integrand, 0, np.inf)\n",
    "    return result\n",
    "\n",
    "I_alpha_beta(2+1/3,0,0.1,2)\n",
    "\n",
    "                            "
   ]
  },
  {
   "cell_type": "code",
   "execution_count": 23,
   "metadata": {
    "id": "R1pmiYPz6liJ"
   },
   "outputs": [],
   "source": [
    "# Define D4 as equation 4.54\n",
    "j_1 = 0.618\n",
    "def D4(X):\n",
    "    return D1(X) * (j_1 ** 2)\n",
    "\n",
    "    X = 1e12"
   ]
  },
  {
   "cell_type": "code",
   "execution_count": 24,
   "metadata": {
    "colab": {
     "base_uri": "https://localhost:8080/"
    },
    "id": "InOLmmQL7Jrm",
    "outputId": "f16bdefc-e61b-48f8-ad7f-1bb992dddbe1",
    "scrolled": true
   },
   "outputs": [
    {
     "name": "stdout",
     "output_type": "stream",
     "text": [
      "The value of D_4 is: 0.2466677108668577\n"
     ]
    }
   ],
   "source": [
    "D4_value = D4(X)\n",
    "print(f\"The value of D_4 is: {D4_value}\")"
   ]
  },
  {
   "cell_type": "code",
   "execution_count": 25,
   "metadata": {
    "colab": {
     "base_uri": "https://localhost:8080/"
    },
    "id": "XylU0L0_Mp-K",
    "outputId": "ad294611-b243-4389-aba6-0abe6044db30"
   },
   "outputs": [
    {
     "name": "stdout",
     "output_type": "stream",
     "text": [
      "The value of log_X is: 27.631021115928547\n"
     ]
    }
   ],
   "source": [
    "log_X = np.log(X)\n",
    "X = 1e12\n",
    "print(f\"The value of log_X is: {log_X}\")"
   ]
  },
  {
   "cell_type": "code",
   "execution_count": 26,
   "metadata": {
    "id": "AiSm9cpZ7xVf"
   },
   "outputs": [],
   "source": [
    "C31_times_D4 = C31_value * D4_value"
   ]
  },
  {
   "cell_type": "markdown",
   "metadata": {
    "id": "TNKrZekp9oLB"
   },
   "source": [
    "#This value is for C3. D4 (which we need it for the half line):"
   ]
  },
  {
   "cell_type": "code",
   "execution_count": 27,
   "metadata": {
    "colab": {
     "base_uri": "https://localhost:8080/"
    },
    "id": "3UuvLQlJ7-_x",
    "outputId": "bf920859-6488-4c59-a61e-8f80771b89d7"
   },
   "outputs": [
    {
     "name": "stdout",
     "output_type": "stream",
     "text": [
      "The value of C3 . D4 on the half line is: 5.455090732821801\n"
     ]
    }
   ],
   "source": [
    "print(f\"The value of C3 . D4 on the half line is: {C31_times_D4}\")"
   ]
  },
  {
   "cell_type": "code",
   "execution_count": 8,
   "metadata": {
    "colab": {
     "base_uri": "https://localhost:8080/"
    },
    "id": "BzmIwTEuTD1p",
    "outputId": "04390b67-5480-4231-dcd5-9b2f2a9b1a55"
   },
   "outputs": [
    {
     "name": "stdout",
     "output_type": "stream",
     "text": [
      "The value of exponent is: 0.24038111109473076\n"
     ]
    }
   ],
   "source": [
    "delta = 0.3\n",
    "sigma_2 = 1 + delta / log_X\n",
    "sigma = 0.9\n",
    "sigma_1 = 0.5\n",
    "delta_2 = 0.33\n",
    "sigma_prime = sigma - (delta_2 / np.log(T2))\n",
    "exponent = (sigma_2 - sigma_prime) / (sigma_2 - sigma_1)\n",
    "print(f\"The value of exponent is: {exponent}\")"
   ]
  },
  {
   "cell_type": "markdown",
   "metadata": {
    "id": "5Z-x7Wf8UbbY"
   },
   "source": [
    "#This is the final result on the half line (The first part of the \\tilde{C5}):"
   ]
  },
  {
   "cell_type": "code",
   "execution_count": 9,
   "metadata": {
    "colab": {
     "base_uri": "https://localhost:8080/"
    },
    "id": "FIaXp_RpT55J",
    "outputId": "e5c66064-bf1a-4fbf-9062-6f915707f213"
   },
   "outputs": [
    {
     "name": "stdout",
     "output_type": "stream",
     "text": [
      "The result for the half line: 1.6879349311612515\n"
     ]
    }
   ],
   "source": [
    "result1 = (C31_times_D4) ** exponent\n",
    "print(f\"The result for the half line: {result1}\")"
   ]
  },
  {
   "cell_type": "markdown",
   "metadata": {
    "id": "dNffa4iRhO7F"
   },
   "source": [
    "#This is the computation for C3 on the sigme2:\n",
    "\n"
   ]
  },
  {
   "cell_type": "code",
   "execution_count": 17,
   "metadata": {
    "colab": {
     "base_uri": "https://localhost:8080/"
    },
    "id": "Qi6xYpVGeJTw",
    "outputId": "bd4b5be3-24d1-4490-f354-0a19e974ccf8"
   },
   "outputs": [
    {
     "name": "stdout",
     "output_type": "stream",
     "text": [
      "The value of C_3 at sigma_2 is: 101.52727465863806\n"
     ]
    }
   ],
   "source": [
    "# Define C3 function as in equation 2.25. This one is for \\sigma_2\n",
    "gamma = mpmath.euler\n",
    "# Define b_4 function based on the given equation 3.40\n",
    "def b_4(X_0):\n",
    "    return 0.428 + 0.895 / np.log(X_0)\n",
    "\n",
    "# Define b3(X_0) as a constant value in eq 3.21\n",
    "def b_3(X_0):\n",
    "    return 0.605  # Given value for b2(X_0) for X_0 \\geq 1000\n",
    "\n",
    "# Define m_0 based on the provided formula in equation 2.82\n",
    "def m0():\n",
    "    return np.sqrt(1 + (2 / 3) * np.sqrt(6 / 5))\n",
    "\n",
    "# Define D_5 and D_6 based on the given equations\n",
    "def D5(delta, X):\n",
    "    \"\"\"\n",
    "    Calculate D_5 for given delta and X, using m0 and gamma.\n",
    "    \"\"\"\n",
    "    b4_X = b_4(X)\n",
    "    return (np.pi * m0() * b4_X) / (2 * delta) * np.exp((2 * delta * float(gamma) / np.log(X)))\n",
    "\n",
    "def D6(delta, X):\n",
    "    \"\"\"\n",
    "    Calculate D_6 for given delta and X, using gamma.\n",
    "    \"\"\"\n",
    "    b3_X = b_3(X)\n",
    "    b4_X = b_4(X)\n",
    "    return (b4_X / (5 * delta * np.exp(float(gamma)))) + (b3_X * np.exp(-2 * delta)) / (np.log(X)**2)\n",
    "\n",
    "\n",
    "# Define constants(Example value)\n",
    "X = 1e12\n",
    "T2 = 1e12\n",
    "alpha = 0.105\n",
    "beta = 2\n",
    "a = 1\n",
    "b = 0\n",
    "delta = 0.3\n",
    "\n",
    "# List of values for a_i', b_i', and d_i' based on the table of 4.3 (for sigma_2)\n",
    "a_i_values = [0, -1, -1]\n",
    "b_i_values = [0, 0, 0]\n",
    "\n",
    "# Define the d_i values based on your formula\n",
    "def compute_d_i(X, D5, D6, delta):\n",
    "    \"\"\"\n",
    "    Calculate the d_i values based on the provided formula.\n",
    "    \"\"\"\n",
    "    D5_value = D5(delta, X)\n",
    "    D6_value = D6(delta, X)\n",
    "\n",
    "    d_i_values = [1, (D5(delta, X) * X ) / D6(delta, X), np.pi * m0()]\n",
    "    return d_i_values\n",
    "\n",
    "\n",
    "C32_value = C3(T2, alpha, beta, a, a_i_values, b, b_i_values, compute_d_i(X, D5, D6, delta))\n",
    "\n",
    "print(f\"The value of C_3 at sigma_2 is: {C32_value}\")"
   ]
  },
  {
   "cell_type": "code",
   "execution_count": 48,
   "metadata": {
    "colab": {
     "base_uri": "https://localhost:8080/"
    },
    "id": "dEEnqmQy4-uM",
    "outputId": "23c1d2d7-323a-427a-a510-ce7b21d3521c"
   },
   "outputs": [
    {
     "name": "stdout",
     "output_type": "stream",
     "text": [
      "The value of D_6 is: 0.17276220616834606\n"
     ]
    }
   ],
   "source": [
    "# Define D6\n",
    "X = 1e12\n",
    "delta = 0.3\n",
    "def D6(delta, X):\n",
    "    \"\"\"\n",
    "    Calculate D_6 for given delta and X, using gamma.\n",
    "    \"\"\"\n",
    "    b3_X = b_3(X)\n",
    "    b4_X = b_4(X)\n",
    "    return (b4_X / (5 * delta * np.exp(float(gamma)))) + (b3_X * np.exp(-2 * delta)) / (np.log(X)**2)\n",
    "D6_value = D6(delta, X)\n",
    "print(f\"The value of D_6 is: {D6_value}\")"
   ]
  },
  {
   "cell_type": "code",
   "execution_count": 49,
   "metadata": {
    "id": "rkJ2WoVzeLIK"
   },
   "outputs": [],
   "source": [
    "C32_times_D6 = C32_value * D6_value"
   ]
  },
  {
   "cell_type": "markdown",
   "metadata": {
    "id": "KIoTWbZB9u3W"
   },
   "source": [
    "#This value is for C3. D6 (which we need it for the sigma2):"
   ]
  },
  {
   "cell_type": "code",
   "execution_count": 50,
   "metadata": {
    "colab": {
     "base_uri": "https://localhost:8080/"
    },
    "id": "u9v6N2lD5fLs",
    "outputId": "896ba3aa-220b-4635-ae5a-45fc62d42c6f"
   },
   "outputs": [
    {
     "name": "stdout",
     "output_type": "stream",
     "text": [
      "The value of C3 . D6 at sigma_2 is: 17.540075956285925\n"
     ]
    }
   ],
   "source": [
    "print(f\"The value of C3 . D6 at sigma_2 is: {C32_times_D6}\")"
   ]
  },
  {
   "cell_type": "code",
   "execution_count": 20,
   "metadata": {
    "colab": {
     "base_uri": "https://localhost:8080/"
    },
    "id": "D4F63Rxr59Nf",
    "outputId": "66c9737f-40c7-41c2-aca9-95809ae53fb7"
   },
   "outputs": [
    {
     "name": "stdout",
     "output_type": "stream",
     "text": [
      "The value of exponent2 is: 0.7596188889052692\n"
     ]
    }
   ],
   "source": [
    "delta = 0.3\n",
    "sigma_2 = 1 + delta / np.log(X)\n",
    "sigma = 0.9\n",
    "sigma_1 = 0.5\n",
    "delta_2 = 0.33\n",
    "sigma_prime = sigma - (delta_2 / np.log(T2))\n",
    "exponent2 = (sigma_prime - sigma_1) / (sigma_2 - sigma_1)\n",
    "print(f\"The value of exponent2 is: {exponent2}\")"
   ]
  },
  {
   "cell_type": "markdown",
   "metadata": {
    "id": "3SYa6Dl1VU1Q"
   },
   "source": [
    "#This is the final result on the sigma2 (The second part of the \\tilde{C5})"
   ]
  },
  {
   "cell_type": "code",
   "execution_count": 21,
   "metadata": {
    "colab": {
     "base_uri": "https://localhost:8080/"
    },
    "id": "SiqUcTVPU_3Q",
    "outputId": "3b499817-3e15-421c-cf5e-2394ac72ca21"
   },
   "outputs": [
    {
     "name": "stdout",
     "output_type": "stream",
     "text": [
      "The result for sigma2: 8.810281862787052\n"
     ]
    }
   ],
   "source": [
    "result2 = (C32_times_D6) ** exponent2\n",
    "print(f\"The result for sigma2: {result2}\")"
   ]
  },
  {
   "cell_type": "markdown",
   "metadata": {
    "id": "wFhw6SyPW69t"
   },
   "source": [
    "#This is the final value for \\tilde{C_5} as equation 4.85:"
   ]
  },
  {
   "cell_type": "code",
   "execution_count": 22,
   "metadata": {
    "colab": {
     "base_uri": "https://localhost:8080/"
    },
    "id": "kbC8_WDEVMMc",
    "outputId": "709f1bf8-a220-4a14-c4fe-3f72da7abb9e"
   },
   "outputs": [
    {
     "name": "stdout",
     "output_type": "stream",
     "text": [
      "The result for tilde_C5 is: 14.871182509574686\n"
     ]
    }
   ],
   "source": [
    "tilde_c5 = result1 * result2\n",
    "print(f\"The result for tilde_C5 is: {tilde_c5}\")\n"
   ]
  },
  {
   "cell_type": "markdown",
   "metadata": {
    "id": "l83uUGAgXKz-"
   },
   "source": [
    "# Define C1 as in equation 4.18"
   ]
  },
  {
   "cell_type": "code",
   "execution_count": 23,
   "metadata": {
    "colab": {
     "base_uri": "https://localhost:8080/"
    },
    "id": "njimh5KbV8X4",
    "outputId": "8eba6dc5-505a-4253-85bf-03fa8ab1294e"
   },
   "outputs": [
    {
     "name": "stdout",
     "output_type": "stream",
     "text": [
      "The result for C1 on half line is: 1.0\n"
     ]
    },
    {
     "data": {
      "text/plain": [
       "1.0"
      ]
     },
     "execution_count": 23,
     "metadata": {},
     "output_type": "execute_result"
    }
   ],
   "source": [
    "def C1(sigma, T2, alpha, beta):\n",
    "      C1_value = np.exp(alpha * (sigma / T2)**beta)\n",
    "      return C1_value\n",
    "C1_value = C1(sigma_1, T2, alpha, beta)\n",
    "print(f\"The result for C1 on half line is: {C1_value}\")\n",
    "C1_value ** exponent"
   ]
  },
  {
   "cell_type": "code",
   "execution_count": 24,
   "metadata": {
    "colab": {
     "base_uri": "https://localhost:8080/"
    },
    "id": "M-XnyEJ2nM8d",
    "outputId": "172bb413-3611-4e08-8e0c-ba8e83216338"
   },
   "outputs": [
    {
     "name": "stdout",
     "output_type": "stream",
     "text": [
      "The result for C1 at sigma2: 1.0\n"
     ]
    }
   ],
   "source": [
    "C1_value = C1(sigma_2, T2, alpha, beta)\n",
    "print(f\"The result for C1 at sigma2: {C1_value}\")"
   ]
  },
  {
   "cell_type": "markdown",
   "metadata": {
    "id": "2kwk-j1aasAt"
   },
   "source": [
    "# Define C2 as in equation 4.18"
   ]
  },
  {
   "cell_type": "code",
   "execution_count": 25,
   "metadata": {
    "colab": {
     "base_uri": "https://localhost:8080/"
    },
    "id": "g0tGJsDxX9WU",
    "outputId": "034e7825-9986-40a3-a887-eb0e6c92d267"
   },
   "outputs": [
    {
     "name": "stdout",
     "output_type": "stream",
     "text": [
      "The result for C2 is: 0.9003245225853653\n"
     ]
    }
   ],
   "source": [
    "T1 = 1e12\n",
    "T2 = 1e12\n",
    "delta_2 = 0.33\n",
    "sigma_prime = sigma - (delta_2 / np.log(T2))\n",
    "def C2(sigma, T1, T2, alpha):\n",
    "      C2_value = (1 - 1 / T1) * np.exp(alpha * (sigma / T2)**2 - alpha)\n",
    "      return C2_value\n",
    "C2_value = C2(sigma_prime, T1, T2, alpha)\n",
    "print(f\"The result for C2 is: {C2_value}\")"
   ]
  },
  {
   "cell_type": "markdown",
   "metadata": {
    "id": "g9ugEY_POwkJ"
   },
   "source": [
    "0.9033926416216275\n",
    "0.9010905734089533\n"
   ]
  },
  {
   "cell_type": "code",
   "execution_count": 26,
   "metadata": {
    "colab": {
     "base_uri": "https://localhost:8080/"
    },
    "id": "GNnm_WSmaEp1",
    "outputId": "c9a6827c-3e93-409e-adbd-394746ed7428"
   },
   "outputs": [
    {
     "name": "stdout",
     "output_type": "stream",
     "text": [
      "The result for C4: 0.46649845634986264\n"
     ]
    }
   ],
   "source": [
    "C4 = (2 * alpha * beta) / C2_value\n",
    "print(f\"The result for C4: {C4}\")"
   ]
  },
  {
   "cell_type": "code",
   "execution_count": 27,
   "metadata": {
    "colab": {
     "base_uri": "https://localhost:8080/"
    },
    "id": "tJJ9moWCoKoY",
    "outputId": "c598fe50-cabf-485f-8b2a-cfce7fc34afc"
   },
   "outputs": [
    {
     "data": {
      "text/plain": [
       "6.937383684813668"
      ]
     },
     "execution_count": 27,
     "metadata": {},
     "output_type": "execute_result"
    }
   ],
   "source": [
    "tilde_c5 * C4"
   ]
  },
  {
   "cell_type": "code",
   "execution_count": 28,
   "metadata": {
    "id": "TfGB5jsSovL9"
   },
   "outputs": [],
   "source": [
    "numerator = (T2 ** (4/3 * exponent)) * ( np.log(T2) ** ((3 * exponent) + (2 * exponent2)) )"
   ]
  },
  {
   "cell_type": "code",
   "execution_count": 29,
   "metadata": {
    "id": "YcA5-zCXu1EP"
   },
   "outputs": [],
   "source": [
    "denominator = (T2 ** (8/3 * (1 - sigma))) * ( np.log(T2) ** (2 + (2 * (1 - sigma))) )"
   ]
  },
  {
   "cell_type": "code",
   "execution_count": 30,
   "metadata": {
    "id": "I_-KcVQTj9SL"
   },
   "outputs": [],
   "source": [
    "C6 = numerator / denominator"
   ]
  },
  {
   "cell_type": "code",
   "execution_count": 32,
   "metadata": {
    "colab": {
     "base_uri": "https://localhost:8080/"
    },
    "id": "LL3ukMcFkE8z",
    "outputId": "442a0e8a-6e22-4749-dd5d-716207a52ef0"
   },
   "outputs": [
    {
     "name": "stdout",
     "output_type": "stream",
     "text": [
      "The result for C6: 5.061776757129234\n"
     ]
    }
   ],
   "source": [
    "print(f\"The result for C6: {C6}\")"
   ]
  },
  {
   "cell_type": "code",
   "execution_count": 33,
   "metadata": {
    "colab": {
     "base_uri": "https://localhost:8080/"
    },
    "id": "YWClTmoxkJqq",
    "outputId": "6102d5a3-cfcb-41ee-8fc8-019d69c894a5"
   },
   "outputs": [
    {
     "data": {
      "text/plain": [
       "35.11548749107738"
      ]
     },
     "execution_count": 33,
     "metadata": {},
     "output_type": "execute_result"
    }
   ],
   "source": [
    "C6 * tilde_c5 * C4"
   ]
  },
  {
   "cell_type": "code",
   "execution_count": 35,
   "metadata": {
    "colab": {
     "base_uri": "https://localhost:8080/"
    },
    "id": "HKUVeWCnACiI",
    "outputId": "813f86f9-3963-4edb-ed01-006ca89b1cfa"
   },
   "outputs": [
    {
     "data": {
      "text/plain": [
       "18.20256199231684"
      ]
     },
     "execution_count": 35,
     "metadata": {},
     "output_type": "execute_result"
    }
   ],
   "source": [
    "(C6 * tilde_c5 * C4) / 2 * np.pi * 0.33"
   ]
  },
  {
   "cell_type": "code",
   "execution_count": null,
   "metadata": {
    "id": "rdyNS_vCBV8q"
   },
   "outputs": [],
   "source": []
  },
  {
   "cell_type": "code",
   "execution_count": null,
   "metadata": {
    "id": "ul_nm7EVBV5U"
   },
   "outputs": [],
   "source": []
  },
  {
   "cell_type": "code",
   "execution_count": 40,
   "metadata": {
    "colab": {
     "base_uri": "https://localhost:8080/"
    },
    "id": "pxQlfTVokRUW",
    "outputId": "e15d47aa-06bf-4488-da30-39370a18c946"
   },
   "outputs": [
    {
     "data": {
      "text/plain": [
       "4.71238898038469"
      ]
     },
     "execution_count": 40,
     "metadata": {},
     "output_type": "execute_result"
    }
   ],
   "source": [
    "3 / 2 * np.pi"
   ]
  },
  {
   "cell_type": "code",
   "execution_count": 36,
   "metadata": {
    "colab": {
     "base_uri": "https://localhost:8080/"
    },
    "id": "zw9YtELLl0dS",
    "outputId": "2a5e4a8f-cc47-4d62-d578-86bc86e4cecd"
   },
   "outputs": [
    {
     "data": {
      "text/plain": [
       "16.76641023985975"
      ]
     },
     "execution_count": 36,
     "metadata": {},
     "output_type": "execute_result"
    }
   ],
   "source": [
    "(C6 * tilde_c5 * C4 ) * (3 / (2 * np.pi))"
   ]
  },
  {
   "cell_type": "code",
   "execution_count": 42,
   "metadata": {
    "colab": {
     "base_uri": "https://localhost:8080/"
    },
    "id": "lKmyXDlGmAdm",
    "outputId": "8b54a27a-f4ed-464d-aaca-9dca68b646c4"
   },
   "outputs": [
    {
     "data": {
      "text/plain": [
       "49.73583800867139"
      ]
     },
     "execution_count": 42,
     "metadata": {},
     "output_type": "execute_result"
    }
   ],
   "source": [
    "X = 1e12\n",
    "2 * 0.9 * np.log(X)"
   ]
  },
  {
   "cell_type": "code",
   "execution_count": 5,
   "metadata": {
    "colab": {
     "base_uri": "https://localhost:8080/"
    },
    "id": "7WFlqwYOncaJ",
    "outputId": "a277fff0-38d5-466f-96fc-6bd33fecbd97"
   },
   "outputs": [
    {
     "data": {
      "text/plain": [
       "27.631021115928547"
      ]
     },
     "execution_count": 5,
     "metadata": {},
     "output_type": "execute_result"
    }
   ],
   "source": [
    "np.log(X)"
   ]
  },
  {
   "cell_type": "code",
   "execution_count": null,
   "metadata": {
    "id": "Ez3Z0n4iq7e6"
   },
   "outputs": [],
   "source": []
  }
 ],
 "metadata": {
  "colab": {
   "authorship_tag": "ABX9TyMOCoXFGnysJ4+G6k5M0zEP",
   "include_colab_link": true,
   "provenance": []
  },
  "kernelspec": {
   "display_name": "Python 3 (ipykernel)",
   "language": "python",
   "name": "python3"
  },
  "language_info": {
   "codemirror_mode": {
    "name": "ipython",
    "version": 3
   },
   "file_extension": ".py",
   "mimetype": "text/x-python",
   "name": "python",
   "nbconvert_exporter": "python",
   "pygments_lexer": "ipython3",
   "version": "3.10.6"
  }
 },
 "nbformat": 4,
 "nbformat_minor": 1
}
