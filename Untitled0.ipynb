{
 "cells": [
  {
   "cell_type": "markdown",
   "metadata": {
    "colab_type": "text",
    "id": "view-in-github"
   },
   "source": [
    "<a href=\"https://colab.research.google.com/github/golnoushfarzan/Thesis/blob/main/Untitled0.ipynb\" target=\"_parent\"><img src=\"https://colab.research.google.com/assets/colab-badge.svg\" alt=\"Open In Colab\"/></a>"
   ]
  },
  {
   "cell_type": "code",
   "execution_count": null,
   "metadata": {
    "id": "cSERG_96o_P4"
   },
   "outputs": [],
   "source": [
    "import numpy as np\n",
    "#this one is used to compute binomial coefficients (for C_3)\n",
    "from scipy.special import comb\n",
    "#This one is used for numerical integration of a given function over a specified interval (for I term)\n",
    "from scipy.integrate import quad\n",
    "import mpmath\n",
    "from scipy.optimize import minimize_scalar"
   ]
  },
  {
   "cell_type": "markdown",
   "metadata": {
    "id": "vSck010kpfI0"
   },
   "source": [
    "#This is the computation for C3 on the half line:"
   ]
  },
  {
   "cell_type": "code",
   "execution_count": null,
   "metadata": {
    "colab": {
     "base_uri": "https://localhost:8080/"
    },
    "id": "4CwQU-2IBPrz",
    "outputId": "a5ee2a21-e1ff-456a-835b-e9ea3af6ef6e"
   },
   "outputs": [
    {
     "name": "stdout",
     "output_type": "stream",
     "text": [
      "The value of C_3 on the half line is: 21.993479743187297\n"
     ]
    }
   ],
   "source": [
    "# Define C3 function as in equation 2.25. This one is for \\sigma_1\n",
    "\n",
    "# Define b1(X_0) based on the provided formula in equation 3.11\n",
    "def b1(X_0):\n",
    "    return (6 / np.pi**2) + (0.1333 / np.sqrt(X_0))\n",
    "\n",
    "# Define m_0 based on the provided formula in equation 2.82\n",
    "def m0():\n",
    "    return np.sqrt(1 + (2 / 3) * np.sqrt(6 / 5))\n",
    "\n",
    "# Define b2(X_0) as a constant value in eq 3.15\n",
    "def b2(X_0):\n",
    "    return 1.048  # Given value for b2(X_0) for X_0 \\geq 1000\n",
    "\n",
    "# Define D1 and D2 as given in equation 4.25\n",
    "def D1(X):\n",
    "    return 6 / np.pi**2 + b2(X) / np.log(X)\n",
    "\n",
    "def D2(X):\n",
    "    return (np.pi * m0() * b1(X) / np.log(X)) + (6 * m0() / (np.pi * X)) + (np.pi * m0() * b2(X) / (X * np.log(X)))\n",
    "\n",
    "# Define the integral I_alpha_beta as in equation \\eqref{eq:2.23} (2.25)\n",
    "def I_alpha_beta(A, n, alpha, beta):\n",
    "    def integrand(x):\n",
    "        return x**A * np.exp(-alpha * x**beta) * (np.log(x)**n)\n",
    "\n",
    "    result, _ = quad(integrand, 0, np.inf)\n",
    "    return result\n",
    "\n",
    "# Define constants(Example value)\n",
    "X = 3 * 1e12\n",
    "T2 = 3 * 1e12\n",
    "alpha = 0.105\n",
    "beta = 2\n",
    "\n",
    "j_1 = 0.618\n",
    "j_3 = float(mpmath.zeta(1/2)**2)\n",
    "\n",
    "a = 4/3\n",
    "b = 2\n",
    "# List of values for a_i, b_i, and d_i based on the table of 4.1 (for sigma_1)\n",
    "a_i_values = [0, -1/6, -1/3, -1/3, -1/2, -2/3, -1, -7/6, -4/3, -4/3, -3/2, -5/3]\n",
    "b_i_values = [0, 0, 0, -2, -2, -2, 0, 0, 0, -2, -2, -2]\n",
    "\n",
    "def compute_d_i(X, D1, D2):\n",
    "    \"\"\"\n",
    "    Calculate the d_i values based on the provided formula.\n",
    "    \"\"\"\n",
    "    d_i_values = [1,\n",
    "                  2 / np.sqrt(D1(X) * np.log(X)),\n",
    "                  1 / (D1(X) * np.log(X)),\n",
    "                  j_3 / j_1**2,\n",
    "                  j_3 / (j_1**2 * np.sqrt(D1(X) * np.log(X))),\n",
    "                  j_3 / (2 * j_1**2 * D1(X) * np.log(X)),\n",
    "                  (X * D2(X)) / D1(X),\n",
    "                  2 * X * D2(X) / (D1(X) * np.sqrt(D1(X) * np.log(X))),\n",
    "                  (X * D2(X)) / (D1(X)**2 * np.log(X)),\n",
    "                  j_3 * D2(X) * X / (2 * j_1**2 * D1(X)),\n",
    "                  j_3 * D2(X) * X / (j_1**2 * D1(X) * np.sqrt(D1(X) * np.log(X))),\n",
    "                  j_3 * D2(X) * X / (j_1**2 * D1(X)**2 * np.log(X))]\n",
    "    return d_i_values\n",
    "\n",
    "\n",
    "\n",
    "# Define the d_i values based on the formula\n",
    "#def compute_d_i(i, X, D1, D2, j_1, j_3):\n",
    "    \"\"\"\n",
    "    Calculate the d_i values based on the provided formula.\n",
    "    \"\"\"\n",
    "\"\"\"\n",
    "    D1_value = D1(X)\n",
    "    D2_value = D2(X)\n",
    "\n",
    "    if i == 0:\n",
    "        return 1\n",
    "    elif i == 1:\n",
    "        return 2 / np.sqrt(D1(X) * np.log(X))\n",
    "    elif i == 2:\n",
    "        return 1 / (D1(X) * np.log(X))\n",
    "    elif i == 3:\n",
    "        return j_3 / j_1**2\n",
    "    elif i == 4:\n",
    "        return j_3 / (j_1**2 * np.sqrt(D1(X) * np.log(X)))\n",
    "    elif i == 5:\n",
    "        return j_3 / (2 * j_1**2 * D1(X) * np.log(X))\n",
    "    elif i == 6:\n",
    "        return (X * D2(X)) / D1(X)\n",
    "    elif i == 7:\n",
    "        return 2 * X * D2(X) / (D1(X) * np.sqrt(D1(X) * np.log(X)))\n",
    "    elif i == 8:\n",
    "        return (X * D2(X)) / (D1(X)**2 * np.log(X))\n",
    "    elif i == 9:\n",
    "        return j_3 * D2(X) * X / (2 * j_1**2 * D1(X))\n",
    "    elif i == 10:\n",
    "        return j_3 * D2(X) * X / (j_1**2 * D1(X) * np.sqrt(D1(X) * np.log(X)))\n",
    "    elif i == 11:\n",
    "        return j_3 * D2(X) * X / (j_1**2 * D1(X)**2 * np.log(X))\n",
    "\"\"\"\n",
    "\n",
    "\n",
    "\n",
    "# Define C3 function as equation 2.25. This one is for \\sigma_1\n",
    "def C3(T2, alpha, beta, a, a_i_values, b, b_i_values,  d_i_values, printing=0):\n",
    "    log_T = np.log(T2)\n",
    "\n",
    "    C31_value = 0\n",
    "\n",
    "    for i in range(len(a_i_values)):\n",
    "        a_i = a_i_values[i]\n",
    "        b_i = b_i_values[i]\n",
    "        d_i = d_i_values[i]\n",
    "        # Calculate d_i using the function for d_i\n",
    "\n",
    "        inner_sum = 0\n",
    "        # Summation over k\n",
    "        for k in range(b + b_i + 1):\n",
    "            binomial_coeff = comb(b + b_i, k)\n",
    "            integral_value = I_alpha_beta(beta + a + a_i - 1, b + b_i - k, alpha, beta)\n",
    "            inner_sum += binomial_coeff * integral_value / (log_T**(b + b_i - k))\n",
    "\n",
    "        # definition of C3\n",
    "        C31_value += d_i * T2**a_i * (log_T**b_i) * inner_sum\n",
    "\n",
    "    if printing > 0:\n",
    "        print(f\"C3_value is {C31_value}\")\n",
    "    return C31_value\n",
    "\n",
    "C31_value = C3(T2, alpha, beta, a, a_i_values, b, b_i_values, compute_d_i(X, D1, D2)\n",
    "print(f\"The value of C_3 on the half line is: {C31_value}\")"
   ]
  },
  {
   "cell_type": "code",
   "execution_count": null,
   "metadata": {
    "colab": {
     "base_uri": "https://localhost:8080/"
    },
    "id": "R1pmiYPz6liJ",
    "outputId": "297cc64a-12e0-49c5-9112-5256a8ed429e"
   },
   "outputs": [
    {
     "name": "stdout",
     "output_type": "stream",
     "text": [
      "The value of D_4 is: 0.24611377987225733\n"
     ]
    }
   ],
   "source": [
    "# Define D4 as equation 4.54\n",
    "j_1 = 0.618\n",
    "def D4(X):\n",
    "    return D1(X) * (j_1 ** 2)\n",
    "\n",
    "D4_value = D4(X)\n",
    "print(f\"The value of D_4 is: {D4_value}\")"
   ]
  },
  {
   "cell_type": "code",
   "execution_count": null,
   "metadata": {
    "colab": {
     "base_uri": "https://localhost:8080/"
    },
    "id": "XylU0L0_Mp-K",
    "outputId": "207714ab-7f4b-490b-cbfb-09c42ea3be80"
   },
   "outputs": [
    {
     "name": "stdout",
     "output_type": "stream",
     "text": [
      "The value of log_X is: 28.729633404596658\n"
     ]
    }
   ],
   "source": [
    "log_X = np.log(X)\n",
    "print(f\"The value of log_X is: {log_X}\")"
   ]
  },
  {
   "cell_type": "code",
   "execution_count": null,
   "metadata": {
    "colab": {
     "base_uri": "https://localhost:8080/"
    },
    "id": "AiSm9cpZ7xVf",
    "outputId": "0e7a3232-e7e2-4f82-cd4e-fef9914b7ebd"
   },
   "outputs": [
    {
     "name": "stdout",
     "output_type": "stream",
     "text": [
      "The value of C3 . D4 on the half line is: 5.412898432139749\n"
     ]
    }
   ],
   "source": [
    "C31_times_D4 = C31_value * D4_value\n",
    "print(f\"The value of C3 . D4 on the half line is: {C31_times_D4}\")"
   ]
  },
  {
   "cell_type": "markdown",
   "metadata": {
    "id": "v7CNAi1Ep9tE"
   },
   "source": [
    "#FIRST EXPONENT"
   ]
  },
  {
   "cell_type": "code",
   "execution_count": null,
   "metadata": {
    "colab": {
     "base_uri": "https://localhost:8080/"
    },
    "id": "Np5TroVza575",
    "outputId": "35206302-e4fa-4bac-a840-49d13220a818"
   },
   "outputs": [
    {
     "name": "stdout",
     "output_type": "stream",
     "text": [
      "The value of exponent is: 0.23682282642614763\n"
     ]
    }
   ],
   "source": [
    "delta = 0.3\n",
    "sigma_2 = 1 + delta / log_X\n",
    "sigma_1 = 0.5\n",
    "delta_2 = 0.3\n",
    "sigma = 0.9\n",
    "sigma_prime = sigma - (delta_2 / np.log(T2))\n",
    "\n",
    "print(f\"The value of exponent is: {exponent}\")"
   ]
  },
  {
   "cell_type": "markdown",
   "metadata": {
    "id": "KwukOpqxqVa1"
   },
   "source": [
    "#This is the final result on the half line (A1^exponent):"
   ]
  },
  {
   "cell_type": "code",
   "execution_count": null,
   "metadata": {
    "colab": {
     "base_uri": "https://localhost:8080/"
    },
    "id": "Ig344afOo_Ex",
    "outputId": "c9bb81a4-4d87-4c36-f7c7-eb9b901849e3"
   },
   "outputs": [
    {
     "name": "stdout",
     "output_type": "stream",
     "text": [
      "The result for the half line: 1.4917393182043495\n"
     ]
    }
   ],
   "source": [
    "result1 = (C31_times_D4) ** exponent\n",
    "print(f\"The result for the half line: {result1}\")"
   ]
  },
  {
   "cell_type": "markdown",
   "metadata": {
    "id": "WcV2YZr6qiJ-"
   },
   "source": [
    "#This is the computation for C3 on the sigme2:"
   ]
  },
  {
   "cell_type": "code",
   "execution_count": null,
   "metadata": {
    "colab": {
     "base_uri": "https://localhost:8080/"
    },
    "id": "ZrXJSWjKCb42",
    "outputId": "df71b129-f58c-4627-9307-d5516b8bf802"
   },
   "outputs": [
    {
     "name": "stdout",
     "output_type": "stream",
     "text": [
      "The value of C_3 at sigma_2 is: 101.50101748294732\n"
     ]
    }
   ],
   "source": [
    "# Define C3 function as in equation 2.25. This one is for \\sigma_2\n",
    "gamma = mpmath.euler\n",
    "# Define b_4 function based on the given equation 3.40\n",
    "def b_4(X_0):\n",
    "    return 0.428 + 0.895 / np.log(X_0)\n",
    "\n",
    "# Define b3(X_0) as a constant value in eq 3.21\n",
    "def b_3(X_0):\n",
    "    return 0.605  # Given value for b2(X_0) for X_0 \\geq 1000\n",
    "\n",
    "# Define m_0 based on the provided formula in equation 2.82\n",
    "def m0():\n",
    "    return np.sqrt(1 + (2 / 3) * np.sqrt(6 / 5))\n",
    "\n",
    "# Define D_5 and D_6 based on the given equations\n",
    "def D5(delta, X):\n",
    "    \"\"\"\n",
    "    Calculate D_5 for given delta and X, using m0 and gamma.\n",
    "    \"\"\"\n",
    "    b4_X = b_4(X)\n",
    "    return (np.pi * m0() * b4_X) / (2 * delta) * np.exp((2 * delta * float(gamma) / np.log(X)))\n",
    "\n",
    "def D6(delta, X):\n",
    "    \"\"\"\n",
    "    Calculate D_6 for given delta and X, using gamma.\n",
    "    \"\"\"\n",
    "    b3_X = b_3(X)\n",
    "    b4_X = b_4(X)\n",
    "    return (b4_X / (5 * delta * np.exp(float(gamma)))) + (b3_X * np.exp(-2 * delta)) / (np.log(X)**2)\n",
    "\n",
    "\n",
    "# Define constants(Example value)\n",
    "X = 3 * 1e12\n",
    "T2 = 3 * 1e12\n",
    "alpha = 0.105\n",
    "beta = 2\n",
    "a_prime = 1\n",
    "b_prime = 0\n",
    "\n",
    "# List of values for a_i', b_i', and d_i' based on the table of 4.3 (for sigma_2)\n",
    "a_i_prime_values = [0, -1, -1]\n",
    "b_i_prime_values = [0, 0, 0]\n",
    "\n",
    "# Define the d_i values based on your formula\n",
    "def compute_d_i_second(X, D5, D6, delta):\n",
    "    \"\"\"\n",
    "    Calculate the d_i values based on the provided formula.\n",
    "    \"\"\"\n",
    "    D5_value = D5(delta, X)\n",
    "    D6_value = D6(delta, X)\n",
    "\n",
    "    d_i_values = [1, (D5(delta, X) * X ) / D6(delta, X), np.pi * m0()]\n",
    "    return d_i_values\n",
    "\n",
    "\n",
    "C32_value = C3(T2, alpha, beta, a_prime, a_i_prime_values, b_prime, b_i_prime_values, compute_d_i_second(X, D5, D6, delta))\n",
    "\n",
    "print(f\"The value of C_3 at sigma_2 is: {C32_value}\")"
   ]
  },
  {
   "cell_type": "code",
   "execution_count": null,
   "metadata": {
    "colab": {
     "base_uri": "https://localhost:8080/"
    },
    "id": "Euq1y0owo-_0",
    "outputId": "48b56b34-4e4a-4da3-cea3-1d94de9e7842"
   },
   "outputs": [
    {
     "name": "stdout",
     "output_type": "stream",
     "text": [
      "The value of D_6 is: 0.17226595573514325\n"
     ]
    }
   ],
   "source": [
    "# Define D6\n",
    "def D6(delta, X):\n",
    "    \"\"\"\n",
    "    Calculate D_6 for given delta and X, using gamma.\n",
    "    \"\"\"\n",
    "    b3_X = b_3(X)\n",
    "    b4_X = b_4(X)\n",
    "    return (b4_X / (5 * delta * np.exp(float(gamma)))) + (b3_X * np.exp(-2 * delta)) / (np.log(X)**2)\n",
    "D6_value = D6(delta, X)\n",
    "print(f\"The value of D_6 is: {D6_value}\")"
   ]
  },
  {
   "cell_type": "code",
   "execution_count": null,
   "metadata": {
    "colab": {
     "base_uri": "https://localhost:8080/"
    },
    "id": "qcR69T5Uo-9N",
    "outputId": "b07449b3-58cb-4da4-e42b-c1d1b0ffb879"
   },
   "outputs": [
    {
     "name": "stdout",
     "output_type": "stream",
     "text": [
      "The value of C3 . D6 at sigma_2 is: 17.485169784789402\n"
     ]
    }
   ],
   "source": [
    "C32_times_D6 = C32_value * D6_value\n",
    "print(f\"The value of C3 . D6 at sigma_2 is: {C32_times_D6}\")"
   ]
  },
  {
   "cell_type": "markdown",
   "metadata": {
    "id": "f28j4pS0q7xY"
   },
   "source": [
    "#SECOND EXPONENT"
   ]
  },
  {
   "cell_type": "code",
   "execution_count": null,
   "metadata": {
    "colab": {
     "base_uri": "https://localhost:8080/"
    },
    "id": "4IOjEEdGo-6n",
    "outputId": "ba31494a-2bb9-4977-b046-cc9a07b3ca8d"
   },
   "outputs": [
    {
     "name": "stdout",
     "output_type": "stream",
     "text": [
      "The value of exponent2 is: 0.7631771735738524\n"
     ]
    }
   ],
   "source": [
    "delta = 0.3\n",
    "sigma_2 = 1 + (delta / np.log(X))\n",
    "sigma_1 = 0.5\n",
    "delta_2 = 0.3\n",
    "sigma = 0.9\n",
    "sigma_prime = sigma - (delta_2 / np.log(T2))\n",
    "exponent2 = (sigma_prime - sigma_1) / (sigma_2 - sigma_1)\n",
    "print(f\"The value of exponent2 is: {exponent2}\")"
   ]
  },
  {
   "cell_type": "markdown",
   "metadata": {
    "id": "hqjsCOZZrCnW"
   },
   "source": [
    "#This is the final result on sigma2 (A2^exponent2):"
   ]
  },
  {
   "cell_type": "code",
   "execution_count": null,
   "metadata": {
    "colab": {
     "base_uri": "https://localhost:8080/"
    },
    "id": "8Mx8GeVCo-4H",
    "outputId": "75e646eb-cd2d-494a-9914-bc1f1821f0b2"
   },
   "outputs": [
    {
     "name": "stdout",
     "output_type": "stream",
     "text": [
      "The result for sigma2: 8.879270092062892\n"
     ]
    }
   ],
   "source": [
    "result2 = (C32_times_D6) ** exponent2\n",
    "print(f\"The result for sigma2: {result2}\")"
   ]
  },
  {
   "cell_type": "markdown",
   "metadata": {
    "id": "4CaloQG-rV-5"
   },
   "source": [
    "#This is the definition for \\tilde{C_5} as equation 4.85."
   ]
  },
  {
   "cell_type": "code",
   "execution_count": null,
   "metadata": {
    "colab": {
     "base_uri": "https://localhost:8080/"
    },
    "id": "hrl7peZ7FoZJ",
    "outputId": "8814a2db-cd05-473f-f262-ab3f35807135"
   },
   "outputs": [
    {
     "name": "stdout",
     "output_type": "stream",
     "text": [
      "C3_value is 21.993479743187297\n",
      "C3_value is 101.50101748294732\n"
     ]
    },
    {
     "data": {
      "text/plain": [
       "13.245556313286171"
      ]
     },
     "execution_count": 1042,
     "metadata": {},
     "output_type": "execute_result"
    }
   ],
   "source": [
    "def tilde_C5(sigma, alpha, beta, delta, delta_2, a, a_i, b, b_i, d_i,\n",
    "              a_prime, a_i_prime, b_prime, b_i_prime, d_i_prime, T2, printing=0):\n",
    "    # Compute logarithmic terms\n",
    "    X=T2\n",
    "\n",
    "    sigma_2 = 1 + (delta / np.log(X))\n",
    "    sigma_1 = 0.5\n",
    "    sigma_prime = sigma - (delta_2 / np.log(T2))\n",
    "    exponent = (sigma_2 - sigma_prime) / (sigma_2 - sigma_1)\n",
    "    exponent2 = (sigma_prime - sigma_1) / (sigma_2 - sigma_1)\n",
    "    \n",
    "    D4_value = D4(X)\n",
    "    C31_value = C3(T2, alpha, beta, a, a_i_values, b, b_i_values, compute_d_i(X, D1, D2), printing-1)\n",
    "    C31_times_D4 = C31_value * D4_value\n",
    "    D6_value = D6(delta, X)\n",
    "    C32_value = C3(T2, alpha, beta, a_prime, a_i_prime_values, b_prime, b_i_prime_values, compute_d_i_second(X, D5, D6, delta), printing-1)\n",
    "    C32_times_D6 = C32_value * D6_value\n",
    "    tilde_C5_value = ((C31_times_D4) ** exponent) * ((C32_times_D6) ** exponent2)\n",
    "    return tilde_C5_value\n",
    "\n",
    "tilde_C5(sigma_prime, alpha, beta, delta, delta_2, a, a_i_values, b, b_i_values, compute_d_i(X, D1, D2),\n",
    "              a_prime, a_i_prime_values, b_prime, b_i_prime_values, compute_d_i_second(X, D5, D6, delta), T2,2)"
   ]
  },
  {
   "cell_type": "markdown",
   "metadata": {
    "id": "4Lbe8rnSdAJm"
   },
   "source": [
    "#DEFINITION OF \\breve{C_5}"
   ]
  },
  {
   "cell_type": "code",
   "execution_count": null,
   "metadata": {
    "colab": {
     "base_uri": "https://localhost:8080/"
    },
    "id": "8P7APxxl4DP7",
    "outputId": "7cd3c3e7-64cc-4e20-993b-6415d4e34e8c"
   },
   "outputs": [
    {
     "name": "stdout",
     "output_type": "stream",
     "text": [
      "The result for sigma2: 9.865881231950894\n"
     ]
    }
   ],
   "source": [
    "exponent2upper = 2 * (sigma - sigma_1)\n",
    "result2breve = (C32_times_D6) ** exponent2upper\n",
    "print(f\"The result for sigma2: {result2breve}\")"
   ]
  },
  {
   "cell_type": "code",
   "execution_count": null,
   "metadata": {
    "colab": {
     "base_uri": "https://localhost:8080/"
    },
    "id": "jsytcGFa4abB",
    "outputId": "efec1450-46d2-403a-dd6e-2515be46a89c"
   },
   "outputs": [
    {
     "name": "stdout",
     "output_type": "stream",
     "text": [
      "C3_value is 21.993479743187297\n",
      "C3_value is 101.50101748294732\n"
     ]
    },
    {
     "data": {
      "text/plain": [
       "14.717322942435514"
      ]
     },
     "execution_count": 1044,
     "metadata": {},
     "output_type": "execute_result"
    }
   ],
   "source": [
    "def breve_C5(sigma,alpha, beta, delta_2, a, a_i, b, b_i, d_i,\n",
    "              a_prime, a_i_prime, b_prime, b_i_prime, d_i_prime, T2, printing=0):\n",
    "    # Compute logarithmic terms\n",
    "    X=T2\n",
    "    sigma_2 = 1 + (delta / np.log(X))\n",
    "    sigma_1 = 0.5\n",
    "    sigma_prime = sigma - (delta_2 / np.log(T2))\n",
    "    exponent = (sigma_2 - sigma_prime) / (sigma_2 - sigma_1)\n",
    "    exponent2upper = 2 * (sigma - sigma_1)\n",
    "    \n",
    "    D4_value = D4(X)\n",
    "    C31_value = C3(T2, alpha, beta, a, a_i_values, b, b_i_values, compute_d_i(X, D1, D2),printing-1)\n",
    "    C31_times_D4 = C31_value * D4_value\n",
    "    D6_value = D6(delta, X)\n",
    "    C32_value = C3(T2, alpha, beta, a_prime, a_i_prime_values, b_prime, b_i_prime_values, compute_d_i_second(X, D5, D6, delta),printing-1)\n",
    "    C32_times_D6 = C32_value * D6_value\n",
    "    breve_C5_value = ((C31_times_D4) ** exponent) * ((C32_times_D6) ** exponent2upper)\n",
    "    \n",
    "    return breve_C5_value\n",
    "\n",
    "breve_C5(sigma_prime, alpha, beta, delta_2, a, a_i_values, b, b_i_values, compute_d_i,\n",
    "              a_prime, a_i_prime_values, b_prime, b_i_prime_values, compute_d_i_second(X, D5, D6, delta), T2,2)"
   ]
  },
  {
   "cell_type": "markdown",
   "metadata": {
    "id": "DaOFDT4idKXv"
   },
   "source": [
    "#DEFINITION OF \\hat{C5}:"
   ]
  },
  {
   "cell_type": "code",
   "execution_count": null,
   "metadata": {
    "colab": {
     "base_uri": "https://localhost:8080/"
    },
    "id": "4WHPpU5t1YGw",
    "outputId": "c2b7bd50-3d47-42b6-d852-273cc9ad22ef"
   },
   "outputs": [
    {
     "name": "stdout",
     "output_type": "stream",
     "text": [
      "The result for hatC5 is: 14.717322942435514\n"
     ]
    }
   ],
   "source": [
    "def hatC5(sigma_1_prime, sigma_2_prime, alpha, beta, delta, delta_2, a, a_i, b, b_i, d_i,\n",
    "              a_prime, a_i_prime, b_prime, b_i_prime, d_i_prime, T0,printing=0):\n",
    "    \"\"\"\n",
    "    Function to compute hat_C5 based on the conditional logic provided:\n",
    "    If A2 >= A1, it computes bre_C5(sigma_prime_2, T0, delta1, delta2).\n",
    "    Otherwise, it computes tilde_C5(sigma_prime_1, T0, delta1, delta2).\n",
    "    \"\"\"\n",
    "    X=T0\n",
    "    sigma_2 = 1 + (delta / np.log(X))\n",
    "    sigma_1 = 0.5\n",
    "    \n",
    "    D4_value = D4(X)\n",
    "    C31_value = C3(T2, alpha, beta, a, a_i_values, b, b_i_values, compute_d_i(X, D1, D2), printing-1)\n",
    "    C31_times_D4 = C31_value * D4_value\n",
    "    D6_value = D6(delta, X)\n",
    "    C32_value = C3(T2, alpha, beta, a_prime, a_i_prime_values, b_prime, b_i_prime_values, compute_d_i_second(X, D5, D6, delta), printing-1)\n",
    "    C32_times_D6 = C32_value * D6_value\n",
    "\n",
    "    if C32_times_D6 >= C31_times_D4:\n",
    "        sigma_prime = sigma_2_prime - (delta_2 / np.log(T2))\n",
    "        exponent = (sigma_2 - sigma_prime) / (sigma_2 - sigma_1)\n",
    "        exponent2upper = 2 * (sigma_2_prime - sigma_1)\n",
    "        breve_C5_value = ((C31_times_D4) ** exponent) * ((C32_times_D6) ** exponent2upper)\n",
    "        return breve_C5_value\n",
    "    else:\n",
    "        sigma_prime = sigma_1_prime - (delta_2 / np.log(T2))\n",
    "        exponent = (sigma_2 - sigma_prime) / (sigma_2 - sigma_1)\n",
    "        exponent2 = (sigma_prime - sigma_1) / (sigma_2 - sigma_1)\n",
    "        tilde_C5_value = ((C31_times_D4) ** exponent) * ((C32_times_D6) ** exponent2)\n",
    "        return tilde_C5_value\n",
    "\n",
    "        \n",
    "        \n",
    "hatC5_value = hatC5(sigma_1_prime, sigma_2_prime, alpha, beta, delta, delta_2, a, a_i_values, b, b_i_values, compute_d_i(X, D1, D2),\n",
    "              a_prime, a_i_prime_values, b_prime, b_i_prime_values, compute_d_i_second(X, D5, D6, delta), T2,2)\n",
    "\n",
    "print(f\"The result for hatC5 is: {hatC5_value}\")"
   ]
  },
  {
   "cell_type": "markdown",
   "metadata": {
    "id": "BWzlnuuusiTU"
   },
   "source": [
    "# Define C1 as in equation 4.18"
   ]
  },
  {
   "cell_type": "code",
   "execution_count": null,
   "metadata": {
    "colab": {
     "base_uri": "https://localhost:8080/"
    },
    "id": "njimh5KbV8X4",
    "outputId": "b6d2b1a0-6e2c-4a3a-bc2e-b30e2f05ee8f"
   },
   "outputs": [
    {
     "name": "stdout",
     "output_type": "stream",
     "text": [
      "The result for C1 on half line is: 1.0\n",
      "The result for C1 on sigma2 is: 1.0\n"
     ]
    },
    {
     "data": {
      "text/plain": [
       "1.0"
      ]
     },
     "execution_count": 1046,
     "metadata": {},
     "output_type": "execute_result"
    }
   ],
   "source": [
    "def C1(sigma, T2, alpha, beta):\n",
    "      C1_value = np.exp(alpha * (sigma / T2)**beta)\n",
    "      return C1_value\n",
    "C1_value1 = C1(sigma_1, T2, alpha, beta)\n",
    "C1_value2 = C1(sigma_2, T2, alpha, beta)\n",
    "print(f\"The result for C1 on half line is: {C1_value1}\")\n",
    "print(f\"The result for C1 on sigma2 is: {C1_value2}\")\n",
    "C1_value1 ** exponent\n",
    "C1_value2 ** exponent2"
   ]
  },
  {
   "cell_type": "markdown",
   "metadata": {
    "id": "khLLSxNOsq24"
   },
   "source": [
    "# Define C2 as in equation 4.18"
   ]
  },
  {
   "cell_type": "code",
   "execution_count": null,
   "metadata": {
    "colab": {
     "base_uri": "https://localhost:8080/"
    },
    "id": "g0tGJsDxX9WU",
    "outputId": "5997a067-3856-4ac6-fb2f-497ab7df2d56"
   },
   "outputs": [
    {
     "name": "stdout",
     "output_type": "stream",
     "text": [
      "The result for C2 is: 0.9003245225856654\n"
     ]
    }
   ],
   "source": [
    "T1 = 3 * 1e12\n",
    "def C2(sigma, T1, T2, alpha):\n",
    "      C2_value = ((1 - (1 / T1))**2) * np.exp(alpha * (sigma / T2)**2 - alpha)\n",
    "      return C2_value\n",
    "C2_value = C2(sigma_prime, T1, T2, alpha)\n",
    "print(f\"The result for C2 is: {C2_value}\")"
   ]
  },
  {
   "cell_type": "markdown",
   "metadata": {
    "id": "wtX2s6r1n8m5"
   },
   "source": [
    "#DEFINITION OF C4"
   ]
  },
  {
   "cell_type": "code",
   "execution_count": null,
   "metadata": {
    "colab": {
     "base_uri": "https://localhost:8080/"
    },
    "id": "LEI0QOMao-ww",
    "outputId": "de818b7a-8041-4f23-cc62-626d20a762e4"
   },
   "outputs": [
    {
     "name": "stdout",
     "output_type": "stream",
     "text": [
      "The result for C4 is: 0.23324922817485358\n"
     ]
    }
   ],
   "source": [
    "# Define C4 as in equation 4.84\n",
    "def C4(sigma, T2, T1, alpha, beta, delta, delta_2,printing=0):\n",
    "    X=T2\n",
    "    sigma_2 = 1 + (delta / np.log(X))\n",
    "    sigma_1 = 0.5\n",
    "    sigma_prime = sigma - (delta_2 / np.log(T2))\n",
    "    exponent = (sigma_2 - sigma_prime) / (sigma_2 - sigma_1)\n",
    "    exponent2 = (sigma_prime - sigma_1) / (sigma_2 - sigma_1)\n",
    "    \n",
    "    C2_value = C2(sigma_prime, T1, T2, alpha)\n",
    "    C1_value1 = C1(sigma_1, T2, alpha, beta)\n",
    "    C1_value2 = C1(sigma_2, T2, alpha, beta)\n",
    "\n",
    "    C4_value =  (alpha * beta * (C1_value1**exponent) *  (C1_value2**exponent2)) / C2_value\n",
    "    return C4_value\n",
    "\n",
    "\n",
    "C4_value = C4(sigma_prime, T2, T1, alpha, beta, delta, delta_2,2)\n",
    "print(f\"The result for C4 is: {C4_value}\")"
   ]
  },
  {
   "cell_type": "markdown",
   "metadata": {
    "id": "9gBRO2Glz6q4"
   },
   "source": [
    "#DEFINITION OF \\HAT{C4}:(MAX OF C4):"
   ]
  },
  {
   "cell_type": "code",
   "execution_count": null,
   "metadata": {
    "colab": {
     "base_uri": "https://localhost:8080/"
    },
    "id": "4_vVN79-xxcH",
    "outputId": "ab424862-38d1-4ce2-c760-ba27ec25ca26"
   },
   "outputs": [
    {
     "name": "stdout",
     "output_type": "stream",
     "text": [
      "The result for hatC4 is: 0.23324922817485982\n"
     ]
    }
   ],
   "source": [
    "\n",
    "\n",
    "def hatC4(sigma_1_prime, sigma_2_prime,T2, T1, alpha, beta,  delta, delta_2,printing=0):\n",
    "    hatC4_value = ((1 - (1 / T1))**-(2)) * alpha * beta * np.exp(alpha) * np.exp((alpha/(4*T2)) * (sigma_1_prime + sigma_2_prime)**2)\n",
    "    return hatC4_value\n",
    "\n",
    "hatC4_value = hatC4(0.75, 1,T2, T1, alpha, beta, delta, delta_2,2)\n",
    "print(f\"The result for hatC4 is: {hatC4_value}\")"
   ]
  },
  {
   "cell_type": "markdown",
   "metadata": {
    "id": "9LPVOA1iuPi-"
   },
   "source": [
    "#DEFINITION OF C6:"
   ]
  },
  {
   "cell_type": "code",
   "execution_count": null,
   "metadata": {
    "colab": {
     "base_uri": "https://localhost:8080/"
    },
    "id": "OgQDbZ0opyGG",
    "outputId": "f31aab2b-9b73-4a84-8c55-9a325e419700"
   },
   "outputs": [
    {
     "name": "stdout",
     "output_type": "stream",
     "text": [
      "The result for C6 is: 4.637568411980559\n"
     ]
    }
   ],
   "source": [
    "# Define C6 as in equation 4.84\n",
    "def C6(sigma, T2, a, a_prime, b, b_prime, delta, delta_2,printing=0):\n",
    "\n",
    "    sigma_prime = sigma_1_prime - (delta_2 / np.log(T2))\n",
    "    exponent = (sigma_2 - sigma_prime) / (sigma_2 - sigma_1)\n",
    "    exponent2 = (sigma_prime - sigma_1) / (sigma_2 - sigma_1)\n",
    "    \n",
    "    numerator = (\n",
    "        T2 ** ((a * exponent) + ((a_prime - 1) * exponent2)) *\n",
    "        (np.log(T2) ** (((b + 1) * exponent) + ((b_prime + 2) * exponent2)))\n",
    "    )\n",
    "\n",
    "    # Denominator\n",
    "    denominator = (\n",
    "        T2 ** ((2 * a * (1 - sigma)) + ((a_prime - 1) * (2 * sigma - 1))) *\n",
    "        (np.log(T2) ** ((2 * (b + 1) * (1 - sigma)) + ((b_prime + 2) * (2 * sigma - 1))))\n",
    "    )\n",
    "    C6_value =  numerator / denominator\n",
    "    return C6_value\n",
    "\n",
    "\n",
    "C6_value = C6(sigma_prime, T2, a, a_prime, b, b_prime, delta, delta_2,2)\n",
    "print(f\"The result for C6 is: {C6_value}\")"
   ]
  },
  {
   "cell_type": "code",
   "execution_count": null,
   "metadata": {
    "colab": {
     "base_uri": "https://localhost:8080/"
    },
    "id": "8L_UPNm-o-rz",
    "outputId": "5e94dc37-dff4-4141-a29a-3b85017682eb"
   },
   "outputs": [
    {
     "name": "stdout",
     "output_type": "stream",
     "text": [
      "The result for breveC6 is: 4.1507644088576985\n"
     ]
    }
   ],
   "source": [
    "def breveC6(sigma, T2, a, a_prime, delta, delta_2,printing=0):\n",
    "\n",
    "    breveC6_value = np.exp((1+a-a_prime) * (2 * delta * (2* sigma -1) + 2 * delta_2))\n",
    "    return breveC6_value\n",
    "\n",
    "\n",
    "breveC6_value = breveC6(sigma_prime, T2, a, a_prime, delta, delta_2,2)\n",
    "print(f\"The result for breveC6 is: {breveC6_value}\")"
   ]
  },
  {
   "cell_type": "markdown",
   "metadata": {
    "id": "eGcumhZ60jvB"
   },
   "source": [
    "#DEFINITION OF HAT_C6"
   ]
  },
  {
   "cell_type": "code",
   "execution_count": null,
   "metadata": {
    "colab": {
     "base_uri": "https://localhost:8080/"
    },
    "id": "-Oe6XCjnerJO",
    "outputId": "5e474ab8-bb90-4664-c297-93617bf96509"
   },
   "outputs": [
    {
     "name": "stdout",
     "output_type": "stream",
     "text": [
      "The result for hatC6 is: 4.637568411980559\n"
     ]
    }
   ],
   "source": [
    "def hatC6(sigma_1_prime, sigma_2_prime, a, a_prime, b, b_prime, delta, delta_2, T2,printing=0):\n",
    "    \"\"\"\n",
    "    Function to compute hat_C6 based on the conditional logic provided:\n",
    "    If b-b_prime > 1, it computes C6(sigma_2_prime, T2, a, a_prime, b, b_prime).\n",
    "    Otherwise, it computes breveC6(sigma_1_prime, T2, a, a_prime, delta, delta_2).\n",
    "\n",
    "    C6_value = C6(sigma_prime, T2, a, a_prime, b, b_prime)\n",
    "    breveC6_value = breveC6(sigma_1_prime, T2, a, a_prime, delta, delta_2)\n",
    "    Returns:\n",
    "         Value of \\(\\hat{C_6}\\).\n",
    "    \"\"\"\n",
    "    if b-b_prime > 1:\n",
    "        return  C6(sigma_2_prime, T2, a, a_prime, b, b_prime, delta, delta_2,printing-1)\n",
    "    else:\n",
    "        return breveC6(sigma_2_prime, T2, a, a_prime, delta, delta_2)\n",
    "hatC6_value = hatC6(sigma_1_prime, sigma_2_prime, a, a_prime, b, b_prime,delta, delta_2, T2,2)\n",
    "print(f\"The result for hatC6 is: {hatC6_value}\")"
   ]
  },
  {
   "cell_type": "code",
   "execution_count": 2,
   "metadata": {
    "colab": {
     "base_uri": "https://localhost:8080/"
    },
    "id": "rvT_hu6cx3Ko",
    "outputId": "53bb4e74-7618-4947-d1e0-d3308e74770d"
   },
   "outputs": [
    {
     "ename": "NameError",
     "evalue": "name 'sigma_1_prime' is not defined",
     "output_type": "error",
     "traceback": [
      "\u001b[0;31m---------------------------------------------------------------------------\u001b[0m",
      "\u001b[0;31mNameError\u001b[0m                                 Traceback (most recent call last)",
      "\u001b[0;32m/tmp/ipykernel_332/3898165754.py\u001b[0m in \u001b[0;36m<module>\u001b[0;34m\u001b[0m\n\u001b[1;32m     12\u001b[0m     \u001b[0;32mreturn\u001b[0m \u001b[0mU_value\u001b[0m\u001b[0;34m\u001b[0m\u001b[0;34m\u001b[0m\u001b[0m\n\u001b[1;32m     13\u001b[0m \u001b[0;34m\u001b[0m\u001b[0m\n\u001b[0;32m---> 14\u001b[0;31m U_value = U(sigma_1_prime, sigma_2_prime, alpha, beta, delta, delta_2, T2, a, a_i_values, b, b_i_values, compute_d_i,D1, D2,\n\u001b[0m\u001b[1;32m     15\u001b[0m               a_prime, a_i_prime_values, b_prime, b_i_prime_values,compute_d_i_second,2)\n\u001b[1;32m     16\u001b[0m \u001b[0mprint\u001b[0m\u001b[0;34m(\u001b[0m\u001b[0;34mf\"The result for U is: {U_value}\"\u001b[0m\u001b[0;34m)\u001b[0m\u001b[0;34m\u001b[0m\u001b[0;34m\u001b[0m\u001b[0m\n",
      "\u001b[0;31mNameError\u001b[0m: name 'sigma_1_prime' is not defined"
     ]
    }
   ],
   "source": [
    "def U(sigma_1_prime, sigma_2_prime, alpha, beta, delta, delta_2, T2, a, a_i_values, b, b_i_values, compute_d_i, D1, D2,\n",
    "              a_prime, a_i_prime_values, b_prime, b_i_prime_values, compute_d_i_second, printing=0):\n",
    "    hatC4_value = hatC4(sigma_1_prime, sigma_2_prime, T2, T1, alpha, beta,delta, delta_2, printing-1)\n",
    "    hatC5_value = hatC5(sigma_1_prime, sigma_2_prime, alpha, beta, delta, delta_2, a, a_i_values, b, b_i_values, compute_d_i(X, D1, D2),\n",
    "              a_prime, a_i_prime_values, b_prime, b_i_prime_values, compute_d_i_second(X, D5, D6, delta), T2,printing-1)\n",
    "    hatC6_value = hatC6(sigma_1_prime, sigma_2_prime, a, a_prime, b, b_prime,delta, delta_2, T2,printing-1)\n",
    "    U_value = ((hatC4_value * hatC5_value * hatC6_value)/(2 * np.pi * delta_2))\n",
    "    if printing>0:\n",
    "        print(f\"hatC4_value is: {hatC4_value}\")\n",
    "        print(f\"hatC5_value is: {hatC5_value}\")\n",
    "        print(f\"hatC6_value is: {hatC6_value}\")\n",
    "    return U_value\n",
    "\n",
    "U_value = U(sigma_1_prime, sigma_2_prime, alpha, beta, delta, delta_2, T2, a, a_i_values, b, b_i_values, compute_d_i,D1, D2,\n",
    "              a_prime, a_i_prime_values, b_prime, b_i_prime_values,compute_d_i_second,2)\n",
    "print(f\"The result for U is: {U_value}\")"
   ]
  },
  {
   "cell_type": "code",
   "execution_count": 1,
   "metadata": {
    "id": "-V5mG1rpf6ei"
   },
   "outputs": [
    {
     "ename": "SyntaxError",
     "evalue": "cannot assign to function call here. Maybe you meant '==' instead of '='? (515620400.py, line 1)",
     "output_type": "error",
     "traceback": [
      "\u001b[0;36m  File \u001b[0;32m\"/tmp/ipykernel_332/515620400.py\"\u001b[0;36m, line \u001b[0;32m1\u001b[0m\n\u001b[0;31m    Ux(alpha,delta,delta_2) = U(sigma_1_prime, sigma_2_prime, alpha, beta, delta, delta_2, T2, a, a_i_values, b, b_i_values,\u001b[0m\n\u001b[0m    ^\u001b[0m\n\u001b[0;31mSyntaxError\u001b[0m\u001b[0;31m:\u001b[0m cannot assign to function call here. Maybe you meant '==' instead of '='?\n"
     ]
    }
   ],
   "source": [
    "def GetOptimizedValues(sigma_1_prime, sigma_2_prime, T1, T2):\n",
    "    find the optimal values\n",
    "    find U for those optimals\n",
    "    return( [sigma_1_prime, sigma_2_prime, T1, T2, U, alphaopt, delta1opt, delta2opt ])\n",
    "    "
   ]
  },
  {
   "cell_type": "code",
   "execution_count": null,
   "metadata": {
    "id": "3eKwMrQBf6bA"
   },
   "outputs": [],
   "source": [
    "for sigma_1_prime in ..."
   ]
  },
  {
   "cell_type": "code",
   "execution_count": null,
   "metadata": {
    "id": "mnL8XGrzf6ZB"
   },
   "outputs": [],
   "source": [
    "GetOptimizedValues(0.75, 1, 3e12, 3e12 )"
   ]
  },
  {
   "cell_type": "code",
   "execution_count": null,
   "metadata": {
    "id": "cB2yvLIHf6Wp"
   },
   "outputs": [],
   "source": []
  },
  {
   "cell_type": "code",
   "execution_count": null,
   "metadata": {
    "id": "xz-mUmCLf6UZ"
   },
   "outputs": [],
   "source": []
  },
  {
   "cell_type": "code",
   "execution_count": null,
   "metadata": {
    "id": "aEc-6-iEf6R7"
   },
   "outputs": [],
   "source": []
  },
  {
   "cell_type": "markdown",
   "metadata": {
    "id": "jS9osra_kUj9"
   },
   "source": [
    "#DEFINITION OF U:"
   ]
  },
  {
   "cell_type": "code",
   "execution_count": null,
   "metadata": {
    "id": "zOMn-D9C3mVL"
   },
   "outputs": [],
   "source": []
  },
  {
   "cell_type": "code",
   "execution_count": null,
   "metadata": {
    "id": "yHaQug9M3mSx"
   },
   "outputs": [],
   "source": []
  },
  {
   "cell_type": "code",
   "execution_count": null,
   "metadata": {
    "id": "YEwGI38ayzo9"
   },
   "outputs": [],
   "source": []
  },
  {
   "cell_type": "code",
   "execution_count": null,
   "metadata": {
    "id": "evBvEoSryzl0"
   },
   "outputs": [],
   "source": []
  },
  {
   "cell_type": "code",
   "execution_count": null,
   "metadata": {
    "id": "vEkM9Rp_yzjQ"
   },
   "outputs": [],
   "source": []
  },
  {
   "cell_type": "code",
   "execution_count": null,
   "metadata": {
    "id": "eYGs285iyzg2"
   },
   "outputs": [],
   "source": []
  },
  {
   "cell_type": "code",
   "execution_count": null,
   "metadata": {
    "id": "GT2jJVvuvVfq"
   },
   "outputs": [],
   "source": []
  },
  {
   "cell_type": "code",
   "execution_count": null,
   "metadata": {
    "id": "c83pIN2MkonP"
   },
   "outputs": [],
   "source": []
  },
  {
   "cell_type": "code",
   "execution_count": null,
   "metadata": {
    "id": "8L0IiQdkkojt"
   },
   "outputs": [],
   "source": []
  },
  {
   "cell_type": "code",
   "execution_count": null,
   "metadata": {
    "id": "cl09CY1Jkohf"
   },
   "outputs": [],
   "source": []
  },
  {
   "cell_type": "code",
   "execution_count": null,
   "metadata": {
    "id": "bGtnV9X0koe3"
   },
   "outputs": [],
   "source": []
  },
  {
   "cell_type": "code",
   "execution_count": null,
   "metadata": {
    "id": "AtSAxrkq47Kh"
   },
   "outputs": [],
   "source": []
  }
 ],
 "metadata": {
  "colab": {
   "authorship_tag": "ABX9TyOHKqOwrIYW97MJyxC6lLnX",
   "include_colab_link": true,
   "provenance": []
  },
  "kernelspec": {
   "display_name": "Python 3 (ipykernel)",
   "language": "python",
   "name": "python3"
  },
  "language_info": {
   "codemirror_mode": {
    "name": "ipython",
    "version": 3
   },
   "file_extension": ".py",
   "mimetype": "text/x-python",
   "name": "python",
   "nbconvert_exporter": "python",
   "pygments_lexer": "ipython3",
   "version": "3.10.6"
  }
 },
 "nbformat": 4,
 "nbformat_minor": 1
}
